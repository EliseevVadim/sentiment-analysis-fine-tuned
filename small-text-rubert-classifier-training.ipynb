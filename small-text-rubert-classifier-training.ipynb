{
 "cells": [
  {
   "cell_type": "code",
   "execution_count": 1,
   "metadata": {
    "_cell_guid": "b1076dfc-b9ad-4769-8c92-a6c4dae69d19",
    "_uuid": "8f2839f25d086af736a60e9eeb907d3b93b6e0e5",
    "execution": {
     "iopub.execute_input": "2023-11-07T10:37:04.802532Z",
     "iopub.status.busy": "2023-11-07T10:37:04.802188Z",
     "iopub.status.idle": "2023-11-07T10:37:05.158789Z",
     "shell.execute_reply": "2023-11-07T10:37:05.157776Z",
     "shell.execute_reply.started": "2023-11-07T10:37:04.802504Z"
    }
   },
   "outputs": [],
   "source": [
    "import numpy as np\n",
    "import pandas as pd\n",
    "import matplotlib.pyplot as plt\n",
    "import gc"
   ]
  },
  {
   "cell_type": "code",
   "execution_count": 2,
   "metadata": {
    "execution": {
     "iopub.execute_input": "2023-11-07T10:37:05.160810Z",
     "iopub.status.busy": "2023-11-07T10:37:05.160393Z",
     "iopub.status.idle": "2023-11-07T10:37:08.715694Z",
     "shell.execute_reply": "2023-11-07T10:37:08.714630Z",
     "shell.execute_reply.started": "2023-11-07T10:37:05.160783Z"
    }
   },
   "outputs": [],
   "source": [
    "import torch\n",
    "import torch.nn as nn\n",
    "\n",
    "from torch.optim import AdamW\n",
    "from torch.optim.lr_scheduler import StepLR\n",
    "from torch.utils.data import Dataset, DataLoader\n",
    "from torch.nn.utils import clip_grad_norm_"
   ]
  },
  {
   "cell_type": "code",
   "execution_count": 3,
   "metadata": {
    "execution": {
     "iopub.execute_input": "2023-11-07T10:37:08.717306Z",
     "iopub.status.busy": "2023-11-07T10:37:08.716874Z",
     "iopub.status.idle": "2023-11-07T10:37:18.250810Z",
     "shell.execute_reply": "2023-11-07T10:37:18.249788Z",
     "shell.execute_reply.started": "2023-11-07T10:37:08.717279Z"
    }
   },
   "outputs": [],
   "source": [
    "import transformers\n",
    "from transformers import BertForSequenceClassification, BertTokenizer"
   ]
  },
  {
   "cell_type": "code",
   "execution_count": 4,
   "metadata": {
    "execution": {
     "iopub.execute_input": "2023-11-07T10:37:18.253259Z",
     "iopub.status.busy": "2023-11-07T10:37:18.252965Z",
     "iopub.status.idle": "2023-11-07T10:37:18.623596Z",
     "shell.execute_reply": "2023-11-07T10:37:18.622717Z",
     "shell.execute_reply.started": "2023-11-07T10:37:18.253233Z"
    }
   },
   "outputs": [],
   "source": [
    "from sklearn.model_selection import train_test_split\n",
    "from sklearn.metrics import accuracy_score\n",
    "from sklearn.metrics import f1_score"
   ]
  },
  {
   "cell_type": "code",
   "execution_count": 5,
   "metadata": {
    "execution": {
     "iopub.execute_input": "2023-11-07T10:37:18.625607Z",
     "iopub.status.busy": "2023-11-07T10:37:18.624902Z",
     "iopub.status.idle": "2023-11-07T10:37:18.631360Z",
     "shell.execute_reply": "2023-11-07T10:37:18.630186Z",
     "shell.execute_reply.started": "2023-11-07T10:37:18.625568Z"
    }
   },
   "outputs": [],
   "source": [
    "def free_memory():\n",
    "    gc.collect()\n",
    "    torch.cuda.empty_cache()"
   ]
  },
  {
   "cell_type": "code",
   "execution_count": 6,
   "metadata": {
    "execution": {
     "iopub.execute_input": "2023-11-07T10:37:18.633005Z",
     "iopub.status.busy": "2023-11-07T10:37:18.632698Z",
     "iopub.status.idle": "2023-11-07T10:37:19.463152Z",
     "shell.execute_reply": "2023-11-07T10:37:19.462135Z",
     "shell.execute_reply.started": "2023-11-07T10:37:18.632979Z"
    }
   },
   "outputs": [
    {
     "data": {
      "text/html": [
       "<div>\n",
       "<style scoped>\n",
       "    .dataframe tbody tr th:only-of-type {\n",
       "        vertical-align: middle;\n",
       "    }\n",
       "\n",
       "    .dataframe tbody tr th {\n",
       "        vertical-align: top;\n",
       "    }\n",
       "\n",
       "    .dataframe thead th {\n",
       "        text-align: right;\n",
       "    }\n",
       "</style>\n",
       "<table border=\"1\" class=\"dataframe\">\n",
       "  <thead>\n",
       "    <tr style=\"text-align: right;\">\n",
       "      <th></th>\n",
       "      <th>review</th>\n",
       "      <th>sentiment</th>\n",
       "    </tr>\n",
       "  </thead>\n",
       "  <tbody>\n",
       "    <tr>\n",
       "      <th>0</th>\n",
       "      <td>качество плохое пошив ужасный (горловина напер...</td>\n",
       "      <td>negative</td>\n",
       "    </tr>\n",
       "    <tr>\n",
       "      <th>1</th>\n",
       "      <td>Товар отдали другому человеку, я не получила п...</td>\n",
       "      <td>negative</td>\n",
       "    </tr>\n",
       "    <tr>\n",
       "      <th>2</th>\n",
       "      <td>Ужасная синтетика! Тонкая, ничего общего с пре...</td>\n",
       "      <td>negative</td>\n",
       "    </tr>\n",
       "    <tr>\n",
       "      <th>3</th>\n",
       "      <td>товар не пришел, продавец продлил защиту без м...</td>\n",
       "      <td>negative</td>\n",
       "    </tr>\n",
       "    <tr>\n",
       "      <th>4</th>\n",
       "      <td>Кофточка голая синтетика, носить не возможно.</td>\n",
       "      <td>negative</td>\n",
       "    </tr>\n",
       "    <tr>\n",
       "      <th>5</th>\n",
       "      <td>Очень глубокие проймы</td>\n",
       "      <td>negative</td>\n",
       "    </tr>\n",
       "    <tr>\n",
       "      <th>6</th>\n",
       "      <td>Я недовольна заказом.Я вот одного не понимаю п...</td>\n",
       "      <td>negative</td>\n",
       "    </tr>\n",
       "    <tr>\n",
       "      <th>7</th>\n",
       "      <td>заказала размер s на от 64,об 94,начнем с того...</td>\n",
       "      <td>negative</td>\n",
       "    </tr>\n",
       "    <tr>\n",
       "      <th>8</th>\n",
       "      <td>Заказ я сделала в июле. С тех пор посылка отсл...</td>\n",
       "      <td>negative</td>\n",
       "    </tr>\n",
       "    <tr>\n",
       "      <th>9</th>\n",
       "      <td>Ужасное качество товара!</td>\n",
       "      <td>negative</td>\n",
       "    </tr>\n",
       "  </tbody>\n",
       "</table>\n",
       "</div>"
      ],
      "text/plain": [
       "                                              review sentiment\n",
       "0  качество плохое пошив ужасный (горловина напер...  negative\n",
       "1  Товар отдали другому человеку, я не получила п...  negative\n",
       "2  Ужасная синтетика! Тонкая, ничего общего с пре...  negative\n",
       "3  товар не пришел, продавец продлил защиту без м...  negative\n",
       "4      Кофточка голая синтетика, носить не возможно.  negative\n",
       "5                              Очень глубокие проймы  negative\n",
       "6  Я недовольна заказом.Я вот одного не понимаю п...  negative\n",
       "7  заказала размер s на от 64,об 94,начнем с того...  negative\n",
       "8  Заказ я сделала в июле. С тех пор посылка отсл...  negative\n",
       "9                           Ужасное качество товара!  negative"
      ]
     },
     "execution_count": 6,
     "metadata": {},
     "output_type": "execute_result"
    }
   ],
   "source": [
    "reviews = pd.read_csv('data/reviews.csv.zip', sep='\\t')\n",
    "reviews.drop_duplicates(subset=['review'], inplace=True)\n",
    "reviews.head(10)"
   ]
  },
  {
   "cell_type": "code",
   "execution_count": 7,
   "metadata": {
    "execution": {
     "iopub.execute_input": "2023-11-07T10:37:19.465013Z",
     "iopub.status.busy": "2023-11-07T10:37:19.464633Z",
     "iopub.status.idle": "2023-11-07T10:37:19.769137Z",
     "shell.execute_reply": "2023-11-07T10:37:19.768248Z",
     "shell.execute_reply.started": "2023-11-07T10:37:19.464979Z"
    }
   },
   "outputs": [
    {
     "data": {
      "image/png": "[encoded data removed]",
      "text/plain": [
       "<Figure size 640x480 with 1 Axes>"
      ]
     },
     "metadata": {},
     "output_type": "display_data"
    }
   ],
   "source": [
    "reviews.sentiment.hist()\n",
    "plt.show()"
   ]
  },
  {
   "cell_type": "code",
   "execution_count": 8,
   "metadata": {
    "execution": {
     "iopub.execute_input": "2023-11-07T10:37:19.770797Z",
     "iopub.status.busy": "2023-11-07T10:37:19.770470Z",
     "iopub.status.idle": "2023-11-07T10:37:19.775239Z",
     "shell.execute_reply": "2023-11-07T10:37:19.774271Z",
     "shell.execute_reply.started": "2023-11-07T10:37:19.770770Z"
    }
   },
   "outputs": [],
   "source": [
    "sentiment_map = {\n",
    "    'negative': 0,\n",
    "    'neautral': 1,\n",
    "    'positive': 2\n",
    "}"
   ]
  },
  {
   "cell_type": "code",
   "execution_count": 9,
   "metadata": {
    "execution": {
     "iopub.execute_input": "2023-11-07T10:37:19.776802Z",
     "iopub.status.busy": "2023-11-07T10:37:19.776447Z",
     "iopub.status.idle": "2023-11-07T10:37:19.853687Z",
     "shell.execute_reply": "2023-11-07T10:37:19.852798Z",
     "shell.execute_reply.started": "2023-11-07T10:37:19.776774Z"
    }
   },
   "outputs": [
    {
     "data": {
      "text/html": [
       "<div>\n",
       "<style scoped>\n",
       "    .dataframe tbody tr th:only-of-type {\n",
       "        vertical-align: middle;\n",
       "    }\n",
       "\n",
       "    .dataframe tbody tr th {\n",
       "        vertical-align: top;\n",
       "    }\n",
       "\n",
       "    .dataframe thead th {\n",
       "        text-align: right;\n",
       "    }\n",
       "</style>\n",
       "<table border=\"1\" class=\"dataframe\">\n",
       "  <thead>\n",
       "    <tr style=\"text-align: right;\">\n",
       "      <th></th>\n",
       "      <th>review</th>\n",
       "      <th>sentiment</th>\n",
       "    </tr>\n",
       "  </thead>\n",
       "  <tbody>\n",
       "    <tr>\n",
       "      <th>0</th>\n",
       "      <td>качество плохое пошив ужасный (горловина напер...</td>\n",
       "      <td>0</td>\n",
       "    </tr>\n",
       "    <tr>\n",
       "      <th>1</th>\n",
       "      <td>Товар отдали другому человеку, я не получила п...</td>\n",
       "      <td>0</td>\n",
       "    </tr>\n",
       "    <tr>\n",
       "      <th>2</th>\n",
       "      <td>Ужасная синтетика! Тонкая, ничего общего с пре...</td>\n",
       "      <td>0</td>\n",
       "    </tr>\n",
       "    <tr>\n",
       "      <th>3</th>\n",
       "      <td>товар не пришел, продавец продлил защиту без м...</td>\n",
       "      <td>0</td>\n",
       "    </tr>\n",
       "    <tr>\n",
       "      <th>4</th>\n",
       "      <td>Кофточка голая синтетика, носить не возможно.</td>\n",
       "      <td>0</td>\n",
       "    </tr>\n",
       "    <tr>\n",
       "      <th>5</th>\n",
       "      <td>Очень глубокие проймы</td>\n",
       "      <td>0</td>\n",
       "    </tr>\n",
       "    <tr>\n",
       "      <th>6</th>\n",
       "      <td>Я недовольна заказом.Я вот одного не понимаю п...</td>\n",
       "      <td>0</td>\n",
       "    </tr>\n",
       "    <tr>\n",
       "      <th>7</th>\n",
       "      <td>заказала размер s на от 64,об 94,начнем с того...</td>\n",
       "      <td>0</td>\n",
       "    </tr>\n",
       "    <tr>\n",
       "      <th>8</th>\n",
       "      <td>Заказ я сделала в июле. С тех пор посылка отсл...</td>\n",
       "      <td>0</td>\n",
       "    </tr>\n",
       "    <tr>\n",
       "      <th>9</th>\n",
       "      <td>Ужасное качество товара!</td>\n",
       "      <td>0</td>\n",
       "    </tr>\n",
       "  </tbody>\n",
       "</table>\n",
       "</div>"
      ],
      "text/plain": [
       "                                              review  sentiment\n",
       "0  качество плохое пошив ужасный (горловина напер...          0\n",
       "1  Товар отдали другому человеку, я не получила п...          0\n",
       "2  Ужасная синтетика! Тонкая, ничего общего с пре...          0\n",
       "3  товар не пришел, продавец продлил защиту без м...          0\n",
       "4      Кофточка голая синтетика, носить не возможно.          0\n",
       "5                              Очень глубокие проймы          0\n",
       "6  Я недовольна заказом.Я вот одного не понимаю п...          0\n",
       "7  заказала размер s на от 64,об 94,начнем с того...          0\n",
       "8  Заказ я сделала в июле. С тех пор посылка отсл...          0\n",
       "9                           Ужасное качество товара!          0"
      ]
     },
     "execution_count": 9,
     "metadata": {},
     "output_type": "execute_result"
    }
   ],
   "source": [
    "reviews.sentiment = reviews.sentiment.apply(lambda x: sentiment_map[x])\n",
    "reviews.head(10)"
   ]
  },
  {
   "cell_type": "code",
   "execution_count": 10,
   "metadata": {
    "execution": {
     "iopub.execute_input": "2023-11-07T10:37:19.859161Z",
     "iopub.status.busy": "2023-11-07T10:37:19.858548Z",
     "iopub.status.idle": "2023-11-07T10:37:19.869919Z",
     "shell.execute_reply": "2023-11-07T10:37:19.868931Z",
     "shell.execute_reply.started": "2023-11-07T10:37:19.859132Z"
    }
   },
   "outputs": [
    {
     "data": {
      "text/plain": [
       "(13098, 2)"
      ]
     },
     "execution_count": 10,
     "metadata": {},
     "output_type": "execute_result"
    }
   ],
   "source": [
    "reviews_sample = reviews.sample(frac=0.15, replace=True, random_state=42)\n",
    "reviews_sample.shape"
   ]
  },
  {
   "cell_type": "code",
   "execution_count": 11,
   "metadata": {
    "execution": {
     "iopub.execute_input": "2023-11-07T10:37:19.871826Z",
     "iopub.status.busy": "2023-11-07T10:37:19.871534Z",
     "iopub.status.idle": "2023-11-07T10:37:20.134006Z",
     "shell.execute_reply": "2023-11-07T10:37:20.133055Z",
     "shell.execute_reply.started": "2023-11-07T10:37:19.871781Z"
    }
   },
   "outputs": [
    {
     "data": {
      "image/png": "[encoded data removed]",
      "text/plain": [
       "<Figure size 640x480 with 1 Axes>"
      ]
     },
     "metadata": {},
     "output_type": "display_data"
    }
   ],
   "source": [
    "reviews_sample.sentiment.hist()\n",
    "plt.show()"
   ]
  },
  {
   "cell_type": "code",
   "execution_count": 12,
   "metadata": {
    "execution": {
     "iopub.execute_input": "2023-11-07T10:37:20.135847Z",
     "iopub.status.busy": "2023-11-07T10:37:20.135417Z",
     "iopub.status.idle": "2023-11-07T10:37:20.168296Z",
     "shell.execute_reply": "2023-11-07T10:37:20.167182Z",
     "shell.execute_reply.started": "2023-11-07T10:37:20.135810Z"
    }
   },
   "outputs": [
    {
     "data": {
      "text/plain": [
       "'cuda'"
      ]
     },
     "execution_count": 12,
     "metadata": {},
     "output_type": "execute_result"
    }
   ],
   "source": [
    "device = ('cuda' if torch.cuda.is_available() else 'cpu')\n",
    "device"
   ]
  },
  {
   "cell_type": "code",
   "execution_count": 13,
   "metadata": {
    "execution": {
     "iopub.execute_input": "2023-11-07T10:37:20.169925Z",
     "iopub.status.busy": "2023-11-07T10:37:20.169605Z",
     "iopub.status.idle": "2023-11-07T10:37:20.178189Z",
     "shell.execute_reply": "2023-11-07T10:37:20.177401Z",
     "shell.execute_reply.started": "2023-11-07T10:37:20.169897Z"
    }
   },
   "outputs": [],
   "source": [
    "pretrained_model_name_or_path = 'DeepPavlov/rubert-base-cased'"
   ]
  },
  {
   "cell_type": "code",
   "execution_count": 14,
   "metadata": {
    "execution": {
     "iopub.execute_input": "2023-11-07T10:37:20.179815Z",
     "iopub.status.busy": "2023-11-07T10:37:20.179430Z",
     "iopub.status.idle": "2023-11-07T10:37:20.196794Z",
     "shell.execute_reply": "2023-11-07T10:37:20.195856Z",
     "shell.execute_reply.started": "2023-11-07T10:37:20.179782Z"
    }
   },
   "outputs": [
    {
     "data": {
      "text/plain": [
       "3"
      ]
     },
     "execution_count": 14,
     "metadata": {},
     "output_type": "execute_result"
    }
   ],
   "source": [
    "num_labels = reviews.sentiment.nunique()\n",
    "num_labels"
   ]
  },
  {
   "cell_type": "code",
   "execution_count": 15,
   "metadata": {
    "execution": {
     "iopub.execute_input": "2023-11-07T10:37:20.198267Z",
     "iopub.status.busy": "2023-11-07T10:37:20.197982Z",
     "iopub.status.idle": "2023-11-07T10:37:26.792876Z",
     "shell.execute_reply": "2023-11-07T10:37:26.791949Z",
     "shell.execute_reply.started": "2023-11-07T10:37:20.198234Z"
    }
   },
   "outputs": [
    {
     "data": {
      "application/vnd.jupyter.widget-view+json": {
       "model_id": "347fb1bd86f74ec1a4aa523c38f89a95",
       "version_major": 2,
       "version_minor": 0
      },
      "text/plain": [
       "Downloading (…)lve/main/config.json:   0%|          | 0.00/642 [00:00<?, ?B/s]"
      ]
     },
     "metadata": {},
     "output_type": "display_data"
    },
    {
     "data": {
      "application/vnd.jupyter.widget-view+json": {
       "model_id": "1953c5dcc9044135bae4f307d669feac",
       "version_major": 2,
       "version_minor": 0
      },
      "text/plain": [
       "Downloading pytorch_model.bin:   0%|          | 0.00/714M [00:00<?, ?B/s]"
      ]
     },
     "metadata": {},
     "output_type": "display_data"
    },
    {
     "name": "stderr",
     "output_type": "stream",
     "text": [
      "Some weights of BertForSequenceClassification were not initialized from the model checkpoint at DeepPavlov/rubert-base-cased and are newly initialized: ['classifier.bias', 'classifier.weight']\n",
      "You should probably TRAIN this model on a down-stream task to be able to use it for predictions and inference.\n"
     ]
    },
    {
     "data": {
      "application/vnd.jupyter.widget-view+json": {
       "model_id": "e3d10903a6d343d5b45043cd6d961014",
       "version_major": 2,
       "version_minor": 0
      },
      "text/plain": [
       "Downloading (…)solve/main/vocab.txt:   0%|          | 0.00/1.65M [00:00<?, ?B/s]"
      ]
     },
     "metadata": {},
     "output_type": "display_data"
    },
    {
     "data": {
      "application/vnd.jupyter.widget-view+json": {
       "model_id": "3c3620a988b54ba488fd49ef01a7da0c",
       "version_major": 2,
       "version_minor": 0
      },
      "text/plain": [
       "Downloading (…)cial_tokens_map.json:   0%|          | 0.00/112 [00:00<?, ?B/s]"
      ]
     },
     "metadata": {},
     "output_type": "display_data"
    },
    {
     "data": {
      "application/vnd.jupyter.widget-view+json": {
       "model_id": "32ea8fe9afbc43dbbae629666a58ebea",
       "version_major": 2,
       "version_minor": 0
      },
      "text/plain": [
       "Downloading (…)okenizer_config.json:   0%|          | 0.00/24.0 [00:00<?, ?B/s]"
      ]
     },
     "metadata": {},
     "output_type": "display_data"
    }
   ],
   "source": [
    "model = BertForSequenceClassification.from_pretrained(pretrained_model_name_or_path, \n",
    "                                                      num_labels=num_labels)\n",
    "tokenizer = BertTokenizer.from_pretrained(pretrained_model_name_or_path)"
   ]
  },
  {
   "cell_type": "code",
   "execution_count": 16,
   "metadata": {
    "execution": {
     "iopub.execute_input": "2023-11-07T10:37:26.794557Z",
     "iopub.status.busy": "2023-11-07T10:37:26.794181Z",
     "iopub.status.idle": "2023-11-07T10:37:32.145005Z",
     "shell.execute_reply": "2023-11-07T10:37:32.144021Z",
     "shell.execute_reply.started": "2023-11-07T10:37:26.794523Z"
    }
   },
   "outputs": [
    {
     "data": {
      "text/plain": [
       "BertForSequenceClassification(\n",
       "  (bert): BertModel(\n",
       "    (embeddings): BertEmbeddings(\n",
       "      (word_embeddings): Embedding(119547, 768, padding_idx=0)\n",
       "      (position_embeddings): Embedding(512, 768)\n",
       "      (token_type_embeddings): Embedding(2, 768)\n",
       "      (LayerNorm): LayerNorm((768,), eps=1e-12, elementwise_affine=True)\n",
       "      (dropout): Dropout(p=0.1, inplace=False)\n",
       "    )\n",
       "    (encoder): BertEncoder(\n",
       "      (layer): ModuleList(\n",
       "        (0-11): 12 x BertLayer(\n",
       "          (attention): BertAttention(\n",
       "            (self): BertSelfAttention(\n",
       "              (query): Linear(in_features=768, out_features=768, bias=True)\n",
       "              (key): Linear(in_features=768, out_features=768, bias=True)\n",
       "              (value): Linear(in_features=768, out_features=768, bias=True)\n",
       "              (dropout): Dropout(p=0.1, inplace=False)\n",
       "            )\n",
       "            (output): BertSelfOutput(\n",
       "              (dense): Linear(in_features=768, out_features=768, bias=True)\n",
       "              (LayerNorm): LayerNorm((768,), eps=1e-12, elementwise_affine=True)\n",
       "              (dropout): Dropout(p=0.1, inplace=False)\n",
       "            )\n",
       "          )\n",
       "          (intermediate): BertIntermediate(\n",
       "            (dense): Linear(in_features=768, out_features=3072, bias=True)\n",
       "            (intermediate_act_fn): GELUActivation()\n",
       "          )\n",
       "          (output): BertOutput(\n",
       "            (dense): Linear(in_features=3072, out_features=768, bias=True)\n",
       "            (LayerNorm): LayerNorm((768,), eps=1e-12, elementwise_affine=True)\n",
       "            (dropout): Dropout(p=0.1, inplace=False)\n",
       "          )\n",
       "        )\n",
       "      )\n",
       "    )\n",
       "    (pooler): BertPooler(\n",
       "      (dense): Linear(in_features=768, out_features=768, bias=True)\n",
       "      (activation): Tanh()\n",
       "    )\n",
       "  )\n",
       "  (dropout): Dropout(p=0.1, inplace=False)\n",
       "  (classifier): Linear(in_features=768, out_features=3, bias=True)\n",
       ")"
      ]
     },
     "execution_count": 16,
     "metadata": {},
     "output_type": "execute_result"
    }
   ],
   "source": [
    "model = model.to(device)\n",
    "model"
   ]
  },
  {
   "cell_type": "code",
   "execution_count": 17,
   "metadata": {
    "execution": {
     "iopub.execute_input": "2023-11-07T10:37:32.146449Z",
     "iopub.status.busy": "2023-11-07T10:37:32.146145Z",
     "iopub.status.idle": "2023-11-07T10:37:32.153357Z",
     "shell.execute_reply": "2023-11-07T10:37:32.152500Z",
     "shell.execute_reply.started": "2023-11-07T10:37:32.146423Z"
    }
   },
   "outputs": [],
   "source": [
    "embedding_parameters = [param for name, param in model.named_parameters() \n",
    "                        if 'classifier' not in name]"
   ]
  },
  {
   "cell_type": "code",
   "execution_count": 18,
   "metadata": {
    "execution": {
     "iopub.execute_input": "2023-11-07T10:37:32.154802Z",
     "iopub.status.busy": "2023-11-07T10:37:32.154529Z",
     "iopub.status.idle": "2023-11-07T10:37:34.832778Z",
     "shell.execute_reply": "2023-11-07T10:37:34.831828Z",
     "shell.execute_reply.started": "2023-11-07T10:37:32.154777Z"
    }
   },
   "outputs": [],
   "source": [
    "for param in embedding_parameters:\n",
    "    param.requires_grad = False"
   ]
  },
  {
   "cell_type": "code",
   "execution_count": 19,
   "metadata": {
    "execution": {
     "iopub.execute_input": "2023-11-07T10:37:34.834947Z",
     "iopub.status.busy": "2023-11-07T10:37:34.834162Z",
     "iopub.status.idle": "2023-11-07T10:37:34.844604Z",
     "shell.execute_reply": "2023-11-07T10:37:34.843679Z",
     "shell.execute_reply.started": "2023-11-07T10:37:34.834913Z"
    }
   },
   "outputs": [],
   "source": [
    "X = reviews_sample.review\n",
    "y = reviews_sample.sentiment"
   ]
  },
  {
   "cell_type": "code",
   "execution_count": 20,
   "metadata": {
    "execution": {
     "iopub.execute_input": "2023-11-07T10:37:34.846042Z",
     "iopub.status.busy": "2023-11-07T10:37:34.845748Z",
     "iopub.status.idle": "2023-11-07T10:37:34.858692Z",
     "shell.execute_reply": "2023-11-07T10:37:34.857812Z",
     "shell.execute_reply.started": "2023-11-07T10:37:34.846009Z"
    }
   },
   "outputs": [],
   "source": [
    "X_train, X_test, y_train, y_test = train_test_split(X, y, test_size=0.2, random_state=42)"
   ]
  },
  {
   "cell_type": "code",
   "execution_count": 21,
   "metadata": {
    "execution": {
     "iopub.execute_input": "2023-11-07T10:37:34.860174Z",
     "iopub.status.busy": "2023-11-07T10:37:34.859896Z",
     "iopub.status.idle": "2023-11-07T10:37:34.867045Z",
     "shell.execute_reply": "2023-11-07T10:37:34.866202Z",
     "shell.execute_reply.started": "2023-11-07T10:37:34.860150Z"
    }
   },
   "outputs": [
    {
     "name": "stdout",
     "output_type": "stream",
     "text": [
      "[PAD]\n"
     ]
    }
   ],
   "source": [
    "tokenizer.pad_token_id = 0\n",
    "print(tokenizer.pad_token)"
   ]
  },
  {
   "cell_type": "code",
   "execution_count": 22,
   "metadata": {
    "execution": {
     "iopub.execute_input": "2023-11-07T10:37:34.868930Z",
     "iopub.status.busy": "2023-11-07T10:37:34.868252Z",
     "iopub.status.idle": "2023-11-07T10:37:34.879263Z",
     "shell.execute_reply": "2023-11-07T10:37:34.878410Z",
     "shell.execute_reply.started": "2023-11-07T10:37:34.868897Z"
    }
   },
   "outputs": [],
   "source": [
    "class SentimentAnalysisDataset(Dataset):\n",
    "    def __init__(self, X, y, tokenizer=None, num_labels=3):\n",
    "        self.X = tokenizer(X.tolist(), \n",
    "                           truncation=True, \n",
    "                           padding=True,\n",
    "                           return_tensors=\"pt\",\n",
    "                           max_length=512).to(device)\n",
    "        self.y = torch.tensor(y.to_numpy(), dtype=torch.int64).to(device)\n",
    "    \n",
    "    def __len__(self):\n",
    "        return len(self.y)\n",
    "    \n",
    "    def __getitem__(self, idx):\n",
    "        return self.X.input_ids[idx], self.X.attention_mask[idx], self.y[idx]"
   ]
  },
  {
   "cell_type": "code",
   "execution_count": 23,
   "metadata": {
    "execution": {
     "iopub.execute_input": "2023-11-07T10:37:34.880616Z",
     "iopub.status.busy": "2023-11-07T10:37:34.880335Z",
     "iopub.status.idle": "2023-11-07T10:37:49.839023Z",
     "shell.execute_reply": "2023-11-07T10:37:49.838206Z",
     "shell.execute_reply.started": "2023-11-07T10:37:34.880585Z"
    }
   },
   "outputs": [],
   "source": [
    "train_dataset = SentimentAnalysisDataset(X_train, y_train, tokenizer)\n",
    "test_dataset = SentimentAnalysisDataset(X_test, y_test, tokenizer)\n",
    "\n",
    "free_memory()"
   ]
  },
  {
   "cell_type": "code",
   "execution_count": 24,
   "metadata": {
    "execution": {
     "iopub.execute_input": "2023-11-07T10:37:49.840622Z",
     "iopub.status.busy": "2023-11-07T10:37:49.840263Z",
     "iopub.status.idle": "2023-11-07T10:37:49.845155Z",
     "shell.execute_reply": "2023-11-07T10:37:49.844253Z",
     "shell.execute_reply.started": "2023-11-07T10:37:49.840590Z"
    }
   },
   "outputs": [],
   "source": [
    "batch_size = 32\n",
    "num_epochs = 15"
   ]
  },
  {
   "cell_type": "code",
   "execution_count": 25,
   "metadata": {
    "execution": {
     "iopub.execute_input": "2023-11-07T10:37:49.846665Z",
     "iopub.status.busy": "2023-11-07T10:37:49.846366Z",
     "iopub.status.idle": "2023-11-07T10:37:49.857481Z",
     "shell.execute_reply": "2023-11-07T10:37:49.856488Z",
     "shell.execute_reply.started": "2023-11-07T10:37:49.846640Z"
    }
   },
   "outputs": [],
   "source": [
    "train_loader = DataLoader(train_dataset, batch_size=batch_size, shuffle=True)"
   ]
  },
  {
   "cell_type": "code",
   "execution_count": 26,
   "metadata": {
    "execution": {
     "iopub.execute_input": "2023-11-07T10:37:49.858866Z",
     "iopub.status.busy": "2023-11-07T10:37:49.858608Z",
     "iopub.status.idle": "2023-11-07T10:37:49.871266Z",
     "shell.execute_reply": "2023-11-07T10:37:49.870395Z",
     "shell.execute_reply.started": "2023-11-07T10:37:49.858841Z"
    }
   },
   "outputs": [],
   "source": [
    "optimizer = AdamW(model.classifier.parameters(), lr=0.01, weight_decay=1e-4)\n",
    "criterion = nn.CrossEntropyLoss()"
   ]
  },
  {
   "cell_type": "code",
   "execution_count": 37,
   "metadata": {
    "execution": {
     "iopub.execute_input": "2023-11-07T11:29:39.865354Z",
     "iopub.status.busy": "2023-11-07T11:29:39.864996Z",
     "iopub.status.idle": "2023-11-07T11:29:39.873173Z",
     "shell.execute_reply": "2023-11-07T11:29:39.872246Z",
     "shell.execute_reply.started": "2023-11-07T11:29:39.865325Z"
    }
   },
   "outputs": [],
   "source": [
    "def evaluate_model(model, data_loader):\n",
    "    ground_truth = []\n",
    "    predictions = []\n",
    "\n",
    "    model.eval()\n",
    "    for input_ids, attention_mask, labels in data_loader:\n",
    "        input_ids = input_ids.to(device)\n",
    "        attention_mask = attention_mask.to(device)\n",
    "        labels = labels.to(device)\n",
    "        outputs = model(input_ids=input_ids, attention_mask=attention_mask)\n",
    "        _, indices = torch.max(outputs.logits, 1)\n",
    "        predictions.extend(indices.tolist())\n",
    "        ground_truth.extend(labels.tolist())\n",
    "        del input_ids\n",
    "        del attention_mask\n",
    "        del labels\n",
    "        del outputs\n",
    "        del indices\n",
    "        free_memory()\n",
    "    accuracy = accuracy_score(ground_truth, predictions)\n",
    "    f1 = f1_score(ground_truth, predictions, average='macro')\n",
    "    del predictions\n",
    "    del ground_truth\n",
    "    free_memory()\n",
    "    return accuracy, f1"
   ]
  },
  {
   "cell_type": "code",
   "execution_count": 28,
   "metadata": {
    "execution": {
     "iopub.execute_input": "2023-11-07T10:37:49.889145Z",
     "iopub.status.busy": "2023-11-07T10:37:49.888809Z",
     "iopub.status.idle": "2023-11-07T10:37:49.899376Z",
     "shell.execute_reply": "2023-11-07T10:37:49.898567Z",
     "shell.execute_reply.started": "2023-11-07T10:37:49.889119Z"
    }
   },
   "outputs": [],
   "source": [
    "def train_model(model, train_loader, criterion, optimizer, num_epochs, \n",
    "                step_size=1, gamma=0.5):\n",
    "    scheduler = StepLR(optimizer, step_size=step_size, gamma=gamma)\n",
    "    loss_history = []\n",
    "    train_history = []\n",
    "    \n",
    "    for epoch in range(num_epochs):\n",
    "        model.train()\n",
    "        \n",
    "        loss_accum = 0\n",
    "        correct_samples = 0\n",
    "        total_samples = 0\n",
    "        \n",
    "        for i_step, (input_ids, attention_mask, y) in enumerate(train_loader):\n",
    "            input_ids = input_ids.to(device)\n",
    "            attention_mask = attention_mask.to(device)\n",
    "            y = y.to(device)\n",
    "            outputs = model(input_ids=input_ids, attention_mask=attention_mask)\n",
    "            #logits = torch.mean(outputs.logits, dim=1)\n",
    "            optimizer.zero_grad()\n",
    "            loss = criterion(outputs.logits, y)\n",
    "            loss.backward()\n",
    "            clip_grad_norm_(model.classifier.parameters(), 1.0)\n",
    "            optimizer.step()\n",
    "            \n",
    "            _, indices = torch.max(outputs.logits, 1)\n",
    "            correct_samples += torch.sum(indices == y)\n",
    "            total_samples += y.shape[0]\n",
    "            loss_accum += loss\n",
    "            \n",
    "            del outputs\n",
    "            del indices\n",
    "            del input_ids\n",
    "            del attention_mask\n",
    "            del y\n",
    "            free_memory()\n",
    "          \n",
    "        scheduler.step()\n",
    "        ave_loss = loss_accum / i_step\n",
    "        train_accuracy = float(correct_samples) / total_samples\n",
    "\n",
    "        loss_history.append(float(ave_loss))\n",
    "        train_history.append(train_accuracy)\n",
    "        \n",
    "        free_memory()\n",
    "\n",
    "        print(\"Average loss: %f, Train accuracy: %f\" % (ave_loss, train_accuracy))\n",
    "        \n",
    "    return loss_history, train_history"
   ]
  },
  {
   "cell_type": "code",
   "execution_count": 29,
   "metadata": {
    "execution": {
     "iopub.execute_input": "2023-11-07T10:37:49.900587Z",
     "iopub.status.busy": "2023-11-07T10:37:49.900321Z",
     "iopub.status.idle": "2023-11-07T11:28:42.420882Z",
     "shell.execute_reply": "2023-11-07T11:28:42.419857Z",
     "shell.execute_reply.started": "2023-11-07T10:37:49.900563Z"
    }
   },
   "outputs": [
    {
     "name": "stdout",
     "output_type": "stream",
     "text": [
      "Average loss: 0.987085, Train accuracy: 0.524814\n",
      "Average loss: 0.893772, Train accuracy: 0.582458\n",
      "Average loss: 0.870194, Train accuracy: 0.598015\n",
      "Average loss: 0.857395, Train accuracy: 0.612044\n",
      "Average loss: 0.852505, Train accuracy: 0.609658\n",
      "Average loss: 0.848166, Train accuracy: 0.610708\n",
      "Average loss: 0.844660, Train accuracy: 0.618343\n",
      "Average loss: 0.844936, Train accuracy: 0.622161\n",
      "Average loss: 0.847967, Train accuracy: 0.624547\n",
      "Average loss: 0.842989, Train accuracy: 0.617293\n",
      "Average loss: 0.845643, Train accuracy: 0.623783\n",
      "Average loss: 0.847046, Train accuracy: 0.620920\n",
      "Average loss: 0.840913, Train accuracy: 0.622065\n",
      "Average loss: 0.846919, Train accuracy: 0.621684\n",
      "Average loss: 0.843450, Train accuracy: 0.618152\n"
     ]
    }
   ],
   "source": [
    "loss_history, train_history = train_model(model, \n",
    "                                          train_loader, \n",
    "                                          criterion, \n",
    "                                          optimizer, num_epochs)"
   ]
  },
  {
   "cell_type": "code",
   "execution_count": 30,
   "metadata": {
    "execution": {
     "iopub.execute_input": "2023-11-07T11:28:42.423145Z",
     "iopub.status.busy": "2023-11-07T11:28:42.422836Z",
     "iopub.status.idle": "2023-11-07T11:28:42.680875Z",
     "shell.execute_reply": "2023-11-07T11:28:42.679928Z",
     "shell.execute_reply.started": "2023-11-07T11:28:42.423118Z"
    }
   },
   "outputs": [],
   "source": [
    "free_memory()"
   ]
  },
  {
   "cell_type": "code",
   "execution_count": 31,
   "metadata": {
    "execution": {
     "iopub.execute_input": "2023-11-07T11:28:42.682283Z",
     "iopub.status.busy": "2023-11-07T11:28:42.682008Z",
     "iopub.status.idle": "2023-11-07T11:28:42.976693Z",
     "shell.execute_reply": "2023-11-07T11:28:42.975581Z",
     "shell.execute_reply.started": "2023-11-07T11:28:42.682258Z"
    }
   },
   "outputs": [
    {
     "data": {
      "image/png": "[encoded data removed]",
      "text/plain": [
       "<Figure size 640x480 with 1 Axes>"
      ]
     },
     "metadata": {},
     "output_type": "display_data"
    }
   ],
   "source": [
    "plt.title(\"History\")\n",
    "plt.plot(loss_history, label=\"Loss history\")\n",
    "plt.plot(train_history, label=\"Train history\")\n",
    "plt.legend(loc=\"upper left\")\n",
    "plt.show()"
   ]
  },
  {
   "cell_type": "code",
   "execution_count": 32,
   "metadata": {
    "execution": {
     "iopub.execute_input": "2023-11-07T11:28:42.978782Z",
     "iopub.status.busy": "2023-11-07T11:28:42.978087Z",
     "iopub.status.idle": "2023-11-07T11:28:42.983330Z",
     "shell.execute_reply": "2023-11-07T11:28:42.982433Z",
     "shell.execute_reply.started": "2023-11-07T11:28:42.978744Z"
    }
   },
   "outputs": [],
   "source": [
    "test_loader = DataLoader(test_dataset, batch_size=batch_size)"
   ]
  },
  {
   "cell_type": "code",
   "execution_count": 38,
   "metadata": {
    "execution": {
     "iopub.execute_input": "2023-11-07T11:29:45.586234Z",
     "iopub.status.busy": "2023-11-07T11:29:45.585415Z",
     "iopub.status.idle": "2023-11-07T11:30:31.914870Z",
     "shell.execute_reply": "2023-11-07T11:30:31.913950Z",
     "shell.execute_reply.started": "2023-11-07T11:29:45.586201Z"
    }
   },
   "outputs": [
    {
     "name": "stdout",
     "output_type": "stream",
     "text": [
      "Test accuracy is 0.6515267175572519\n",
      "Test f1 score is 0.6463834249748095\n"
     ]
    }
   ],
   "source": [
    "accuracy, f1 = evaluate_model(model, test_loader)\n",
    "print(f\"Test accuracy is {accuracy}\")\n",
    "print(f\"Test f1 score is {f1}\")"
   ]
  },
  {
   "cell_type": "code",
   "execution_count": 39,
   "metadata": {
    "execution": {
     "iopub.execute_input": "2023-11-07T11:31:43.343091Z",
     "iopub.status.busy": "2023-11-07T11:31:43.342431Z",
     "iopub.status.idle": "2023-11-07T11:31:44.679307Z",
     "shell.execute_reply": "2023-11-07T11:31:44.678501Z",
     "shell.execute_reply.started": "2023-11-07T11:31:43.343061Z"
    }
   },
   "outputs": [],
   "source": [
    "torch.save(model, 'st_rubert-sentiment-classifier.pth')"
   ]
  }
 ],
 "metadata": {
  "kernelspec": {
   "display_name": "Python 3 (ipykernel)",
   "language": "python",
   "name": "python3"
  },
  "language_info": {
   "codemirror_mode": {
    "name": "ipython",
    "version": 3
   },
   "file_extension": ".py",
   "mimetype": "text/x-python",
   "name": "python",
   "nbconvert_exporter": "python",
   "pygments_lexer": "ipython3",
   "version": "3.11.4"
  }
 },
 "nbformat": 4,
 "nbformat_minor": 4
}
