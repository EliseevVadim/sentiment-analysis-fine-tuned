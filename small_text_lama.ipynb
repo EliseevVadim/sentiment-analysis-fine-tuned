{
 "cells": [
  {
   "cell_type": "code",
   "execution_count": 1,
   "id": "6b2db89d",
   "metadata": {},
   "outputs": [],
   "source": [
    "import numpy as np\n",
    "import pandas as pd\n",
    "import matplotlib.pyplot as plt"
   ]
  },
  {
   "cell_type": "code",
   "execution_count": 2,
   "id": "e42929c0",
   "metadata": {},
   "outputs": [],
   "source": [
    "from sklearn.model_selection import train_test_split\n",
    "from sklearn.metrics import accuracy_score\n",
    "from sklearn.metrics import f1_score"
   ]
  },
  {
   "cell_type": "code",
   "execution_count": 3,
   "id": "24555bfe",
   "metadata": {},
   "outputs": [
    {
     "name": "stderr",
     "output_type": "stream",
     "text": [
      "C:\\Users\\Admin\\.conda\\envs\\oldervenv\\Lib\\site-packages\\lightautoml\\transformers\\text.py:22: UserWarning: 'gensim' - package isn't installed\n",
      "  warnings.warn(\"'gensim' - package isn't installed\")\n",
      "C:\\Users\\Admin\\.conda\\envs\\oldervenv\\Lib\\site-packages\\lightautoml\\addons\\interpretation\\l2x.py:23: UserWarning: 'gensim' - package isn't installed\n",
      "  warnings.warn(\"'gensim' - package isn't installed\")\n"
     ]
    }
   ],
   "source": [
    "from lightautoml.automl.presets.text_presets import TabularNLPAutoML\n",
    "from lightautoml.tasks import Task\n",
    "\n",
    "from lightautoml.addons.interpretation import LimeTextExplainer"
   ]
  },
  {
   "cell_type": "code",
   "execution_count": 4,
   "id": "98d6d9d3",
   "metadata": {},
   "outputs": [],
   "source": [
    "import torch"
   ]
  },
  {
   "cell_type": "code",
   "execution_count": 5,
   "id": "09020123",
   "metadata": {},
   "outputs": [
    {
     "data": {
      "text/plain": [
       "True"
      ]
     },
     "execution_count": 5,
     "metadata": {},
     "output_type": "execute_result"
    }
   ],
   "source": [
    "torch.cuda.is_available()"
   ]
  },
  {
   "cell_type": "code",
   "execution_count": 6,
   "id": "1ddea663",
   "metadata": {},
   "outputs": [],
   "source": [
    "from transformers import logging\n",
    "\n",
    "logging.set_verbosity_error()"
   ]
  },
  {
   "cell_type": "code",
   "execution_count": 7,
   "id": "a74ece2c",
   "metadata": {},
   "outputs": [],
   "source": [
    "np.random.seed(42)"
   ]
  },
  {
   "cell_type": "code",
   "execution_count": 8,
   "id": "a7da60f3",
   "metadata": {},
   "outputs": [
    {
     "data": {
      "text/html": [
       "<div>\n",
       "<style scoped>\n",
       "    .dataframe tbody tr th:only-of-type {\n",
       "        vertical-align: middle;\n",
       "    }\n",
       "\n",
       "    .dataframe tbody tr th {\n",
       "        vertical-align: top;\n",
       "    }\n",
       "\n",
       "    .dataframe thead th {\n",
       "        text-align: right;\n",
       "    }\n",
       "</style>\n",
       "<table border=\"1\" class=\"dataframe\">\n",
       "  <thead>\n",
       "    <tr style=\"text-align: right;\">\n",
       "      <th></th>\n",
       "      <th>review</th>\n",
       "      <th>sentiment</th>\n",
       "    </tr>\n",
       "  </thead>\n",
       "  <tbody>\n",
       "    <tr>\n",
       "      <th>45140</th>\n",
       "      <td>Ехала долго посылка, больше полутора месяца. Д...</td>\n",
       "      <td>neautral</td>\n",
       "    </tr>\n",
       "    <tr>\n",
       "      <th>82647</th>\n",
       "      <td>Очень красивый и приятный на ощупь))</td>\n",
       "      <td>positive</td>\n",
       "    </tr>\n",
       "    <tr>\n",
       "      <th>39454</th>\n",
       "      <td>нитки торчат, прошито очень неаккуратно</td>\n",
       "      <td>neautral</td>\n",
       "    </tr>\n",
       "    <tr>\n",
       "      <th>71219</th>\n",
       "      <td>Доставка быстрая. По размеру подошло 46 р-р. Т...</td>\n",
       "      <td>positive</td>\n",
       "    </tr>\n",
       "    <tr>\n",
       "      <th>45132</th>\n",
       "      <td>Пахнет</td>\n",
       "      <td>neautral</td>\n",
       "    </tr>\n",
       "    <tr>\n",
       "      <th>72801</th>\n",
       "      <td>Отлично всё - пошив, качество, фасон. Брала сп...</td>\n",
       "      <td>positive</td>\n",
       "    </tr>\n",
       "    <tr>\n",
       "      <th>67107</th>\n",
       "      <td>Пришли за три недели, на 39 идеально!!! Понрав...</td>\n",
       "      <td>positive</td>\n",
       "    </tr>\n",
       "    <tr>\n",
       "      <th>1487</th>\n",
       "      <td>Плохое качество и велик размер S. Хотя у меня ...</td>\n",
       "      <td>negative</td>\n",
       "    </tr>\n",
       "    <tr>\n",
       "      <th>9131</th>\n",
       "      <td>Прошло 4 месяца с продом.продлевали защиту тов...</td>\n",
       "      <td>negative</td>\n",
       "    </tr>\n",
       "    <tr>\n",
       "      <th>3752</th>\n",
       "      <td>Товар так и не пришел! Пришел подарок от продо...</td>\n",
       "      <td>negative</td>\n",
       "    </tr>\n",
       "  </tbody>\n",
       "</table>\n",
       "</div>"
      ],
      "text/plain": [
       "                                                  review sentiment\n",
       "45140  Ехала долго посылка, больше полутора месяца. Д...  neautral\n",
       "82647              Очень красивый и приятный на ощупь))   positive\n",
       "39454            нитки торчат, прошито очень неаккуратно  neautral\n",
       "71219  Доставка быстрая. По размеру подошло 46 р-р. Т...  positive\n",
       "45132                                            Пахнет   neautral\n",
       "72801  Отлично всё - пошив, качество, фасон. Брала сп...  positive\n",
       "67107  Пришли за три недели, на 39 идеально!!! Понрав...  positive\n",
       "1487   Плохое качество и велик размер S. Хотя у меня ...  negative\n",
       "9131   Прошло 4 месяца с продом.продлевали защиту тов...  negative\n",
       "3752   Товар так и не пришел! Пришел подарок от продо...  negative"
      ]
     },
     "execution_count": 8,
     "metadata": {},
     "output_type": "execute_result"
    }
   ],
   "source": [
    "reviews = pd.read_csv('data/reviews.csv.zip', sep='\\t')\n",
    "reviews.drop_duplicates(subset=['review'], inplace=True)\n",
    "reviews.sample(10)"
   ]
  },
  {
   "cell_type": "code",
   "execution_count": 9,
   "id": "c0c306a6",
   "metadata": {},
   "outputs": [
    {
     "data": {
      "text/html": [
       "<div>\n",
       "<style scoped>\n",
       "    .dataframe tbody tr th:only-of-type {\n",
       "        vertical-align: middle;\n",
       "    }\n",
       "\n",
       "    .dataframe tbody tr th {\n",
       "        vertical-align: top;\n",
       "    }\n",
       "\n",
       "    .dataframe thead th {\n",
       "        text-align: right;\n",
       "    }\n",
       "</style>\n",
       "<table border=\"1\" class=\"dataframe\">\n",
       "  <thead>\n",
       "    <tr style=\"text-align: right;\">\n",
       "      <th></th>\n",
       "      <th>count</th>\n",
       "    </tr>\n",
       "    <tr>\n",
       "      <th>sentiment</th>\n",
       "      <th></th>\n",
       "    </tr>\n",
       "  </thead>\n",
       "  <tbody>\n",
       "    <tr>\n",
       "      <th>neautral</th>\n",
       "      <td>28812</td>\n",
       "    </tr>\n",
       "    <tr>\n",
       "      <th>negative</th>\n",
       "      <td>29218</td>\n",
       "    </tr>\n",
       "    <tr>\n",
       "      <th>positive</th>\n",
       "      <td>29291</td>\n",
       "    </tr>\n",
       "  </tbody>\n",
       "</table>\n",
       "</div>"
      ],
      "text/plain": [
       "           count\n",
       "sentiment       \n",
       "neautral   28812\n",
       "negative   29218\n",
       "positive   29291"
      ]
     },
     "execution_count": 9,
     "metadata": {},
     "output_type": "execute_result"
    }
   ],
   "source": [
    "full_counts = reviews.groupby('sentiment').agg(count = ('sentiment', 'count'))\n",
    "full_counts"
   ]
  },
  {
   "cell_type": "code",
   "execution_count": 10,
   "id": "6bcdfd61",
   "metadata": {},
   "outputs": [
    {
     "data": {
      "image/png": "[encoded data removed]",
      "text/plain": [
       "<Figure size 800x800 with 1 Axes>"
      ]
     },
     "metadata": {},
     "output_type": "display_data"
    }
   ],
   "source": [
    "full_counts.plot.pie(figsize=(8, 8), subplots=True, autopct='%1.1f%%')\n",
    "plt.ylabel('')\n",
    "plt.legend(loc='lower left')\n",
    "plt.show()"
   ]
  },
  {
   "cell_type": "code",
   "execution_count": 11,
   "id": "67bda5c6",
   "metadata": {},
   "outputs": [],
   "source": [
    "sentiment_map = {\n",
    "    'negative': 0,\n",
    "    'neautral': 1,\n",
    "    'positive': 2\n",
    "}"
   ]
  },
  {
   "cell_type": "code",
   "execution_count": 12,
   "id": "11d34a89",
   "metadata": {},
   "outputs": [
    {
     "data": {
      "text/html": [
       "<div>\n",
       "<style scoped>\n",
       "    .dataframe tbody tr th:only-of-type {\n",
       "        vertical-align: middle;\n",
       "    }\n",
       "\n",
       "    .dataframe tbody tr th {\n",
       "        vertical-align: top;\n",
       "    }\n",
       "\n",
       "    .dataframe thead th {\n",
       "        text-align: right;\n",
       "    }\n",
       "</style>\n",
       "<table border=\"1\" class=\"dataframe\">\n",
       "  <thead>\n",
       "    <tr style=\"text-align: right;\">\n",
       "      <th></th>\n",
       "      <th>review</th>\n",
       "      <th>sentiment</th>\n",
       "    </tr>\n",
       "  </thead>\n",
       "  <tbody>\n",
       "    <tr>\n",
       "      <th>71368</th>\n",
       "      <td>Очень высокая талия и тугая резинка, в остальн...</td>\n",
       "      <td>2</td>\n",
       "    </tr>\n",
       "    <tr>\n",
       "      <th>83060</th>\n",
       "      <td>супер как всегда</td>\n",
       "      <td>2</td>\n",
       "    </tr>\n",
       "    <tr>\n",
       "      <th>44341</th>\n",
       "      <td>в описании указан хлопок, на этикетке 65%полиэ...</td>\n",
       "      <td>1</td>\n",
       "    </tr>\n",
       "    <tr>\n",
       "      <th>11706</th>\n",
       "      <td>Не получил . Вёл спор спор закрыли с возвратом...</td>\n",
       "      <td>0</td>\n",
       "    </tr>\n",
       "    <tr>\n",
       "      <th>45829</th>\n",
       "      <td>не дошёл. видимо наша почта. было два заказа о...</td>\n",
       "      <td>1</td>\n",
       "    </tr>\n",
       "    <tr>\n",
       "      <th>5373</th>\n",
       "      <td>Толстовка пришла примерно за 1,5 месяца до Арх...</td>\n",
       "      <td>0</td>\n",
       "    </tr>\n",
       "    <tr>\n",
       "      <th>54297</th>\n",
       "      <td>Пижама пришла с дырками, а так качество хороше...</td>\n",
       "      <td>1</td>\n",
       "    </tr>\n",
       "    <tr>\n",
       "      <th>31163</th>\n",
       "      <td>выбрала не тот размер - s,  так как рукава нач...</td>\n",
       "      <td>1</td>\n",
       "    </tr>\n",
       "    <tr>\n",
       "      <th>62551</th>\n",
       "      <td>Прислали не тот цвет. Заказывала серый, а прис...</td>\n",
       "      <td>2</td>\n",
       "    </tr>\n",
       "    <tr>\n",
       "      <th>48628</th>\n",
       "      <td>Размер маленький, заказала м, пришла хl</td>\n",
       "      <td>1</td>\n",
       "    </tr>\n",
       "  </tbody>\n",
       "</table>\n",
       "</div>"
      ],
      "text/plain": [
       "                                                  review  sentiment\n",
       "71368  Очень высокая талия и тугая резинка, в остальн...          2\n",
       "83060                                   супер как всегда          2\n",
       "44341  в описании указан хлопок, на этикетке 65%полиэ...          1\n",
       "11706  Не получил . Вёл спор спор закрыли с возвратом...          0\n",
       "45829  не дошёл. видимо наша почта. было два заказа о...          1\n",
       "5373   Толстовка пришла примерно за 1,5 месяца до Арх...          0\n",
       "54297  Пижама пришла с дырками, а так качество хороше...          1\n",
       "31163  выбрала не тот размер - s,  так как рукава нач...          1\n",
       "62551  Прислали не тот цвет. Заказывала серый, а прис...          2\n",
       "48628            Размер маленький, заказала м, пришла хl          1"
      ]
     },
     "execution_count": 12,
     "metadata": {},
     "output_type": "execute_result"
    }
   ],
   "source": [
    "reviews.sentiment = reviews.sentiment.apply(lambda x: sentiment_map[x])\n",
    "reviews.sample(10)"
   ]
  },
  {
   "cell_type": "code",
   "execution_count": 13,
   "id": "a3e31fd2",
   "metadata": {},
   "outputs": [],
   "source": [
    "train, test = train_test_split(reviews, test_size=0.2, random_state=42)"
   ]
  },
  {
   "cell_type": "code",
   "execution_count": 14,
   "id": "4f963d51",
   "metadata": {},
   "outputs": [],
   "source": [
    "task = Task('multiclass', loss='f1')"
   ]
  },
  {
   "cell_type": "code",
   "execution_count": 15,
   "id": "c9819548",
   "metadata": {},
   "outputs": [],
   "source": [
    "automl = TabularNLPAutoML(\n",
    "    task=task,\n",
    "    gpu_ids='0',\n",
    "    general_params={\n",
    "        'nested_cv': False,\n",
    "        'use_algos': [['nn', 'linear_l2', 'lgb']]\n",
    "    },\n",
    "    text_params={\n",
    "        'lang': 'ru'\n",
    "    },\n",
    "    timeout=3600,\n",
    "    cpu_limit=4,\n",
    "    reader_params={\n",
    "        'random_state': 42\n",
    "    },\n",
    "    nn_params={\n",
    "        'opt_params': {'lr': 1e-5},\n",
    "        'max_length': 128,\n",
    "        'bs': 32,\n",
    "        'n_epochs': 7,\n",
    "    }\n",
    ")"
   ]
  },
  {
   "cell_type": "code",
   "execution_count": 16,
   "id": "9579e198",
   "metadata": {},
   "outputs": [],
   "source": [
    "roles = {\n",
    "    'text': ['review'],\n",
    "    'target': 'sentiment'\n",
    "}"
   ]
  },
  {
   "cell_type": "code",
   "execution_count": 17,
   "id": "cbcd9243",
   "metadata": {},
   "outputs": [
    {
     "name": "stdout",
     "output_type": "stream",
     "text": [
      "[12:35:58] Stdout logging level is DEBUG.\n",
      "[12:35:58] Model language mode: ru\n",
      "[12:35:58] Task: multiclass\n",
      "\n",
      "[12:35:58] Start automl preset with listed constraints:\n",
      "[12:35:58] - time: 3600.00 seconds\n",
      "[12:35:58] - CPU: 4 cores\n",
      "[12:35:58] - memory: 16 GB\n",
      "\n",
      "[12:35:58] \u001b[1mTrain data shape: (69856, 2)\u001b[0m\n",
      "\n",
      "[12:35:58] Layer \u001b[1m1\u001b[0m train process start. Time left 3599.96 secs\n",
      "[12:36:10] Start fitting \u001b[1mLvl_0_Pipe_0_Mod_0_LinearL2\u001b[0m ...\n",
      "[12:36:10] Training params: {'tol': 1e-06, 'max_iter': 100, 'cs': [1e-05, 5e-05, 0.0001, 0.0005, 0.001, 0.005, 0.01, 0.05, 0.1, 0.5, 1, 5, 10, 50, 100, 500, 1000, 5000, 10000, 50000, 100000], 'early_stopping': 2, 'categorical_idx': [], 'embed_sizes': (), 'data_size': 100}\n",
      "[12:36:10] ===== Start working with \u001b[1mfold 0\u001b[0m for \u001b[1mLvl_0_Pipe_0_Mod_0_LinearL2\u001b[0m =====\n",
      "[12:36:12] Linear model: C = 1e-05 score = -1.1005894053559164\n",
      "[12:36:13] Linear model: C = 5e-05 score = -1.1005894053559164\n",
      "[12:36:13] Linear model: C = 0.0001 score = -1.1005894053559164\n",
      "[12:36:13] ===== Start working with \u001b[1mfold 1\u001b[0m for \u001b[1mLvl_0_Pipe_0_Mod_0_LinearL2\u001b[0m =====\n",
      "[12:36:14] Linear model: C = 1e-05 score = -1.100669721580058\n",
      "[12:36:14] Linear model: C = 5e-05 score = -1.100669721580058\n",
      "[12:36:14] Linear model: C = 0.0001 score = -1.100669721580058\n",
      "[12:36:14] ===== Start working with \u001b[1mfold 2\u001b[0m for \u001b[1mLvl_0_Pipe_0_Mod_0_LinearL2\u001b[0m =====\n",
      "[12:36:15] Linear model: C = 1e-05 score = -1.100528858114199\n",
      "[12:36:15] Linear model: C = 5e-05 score = -1.100528858114199\n",
      "[12:36:15] Linear model: C = 0.0001 score = -1.100528858114199\n",
      "[12:36:16] Fitting \u001b[1mLvl_0_Pipe_0_Mod_0_LinearL2\u001b[0m finished. score = \u001b[1m-1.1005959949223922\u001b[0m\n",
      "[12:36:16] \u001b[1mLvl_0_Pipe_0_Mod_0_LinearL2\u001b[0m fitting and predicting completed\n",
      "[12:36:16] Time left 3582.03 secs\n",
      "\n",
      "[12:36:18] Feature concated__review fitted\n"
     ]
    },
    {
     "name": "stderr",
     "output_type": "stream",
     "text": [
      "  0%|                                                                                          | 0/219 [00:00<?, ?it/s]C:\\Users\\Admin\\.conda\\envs\\oldervenv\\Lib\\site-packages\\transformers\\models\\bert\\modeling_bert.py:435: UserWarning: 1Torch was not compiled with flash attention. (Triggered internally at ..\\aten\\src\\ATen\\native\\transformers\\cuda\\sdp_utils.cpp:455.)\n",
      "  attn_output = torch.nn.functional.scaled_dot_product_attention(\n",
      "100%|████████████████████████████████████████████████████████████████████████████████| 219/219 [10:02<00:00,  2.75s/it]\n"
     ]
    },
    {
     "name": "stdout",
     "output_type": "stream",
     "text": [
      "[12:46:22] Feature concated__review transformed\n",
      "[12:46:23] Start fitting \u001b[1mLvl_0_Pipe_1_Mod_0_LightGBM\u001b[0m ...\n",
      "[12:46:23] Training params: {'task': 'train', 'learning_rate': 0.03, 'num_leaves': 64, 'feature_fraction': 0.7, 'bagging_fraction': 0.7, 'bagging_freq': 1, 'max_depth': -1, 'verbosity': -1, 'reg_alpha': 1, 'reg_lambda': 0.0, 'min_split_gain': 0.0, 'zero_as_missing': False, 'num_threads': 4, 'max_bin': 255, 'min_data_in_bin': 3, 'num_trees': 1200, 'early_stopping_rounds': 200, 'random_state': 42}\n",
      "[12:46:23] ===== Start working with \u001b[1mfold 0\u001b[0m for \u001b[1mLvl_0_Pipe_1_Mod_0_LightGBM\u001b[0m =====\n",
      "[12:46:28] Training until validation scores don't improve for 200 rounds\n",
      "[12:47:10] [100]\tvalid's multi_logloss: 0.000931622\n",
      "[12:47:52] [200]\tvalid's multi_logloss: -1.32558\n",
      "[12:48:16] [300]\tvalid's multi_logloss: -1.87358\n",
      "[12:48:25] [400]\tvalid's multi_logloss: -2.21284\n",
      "[12:48:31] [500]\tvalid's multi_logloss: -2.46601\n",
      "[12:48:37] [600]\tvalid's multi_logloss: -2.6714\n",
      "[12:48:42] [700]\tvalid's multi_logloss: -2.83868\n",
      "[12:48:47] [800]\tvalid's multi_logloss: -2.98166\n",
      "[12:48:53] [900]\tvalid's multi_logloss: -3.1061\n",
      "[12:48:58] [1000]\tvalid's multi_logloss: -3.21628\n",
      "[12:49:03] [1100]\tvalid's multi_logloss: -3.3146\n",
      "[12:49:08] [1200]\tvalid's multi_logloss: -3.40325\n",
      "[12:49:08] Did not meet early stopping. Best iteration is:\n",
      "[1200]\tvalid's multi_logloss: -3.40325\n",
      "[12:49:13] ===== Start working with \u001b[1mfold 1\u001b[0m for \u001b[1mLvl_0_Pipe_1_Mod_0_LightGBM\u001b[0m =====\n",
      "[12:49:19] Training until validation scores don't improve for 200 rounds\n",
      "[12:50:02] [100]\tvalid's multi_logloss: -0.136374\n",
      "[12:50:43] [200]\tvalid's multi_logloss: -1.28294\n",
      "[12:51:07] [300]\tvalid's multi_logloss: -1.87084\n",
      "[12:51:17] [400]\tvalid's multi_logloss: -2.21705\n",
      "[12:51:24] [500]\tvalid's multi_logloss: -2.47418\n",
      "[12:51:29] [600]\tvalid's multi_logloss: -2.67587\n",
      "[12:51:35] [700]\tvalid's multi_logloss: -2.84226\n",
      "[12:51:40] [800]\tvalid's multi_logloss: -2.98446\n",
      "[12:51:46] [900]\tvalid's multi_logloss: -3.10806\n",
      "[12:51:51] [1000]\tvalid's multi_logloss: -3.21743\n",
      "[12:51:56] [1100]\tvalid's multi_logloss: -3.31585\n",
      "[12:52:01] [1200]\tvalid's multi_logloss: -3.40383\n",
      "[12:52:01] Did not meet early stopping. Best iteration is:\n",
      "[1200]\tvalid's multi_logloss: -3.40383\n",
      "[12:52:07] ===== Start working with \u001b[1mfold 2\u001b[0m for \u001b[1mLvl_0_Pipe_1_Mod_0_LightGBM\u001b[0m =====\n",
      "[12:52:12] Training until validation scores don't improve for 200 rounds\n",
      "[12:52:57] [100]\tvalid's multi_logloss: 0.453623\n",
      "[12:53:42] [200]\tvalid's multi_logloss: -0.999862\n",
      "[12:54:09] [300]\tvalid's multi_logloss: -1.79453\n",
      "[12:54:19] [400]\tvalid's multi_logloss: -2.20455\n",
      "[12:54:26] [500]\tvalid's multi_logloss: -2.48172\n",
      "[12:54:32] [600]\tvalid's multi_logloss: -2.68755\n",
      "[12:54:38] [700]\tvalid's multi_logloss: -2.85419\n",
      "[12:54:43] [800]\tvalid's multi_logloss: -2.99623\n",
      "[12:54:48] [900]\tvalid's multi_logloss: -3.11982\n",
      "[12:54:54] [1000]\tvalid's multi_logloss: -3.22927\n",
      "[12:54:59] [1100]\tvalid's multi_logloss: -3.32756\n",
      "[12:55:04] [1200]\tvalid's multi_logloss: -3.41612\n",
      "[12:55:04] Did not meet early stopping. Best iteration is:\n",
      "[1200]\tvalid's multi_logloss: -3.41612\n",
      "[12:55:10] Fitting \u001b[1mLvl_0_Pipe_1_Mod_0_LightGBM\u001b[0m finished. score = \u001b[1m-1.1660717776084737\u001b[0m\n",
      "[12:55:10] \u001b[1mLvl_0_Pipe_1_Mod_0_LightGBM\u001b[0m fitting and predicting completed\n",
      "[12:55:10] Time left 2448.01 secs\n",
      "\n",
      "[12:55:10] number of text features: 1 \n",
      "[12:55:10] number of categorical features: 0 \n",
      "[12:55:10] number of continuous features: 0 \n",
      "[12:55:10] Start fitting \u001b[1mLvl_0_Pipe_2_Mod_0_TorchNN__linear_layer_0\u001b[0m ...\n",
      "[12:55:10] Training params: {'num_workers': 4, 'pin_memory': False, 'max_length': 128, 'is_snap': False, 'input_bn': False, 'max_emb_size': 50, 'bert_name': None, 'pooling': 'cls', 'device': device(type='cuda', index=0), 'use_cont': True, 'use_cat': True, 'use_text': True, 'lang': 'ru', 'deterministic': False, 'multigpu': False, 'random_state': 42, 'model': '_linear_layer', 'model_with_emb': False, 'path_to_save': None, 'verbose_inside': None, 'verbose': 1, 'n_epochs': 7, 'snap_params': {'k': 1, 'early_stopping': True, 'patience': 1, 'swa': False}, 'bs': 32, 'emb_dropout': 0.1, 'emb_ratio': 3, 'opt': <class 'torch.optim.adam.Adam'>, 'opt_params': {'lr': 1e-05}, 'sch': <class 'torch.optim.lr_scheduler.ReduceLROnPlateau'>, 'scheduler_params': {'patience': 5, 'factor': 0.5, 'verbose': True}, 'loss': None, 'loss_params': {}, 'loss_on_logits': True, 'clip_grad': False, 'clip_grad_params': {}, 'init_bias': True, 'dataset': <class 'lightautoml.text.nn_model.UniversalDataset'>, 'tuned': False, 'optimization_search_space': None, 'verbose_bar': False, 'freeze_defaults': False, 'n_out': 3, 'hid_factor': [2, 2], 'hidden_size': [512, 512, 512], 'block_config': [2, 2], 'compression': 0.5, 'growth_size': 256, 'bn_factor': 2, 'drop_rate': 0.1, 'noise_std': 0.05, 'num_init_features': None, 'act_fun': <class 'torch.nn.modules.activation.ReLU'>, 'use_noise': False, 'use_bn': True, 'embedding_size': 10, 'cat_embedder': 'cat', 'cont_embedder': 'cont', 'stop_by_metric': False, 'device_ids': None, 'num_dims': 0, 'text_features': ['concated__review'], 'bias': array([-1.09109651, -1.11176819, -1.09310185])}\n",
      "[12:55:10] ===== Start working with \u001b[1mfold 0\u001b[0m for \u001b[1mLvl_0_Pipe_2_Mod_0_TorchNN__linear_layer_0\u001b[0m =====\n",
      "[12:55:12] Last linear layer not founded, so init_bias=False\n"
     ]
    },
    {
     "name": "stderr",
     "output_type": "stream",
     "text": [
      "C:\\Users\\Admin\\.conda\\envs\\oldervenv\\Lib\\site-packages\\torch\\optim\\lr_scheduler.py:28: UserWarning: The verbose parameter is deprecated. Please use get_last_lr() to access the learning rate.\n",
      "  warnings.warn(\"The verbose parameter is deprecated. Please use get_last_lr() \"\n"
     ]
    },
    {
     "name": "stdout",
     "output_type": "stream",
     "text": [
      "[13:09:03] Epoch: 0, train loss: -0.5600939393043518, val loss: -0.5802683234214783, val metric: -0.5708573700281828\n",
      "[13:22:44] Epoch: 1, train loss: -0.5782846808433533, val loss: -0.5825074315071106, val metric: -0.575445364816219\n",
      "[13:36:50] Epoch: 2, train loss: -0.5920115113258362, val loss: -0.5812731981277466, val metric: -0.5949136811340022\n",
      "[13:36:53] Time limit exceeded after calculating fold 0\n",
      "\n",
      "[13:36:53] Fitting \u001b[1mLvl_0_Pipe_2_Mod_0_TorchNN__linear_layer_0\u001b[0m finished. score = \u001b[1m-0.5949136811340022\u001b[0m\n",
      "[13:36:53] \u001b[1mLvl_0_Pipe_2_Mod_0_TorchNN__linear_layer_0\u001b[0m fitting and predicting completed\n",
      "[13:36:53] Time left -55.41 secs\n",
      "\n",
      "[13:36:53] Time limit exceeded. Last level models will be blended and unused pipelines will be pruned.\n",
      "\n",
      "[13:36:53] \u001b[1mLayer 1 training completed.\u001b[0m\n",
      "\n",
      "[13:36:53] Blending: optimization starts with equal weights and score \u001b[1m-0.7805581364508196\u001b[0m\n",
      "[13:36:53] Blending: iteration \u001b[1m0\u001b[0m: score = \u001b[1m-0.7118186606904026\u001b[0m, weights = \u001b[1m[0.05511818 0.18094979 0.76393205]\u001b[0m\n",
      "[13:36:54] Blending: iteration \u001b[1m1\u001b[0m: score = \u001b[1m-0.7112453960186366\u001b[0m, weights = \u001b[1m[0.05007562 0.18599236 0.76393205]\u001b[0m\n",
      "[13:36:54] Blending: iteration \u001b[1m2\u001b[0m: score = \u001b[1m-0.7112453960186366\u001b[0m, weights = \u001b[1m[0.05007562 0.18599236 0.76393205]\u001b[0m\n",
      "[13:36:54] Blending: no score update. Terminated\n",
      "\n",
      "[13:36:54] \u001b[1mAutoml preset training completed in 3656.83 seconds\u001b[0m\n",
      "\n",
      "[13:36:54] Model description:\n",
      "Final prediction for new objects (level 0) = \n",
      "\t 0.05008 * (3 averaged models Lvl_0_Pipe_0_Mod_0_LinearL2) +\n",
      "\t 0.18599 * (3 averaged models Lvl_0_Pipe_1_Mod_0_LightGBM) +\n",
      "\t 0.76393 * (1 averaged models Lvl_0_Pipe_2_Mod_0_TorchNN__linear_layer_0) \n",
      "\n",
      "CPU times: total: 1h 25min 4s\n",
      "Wall time: 1h 56s\n"
     ]
    }
   ],
   "source": [
    "%%time\n",
    "oof_predict = automl.fit_predict(train, roles=roles, verbose=5)"
   ]
  },
  {
   "cell_type": "code",
   "execution_count": 18,
   "id": "ff74d073",
   "metadata": {},
   "outputs": [
    {
     "name": "stderr",
     "output_type": "stream",
     "text": [
      "100%|██████████████████████████████████████████████████████████████████████████████████| 55/55 [02:42<00:00,  2.95s/it]\n"
     ]
    },
    {
     "name": "stdout",
     "output_type": "stream",
     "text": [
      "[13:39:44] Feature concated__review transformed\n",
      "[13:39:56] Last linear layer not founded, so init_bias=False\n"
     ]
    },
    {
     "name": "stderr",
     "output_type": "stream",
     "text": [
      "C:\\Users\\Admin\\.conda\\envs\\oldervenv\\Lib\\site-packages\\torch\\optim\\lr_scheduler.py:28: UserWarning: The verbose parameter is deprecated. Please use get_last_lr() to access the learning rate.\n",
      "  warnings.warn(\"The verbose parameter is deprecated. Please use get_last_lr() \"\n"
     ]
    },
    {
     "data": {
      "text/plain": [
       "array([[0.10684817, 0.8097664 , 0.08338545],\n",
       "       [0.07052832, 0.08103839, 0.84843326],\n",
       "       [0.25625676, 0.65766203, 0.08608122],\n",
       "       ...,\n",
       "       [0.2176136 , 0.6060892 , 0.17629725],\n",
       "       [0.7403015 , 0.15933894, 0.1003596 ],\n",
       "       [0.19385871, 0.71585095, 0.09029038]], dtype=float32)"
      ]
     },
     "execution_count": 18,
     "metadata": {},
     "output_type": "execute_result"
    }
   ],
   "source": [
    "%%time\n",
    "test_pred = automl.predict(test)\n",
    "test_pred"
   ]
  },
  {
   "cell_type": "code",
   "execution_count": 19,
   "id": "6e4fba0e",
   "metadata": {},
   "outputs": [
    {
     "data": {
      "text/plain": [
       "array([1, 2, 1, ..., 1, 0, 1], dtype=int64)"
      ]
     },
     "execution_count": 19,
     "metadata": {},
     "output_type": "execute_result"
    }
   ],
   "source": [
    "predictied_labels = np.argmax(test_pred.data, axis=1)\n",
    "predictied_labels"
   ]
  },
  {
   "cell_type": "code",
   "execution_count": 20,
   "id": "cffe96e2",
   "metadata": {},
   "outputs": [
    {
     "data": {
      "text/plain": [
       "0.7765244775264816"
      ]
     },
     "execution_count": 20,
     "metadata": {},
     "output_type": "execute_result"
    }
   ],
   "source": [
    "accuracy_score(predictied_labels, test['sentiment'])"
   ]
  },
  {
   "cell_type": "code",
   "execution_count": 21,
   "id": "743b0d95",
   "metadata": {},
   "outputs": [
    {
     "data": {
      "text/plain": [
       "0.7785341403489191"
      ]
     },
     "execution_count": 21,
     "metadata": {},
     "output_type": "execute_result"
    }
   ],
   "source": [
    "f1_score(test['sentiment'], predictied_labels, average='macro')"
   ]
  },
  {
   "cell_type": "code",
   "execution_count": 22,
   "id": "939443ea",
   "metadata": {},
   "outputs": [],
   "source": [
    "lime = LimeTextExplainer(automl, feature_selection='lasso', force_order=False)"
   ]
  },
  {
   "cell_type": "code",
   "execution_count": 23,
   "id": "10c96f7a",
   "metadata": {},
   "outputs": [
    {
     "name": "stderr",
     "output_type": "stream",
     "text": [
      "100%|██████████████████████████████████████████████████████████████████████████████████| 16/16 [00:58<00:00,  3.68s/it]\n"
     ]
    },
    {
     "name": "stdout",
     "output_type": "stream",
     "text": [
      "[13:42:32] Feature concated__review transformed\n",
      "[13:42:37] Last linear layer not founded, so init_bias=False\n"
     ]
    },
    {
     "name": "stderr",
     "output_type": "stream",
     "text": [
      "C:\\Users\\Admin\\.conda\\envs\\oldervenv\\Lib\\site-packages\\torch\\optim\\lr_scheduler.py:28: UserWarning: The verbose parameter is deprecated. Please use get_last_lr() to access the learning rate.\n",
      "  warnings.warn(\"The verbose parameter is deprecated. Please use get_last_lr() \"\n"
     ]
    },
    {
     "data": {
      "text/html": [
       "\n",
       "    <div>\n",
       "        <p style=\"text-align: center\">\n",
       "            Text\n",
       "        </p>\n",
       "        <div style=\"border: 1px solid black;\">\n",
       "            <p style=\"font-size:14px;; margin-left: 1%; margin-right: 1%;\"><span style=\"background-color: #FFFEFE;\">куртка</span> <span style=\"background-color: #FFFEFE;\"> </span> <span style=\"background-color: #FF7E7E;\">отличная</span> <span style=\"background-color: #FFFEFE;\">, </span> <span style=\"background-color: #FFFEFE;\">цвет</span> <span style=\"background-color: #FFFEFE;\"> </span> <span style=\"background-color: #FFFEFE;\">глубокий</span> <span style=\"background-color: #FFFEFE;\">, </span> <span style=\"background-color: #FFD0D0;\">насыщенный</span> <span style=\"background-color: #FFFEFE;\">. в 5 </span> <span style=\"background-color: #FFFEFE;\">градусов</span> <span style=\"background-color: #FFFEFE;\"> </span> <span style=\"background-color: #FFFEFE;\">уже</span> <span style=\"background-color: #FFFEFE;\"> </span> <span style=\"background-color: #FFFEFE;\">хочется</span> <span style=\"background-color: #FFFEFE;\"> </span> <span style=\"background-color: #FFFEFE;\">одеть</span> <span style=\"background-color: #FFFEFE;\"> </span> <span style=\"background-color: #FFFEFE;\">кофточку</span> <span style=\"background-color: #FFFEFE;\"> </span> <span style=\"background-color: #FFFEFE;\">под</span> <span style=\"background-color: #FFFEFE;\"> </span> <span style=\"background-color: #FFFEFE;\">низ</span> <span style=\"background-color: #FFFEFE;\">. </span> <span style=\"background-color: #FFFEFE;\">брала</span> <span style=\"background-color: #FFFEFE;\"> </span> <span style=\"background-color: #FFFEFE;\">чтобы</span> <span style=\"background-color: #FFFEFE;\"> </span> <span style=\"background-color: #FFFEFE;\">ездить</span> <span style=\"background-color: #FFFEFE;\"> с </span> <span style=\"background-color: #FFFEFE;\">ней</span> <span style=\"background-color: #FFFEFE;\"> </span> <span style=\"background-color: #FFFEFE;\">по</span> <span style=\"background-color: #FFFEFE;\"> </span> <span style=\"background-color: #FFFEFE;\">лесам</span> <span style=\"background-color: #FFFEFE;\">, </span> <span style=\"background-color: #FFFEFE;\">ну</span> <span style=\"background-color: #FFFEFE;\"> и </span> <span style=\"background-color: #FFFEFE;\">так</span> <span style=\"background-color: #FFFEFE;\">, в </span> <span style=\"background-color: #FFFEFE;\">городе</span> <span style=\"background-color: #FFFEFE;\"> </span> <span style=\"background-color: #FFFEFE;\">за</span> <span style=\"background-color: #FFFEFE;\"> </span> <span style=\"background-color: #FFFEFE;\">хлебом</span> <span style=\"background-color: #FFFEFE;\"> </span> <span style=\"background-color: #FFFEFE;\">сбегать</span> <span style=\"background-color: #FFFEFE;\"> - </span> <span style=\"background-color: #FFFEFE;\">эти</span> <span style=\"background-color: #FFFEFE;\"> </span> <span style=\"background-color: #FFFEFE;\">потребности</span> <span style=\"background-color: #FFFEFE;\"> </span> <span style=\"background-color: #FFFEFE;\">полностью</span> <span style=\"background-color: #FFFEFE;\"> </span> <span style=\"background-color: #FFDADA;\">удовлетворены</span> <span style=\"background-color: #FFFEFE;\">) </span> <span style=\"background-color: #FFFEFE;\">нитки</span> <span style=\"background-color: #FFFEFE;\"> и </span> <span style=\"background-color: #FFFEFE;\">пушинки</span> <span style=\"background-color: #FFFEFE;\"> </span> <span style=\"background-color: #FFFEFE;\">особо</span> <span style=\"background-color: #FFFEFE;\"> не торчат, запаха нет. качество хорошее, но хотелось бы немного потеплее. на постоянной 168, ог 87, об 89 взяла размер м, что хорошо - выглядит аккуратно, можно пододеть что то. думаю размер s был бы тоже норм, но без опции утепления</span> <span style=\"background-color: #FFD6D6;\">неторчат</span> <span style=\"background-color: #FFFEFE;\"></span> <span style=\"background-color: #FFFEFE;\">запаха</span> <span style=\"background-color: #FFFEFE;\"></span> <span style=\"background-color: #FFFEFE;\">нет</span> <span style=\"background-color: #FFFEFE;\"></span> <span style=\"background-color: #FFFEFE;\">качество</span> <span style=\"background-color: #FFFEFE;\"></span> <span style=\"background-color: #FFCECE;\">хорошее</span> <span style=\"background-color: #FFFEFE;\"></span> <span style=\"background-color: #FFFEFE;\">но</span> <span style=\"background-color: #FFFEFE;\"></span> <span style=\"background-color: #FFFEFE;\">хотелось</span> <span style=\"background-color: #FFFEFE;\"></span> <span style=\"background-color: #FFFEFE;\">бы</span> <span style=\"background-color: #FFFEFE;\"></span> <span style=\"background-color: #FFFEFE;\">немного</span> <span style=\"background-color: #FFFEFE;\"></span> <span style=\"background-color: #FFD0D0;\">потеплее</span> <span style=\"background-color: #FFFEFE;\"></span> <span style=\"background-color: #FFFEFE;\">на</span> <span style=\"background-color: #FFFEFE;\"></span> <span style=\"background-color: #FFD3D3;\">постоянной</span> <span style=\"background-color: #FFFEFE;\"></span> <span style=\"background-color: #FFFEFE;\">ог</span> <span style=\"background-color: #FFFEFE;\"></span> <span style=\"background-color: #FFFEFE;\">об</span> <span style=\"background-color: #FFFEFE;\"></span> <span style=\"background-color: #FFFEFE;\">взяла</span> <span style=\"background-color: #FFFEFE;\"></span> <span style=\"background-color: #FFC6C6;\">размер</span> <span style=\"background-color: #FFFEFE;\"></span> <span style=\"background-color: #FFFEFE;\">что</span> <span style=\"background-color: #FFFEFE;\"></span> <span style=\"background-color: #FFDADA;\">хорошо</span> <span style=\"background-color: #FFFEFE;\"></span> <span style=\"background-color: #FFD6D6;\">выглядит</span> <span style=\"background-color: #FFFEFE;\"></span> <span style=\"background-color: #FFFEFE;\">аккуратно</span> <span style=\"background-color: #FFFEFE;\"></span> <span style=\"background-color: #FFFEFE;\">можно</span> <span style=\"background-color: #FFFEFE;\"></span> <span style=\"background-color: #FFFEFE;\">пододеть</span> <span style=\"background-color: #FFFEFE;\"></span> <span style=\"background-color: #FFFEFE;\">что</span> <span style=\"background-color: #FFFEFE;\"></span> <span style=\"background-color: #FFFEFE;\">то</span> <span style=\"background-color: #FFFEFE;\"></span> <span style=\"background-color: #FFFEFE;\">думаю</span> <span style=\"background-color: #FFFEFE;\"></span> <span style=\"background-color: #FFC6C6;\">размер</span> <span style=\"background-color: #FFFEFE;\"></span> <span style=\"background-color: #FFFEFE;\">был</span> <span style=\"background-color: #FFFEFE;\"></span> <span style=\"background-color: #FFFEFE;\">бы</span> <span style=\"background-color: #FFFEFE;\"></span> <span style=\"background-color: #FFFEFE;\">тоже</span> <span style=\"background-color: #FFFEFE;\"></span> <span style=\"background-color: #FFFEFE;\">норм</span> <span style=\"background-color: #FFFEFE;\"></span> <span style=\"background-color: #FFFEFE;\">но</span> <span style=\"background-color: #FFFEFE;\"></span> <span style=\"background-color: #FFFEFE;\">без</span> <span style=\"background-color: #FFFEFE;\"></span> <span style=\"background-color: #FFFEFE;\">опции</span> <span style=\"background-color: #FFFEFE;\"></span> <span style=\"background-color: #FFFEFE;\">утепления</span> <span style=\"background-color: #FFFEFE;\"></span></p>\n",
       "        </div>\n",
       "        \n",
       "        <p style=\"text-align: center\">\n",
       "            Class mapping\n",
       "        </p>\n",
       "        <div style=\"margin-left: 10%; margin-right: 10%; \">\n",
       "            <div id=\"grad\" style=\"background: linear-gradient(90deg, #FF7E7E 0%, #FFFEFE 50%, #8080FF 100%); border: 1px solid black; margin-left: 1.5em; margin-right: 1.5em; float: center; \">\n",
       "                <p style=\"text-align:left; margin-left: 1%; margin-right: 1%; color: white;\">\n",
       "                    Other classes\n",
       "                    <span style=\"float:right;\">\n",
       "                        Class: 1\n",
       "                    </span>\n",
       "                </p>\n",
       "            </div>\n",
       "\n",
       "            <div style=\"margin-left: 1.5em; margin-right: 1.5em; \">\n",
       "                <div style=\"border-left: 1px solid black; height: 18px; float: left; width: 9.97%;\"><span style=\"position: relative; top: 1em; left: -1.085em\">-3.1</span></div> <div style=\"border-left: 1px solid black; height: 18px; float: left; width: 9.97%;\"><span style=\"position: relative; top: 1em; left: -1.085em\">-2.5</span></div> <div style=\"border-left: 1px solid black; height: 18px; float: left; width: 9.97%;\"><span style=\"position: relative; top: 1em; left: -1.085em\">-1.8</span></div> <div style=\"border-left: 1px solid black; height: 18px; float: left; width: 9.97%;\"><span style=\"position: relative; top: 1em; left: -1.085em\">-1.2</span></div> <div style=\"border-left: 1px solid black; height: 18px; float: left; width: 9.97%;\"><span style=\"position: relative; top: 1em; left: -1.085em\">-0.6</span></div> <div style=\"border-left: 1px solid black; height: 18px; float: left; width: 9.97%;\"><span style=\"position: relative; top: 1em; left: -0.7em\">0.0</span></div> <div style=\"border-left: 1px solid black; height: 18px; float: left; width: 9.97%;\"><span style=\"position: relative; top: 1em; left: -0.7em\">0.6</span></div> <div style=\"border-left: 1px solid black; height: 18px; float: left; width: 9.97%;\"><span style=\"position: relative; top: 1em; left: -0.7em\">1.2</span></div> <div style=\"border-left: 1px solid black; height: 18px; float: left; width: 9.97%;\"><span style=\"position: relative; top: 1em; left: -0.7em\">1.8</span></div> <div style=\"border-left: 1px solid black; height: 18px; float: left; width: 9.97%;\"><span style=\"position: relative; top: 1em; left: -0.7em\">2.5</span></div> <div style=\"border-left: 1px solid black; height: 18px; float: left; width: 0%;\"><span style=\"position: relative; top: 1em; left: -0.7em\">3.1</span></div>\n",
       "            </div>\n",
       "\n",
       "            <div style=\"float: right; right: 0.75em; top: -3em; position: relative; font-weight: bold;\"></div>\n",
       "            <div style=\"float: right; right: -2em; top: -2.9em; position: relative; font-weight: bold;\"></div>\n",
       "\n",
       "            <div style=\"float: left; left: -5.5em; top: -4.42em; position: relative;  font-weight: bold;\"></div>\n",
       "            <div style=\"float: left; left: -8.22em; top: -2.9em; position: relative;  font-weight: bold;\"></div>\n",
       "        </div>\n",
       "        \n",
       "    </div>\n",
       "    "
      ]
     },
     "metadata": {},
     "output_type": "display_data"
    }
   ],
   "source": [
    "exp = lime.explain_instance(test.iloc[42], labels=(0, 1, 2), perturb_column='review')\n",
    "exp.visualize_in_notebook(1)"
   ]
  },
  {
   "cell_type": "code",
   "execution_count": 24,
   "id": "e8bedab1",
   "metadata": {},
   "outputs": [
    {
     "data": {
      "text/plain": [
       "2"
      ]
     },
     "execution_count": 24,
     "metadata": {},
     "output_type": "execute_result"
    }
   ],
   "source": [
    "predictied_labels[42]"
   ]
  },
  {
   "cell_type": "code",
   "execution_count": 25,
   "id": "a5d07d19",
   "metadata": {},
   "outputs": [
    {
     "data": {
      "text/plain": [
       "review       куртка отличная, цвет глубокий, насыщенный. в ...\n",
       "sentiment                                                    2\n",
       "Name: 79206, dtype: object"
      ]
     },
     "execution_count": 25,
     "metadata": {},
     "output_type": "execute_result"
    }
   ],
   "source": [
    "test.iloc[42]"
   ]
  },
  {
   "cell_type": "markdown",
   "id": "235e4553",
   "metadata": {},
   "source": [
    "## Сохранение модели"
   ]
  },
  {
   "cell_type": "code",
   "execution_count": 26,
   "id": "c83d0b22",
   "metadata": {},
   "outputs": [],
   "source": [
    "import pickle\n",
    "\n",
    "with open('models/small_text_lama_classifier.pkl', 'wb') as f:\n",
    "    pickle.dump(automl, f)"
   ]
  },
  {
   "cell_type": "markdown",
   "id": "365028ee",
   "metadata": {},
   "source": [
    "## Загрузка и повторное тестирование модели"
   ]
  },
  {
   "cell_type": "code",
   "execution_count": 27,
   "id": "7d7dddd5",
   "metadata": {},
   "outputs": [],
   "source": [
    "with open('models/small_text_lama_classifier.pkl', 'rb') as f:\n",
    "    loaded_automl = pickle.load(f)"
   ]
  },
  {
   "cell_type": "code",
   "execution_count": 28,
   "id": "90ae2308",
   "metadata": {},
   "outputs": [
    {
     "name": "stderr",
     "output_type": "stream",
     "text": [
      "100%|██████████████████████████████████████████████████████████████████████████████████| 55/55 [02:42<00:00,  2.96s/it]\n"
     ]
    },
    {
     "name": "stdout",
     "output_type": "stream",
     "text": [
      "[14:00:52] Feature concated__review transformed\n",
      "[14:01:06] Last linear layer not founded, so init_bias=False\n"
     ]
    },
    {
     "name": "stderr",
     "output_type": "stream",
     "text": [
      "C:\\Users\\Admin\\.conda\\envs\\oldervenv\\Lib\\site-packages\\torch\\optim\\lr_scheduler.py:28: UserWarning: The verbose parameter is deprecated. Please use get_last_lr() to access the learning rate.\n",
      "  warnings.warn(\"The verbose parameter is deprecated. Please use get_last_lr() \"\n"
     ]
    },
    {
     "name": "stdout",
     "output_type": "stream",
     "text": [
      "CPU times: total: 4min 32s\n",
      "Wall time: 4min 35s\n"
     ]
    },
    {
     "data": {
      "text/plain": [
       "array([[0.10684817, 0.8097664 , 0.08338545],\n",
       "       [0.07052832, 0.08103839, 0.84843326],\n",
       "       [0.25625676, 0.65766203, 0.08608122],\n",
       "       ...,\n",
       "       [0.2176136 , 0.6060892 , 0.17629725],\n",
       "       [0.7403015 , 0.15933894, 0.1003596 ],\n",
       "       [0.19385871, 0.71585095, 0.09029038]], dtype=float32)"
      ]
     },
     "execution_count": 28,
     "metadata": {},
     "output_type": "execute_result"
    }
   ],
   "source": [
    "%%time\n",
    "test_pred = automl.predict(test)\n",
    "test_pred"
   ]
  },
  {
   "cell_type": "code",
   "execution_count": 29,
   "id": "ad4306f9",
   "metadata": {},
   "outputs": [
    {
     "data": {
      "text/plain": [
       "array([1, 2, 1, ..., 1, 0, 1], dtype=int64)"
      ]
     },
     "execution_count": 29,
     "metadata": {},
     "output_type": "execute_result"
    }
   ],
   "source": [
    "predictied_labels = np.argmax(test_pred.data, axis=1)\n",
    "predictied_labels"
   ]
  },
  {
   "cell_type": "code",
   "execution_count": 30,
   "id": "a9643d3c",
   "metadata": {},
   "outputs": [
    {
     "data": {
      "text/plain": [
       "0.7765244775264816"
      ]
     },
     "execution_count": 30,
     "metadata": {},
     "output_type": "execute_result"
    }
   ],
   "source": [
    "accuracy_score(predictied_labels, test['sentiment'])"
   ]
  },
  {
   "cell_type": "code",
   "execution_count": 31,
   "id": "f01eb28b",
   "metadata": {},
   "outputs": [
    {
     "data": {
      "text/plain": [
       "0.7785341403489191"
      ]
     },
     "execution_count": 31,
     "metadata": {},
     "output_type": "execute_result"
    }
   ],
   "source": [
    "f1_score(test['sentiment'], predictied_labels, average='macro')"
   ]
  }
 ],
 "metadata": {
  "kernelspec": {
   "display_name": "py311",
   "language": "python",
   "name": "py311"
  },
  "language_info": {
   "codemirror_mode": {
    "name": "ipython",
    "version": 3
   },
   "file_extension": ".py",
   "mimetype": "text/x-python",
   "name": "python",
   "nbconvert_exporter": "python",
   "pygments_lexer": "ipython3",
   "version": "3.11.9"
  }
 },
 "nbformat": 4,
 "nbformat_minor": 5
}
