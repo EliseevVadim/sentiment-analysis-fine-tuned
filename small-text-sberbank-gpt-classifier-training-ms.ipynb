{
 "cells": [
  {
   "cell_type": "code",
   "execution_count": 1,
   "metadata": {
    "_cell_guid": "b1076dfc-b9ad-4769-8c92-a6c4dae69d19",
    "_uuid": "8f2839f25d086af736a60e9eeb907d3b93b6e0e5",
    "execution": {
     "iopub.execute_input": "2023-11-02T08:54:43.944795Z",
     "iopub.status.busy": "2023-11-02T08:54:43.944448Z",
     "iopub.status.idle": "2023-11-02T08:54:44.286383Z",
     "shell.execute_reply": "2023-11-02T08:54:44.285504Z",
     "shell.execute_reply.started": "2023-11-02T08:54:43.944766Z"
    }
   },
   "outputs": [],
   "source": [
    "import numpy as np\n",
    "import pandas as pd\n",
    "import matplotlib.pyplot as plt\n",
    "import gc"
   ]
  },
  {
   "cell_type": "code",
   "execution_count": 2,
   "metadata": {
    "execution": {
     "iopub.execute_input": "2023-11-02T08:54:44.288284Z",
     "iopub.status.busy": "2023-11-02T08:54:44.287949Z",
     "iopub.status.idle": "2023-11-02T08:54:47.476133Z",
     "shell.execute_reply": "2023-11-02T08:54:47.475150Z",
     "shell.execute_reply.started": "2023-11-02T08:54:44.288250Z"
    }
   },
   "outputs": [],
   "source": [
    "import torch\n",
    "import torch.nn as nn\n",
    "\n",
    "from torch.optim import AdamW\n",
    "from torch.optim.lr_scheduler import StepLR\n",
    "from torch.utils.data import Dataset, DataLoader\n",
    "from torch.nn.utils import clip_grad_norm_"
   ]
  },
  {
   "cell_type": "code",
   "execution_count": 3,
   "metadata": {
    "execution": {
     "iopub.execute_input": "2023-11-02T08:54:47.478557Z",
     "iopub.status.busy": "2023-11-02T08:54:47.477577Z",
     "iopub.status.idle": "2023-11-02T08:54:56.753915Z",
     "shell.execute_reply": "2023-11-02T08:54:56.753109Z",
     "shell.execute_reply.started": "2023-11-02T08:54:47.478515Z"
    }
   },
   "outputs": [],
   "source": [
    "import transformers\n",
    "from transformers import GPT2LMHeadModel, GPT2Tokenizer"
   ]
  },
  {
   "cell_type": "code",
   "execution_count": 4,
   "metadata": {
    "execution": {
     "iopub.execute_input": "2023-11-02T08:54:56.756455Z",
     "iopub.status.busy": "2023-11-02T08:54:56.756180Z",
     "iopub.status.idle": "2023-11-02T08:54:57.110892Z",
     "shell.execute_reply": "2023-11-02T08:54:57.110025Z",
     "shell.execute_reply.started": "2023-11-02T08:54:56.756432Z"
    }
   },
   "outputs": [],
   "source": [
    "from sklearn.model_selection import train_test_split\n",
    "from sklearn.metrics import accuracy_score\n",
    "from sklearn.metrics import f1_score"
   ]
  },
  {
   "cell_type": "code",
   "execution_count": 5,
   "metadata": {
    "execution": {
     "iopub.execute_input": "2023-11-02T08:54:57.112455Z",
     "iopub.status.busy": "2023-11-02T08:54:57.112166Z",
     "iopub.status.idle": "2023-11-02T08:54:57.117636Z",
     "shell.execute_reply": "2023-11-02T08:54:57.116657Z",
     "shell.execute_reply.started": "2023-11-02T08:54:57.112430Z"
    }
   },
   "outputs": [],
   "source": [
    "def free_memory():\n",
    "    gc.collect()\n",
    "    torch.cuda.empty_cache()"
   ]
  },
  {
   "cell_type": "code",
   "execution_count": 6,
   "metadata": {
    "execution": {
     "iopub.execute_input": "2023-11-02T08:54:57.119337Z",
     "iopub.status.busy": "2023-11-02T08:54:57.118956Z",
     "iopub.status.idle": "2023-11-02T08:54:57.823743Z",
     "shell.execute_reply": "2023-11-02T08:54:57.822686Z",
     "shell.execute_reply.started": "2023-11-02T08:54:57.119304Z"
    }
   },
   "outputs": [
    {
     "data": {
      "text/html": [
       "<div>\n",
       "<style scoped>\n",
       "    .dataframe tbody tr th:only-of-type {\n",
       "        vertical-align: middle;\n",
       "    }\n",
       "\n",
       "    .dataframe tbody tr th {\n",
       "        vertical-align: top;\n",
       "    }\n",
       "\n",
       "    .dataframe thead th {\n",
       "        text-align: right;\n",
       "    }\n",
       "</style>\n",
       "<table border=\"1\" class=\"dataframe\">\n",
       "  <thead>\n",
       "    <tr style=\"text-align: right;\">\n",
       "      <th></th>\n",
       "      <th>review</th>\n",
       "      <th>sentiment</th>\n",
       "    </tr>\n",
       "  </thead>\n",
       "  <tbody>\n",
       "    <tr>\n",
       "      <th>0</th>\n",
       "      <td>качество плохое пошив ужасный (горловина напер...</td>\n",
       "      <td>negative</td>\n",
       "    </tr>\n",
       "    <tr>\n",
       "      <th>1</th>\n",
       "      <td>Товар отдали другому человеку, я не получила п...</td>\n",
       "      <td>negative</td>\n",
       "    </tr>\n",
       "    <tr>\n",
       "      <th>2</th>\n",
       "      <td>Ужасная синтетика! Тонкая, ничего общего с пре...</td>\n",
       "      <td>negative</td>\n",
       "    </tr>\n",
       "    <tr>\n",
       "      <th>3</th>\n",
       "      <td>товар не пришел, продавец продлил защиту без м...</td>\n",
       "      <td>negative</td>\n",
       "    </tr>\n",
       "    <tr>\n",
       "      <th>4</th>\n",
       "      <td>Кофточка голая синтетика, носить не возможно.</td>\n",
       "      <td>negative</td>\n",
       "    </tr>\n",
       "    <tr>\n",
       "      <th>5</th>\n",
       "      <td>Очень глубокие проймы</td>\n",
       "      <td>negative</td>\n",
       "    </tr>\n",
       "    <tr>\n",
       "      <th>6</th>\n",
       "      <td>Я недовольна заказом.Я вот одного не понимаю п...</td>\n",
       "      <td>negative</td>\n",
       "    </tr>\n",
       "    <tr>\n",
       "      <th>7</th>\n",
       "      <td>заказала размер s на от 64,об 94,начнем с того...</td>\n",
       "      <td>negative</td>\n",
       "    </tr>\n",
       "    <tr>\n",
       "      <th>8</th>\n",
       "      <td>Заказ я сделала в июле. С тех пор посылка отсл...</td>\n",
       "      <td>negative</td>\n",
       "    </tr>\n",
       "    <tr>\n",
       "      <th>9</th>\n",
       "      <td>Ужасное качество товара!</td>\n",
       "      <td>negative</td>\n",
       "    </tr>\n",
       "  </tbody>\n",
       "</table>\n",
       "</div>"
      ],
      "text/plain": [
       "                                              review sentiment\n",
       "0  качество плохое пошив ужасный (горловина напер...  negative\n",
       "1  Товар отдали другому человеку, я не получила п...  negative\n",
       "2  Ужасная синтетика! Тонкая, ничего общего с пре...  negative\n",
       "3  товар не пришел, продавец продлил защиту без м...  negative\n",
       "4      Кофточка голая синтетика, носить не возможно.  negative\n",
       "5                              Очень глубокие проймы  negative\n",
       "6  Я недовольна заказом.Я вот одного не понимаю п...  negative\n",
       "7  заказала размер s на от 64,об 94,начнем с того...  negative\n",
       "8  Заказ я сделала в июле. С тех пор посылка отсл...  negative\n",
       "9                           Ужасное качество товара!  negative"
      ]
     },
     "execution_count": 6,
     "metadata": {},
     "output_type": "execute_result"
    }
   ],
   "source": [
    "reviews = pd.read_csv('data/reviews.csv.zip', sep='\\t')\n",
    "reviews.drop_duplicates(subset=['review'], inplace=True)\n",
    "reviews.head(10)"
   ]
  },
  {
   "cell_type": "code",
   "execution_count": 7,
   "metadata": {
    "execution": {
     "iopub.execute_input": "2023-11-02T08:54:57.825280Z",
     "iopub.status.busy": "2023-11-02T08:54:57.824968Z",
     "iopub.status.idle": "2023-11-02T08:54:58.073873Z",
     "shell.execute_reply": "2023-11-02T08:54:58.072769Z",
     "shell.execute_reply.started": "2023-11-02T08:54:57.825252Z"
    }
   },
   "outputs": [
    {
     "data": {
      "image/png": "[encoded data removed]",
      "text/plain": [
       "<Figure size 640x480 with 1 Axes>"
      ]
     },
     "metadata": {},
     "output_type": "display_data"
    }
   ],
   "source": [
    "reviews.sentiment.hist()\n",
    "plt.show()"
   ]
  },
  {
   "cell_type": "code",
   "execution_count": 8,
   "metadata": {
    "execution": {
     "iopub.execute_input": "2023-11-02T08:54:58.075921Z",
     "iopub.status.busy": "2023-11-02T08:54:58.075543Z",
     "iopub.status.idle": "2023-11-02T08:54:58.080739Z",
     "shell.execute_reply": "2023-11-02T08:54:58.079764Z",
     "shell.execute_reply.started": "2023-11-02T08:54:58.075886Z"
    }
   },
   "outputs": [],
   "source": [
    "sentiment_map = {\n",
    "    'negative': 0,\n",
    "    'neautral': 1,\n",
    "    'positive': 2\n",
    "}"
   ]
  },
  {
   "cell_type": "code",
   "execution_count": 9,
   "metadata": {
    "execution": {
     "iopub.execute_input": "2023-11-02T08:54:58.086071Z",
     "iopub.status.busy": "2023-11-02T08:54:58.085457Z",
     "iopub.status.idle": "2023-11-02T08:54:58.156911Z",
     "shell.execute_reply": "2023-11-02T08:54:58.156004Z",
     "shell.execute_reply.started": "2023-11-02T08:54:58.086037Z"
    }
   },
   "outputs": [
    {
     "data": {
      "text/html": [
       "<div>\n",
       "<style scoped>\n",
       "    .dataframe tbody tr th:only-of-type {\n",
       "        vertical-align: middle;\n",
       "    }\n",
       "\n",
       "    .dataframe tbody tr th {\n",
       "        vertical-align: top;\n",
       "    }\n",
       "\n",
       "    .dataframe thead th {\n",
       "        text-align: right;\n",
       "    }\n",
       "</style>\n",
       "<table border=\"1\" class=\"dataframe\">\n",
       "  <thead>\n",
       "    <tr style=\"text-align: right;\">\n",
       "      <th></th>\n",
       "      <th>review</th>\n",
       "      <th>sentiment</th>\n",
       "    </tr>\n",
       "  </thead>\n",
       "  <tbody>\n",
       "    <tr>\n",
       "      <th>0</th>\n",
       "      <td>качество плохое пошив ужасный (горловина напер...</td>\n",
       "      <td>0</td>\n",
       "    </tr>\n",
       "    <tr>\n",
       "      <th>1</th>\n",
       "      <td>Товар отдали другому человеку, я не получила п...</td>\n",
       "      <td>0</td>\n",
       "    </tr>\n",
       "    <tr>\n",
       "      <th>2</th>\n",
       "      <td>Ужасная синтетика! Тонкая, ничего общего с пре...</td>\n",
       "      <td>0</td>\n",
       "    </tr>\n",
       "    <tr>\n",
       "      <th>3</th>\n",
       "      <td>товар не пришел, продавец продлил защиту без м...</td>\n",
       "      <td>0</td>\n",
       "    </tr>\n",
       "    <tr>\n",
       "      <th>4</th>\n",
       "      <td>Кофточка голая синтетика, носить не возможно.</td>\n",
       "      <td>0</td>\n",
       "    </tr>\n",
       "    <tr>\n",
       "      <th>5</th>\n",
       "      <td>Очень глубокие проймы</td>\n",
       "      <td>0</td>\n",
       "    </tr>\n",
       "    <tr>\n",
       "      <th>6</th>\n",
       "      <td>Я недовольна заказом.Я вот одного не понимаю п...</td>\n",
       "      <td>0</td>\n",
       "    </tr>\n",
       "    <tr>\n",
       "      <th>7</th>\n",
       "      <td>заказала размер s на от 64,об 94,начнем с того...</td>\n",
       "      <td>0</td>\n",
       "    </tr>\n",
       "    <tr>\n",
       "      <th>8</th>\n",
       "      <td>Заказ я сделала в июле. С тех пор посылка отсл...</td>\n",
       "      <td>0</td>\n",
       "    </tr>\n",
       "    <tr>\n",
       "      <th>9</th>\n",
       "      <td>Ужасное качество товара!</td>\n",
       "      <td>0</td>\n",
       "    </tr>\n",
       "  </tbody>\n",
       "</table>\n",
       "</div>"
      ],
      "text/plain": [
       "                                              review  sentiment\n",
       "0  качество плохое пошив ужасный (горловина напер...          0\n",
       "1  Товар отдали другому человеку, я не получила п...          0\n",
       "2  Ужасная синтетика! Тонкая, ничего общего с пре...          0\n",
       "3  товар не пришел, продавец продлил защиту без м...          0\n",
       "4      Кофточка голая синтетика, носить не возможно.          0\n",
       "5                              Очень глубокие проймы          0\n",
       "6  Я недовольна заказом.Я вот одного не понимаю п...          0\n",
       "7  заказала размер s на от 64,об 94,начнем с того...          0\n",
       "8  Заказ я сделала в июле. С тех пор посылка отсл...          0\n",
       "9                           Ужасное качество товара!          0"
      ]
     },
     "execution_count": 9,
     "metadata": {},
     "output_type": "execute_result"
    }
   ],
   "source": [
    "reviews.sentiment = reviews.sentiment.apply(lambda x: sentiment_map[x])\n",
    "reviews.head(10)"
   ]
  },
  {
   "cell_type": "code",
   "execution_count": 10,
   "metadata": {
    "execution": {
     "iopub.execute_input": "2023-11-02T08:54:58.158680Z",
     "iopub.status.busy": "2023-11-02T08:54:58.158192Z",
     "iopub.status.idle": "2023-11-02T08:54:58.170682Z",
     "shell.execute_reply": "2023-11-02T08:54:58.169762Z",
     "shell.execute_reply.started": "2023-11-02T08:54:58.158641Z"
    }
   },
   "outputs": [
    {
     "data": {
      "text/plain": [
       "(13098, 2)"
      ]
     },
     "execution_count": 10,
     "metadata": {},
     "output_type": "execute_result"
    }
   ],
   "source": [
    "reviews_sample = reviews.sample(frac=0.15, replace=True, random_state=42)\n",
    "reviews_sample.shape"
   ]
  },
  {
   "cell_type": "code",
   "execution_count": 11,
   "metadata": {
    "execution": {
     "iopub.execute_input": "2023-11-02T08:54:58.172037Z",
     "iopub.status.busy": "2023-11-02T08:54:58.171753Z",
     "iopub.status.idle": "2023-11-02T08:54:58.425538Z",
     "shell.execute_reply": "2023-11-02T08:54:58.424480Z",
     "shell.execute_reply.started": "2023-11-02T08:54:58.172015Z"
    }
   },
   "outputs": [
    {
     "data": {
      "image/png": "[encoded data removed]",
      "text/plain": [
       "<Figure size 640x480 with 1 Axes>"
      ]
     },
     "metadata": {},
     "output_type": "display_data"
    }
   ],
   "source": [
    "reviews_sample.sentiment.hist()\n",
    "plt.show()"
   ]
  },
  {
   "cell_type": "code",
   "execution_count": 12,
   "metadata": {
    "execution": {
     "iopub.execute_input": "2023-11-02T08:54:58.427171Z",
     "iopub.status.busy": "2023-11-02T08:54:58.426825Z",
     "iopub.status.idle": "2023-11-02T08:54:58.457295Z",
     "shell.execute_reply": "2023-11-02T08:54:58.456336Z",
     "shell.execute_reply.started": "2023-11-02T08:54:58.427136Z"
    }
   },
   "outputs": [
    {
     "data": {
      "text/plain": [
       "'cuda'"
      ]
     },
     "execution_count": 12,
     "metadata": {},
     "output_type": "execute_result"
    }
   ],
   "source": [
    "device = ('cuda' if torch.cuda.is_available() else 'cpu')\n",
    "device"
   ]
  },
  {
   "cell_type": "code",
   "execution_count": 13,
   "metadata": {
    "execution": {
     "iopub.execute_input": "2023-11-02T08:54:58.458891Z",
     "iopub.status.busy": "2023-11-02T08:54:58.458562Z",
     "iopub.status.idle": "2023-11-02T08:54:58.465802Z",
     "shell.execute_reply": "2023-11-02T08:54:58.464886Z",
     "shell.execute_reply.started": "2023-11-02T08:54:58.458860Z"
    }
   },
   "outputs": [],
   "source": [
    "pretrained_model_name_or_path = 'sberbank-ai/rugpt3medium_based_on_gpt2'"
   ]
  },
  {
   "cell_type": "code",
   "execution_count": 14,
   "metadata": {
    "execution": {
     "iopub.execute_input": "2023-11-02T08:54:58.467283Z",
     "iopub.status.busy": "2023-11-02T08:54:58.466957Z",
     "iopub.status.idle": "2023-11-02T08:57:25.026919Z",
     "shell.execute_reply": "2023-11-02T08:57:25.025884Z",
     "shell.execute_reply.started": "2023-11-02T08:54:58.467251Z"
    }
   },
   "outputs": [
    {
     "data": {
      "application/vnd.jupyter.widget-view+json": {
       "model_id": "93dc1de788d54c68bbc8c1d399843663",
       "version_major": 2,
       "version_minor": 0
      },
      "text/plain": [
       "Downloading (…)lve/main/config.json:   0%|          | 0.00/674 [00:00<?, ?B/s]"
      ]
     },
     "metadata": {},
     "output_type": "display_data"
    },
    {
     "data": {
      "application/vnd.jupyter.widget-view+json": {
       "model_id": "5b1d72dec05d4b909f76da23e0df260d",
       "version_major": 2,
       "version_minor": 0
      },
      "text/plain": [
       "Downloading pytorch_model.bin:   0%|          | 0.00/1.73G [00:00<?, ?B/s]"
      ]
     },
     "metadata": {},
     "output_type": "display_data"
    },
    {
     "data": {
      "application/vnd.jupyter.widget-view+json": {
       "model_id": "c5b66fa85cd04377976d3645caeb4bbc",
       "version_major": 2,
       "version_minor": 0
      },
      "text/plain": [
       "Downloading (…)olve/main/vocab.json:   0%|          | 0.00/1.61M [00:00<?, ?B/s]"
      ]
     },
     "metadata": {},
     "output_type": "display_data"
    },
    {
     "data": {
      "application/vnd.jupyter.widget-view+json": {
       "model_id": "8a7fa81bd76044398c4639c8d9b954bc",
       "version_major": 2,
       "version_minor": 0
      },
      "text/plain": [
       "Downloading (…)olve/main/merges.txt:   0%|          | 0.00/1.27M [00:00<?, ?B/s]"
      ]
     },
     "metadata": {},
     "output_type": "display_data"
    }
   ],
   "source": [
    "gpt = GPT2LMHeadModel.from_pretrained(pretrained_model_name_or_path)\n",
    "tokenizer = GPT2Tokenizer.from_pretrained(pretrained_model_name_or_path)"
   ]
  },
  {
   "cell_type": "code",
   "execution_count": 15,
   "metadata": {
    "execution": {
     "iopub.execute_input": "2023-11-02T08:57:25.028424Z",
     "iopub.status.busy": "2023-11-02T08:57:25.028129Z",
     "iopub.status.idle": "2023-11-02T08:57:25.036498Z",
     "shell.execute_reply": "2023-11-02T08:57:25.035551Z",
     "shell.execute_reply.started": "2023-11-02T08:57:25.028400Z"
    }
   },
   "outputs": [
    {
     "data": {
      "text/plain": [
       "GPT2LMHeadModel(\n",
       "  (transformer): GPT2Model(\n",
       "    (wte): Embedding(50257, 1024)\n",
       "    (wpe): Embedding(2048, 1024)\n",
       "    (drop): Dropout(p=0.1, inplace=False)\n",
       "    (h): ModuleList(\n",
       "      (0-23): 24 x GPT2Block(\n",
       "        (ln_1): LayerNorm((1024,), eps=1e-05, elementwise_affine=True)\n",
       "        (attn): GPT2Attention(\n",
       "          (c_attn): Conv1D()\n",
       "          (c_proj): Conv1D()\n",
       "          (attn_dropout): Dropout(p=0.1, inplace=False)\n",
       "          (resid_dropout): Dropout(p=0.1, inplace=False)\n",
       "        )\n",
       "        (ln_2): LayerNorm((1024,), eps=1e-05, elementwise_affine=True)\n",
       "        (mlp): GPT2MLP(\n",
       "          (c_fc): Conv1D()\n",
       "          (c_proj): Conv1D()\n",
       "          (act): NewGELUActivation()\n",
       "          (dropout): Dropout(p=0.1, inplace=False)\n",
       "        )\n",
       "      )\n",
       "    )\n",
       "    (ln_f): LayerNorm((1024,), eps=1e-05, elementwise_affine=True)\n",
       "  )\n",
       "  (lm_head): Linear(in_features=1024, out_features=50257, bias=False)\n",
       ")"
      ]
     },
     "execution_count": 15,
     "metadata": {},
     "output_type": "execute_result"
    }
   ],
   "source": [
    "gpt"
   ]
  },
  {
   "cell_type": "code",
   "execution_count": 16,
   "metadata": {
    "execution": {
     "iopub.execute_input": "2023-11-02T08:57:25.038017Z",
     "iopub.status.busy": "2023-11-02T08:57:25.037693Z",
     "iopub.status.idle": "2023-11-02T08:57:25.048408Z",
     "shell.execute_reply": "2023-11-02T08:57:25.047521Z",
     "shell.execute_reply.started": "2023-11-02T08:57:25.037985Z"
    }
   },
   "outputs": [],
   "source": [
    "for param in gpt.parameters():\n",
    "    param.requires_grad = False"
   ]
  },
  {
   "cell_type": "code",
   "execution_count": 17,
   "metadata": {
    "execution": {
     "iopub.execute_input": "2023-11-02T08:57:25.049790Z",
     "iopub.status.busy": "2023-11-02T08:57:25.049516Z",
     "iopub.status.idle": "2023-11-02T08:57:25.061919Z",
     "shell.execute_reply": "2023-11-02T08:57:25.061006Z",
     "shell.execute_reply.started": "2023-11-02T08:57:25.049762Z"
    }
   },
   "outputs": [
    {
     "data": {
      "text/plain": [
       "3"
      ]
     },
     "execution_count": 17,
     "metadata": {},
     "output_type": "execute_result"
    }
   ],
   "source": [
    "num_labels = reviews.sentiment.nunique()\n",
    "num_labels"
   ]
  },
  {
   "cell_type": "code",
   "execution_count": 18,
   "metadata": {
    "execution": {
     "iopub.execute_input": "2023-11-02T08:57:25.063310Z",
     "iopub.status.busy": "2023-11-02T08:57:25.063046Z",
     "iopub.status.idle": "2023-11-02T08:57:29.958751Z",
     "shell.execute_reply": "2023-11-02T08:57:29.957747Z",
     "shell.execute_reply.started": "2023-11-02T08:57:25.063287Z"
    }
   },
   "outputs": [
    {
     "data": {
      "text/plain": [
       "GPT2LMHeadModel(\n",
       "  (transformer): GPT2Model(\n",
       "    (wte): Embedding(50257, 1024)\n",
       "    (wpe): Embedding(2048, 1024)\n",
       "    (drop): Dropout(p=0.1, inplace=False)\n",
       "    (h): ModuleList(\n",
       "      (0-23): 24 x GPT2Block(\n",
       "        (ln_1): LayerNorm((1024,), eps=1e-05, elementwise_affine=True)\n",
       "        (attn): GPT2Attention(\n",
       "          (c_attn): Conv1D()\n",
       "          (c_proj): Conv1D()\n",
       "          (attn_dropout): Dropout(p=0.1, inplace=False)\n",
       "          (resid_dropout): Dropout(p=0.1, inplace=False)\n",
       "        )\n",
       "        (ln_2): LayerNorm((1024,), eps=1e-05, elementwise_affine=True)\n",
       "        (mlp): GPT2MLP(\n",
       "          (c_fc): Conv1D()\n",
       "          (c_proj): Conv1D()\n",
       "          (act): NewGELUActivation()\n",
       "          (dropout): Dropout(p=0.1, inplace=False)\n",
       "        )\n",
       "      )\n",
       "    )\n",
       "    (ln_f): LayerNorm((1024,), eps=1e-05, elementwise_affine=True)\n",
       "  )\n",
       "  (lm_head): Linear(in_features=1024, out_features=3, bias=True)\n",
       ")"
      ]
     },
     "execution_count": 18,
     "metadata": {},
     "output_type": "execute_result"
    }
   ],
   "source": [
    "gpt.lm_head = nn.Linear(gpt.config.hidden_size, num_labels)\n",
    "gpt = gpt.to(device)\n",
    "gpt"
   ]
  },
  {
   "cell_type": "code",
   "execution_count": 19,
   "metadata": {
    "execution": {
     "iopub.execute_input": "2023-11-02T08:57:29.960773Z",
     "iopub.status.busy": "2023-11-02T08:57:29.960174Z",
     "iopub.status.idle": "2023-11-02T08:57:29.965285Z",
     "shell.execute_reply": "2023-11-02T08:57:29.964301Z",
     "shell.execute_reply.started": "2023-11-02T08:57:29.960732Z"
    }
   },
   "outputs": [],
   "source": [
    "X = reviews_sample.review\n",
    "y = reviews_sample.sentiment"
   ]
  },
  {
   "cell_type": "code",
   "execution_count": 20,
   "metadata": {
    "execution": {
     "iopub.execute_input": "2023-11-02T08:57:29.967341Z",
     "iopub.status.busy": "2023-11-02T08:57:29.966637Z",
     "iopub.status.idle": "2023-11-02T08:57:29.978591Z",
     "shell.execute_reply": "2023-11-02T08:57:29.977743Z",
     "shell.execute_reply.started": "2023-11-02T08:57:29.967315Z"
    }
   },
   "outputs": [],
   "source": [
    "X_train, X_test, y_train, y_test = train_test_split(X, y, test_size=0.2, random_state=42)"
   ]
  },
  {
   "cell_type": "code",
   "execution_count": 21,
   "metadata": {
    "execution": {
     "iopub.execute_input": "2023-11-02T08:57:29.980640Z",
     "iopub.status.busy": "2023-11-02T08:57:29.980043Z",
     "iopub.status.idle": "2023-11-02T08:57:29.986251Z",
     "shell.execute_reply": "2023-11-02T08:57:29.985350Z",
     "shell.execute_reply.started": "2023-11-02T08:57:29.980575Z"
    }
   },
   "outputs": [
    {
     "name": "stdout",
     "output_type": "stream",
     "text": [
      "<pad>\n"
     ]
    }
   ],
   "source": [
    "tokenizer.pad_token_id = 0\n",
    "print(tokenizer.pad_token)"
   ]
  },
  {
   "cell_type": "code",
   "execution_count": 22,
   "metadata": {
    "execution": {
     "iopub.execute_input": "2023-11-02T08:57:29.987566Z",
     "iopub.status.busy": "2023-11-02T08:57:29.987311Z",
     "iopub.status.idle": "2023-11-02T08:57:29.995888Z",
     "shell.execute_reply": "2023-11-02T08:57:29.995001Z",
     "shell.execute_reply.started": "2023-11-02T08:57:29.987544Z"
    }
   },
   "outputs": [],
   "source": [
    "class SentimentAnalysisDataset(Dataset):\n",
    "    def __init__(self, X, y, tokenizer=None, num_labels=3):\n",
    "        self.X = tokenizer(X.tolist(), \n",
    "                           truncation=True, \n",
    "                           padding=True,\n",
    "                           return_tensors=\"pt\",\n",
    "                           max_length=2048).to(device)\n",
    "        self.y = torch.tensor(y.to_numpy(), dtype=torch.int64).to(device)\n",
    "    \n",
    "    def __len__(self):\n",
    "        return len(self.y)\n",
    "    \n",
    "    def __getitem__(self, idx):\n",
    "        return self.X.input_ids[idx], self.X.attention_mask[idx], self.y[idx]"
   ]
  },
  {
   "cell_type": "code",
   "execution_count": 23,
   "metadata": {
    "execution": {
     "iopub.execute_input": "2023-11-02T08:57:29.997763Z",
     "iopub.status.busy": "2023-11-02T08:57:29.996973Z",
     "iopub.status.idle": "2023-11-02T08:57:41.748390Z",
     "shell.execute_reply": "2023-11-02T08:57:41.747312Z",
     "shell.execute_reply.started": "2023-11-02T08:57:29.997736Z"
    }
   },
   "outputs": [],
   "source": [
    "train_dataset = SentimentAnalysisDataset(X_train, y_train, tokenizer)\n",
    "test_dataset = SentimentAnalysisDataset(X_test, y_test, tokenizer)\n",
    "\n",
    "free_memory()"
   ]
  },
  {
   "cell_type": "code",
   "execution_count": 24,
   "metadata": {
    "execution": {
     "iopub.execute_input": "2023-11-02T08:57:41.753282Z",
     "iopub.status.busy": "2023-11-02T08:57:41.752982Z",
     "iopub.status.idle": "2023-11-02T08:57:41.757571Z",
     "shell.execute_reply": "2023-11-02T08:57:41.756473Z",
     "shell.execute_reply.started": "2023-11-02T08:57:41.753251Z"
    }
   },
   "outputs": [],
   "source": [
    "batch_size = 32\n",
    "num_epochs = 15"
   ]
  },
  {
   "cell_type": "code",
   "execution_count": 25,
   "metadata": {
    "execution": {
     "iopub.execute_input": "2023-11-02T08:57:41.759279Z",
     "iopub.status.busy": "2023-11-02T08:57:41.758907Z",
     "iopub.status.idle": "2023-11-02T08:57:41.767980Z",
     "shell.execute_reply": "2023-11-02T08:57:41.767000Z",
     "shell.execute_reply.started": "2023-11-02T08:57:41.759233Z"
    }
   },
   "outputs": [],
   "source": [
    "train_loader = DataLoader(train_dataset, batch_size=batch_size, shuffle=True)"
   ]
  },
  {
   "cell_type": "code",
   "execution_count": 26,
   "metadata": {
    "execution": {
     "iopub.execute_input": "2023-11-02T08:57:41.769453Z",
     "iopub.status.busy": "2023-11-02T08:57:41.769099Z",
     "iopub.status.idle": "2023-11-02T08:57:41.778383Z",
     "shell.execute_reply": "2023-11-02T08:57:41.777422Z",
     "shell.execute_reply.started": "2023-11-02T08:57:41.769429Z"
    }
   },
   "outputs": [],
   "source": [
    "optimizer = AdamW(gpt.lm_head.parameters(), lr=0.01, weight_decay=1e-4)\n",
    "criterion = nn.CrossEntropyLoss()"
   ]
  },
  {
   "cell_type": "code",
   "execution_count": 27,
   "metadata": {
    "execution": {
     "iopub.execute_input": "2023-11-02T08:57:41.779740Z",
     "iopub.status.busy": "2023-11-02T08:57:41.779459Z",
     "iopub.status.idle": "2023-11-02T08:57:41.789822Z",
     "shell.execute_reply": "2023-11-02T08:57:41.788827Z",
     "shell.execute_reply.started": "2023-11-02T08:57:41.779717Z"
    }
   },
   "outputs": [],
   "source": [
    "def evaluate_model(model, data_loader):\n",
    "    ground_truth = []\n",
    "    predictions = []\n",
    "\n",
    "    model.eval()\n",
    "    for input_ids, attention_mask, labels in data_loader:\n",
    "        input_ids = input_ids.to(device)\n",
    "        attention_mask = attention_mask.to(device)\n",
    "        labels = labels.to(device)\n",
    "        outputs = model(input_ids=input_ids, attention_mask=attention_mask)\n",
    "        logits = torch.mean(outputs.logits, dim=1)\n",
    "        _, indices = torch.max(logits, 1)\n",
    "        predictions.extend(indices.tolist())\n",
    "        ground_truth.extend(labels.tolist())\n",
    "        del input_ids\n",
    "        del attention_mask\n",
    "        del labels\n",
    "        del outputs\n",
    "        del logits\n",
    "        del indices\n",
    "        free_memory()\n",
    "    accuracy = accuracy_score(ground_truth, predictions)\n",
    "    f1 = f1_score(ground_truth, predictions, average='macro')\n",
    "    del predictions\n",
    "    del ground_truth\n",
    "    free_memory()\n",
    "    return accuracy, f1"
   ]
  },
  {
   "cell_type": "code",
   "execution_count": 28,
   "metadata": {
    "execution": {
     "iopub.execute_input": "2023-11-02T08:57:41.791375Z",
     "iopub.status.busy": "2023-11-02T08:57:41.791023Z",
     "iopub.status.idle": "2023-11-02T08:57:41.803406Z",
     "shell.execute_reply": "2023-11-02T08:57:41.802144Z",
     "shell.execute_reply.started": "2023-11-02T08:57:41.791351Z"
    }
   },
   "outputs": [],
   "source": [
    "def train_model(model, train_loader, criterion, optimizer, num_epochs, \n",
    "                step_size=1, gamma=0.5):\n",
    "    scheduler = StepLR(optimizer, step_size=step_size, gamma=gamma)\n",
    "    loss_history = []\n",
    "    train_history = []\n",
    "    \n",
    "    for epoch in range(num_epochs):\n",
    "        model.train()\n",
    "        \n",
    "        loss_accum = 0\n",
    "        correct_samples = 0\n",
    "        total_samples = 0\n",
    "        \n",
    "        for i_step, (input_ids, attention_mask, y) in enumerate(train_loader):\n",
    "            input_ids = input_ids.to(device)\n",
    "            attention_mask = attention_mask.to(device)\n",
    "            y = y.to(device)\n",
    "            outputs = model(input_ids=input_ids, attention_mask=attention_mask)\n",
    "            logits = torch.mean(outputs.logits, dim=1)\n",
    "            optimizer.zero_grad()\n",
    "            loss = criterion(logits, y)\n",
    "            loss.backward()\n",
    "            clip_grad_norm_(model.lm_head.parameters(), 1.0)\n",
    "            optimizer.step()\n",
    "            \n",
    "            _, indices = torch.max(logits, 1)\n",
    "            correct_samples += torch.sum(indices == y)\n",
    "            total_samples += y.shape[0]\n",
    "            loss_accum += loss\n",
    "            \n",
    "            del outputs\n",
    "            del logits\n",
    "            del indices\n",
    "            del input_ids\n",
    "            del attention_mask\n",
    "            del y\n",
    "            free_memory()\n",
    "          \n",
    "        scheduler.step()\n",
    "        ave_loss = loss_accum / i_step\n",
    "        train_accuracy = float(correct_samples) / total_samples\n",
    "\n",
    "        loss_history.append(float(ave_loss))\n",
    "        train_history.append(train_accuracy)\n",
    "        \n",
    "        free_memory()\n",
    "\n",
    "        print(\"Average loss: %f, Train accuracy: %f\" % (ave_loss, train_accuracy))\n",
    "        \n",
    "    return loss_history, train_history"
   ]
  },
  {
   "cell_type": "code",
   "execution_count": 29,
   "metadata": {
    "execution": {
     "iopub.execute_input": "2023-11-02T08:57:41.805120Z",
     "iopub.status.busy": "2023-11-02T08:57:41.804682Z",
     "iopub.status.idle": "2023-11-02T11:07:36.899148Z",
     "shell.execute_reply": "2023-11-02T11:07:36.898213Z",
     "shell.execute_reply.started": "2023-11-02T08:57:41.805094Z"
    }
   },
   "outputs": [
    {
     "name": "stdout",
     "output_type": "stream",
     "text": [
      "Average loss: 0.830991, Train accuracy: 0.660145\n",
      "Average loss: 0.665423, Train accuracy: 0.711014\n",
      "Average loss: 0.601056, Train accuracy: 0.732964\n",
      "Average loss: 0.569585, Train accuracy: 0.750525\n",
      "Average loss: 0.554496, Train accuracy: 0.759401\n",
      "Average loss: 0.540601, Train accuracy: 0.767799\n",
      "Average loss: 0.537733, Train accuracy: 0.766368\n",
      "Average loss: 0.535967, Train accuracy: 0.767131\n",
      "Average loss: 0.532242, Train accuracy: 0.772571\n",
      "Average loss: 0.531338, Train accuracy: 0.767704\n",
      "Average loss: 0.530329, Train accuracy: 0.769422\n",
      "Average loss: 0.533322, Train accuracy: 0.772094\n",
      "Average loss: 0.530567, Train accuracy: 0.770376\n",
      "Average loss: 0.532977, Train accuracy: 0.769517\n",
      "Average loss: 0.532478, Train accuracy: 0.770662\n"
     ]
    }
   ],
   "source": [
    "loss_history, train_history = train_model(gpt, \n",
    "                                          train_loader, \n",
    "                                          criterion, \n",
    "                                          optimizer, num_epochs)"
   ]
  },
  {
   "cell_type": "code",
   "execution_count": 30,
   "metadata": {
    "execution": {
     "iopub.execute_input": "2023-11-02T11:07:36.902335Z",
     "iopub.status.busy": "2023-11-02T11:07:36.901967Z",
     "iopub.status.idle": "2023-11-02T11:07:37.119978Z",
     "shell.execute_reply": "2023-11-02T11:07:37.118949Z",
     "shell.execute_reply.started": "2023-11-02T11:07:36.902300Z"
    }
   },
   "outputs": [],
   "source": [
    "free_memory()"
   ]
  },
  {
   "cell_type": "code",
   "execution_count": 31,
   "metadata": {
    "execution": {
     "iopub.execute_input": "2023-11-02T11:07:37.121390Z",
     "iopub.status.busy": "2023-11-02T11:07:37.121107Z",
     "iopub.status.idle": "2023-11-02T11:07:37.415482Z",
     "shell.execute_reply": "2023-11-02T11:07:37.414534Z",
     "shell.execute_reply.started": "2023-11-02T11:07:37.121366Z"
    }
   },
   "outputs": [
    {
     "data": {
      "image/png": "[encoded data removed]",
      "text/plain": [
       "<Figure size 640x480 with 1 Axes>"
      ]
     },
     "metadata": {},
     "output_type": "display_data"
    }
   ],
   "source": [
    "plt.title(\"History\")\n",
    "plt.plot(loss_history, label=\"Loss history\")\n",
    "plt.plot(train_history, label=\"Train history\")\n",
    "plt.legend(loc=\"upper left\")\n",
    "plt.show()"
   ]
  },
  {
   "cell_type": "code",
   "execution_count": 32,
   "metadata": {
    "execution": {
     "iopub.execute_input": "2023-11-02T11:07:37.418499Z",
     "iopub.status.busy": "2023-11-02T11:07:37.418212Z",
     "iopub.status.idle": "2023-11-02T11:07:37.423440Z",
     "shell.execute_reply": "2023-11-02T11:07:37.422602Z",
     "shell.execute_reply.started": "2023-11-02T11:07:37.418476Z"
    }
   },
   "outputs": [],
   "source": [
    "test_loader = DataLoader(test_dataset, batch_size=batch_size)"
   ]
  },
  {
   "cell_type": "code",
   "execution_count": 33,
   "metadata": {
    "execution": {
     "iopub.execute_input": "2023-11-02T11:07:37.424827Z",
     "iopub.status.busy": "2023-11-02T11:07:37.424537Z",
     "iopub.status.idle": "2023-11-02T11:11:06.470778Z",
     "shell.execute_reply": "2023-11-02T11:11:06.469894Z",
     "shell.execute_reply.started": "2023-11-02T11:07:37.424798Z"
    }
   },
   "outputs": [
    {
     "name": "stdout",
     "output_type": "stream",
     "text": [
      "Test accuracy is 0.7293893129770992\n",
      "Test f1 score is 0.723349162165072\n"
     ]
    }
   ],
   "source": [
    "accuracy, f1 = evaluate_model(gpt, test_loader)\n",
    "print(f\"Test accuracy is {accuracy}\")\n",
    "print(f\"Test f1 score is {f1}\")"
   ]
  },
  {
   "cell_type": "code",
   "execution_count": 34,
   "metadata": {
    "execution": {
     "iopub.execute_input": "2023-11-02T11:11:06.472294Z",
     "iopub.status.busy": "2023-11-02T11:11:06.472002Z",
     "iopub.status.idle": "2023-11-02T11:11:08.461409Z",
     "shell.execute_reply": "2023-11-02T11:11:08.460627Z",
     "shell.execute_reply.started": "2023-11-02T11:11:06.472269Z"
    }
   },
   "outputs": [],
   "source": [
    "torch.save(gpt, 'st_sberbank-gpt-sentiment-classifier_medium.pth')"
   ]
  }
 ],
 "metadata": {
  "kernelspec": {
   "display_name": "Python 3 (ipykernel)",
   "language": "python",
   "name": "python3"
  },
  "language_info": {
   "codemirror_mode": {
    "name": "ipython",
    "version": 3
   },
   "file_extension": ".py",
   "mimetype": "text/x-python",
   "name": "python",
   "nbconvert_exporter": "python",
   "pygments_lexer": "ipython3",
   "version": "3.11.4"
  }
 },
 "nbformat": 4,
 "nbformat_minor": 4
}
