{
 "cells": [
  {
   "cell_type": "code",
   "execution_count": 1,
   "metadata": {
    "_cell_guid": "b1076dfc-b9ad-4769-8c92-a6c4dae69d19",
    "_uuid": "8f2839f25d086af736a60e9eeb907d3b93b6e0e5",
    "execution": {
     "iopub.execute_input": "2023-10-31T13:08:13.115129Z",
     "iopub.status.busy": "2023-10-31T13:08:13.114473Z",
     "iopub.status.idle": "2023-10-31T13:08:13.461863Z",
     "shell.execute_reply": "2023-10-31T13:08:13.460927Z",
     "shell.execute_reply.started": "2023-10-31T13:08:13.115099Z"
    }
   },
   "outputs": [],
   "source": [
    "import numpy as np\n",
    "import pandas as pd\n",
    "import matplotlib.pyplot as plt\n",
    "import gc"
   ]
  },
  {
   "cell_type": "code",
   "execution_count": 2,
   "metadata": {
    "execution": {
     "iopub.execute_input": "2023-10-31T13:08:13.464106Z",
     "iopub.status.busy": "2023-10-31T13:08:13.463687Z",
     "iopub.status.idle": "2023-10-31T13:08:17.041260Z",
     "shell.execute_reply": "2023-10-31T13:08:17.040306Z",
     "shell.execute_reply.started": "2023-10-31T13:08:13.464080Z"
    }
   },
   "outputs": [],
   "source": [
    "import torch\n",
    "import torch.nn as nn\n",
    "\n",
    "from torch.optim import AdamW\n",
    "from torch.optim.lr_scheduler import StepLR\n",
    "from torch.utils.data import Dataset, DataLoader\n",
    "from torch.nn.utils import clip_grad_norm_"
   ]
  },
  {
   "cell_type": "code",
   "execution_count": 3,
   "metadata": {
    "execution": {
     "iopub.execute_input": "2023-10-31T13:08:17.042988Z",
     "iopub.status.busy": "2023-10-31T13:08:17.042514Z",
     "iopub.status.idle": "2023-10-31T13:08:27.157324Z",
     "shell.execute_reply": "2023-10-31T13:08:27.156297Z",
     "shell.execute_reply.started": "2023-10-31T13:08:17.042956Z"
    }
   },
   "outputs": [],
   "source": [
    "import transformers\n",
    "from transformers import GPT2LMHeadModel, GPT2Tokenizer"
   ]
  },
  {
   "cell_type": "code",
   "execution_count": 4,
   "metadata": {
    "execution": {
     "iopub.execute_input": "2023-10-31T13:08:27.160137Z",
     "iopub.status.busy": "2023-10-31T13:08:27.159831Z",
     "iopub.status.idle": "2023-10-31T13:08:27.528183Z",
     "shell.execute_reply": "2023-10-31T13:08:27.527159Z",
     "shell.execute_reply.started": "2023-10-31T13:08:27.160110Z"
    }
   },
   "outputs": [],
   "source": [
    "from sklearn.model_selection import train_test_split\n",
    "from sklearn.metrics import accuracy_score\n",
    "from sklearn.metrics import f1_score"
   ]
  },
  {
   "cell_type": "code",
   "execution_count": 5,
   "metadata": {
    "execution": {
     "iopub.execute_input": "2023-10-31T13:08:27.530064Z",
     "iopub.status.busy": "2023-10-31T13:08:27.529662Z",
     "iopub.status.idle": "2023-10-31T13:08:27.536125Z",
     "shell.execute_reply": "2023-10-31T13:08:27.534881Z",
     "shell.execute_reply.started": "2023-10-31T13:08:27.530022Z"
    }
   },
   "outputs": [],
   "source": [
    "def free_memory():\n",
    "    gc.collect()\n",
    "    torch.cuda.empty_cache()"
   ]
  },
  {
   "cell_type": "code",
   "execution_count": 6,
   "metadata": {
    "execution": {
     "iopub.execute_input": "2023-10-31T13:08:27.540694Z",
     "iopub.status.busy": "2023-10-31T13:08:27.539993Z",
     "iopub.status.idle": "2023-10-31T13:08:29.232859Z",
     "shell.execute_reply": "2023-10-31T13:08:29.231959Z",
     "shell.execute_reply.started": "2023-10-31T13:08:27.540654Z"
    }
   },
   "outputs": [
    {
     "data": {
      "text/html": [
       "<div>\n",
       "<style scoped>\n",
       "    .dataframe tbody tr th:only-of-type {\n",
       "        vertical-align: middle;\n",
       "    }\n",
       "\n",
       "    .dataframe tbody tr th {\n",
       "        vertical-align: top;\n",
       "    }\n",
       "\n",
       "    .dataframe thead th {\n",
       "        text-align: right;\n",
       "    }\n",
       "</style>\n",
       "<table border=\"1\" class=\"dataframe\">\n",
       "  <thead>\n",
       "    <tr style=\"text-align: right;\">\n",
       "      <th></th>\n",
       "      <th>text</th>\n",
       "      <th>sentiment</th>\n",
       "    </tr>\n",
       "    <tr>\n",
       "      <th>id</th>\n",
       "      <th></th>\n",
       "      <th></th>\n",
       "    </tr>\n",
       "  </thead>\n",
       "  <tbody>\n",
       "    <tr>\n",
       "      <th>1945</th>\n",
       "      <td>Досудебное расследование по факту покупки ЕНПФ...</td>\n",
       "      <td>negative</td>\n",
       "    </tr>\n",
       "    <tr>\n",
       "      <th>1957</th>\n",
       "      <td>Медики рассказали о состоянии пострадавшего му...</td>\n",
       "      <td>negative</td>\n",
       "    </tr>\n",
       "    <tr>\n",
       "      <th>1969</th>\n",
       "      <td>Прошел почти год, как железнодорожным оператор...</td>\n",
       "      <td>negative</td>\n",
       "    </tr>\n",
       "    <tr>\n",
       "      <th>1973</th>\n",
       "      <td>По итогам 12 месяцев 2016 года на территории р...</td>\n",
       "      <td>negative</td>\n",
       "    </tr>\n",
       "    <tr>\n",
       "      <th>1975</th>\n",
       "      <td>Астана. 21 ноября. Kazakhstan Today - Агентств...</td>\n",
       "      <td>negative</td>\n",
       "    </tr>\n",
       "    <tr>\n",
       "      <th>1980</th>\n",
       "      <td>Об аресте бывшего министра национальной эконом...</td>\n",
       "      <td>negative</td>\n",
       "    </tr>\n",
       "    <tr>\n",
       "      <th>1982</th>\n",
       "      <td>Двое налетчиков совершили нападение на охранни...</td>\n",
       "      <td>negative</td>\n",
       "    </tr>\n",
       "    <tr>\n",
       "      <th>1983</th>\n",
       "      <td>\"Самрук-Энерго\" в I квартале почти вдвое снизи...</td>\n",
       "      <td>negative</td>\n",
       "    </tr>\n",
       "    <tr>\n",
       "      <th>1985</th>\n",
       "      <td>В 2016 году почти половина коррупционных прест...</td>\n",
       "      <td>negative</td>\n",
       "    </tr>\n",
       "    <tr>\n",
       "      <th>1988</th>\n",
       "      <td>Google+\\nЧт 19 янв 2017 12:35:02\\nОдин из фигу...</td>\n",
       "      <td>negative</td>\n",
       "    </tr>\n",
       "  </tbody>\n",
       "</table>\n",
       "</div>"
      ],
      "text/plain": [
       "                                                   text sentiment\n",
       "id                                                               \n",
       "1945  Досудебное расследование по факту покупки ЕНПФ...  negative\n",
       "1957  Медики рассказали о состоянии пострадавшего му...  negative\n",
       "1969  Прошел почти год, как железнодорожным оператор...  negative\n",
       "1973  По итогам 12 месяцев 2016 года на территории р...  negative\n",
       "1975  Астана. 21 ноября. Kazakhstan Today - Агентств...  negative\n",
       "1980  Об аресте бывшего министра национальной эконом...  negative\n",
       "1982  Двое налетчиков совершили нападение на охранни...  negative\n",
       "1983  \"Самрук-Энерго\" в I квартале почти вдвое снизи...  negative\n",
       "1985  В 2016 году почти половина коррупционных прест...  negative\n",
       "1988  Google+\\nЧт 19 янв 2017 12:35:02\\nОдин из фигу...  negative"
      ]
     },
     "execution_count": 6,
     "metadata": {},
     "output_type": "execute_result"
    }
   ],
   "source": [
    "articles = pd.read_json('data/articles/train.json')\n",
    "articles.drop_duplicates(subset=['text'], inplace=True)\n",
    "articles.set_index('id', inplace=True)\n",
    "articles.head(10)"
   ]
  },
  {
   "cell_type": "code",
   "execution_count": 7,
   "metadata": {
    "execution": {
     "iopub.execute_input": "2023-10-31T13:08:29.234844Z",
     "iopub.status.busy": "2023-10-31T13:08:29.234535Z",
     "iopub.status.idle": "2023-10-31T13:08:29.498506Z",
     "shell.execute_reply": "2023-10-31T13:08:29.497408Z",
     "shell.execute_reply.started": "2023-10-31T13:08:29.234818Z"
    }
   },
   "outputs": [
    {
     "data": {
      "image/png": "[encoded data removed]",
      "text/plain": [
       "<Figure size 640x480 with 1 Axes>"
      ]
     },
     "metadata": {},
     "output_type": "display_data"
    }
   ],
   "source": [
    "articles.sentiment.hist()\n",
    "plt.show()"
   ]
  },
  {
   "cell_type": "code",
   "execution_count": 8,
   "metadata": {
    "execution": {
     "iopub.execute_input": "2023-10-31T13:08:29.500283Z",
     "iopub.status.busy": "2023-10-31T13:08:29.499911Z",
     "iopub.status.idle": "2023-10-31T13:08:29.505586Z",
     "shell.execute_reply": "2023-10-31T13:08:29.504376Z",
     "shell.execute_reply.started": "2023-10-31T13:08:29.500244Z"
    }
   },
   "outputs": [],
   "source": [
    "sentiment_map = {\n",
    "    'negative': 0,\n",
    "    'neutral': 1,\n",
    "    'positive': 2\n",
    "}"
   ]
  },
  {
   "cell_type": "code",
   "execution_count": 9,
   "metadata": {
    "execution": {
     "iopub.execute_input": "2023-10-31T13:08:29.507479Z",
     "iopub.status.busy": "2023-10-31T13:08:29.507020Z",
     "iopub.status.idle": "2023-10-31T13:08:29.534182Z",
     "shell.execute_reply": "2023-10-31T13:08:29.533181Z",
     "shell.execute_reply.started": "2023-10-31T13:08:29.507447Z"
    }
   },
   "outputs": [
    {
     "data": {
      "text/html": [
       "<div>\n",
       "<style scoped>\n",
       "    .dataframe tbody tr th:only-of-type {\n",
       "        vertical-align: middle;\n",
       "    }\n",
       "\n",
       "    .dataframe tbody tr th {\n",
       "        vertical-align: top;\n",
       "    }\n",
       "\n",
       "    .dataframe thead th {\n",
       "        text-align: right;\n",
       "    }\n",
       "</style>\n",
       "<table border=\"1\" class=\"dataframe\">\n",
       "  <thead>\n",
       "    <tr style=\"text-align: right;\">\n",
       "      <th></th>\n",
       "      <th>text</th>\n",
       "      <th>sentiment</th>\n",
       "    </tr>\n",
       "    <tr>\n",
       "      <th>id</th>\n",
       "      <th></th>\n",
       "      <th></th>\n",
       "    </tr>\n",
       "  </thead>\n",
       "  <tbody>\n",
       "    <tr>\n",
       "      <th>1945</th>\n",
       "      <td>Досудебное расследование по факту покупки ЕНПФ...</td>\n",
       "      <td>0</td>\n",
       "    </tr>\n",
       "    <tr>\n",
       "      <th>1957</th>\n",
       "      <td>Медики рассказали о состоянии пострадавшего му...</td>\n",
       "      <td>0</td>\n",
       "    </tr>\n",
       "    <tr>\n",
       "      <th>1969</th>\n",
       "      <td>Прошел почти год, как железнодорожным оператор...</td>\n",
       "      <td>0</td>\n",
       "    </tr>\n",
       "    <tr>\n",
       "      <th>1973</th>\n",
       "      <td>По итогам 12 месяцев 2016 года на территории р...</td>\n",
       "      <td>0</td>\n",
       "    </tr>\n",
       "    <tr>\n",
       "      <th>1975</th>\n",
       "      <td>Астана. 21 ноября. Kazakhstan Today - Агентств...</td>\n",
       "      <td>0</td>\n",
       "    </tr>\n",
       "    <tr>\n",
       "      <th>1980</th>\n",
       "      <td>Об аресте бывшего министра национальной эконом...</td>\n",
       "      <td>0</td>\n",
       "    </tr>\n",
       "    <tr>\n",
       "      <th>1982</th>\n",
       "      <td>Двое налетчиков совершили нападение на охранни...</td>\n",
       "      <td>0</td>\n",
       "    </tr>\n",
       "    <tr>\n",
       "      <th>1983</th>\n",
       "      <td>\"Самрук-Энерго\" в I квартале почти вдвое снизи...</td>\n",
       "      <td>0</td>\n",
       "    </tr>\n",
       "    <tr>\n",
       "      <th>1985</th>\n",
       "      <td>В 2016 году почти половина коррупционных прест...</td>\n",
       "      <td>0</td>\n",
       "    </tr>\n",
       "    <tr>\n",
       "      <th>1988</th>\n",
       "      <td>Google+\\nЧт 19 янв 2017 12:35:02\\nОдин из фигу...</td>\n",
       "      <td>0</td>\n",
       "    </tr>\n",
       "  </tbody>\n",
       "</table>\n",
       "</div>"
      ],
      "text/plain": [
       "                                                   text  sentiment\n",
       "id                                                                \n",
       "1945  Досудебное расследование по факту покупки ЕНПФ...          0\n",
       "1957  Медики рассказали о состоянии пострадавшего му...          0\n",
       "1969  Прошел почти год, как железнодорожным оператор...          0\n",
       "1973  По итогам 12 месяцев 2016 года на территории р...          0\n",
       "1975  Астана. 21 ноября. Kazakhstan Today - Агентств...          0\n",
       "1980  Об аресте бывшего министра национальной эконом...          0\n",
       "1982  Двое налетчиков совершили нападение на охранни...          0\n",
       "1983  \"Самрук-Энерго\" в I квартале почти вдвое снизи...          0\n",
       "1985  В 2016 году почти половина коррупционных прест...          0\n",
       "1988  Google+\\nЧт 19 янв 2017 12:35:02\\nОдин из фигу...          0"
      ]
     },
     "execution_count": 9,
     "metadata": {},
     "output_type": "execute_result"
    }
   ],
   "source": [
    "articles.sentiment = articles.sentiment.apply(lambda x: sentiment_map[x])\n",
    "articles.head(10)"
   ]
  },
  {
   "cell_type": "code",
   "execution_count": 10,
   "metadata": {
    "execution": {
     "iopub.execute_input": "2023-10-31T13:08:29.535878Z",
     "iopub.status.busy": "2023-10-31T13:08:29.535507Z",
     "iopub.status.idle": "2023-10-31T13:08:29.574435Z",
     "shell.execute_reply": "2023-10-31T13:08:29.573268Z",
     "shell.execute_reply.started": "2023-10-31T13:08:29.535841Z"
    }
   },
   "outputs": [
    {
     "data": {
      "text/plain": [
       "'cuda'"
      ]
     },
     "execution_count": 10,
     "metadata": {},
     "output_type": "execute_result"
    }
   ],
   "source": [
    "device = ('cuda' if torch.cuda.is_available() else 'cpu')\n",
    "device"
   ]
  },
  {
   "cell_type": "code",
   "execution_count": 11,
   "metadata": {
    "execution": {
     "iopub.execute_input": "2023-10-31T13:08:29.577612Z",
     "iopub.status.busy": "2023-10-31T13:08:29.577256Z",
     "iopub.status.idle": "2023-10-31T13:08:29.586478Z",
     "shell.execute_reply": "2023-10-31T13:08:29.585540Z",
     "shell.execute_reply.started": "2023-10-31T13:08:29.577573Z"
    }
   },
   "outputs": [],
   "source": [
    "pretrained_model_name_or_path = 'sberbank-ai/rugpt3small_based_on_gpt2'"
   ]
  },
  {
   "cell_type": "code",
   "execution_count": 12,
   "metadata": {
    "execution": {
     "iopub.execute_input": "2023-10-31T13:08:29.587786Z",
     "iopub.status.busy": "2023-10-31T13:08:29.587517Z",
     "iopub.status.idle": "2023-10-31T13:08:37.046309Z",
     "shell.execute_reply": "2023-10-31T13:08:37.045448Z",
     "shell.execute_reply.started": "2023-10-31T13:08:29.587761Z"
    }
   },
   "outputs": [
    {
     "data": {
      "application/vnd.jupyter.widget-view+json": {
       "model_id": "d81d74d15733435aad88d6004a86dcd7",
       "version_major": 2,
       "version_minor": 0
      },
      "text/plain": [
       "Downloading (…)lve/main/config.json:   0%|          | 0.00/608 [00:00<?, ?B/s]"
      ]
     },
     "metadata": {},
     "output_type": "display_data"
    },
    {
     "data": {
      "application/vnd.jupyter.widget-view+json": {
       "model_id": "4b00fa4bebcd40e0b48816024e8860bf",
       "version_major": 2,
       "version_minor": 0
      },
      "text/plain": [
       "Downloading pytorch_model.bin:   0%|          | 0.00/551M [00:00<?, ?B/s]"
      ]
     },
     "metadata": {},
     "output_type": "display_data"
    },
    {
     "data": {
      "application/vnd.jupyter.widget-view+json": {
       "model_id": "c81a9ee7f0d54ade83e617dc71c5f43e",
       "version_major": 2,
       "version_minor": 0
      },
      "text/plain": [
       "Downloading (…)olve/main/vocab.json:   0%|          | 0.00/1.71M [00:00<?, ?B/s]"
      ]
     },
     "metadata": {},
     "output_type": "display_data"
    },
    {
     "data": {
      "application/vnd.jupyter.widget-view+json": {
       "model_id": "6185d4af2d304af7848a9c58d20f8616",
       "version_major": 2,
       "version_minor": 0
      },
      "text/plain": [
       "Downloading (…)olve/main/merges.txt:   0%|          | 0.00/1.27M [00:00<?, ?B/s]"
      ]
     },
     "metadata": {},
     "output_type": "display_data"
    }
   ],
   "source": [
    "gpt = GPT2LMHeadModel.from_pretrained(pretrained_model_name_or_path)\n",
    "tokenizer = GPT2Tokenizer.from_pretrained(pretrained_model_name_or_path)"
   ]
  },
  {
   "cell_type": "code",
   "execution_count": 13,
   "metadata": {
    "execution": {
     "iopub.execute_input": "2023-10-31T13:08:37.047896Z",
     "iopub.status.busy": "2023-10-31T13:08:37.047533Z",
     "iopub.status.idle": "2023-10-31T13:08:37.055696Z",
     "shell.execute_reply": "2023-10-31T13:08:37.054804Z",
     "shell.execute_reply.started": "2023-10-31T13:08:37.047861Z"
    }
   },
   "outputs": [
    {
     "data": {
      "text/plain": [
       "GPT2LMHeadModel(\n",
       "  (transformer): GPT2Model(\n",
       "    (wte): Embedding(50264, 768)\n",
       "    (wpe): Embedding(2048, 768)\n",
       "    (drop): Dropout(p=0.1, inplace=False)\n",
       "    (h): ModuleList(\n",
       "      (0-11): 12 x GPT2Block(\n",
       "        (ln_1): LayerNorm((768,), eps=1e-05, elementwise_affine=True)\n",
       "        (attn): GPT2Attention(\n",
       "          (c_attn): Conv1D()\n",
       "          (c_proj): Conv1D()\n",
       "          (attn_dropout): Dropout(p=0.1, inplace=False)\n",
       "          (resid_dropout): Dropout(p=0.1, inplace=False)\n",
       "        )\n",
       "        (ln_2): LayerNorm((768,), eps=1e-05, elementwise_affine=True)\n",
       "        (mlp): GPT2MLP(\n",
       "          (c_fc): Conv1D()\n",
       "          (c_proj): Conv1D()\n",
       "          (act): NewGELUActivation()\n",
       "          (dropout): Dropout(p=0.1, inplace=False)\n",
       "        )\n",
       "      )\n",
       "    )\n",
       "    (ln_f): LayerNorm((768,), eps=1e-05, elementwise_affine=True)\n",
       "  )\n",
       "  (lm_head): Linear(in_features=768, out_features=50264, bias=False)\n",
       ")"
      ]
     },
     "execution_count": 13,
     "metadata": {},
     "output_type": "execute_result"
    }
   ],
   "source": [
    "gpt"
   ]
  },
  {
   "cell_type": "code",
   "execution_count": 14,
   "metadata": {
    "execution": {
     "iopub.execute_input": "2023-10-31T13:08:51.171622Z",
     "iopub.status.busy": "2023-10-31T13:08:51.170870Z",
     "iopub.status.idle": "2023-10-31T13:08:51.177025Z",
     "shell.execute_reply": "2023-10-31T13:08:51.175909Z",
     "shell.execute_reply.started": "2023-10-31T13:08:51.171589Z"
    }
   },
   "outputs": [],
   "source": [
    "for param in gpt.parameters():\n",
    "    param.requires_grad = False"
   ]
  },
  {
   "cell_type": "code",
   "execution_count": 15,
   "metadata": {
    "execution": {
     "iopub.execute_input": "2023-10-31T13:08:53.988008Z",
     "iopub.status.busy": "2023-10-31T13:08:53.987628Z",
     "iopub.status.idle": "2023-10-31T13:08:53.996693Z",
     "shell.execute_reply": "2023-10-31T13:08:53.995579Z",
     "shell.execute_reply.started": "2023-10-31T13:08:53.987979Z"
    }
   },
   "outputs": [
    {
     "data": {
      "text/plain": [
       "3"
      ]
     },
     "execution_count": 15,
     "metadata": {},
     "output_type": "execute_result"
    }
   ],
   "source": [
    "num_labels = articles.sentiment.nunique()\n",
    "num_labels"
   ]
  },
  {
   "cell_type": "code",
   "execution_count": 16,
   "metadata": {
    "execution": {
     "iopub.execute_input": "2023-10-31T13:08:56.435265Z",
     "iopub.status.busy": "2023-10-31T13:08:56.434297Z",
     "iopub.status.idle": "2023-10-31T13:09:01.373604Z",
     "shell.execute_reply": "2023-10-31T13:09:01.372657Z",
     "shell.execute_reply.started": "2023-10-31T13:08:56.435224Z"
    }
   },
   "outputs": [
    {
     "data": {
      "text/plain": [
       "GPT2LMHeadModel(\n",
       "  (transformer): GPT2Model(\n",
       "    (wte): Embedding(50264, 768)\n",
       "    (wpe): Embedding(2048, 768)\n",
       "    (drop): Dropout(p=0.1, inplace=False)\n",
       "    (h): ModuleList(\n",
       "      (0-11): 12 x GPT2Block(\n",
       "        (ln_1): LayerNorm((768,), eps=1e-05, elementwise_affine=True)\n",
       "        (attn): GPT2Attention(\n",
       "          (c_attn): Conv1D()\n",
       "          (c_proj): Conv1D()\n",
       "          (attn_dropout): Dropout(p=0.1, inplace=False)\n",
       "          (resid_dropout): Dropout(p=0.1, inplace=False)\n",
       "        )\n",
       "        (ln_2): LayerNorm((768,), eps=1e-05, elementwise_affine=True)\n",
       "        (mlp): GPT2MLP(\n",
       "          (c_fc): Conv1D()\n",
       "          (c_proj): Conv1D()\n",
       "          (act): NewGELUActivation()\n",
       "          (dropout): Dropout(p=0.1, inplace=False)\n",
       "        )\n",
       "      )\n",
       "    )\n",
       "    (ln_f): LayerNorm((768,), eps=1e-05, elementwise_affine=True)\n",
       "  )\n",
       "  (lm_head): Linear(in_features=768, out_features=3, bias=True)\n",
       ")"
      ]
     },
     "execution_count": 16,
     "metadata": {},
     "output_type": "execute_result"
    }
   ],
   "source": [
    "gpt.lm_head = nn.Linear(gpt.config.hidden_size, num_labels)\n",
    "gpt = gpt.to(device)\n",
    "gpt"
   ]
  },
  {
   "cell_type": "code",
   "execution_count": 17,
   "metadata": {
    "execution": {
     "iopub.execute_input": "2023-10-31T13:09:01.375816Z",
     "iopub.status.busy": "2023-10-31T13:09:01.375437Z",
     "iopub.status.idle": "2023-10-31T13:09:01.382580Z",
     "shell.execute_reply": "2023-10-31T13:09:01.381624Z",
     "shell.execute_reply.started": "2023-10-31T13:09:01.375780Z"
    }
   },
   "outputs": [],
   "source": [
    "X = articles.text\n",
    "y = articles.sentiment"
   ]
  },
  {
   "cell_type": "code",
   "execution_count": 18,
   "metadata": {
    "execution": {
     "iopub.execute_input": "2023-10-31T13:09:04.105106Z",
     "iopub.status.busy": "2023-10-31T13:09:04.104211Z",
     "iopub.status.idle": "2023-10-31T13:09:04.112330Z",
     "shell.execute_reply": "2023-10-31T13:09:04.111572Z",
     "shell.execute_reply.started": "2023-10-31T13:09:04.105068Z"
    }
   },
   "outputs": [],
   "source": [
    "X_train, X_test, y_train, y_test = train_test_split(X, y, test_size=0.2, random_state=42)"
   ]
  },
  {
   "cell_type": "code",
   "execution_count": 19,
   "metadata": {
    "execution": {
     "iopub.execute_input": "2023-10-31T13:09:06.420972Z",
     "iopub.status.busy": "2023-10-31T13:09:06.420599Z",
     "iopub.status.idle": "2023-10-31T13:09:06.426031Z",
     "shell.execute_reply": "2023-10-31T13:09:06.425101Z",
     "shell.execute_reply.started": "2023-10-31T13:09:06.420940Z"
    }
   },
   "outputs": [
    {
     "name": "stdout",
     "output_type": "stream",
     "text": [
      "<pad>\n"
     ]
    }
   ],
   "source": [
    "tokenizer.pad_token_id = 0\n",
    "print(tokenizer.pad_token)"
   ]
  },
  {
   "cell_type": "code",
   "execution_count": 20,
   "metadata": {
    "execution": {
     "iopub.execute_input": "2023-10-31T13:09:11.291793Z",
     "iopub.status.busy": "2023-10-31T13:09:11.291427Z",
     "iopub.status.idle": "2023-10-31T13:09:11.299182Z",
     "shell.execute_reply": "2023-10-31T13:09:11.298166Z",
     "shell.execute_reply.started": "2023-10-31T13:09:11.291765Z"
    }
   },
   "outputs": [],
   "source": [
    "class SentimentAnalysisDataset(Dataset):\n",
    "    def __init__(self, X, y, tokenizer=None, num_labels=3):\n",
    "        self.X = tokenizer(X.tolist(), \n",
    "                           truncation=True, \n",
    "                           padding=True,\n",
    "                           return_tensors=\"pt\",\n",
    "                           max_length=2048).to(device)\n",
    "        self.y = torch.tensor(y.to_numpy(), dtype=torch.int64).to(device)\n",
    "    \n",
    "    def __len__(self):\n",
    "        return len(self.y)\n",
    "    \n",
    "    def __getitem__(self, idx):\n",
    "        return self.X.input_ids[idx], self.X.attention_mask[idx], self.y[idx]"
   ]
  },
  {
   "cell_type": "code",
   "execution_count": 21,
   "metadata": {
    "execution": {
     "iopub.execute_input": "2023-10-31T13:09:13.441993Z",
     "iopub.status.busy": "2023-10-31T13:09:13.441625Z",
     "iopub.status.idle": "2023-10-31T13:10:54.836185Z",
     "shell.execute_reply": "2023-10-31T13:10:54.835292Z",
     "shell.execute_reply.started": "2023-10-31T13:09:13.441961Z"
    }
   },
   "outputs": [],
   "source": [
    "train_dataset = SentimentAnalysisDataset(X_train, y_train, tokenizer)\n",
    "test_dataset = SentimentAnalysisDataset(X_test, y_test, tokenizer)\n",
    "\n",
    "free_memory()"
   ]
  },
  {
   "cell_type": "code",
   "execution_count": 22,
   "metadata": {
    "execution": {
     "iopub.execute_input": "2023-10-31T13:10:54.838152Z",
     "iopub.status.busy": "2023-10-31T13:10:54.837861Z",
     "iopub.status.idle": "2023-10-31T13:10:54.842343Z",
     "shell.execute_reply": "2023-10-31T13:10:54.841306Z",
     "shell.execute_reply.started": "2023-10-31T13:10:54.838126Z"
    }
   },
   "outputs": [],
   "source": [
    "batch_size = 16\n",
    "num_epochs = 12"
   ]
  },
  {
   "cell_type": "code",
   "execution_count": 23,
   "metadata": {
    "execution": {
     "iopub.execute_input": "2023-10-31T13:10:54.844076Z",
     "iopub.status.busy": "2023-10-31T13:10:54.843694Z",
     "iopub.status.idle": "2023-10-31T13:10:54.856603Z",
     "shell.execute_reply": "2023-10-31T13:10:54.855789Z",
     "shell.execute_reply.started": "2023-10-31T13:10:54.844044Z"
    }
   },
   "outputs": [],
   "source": [
    "train_loader = DataLoader(train_dataset, batch_size=batch_size, shuffle=True)"
   ]
  },
  {
   "cell_type": "code",
   "execution_count": 24,
   "metadata": {
    "execution": {
     "iopub.execute_input": "2023-10-31T13:10:54.858804Z",
     "iopub.status.busy": "2023-10-31T13:10:54.858532Z",
     "iopub.status.idle": "2023-10-31T13:10:54.878199Z",
     "shell.execute_reply": "2023-10-31T13:10:54.877273Z",
     "shell.execute_reply.started": "2023-10-31T13:10:54.858780Z"
    }
   },
   "outputs": [],
   "source": [
    "optimizer = AdamW(gpt.lm_head.parameters(), lr=0.01, weight_decay=1e-4)\n",
    "criterion = nn.CrossEntropyLoss()"
   ]
  },
  {
   "cell_type": "code",
   "execution_count": 25,
   "metadata": {
    "execution": {
     "iopub.execute_input": "2023-10-31T13:10:54.879822Z",
     "iopub.status.busy": "2023-10-31T13:10:54.879479Z",
     "iopub.status.idle": "2023-10-31T13:10:54.891314Z",
     "shell.execute_reply": "2023-10-31T13:10:54.890407Z",
     "shell.execute_reply.started": "2023-10-31T13:10:54.879787Z"
    }
   },
   "outputs": [],
   "source": [
    "def evaluate_model(model, data_loader):\n",
    "    ground_truth = []\n",
    "    predictions = []\n",
    "\n",
    "    model.eval()\n",
    "    for input_ids, attention_mask, labels in data_loader:\n",
    "        input_ids = input_ids.to(device)\n",
    "        attention_mask = attention_mask.to(device)\n",
    "        labels = labels.to(device)\n",
    "        outputs = model(input_ids=input_ids, attention_mask=attention_mask)\n",
    "        logits = torch.mean(outputs.logits, dim=1)\n",
    "        _, indices = torch.max(logits, 1)\n",
    "        predictions.extend(indices.tolist())\n",
    "        ground_truth.extend(labels.tolist())\n",
    "        del input_ids\n",
    "        del attention_mask\n",
    "        del labels\n",
    "        del outputs\n",
    "        del logits\n",
    "        del indices\n",
    "        free_memory()\n",
    "    accuracy = accuracy_score(ground_truth, predictions)\n",
    "    f1 = f1_score(ground_truth, predictions, average='macro')\n",
    "    del predictions\n",
    "    del ground_truth\n",
    "    free_memory()\n",
    "    return accuracy, f1"
   ]
  },
  {
   "cell_type": "code",
   "execution_count": 26,
   "metadata": {
    "execution": {
     "iopub.execute_input": "2023-10-31T13:10:54.892835Z",
     "iopub.status.busy": "2023-10-31T13:10:54.892542Z",
     "iopub.status.idle": "2023-10-31T13:10:54.904785Z",
     "shell.execute_reply": "2023-10-31T13:10:54.903930Z",
     "shell.execute_reply.started": "2023-10-31T13:10:54.892793Z"
    }
   },
   "outputs": [],
   "source": [
    "def train_model(model, train_loader, criterion, optimizer, num_epochs, \n",
    "                step_size=1, gamma=0.5):\n",
    "    scheduler = StepLR(optimizer, step_size=step_size, gamma=gamma)\n",
    "    loss_history = []\n",
    "    train_history = []\n",
    "    \n",
    "    for epoch in range(num_epochs):\n",
    "        model.train()\n",
    "        \n",
    "        loss_accum = 0\n",
    "        correct_samples = 0\n",
    "        total_samples = 0\n",
    "        \n",
    "        for i_step, (input_ids, attention_mask, y) in enumerate(train_loader):\n",
    "            input_ids = input_ids.to(device)\n",
    "            attention_mask = attention_mask.to(device)\n",
    "            y = y.to(device)\n",
    "            outputs = model(input_ids=input_ids, attention_mask=attention_mask)\n",
    "            logits = torch.mean(outputs.logits, dim=1)\n",
    "            optimizer.zero_grad()\n",
    "            loss = criterion(logits, y)\n",
    "            loss.backward()\n",
    "            clip_grad_norm_(model.lm_head.parameters(), 1.0)\n",
    "            optimizer.step()\n",
    "            \n",
    "            _, indices = torch.max(logits, 1)\n",
    "            correct_samples += torch.sum(indices == y)\n",
    "            total_samples += y.shape[0]\n",
    "            loss_accum += loss\n",
    "            \n",
    "            del outputs\n",
    "            del logits\n",
    "            del indices\n",
    "            del input_ids\n",
    "            del attention_mask\n",
    "            del y\n",
    "            free_memory()\n",
    "          \n",
    "        scheduler.step()\n",
    "        ave_loss = loss_accum / i_step\n",
    "        train_accuracy = float(correct_samples) / total_samples\n",
    "\n",
    "        loss_history.append(float(ave_loss))\n",
    "        train_history.append(train_accuracy)\n",
    "        \n",
    "        free_memory()\n",
    "\n",
    "        print(\"Average loss: %f, Train accuracy: %f\" % (ave_loss, train_accuracy))\n",
    "        \n",
    "    return loss_history, train_history"
   ]
  },
  {
   "cell_type": "code",
   "execution_count": 27,
   "metadata": {
    "execution": {
     "iopub.execute_input": "2023-10-31T13:10:54.906427Z",
     "iopub.status.busy": "2023-10-31T13:10:54.906053Z",
     "iopub.status.idle": "2023-10-31T17:12:00.785304Z",
     "shell.execute_reply": "2023-10-31T17:12:00.784189Z",
     "shell.execute_reply.started": "2023-10-31T13:10:54.906371Z"
    }
   },
   "outputs": [
    {
     "name": "stdout",
     "output_type": "stream",
     "text": [
      "Average loss: 1.055959, Train accuracy: 0.601038\n",
      "Average loss: 0.840529, Train accuracy: 0.654977\n",
      "Average loss: 0.707420, Train accuracy: 0.692090\n",
      "Average loss: 0.654136, Train accuracy: 0.714578\n",
      "Average loss: 0.630785, Train accuracy: 0.722755\n",
      "Average loss: 0.617199, Train accuracy: 0.732348\n",
      "Average loss: 0.604172, Train accuracy: 0.739110\n",
      "Average loss: 0.603074, Train accuracy: 0.735965\n",
      "Average loss: 0.600218, Train accuracy: 0.737852\n",
      "Average loss: 0.598015, Train accuracy: 0.739110\n",
      "Average loss: 0.597207, Train accuracy: 0.740368\n",
      "Average loss: 0.598599, Train accuracy: 0.736437\n"
     ]
    }
   ],
   "source": [
    "loss_history, train_history = train_model(gpt, \n",
    "                                          train_loader, \n",
    "                                          criterion, \n",
    "                                          optimizer, num_epochs)"
   ]
  },
  {
   "cell_type": "code",
   "execution_count": 28,
   "metadata": {
    "execution": {
     "iopub.execute_input": "2023-10-31T17:12:00.787291Z",
     "iopub.status.busy": "2023-10-31T17:12:00.786965Z",
     "iopub.status.idle": "2023-10-31T17:12:01.017870Z",
     "shell.execute_reply": "2023-10-31T17:12:01.016723Z",
     "shell.execute_reply.started": "2023-10-31T17:12:00.787263Z"
    }
   },
   "outputs": [],
   "source": [
    "free_memory()"
   ]
  },
  {
   "cell_type": "code",
   "execution_count": 29,
   "metadata": {
    "execution": {
     "iopub.execute_input": "2023-10-31T17:12:01.019701Z",
     "iopub.status.busy": "2023-10-31T17:12:01.019370Z",
     "iopub.status.idle": "2023-10-31T17:12:01.295892Z",
     "shell.execute_reply": "2023-10-31T17:12:01.294903Z",
     "shell.execute_reply.started": "2023-10-31T17:12:01.019674Z"
    }
   },
   "outputs": [
    {
     "data": {
      "image/png": "[encoded data removed]",
      "text/plain": [
       "<Figure size 640x480 with 1 Axes>"
      ]
     },
     "metadata": {},
     "output_type": "display_data"
    }
   ],
   "source": [
    "plt.title(\"History\")\n",
    "plt.plot(loss_history, label=\"Loss history\")\n",
    "plt.plot(train_history, label=\"Train history\")\n",
    "plt.legend(loc=\"upper left\")\n",
    "plt.show()"
   ]
  },
  {
   "cell_type": "code",
   "execution_count": 30,
   "metadata": {
    "execution": {
     "iopub.execute_input": "2023-10-31T17:12:01.298701Z",
     "iopub.status.busy": "2023-10-31T17:12:01.298421Z",
     "iopub.status.idle": "2023-10-31T17:12:01.303159Z",
     "shell.execute_reply": "2023-10-31T17:12:01.302228Z",
     "shell.execute_reply.started": "2023-10-31T17:12:01.298675Z"
    }
   },
   "outputs": [],
   "source": [
    "test_loader = DataLoader(test_dataset, batch_size=batch_size)"
   ]
  },
  {
   "cell_type": "code",
   "execution_count": 31,
   "metadata": {
    "execution": {
     "iopub.execute_input": "2023-10-31T17:12:01.304521Z",
     "iopub.status.busy": "2023-10-31T17:12:01.304249Z",
     "iopub.status.idle": "2023-10-31T17:16:26.743643Z",
     "shell.execute_reply": "2023-10-31T17:16:26.742828Z",
     "shell.execute_reply.started": "2023-10-31T17:12:01.304496Z"
    }
   },
   "outputs": [
    {
     "name": "stdout",
     "output_type": "stream",
     "text": [
      "Test accuracy is 0.6918238993710691\n",
      "Test f1 score is 0.6757975051687976\n"
     ]
    }
   ],
   "source": [
    "accuracy, f1 = evaluate_model(gpt, test_loader)\n",
    "print(f\"Test accuracy is {accuracy}\")\n",
    "print(f\"Test f1 score is {f1}\")"
   ]
  },
  {
   "cell_type": "code",
   "execution_count": 32,
   "metadata": {
    "execution": {
     "iopub.execute_input": "2023-10-31T17:16:57.295133Z",
     "iopub.status.busy": "2023-10-31T17:16:57.294214Z",
     "iopub.status.idle": "2023-10-31T17:16:57.776038Z",
     "shell.execute_reply": "2023-10-31T17:16:57.775094Z",
     "shell.execute_reply.started": "2023-10-31T17:16:57.295097Z"
    }
   },
   "outputs": [
    {
     "data": {
      "text/html": [
       "<div>\n",
       "<style scoped>\n",
       "    .dataframe tbody tr th:only-of-type {\n",
       "        vertical-align: middle;\n",
       "    }\n",
       "\n",
       "    .dataframe tbody tr th {\n",
       "        vertical-align: top;\n",
       "    }\n",
       "\n",
       "    .dataframe thead th {\n",
       "        text-align: right;\n",
       "    }\n",
       "</style>\n",
       "<table border=\"1\" class=\"dataframe\">\n",
       "  <thead>\n",
       "    <tr style=\"text-align: right;\">\n",
       "      <th></th>\n",
       "      <th>text</th>\n",
       "      <th>id</th>\n",
       "      <th>sentiment</th>\n",
       "    </tr>\n",
       "  </thead>\n",
       "  <tbody>\n",
       "    <tr>\n",
       "      <th>0</th>\n",
       "      <td>Как сообщает пресс-служба акимата Алматы, для ...</td>\n",
       "      <td>0</td>\n",
       "      <td>0</td>\n",
       "    </tr>\n",
       "    <tr>\n",
       "      <th>1</th>\n",
       "      <td>Казахстанские авиакомпании перевозят 250 тысяч...</td>\n",
       "      <td>1</td>\n",
       "      <td>0</td>\n",
       "    </tr>\n",
       "    <tr>\n",
       "      <th>2</th>\n",
       "      <td>На состоявшемся под председательством Касым-Жо...</td>\n",
       "      <td>2</td>\n",
       "      <td>0</td>\n",
       "    </tr>\n",
       "    <tr>\n",
       "      <th>3</th>\n",
       "      <td>В ОАЭ состоялись переговоры между казахстанско...</td>\n",
       "      <td>3</td>\n",
       "      <td>0</td>\n",
       "    </tr>\n",
       "    <tr>\n",
       "      <th>4</th>\n",
       "      <td>12 вагонов грузового поезда сошли с путей в Во...</td>\n",
       "      <td>4</td>\n",
       "      <td>0</td>\n",
       "    </tr>\n",
       "    <tr>\n",
       "      <th>5</th>\n",
       "      <td>Отправившиеся на «джихад» из города Сатпаева К...</td>\n",
       "      <td>5</td>\n",
       "      <td>0</td>\n",
       "    </tr>\n",
       "    <tr>\n",
       "      <th>6</th>\n",
       "      <td>\\nНазарбаев утвердил новый состав правительств...</td>\n",
       "      <td>6</td>\n",
       "      <td>0</td>\n",
       "    </tr>\n",
       "    <tr>\n",
       "      <th>7</th>\n",
       "      <td>ШЫМКЕНТ. КАЗИНФОРМ - В Шардаринском районе Южн...</td>\n",
       "      <td>7</td>\n",
       "      <td>0</td>\n",
       "    </tr>\n",
       "    <tr>\n",
       "      <th>8</th>\n",
       "      <td>С 5 августа 2011 года вступил в юридическую с...</td>\n",
       "      <td>8</td>\n",
       "      <td>0</td>\n",
       "    </tr>\n",
       "    <tr>\n",
       "      <th>9</th>\n",
       "      <td>Казахстанцы должны платить за коммунальные усл...</td>\n",
       "      <td>9</td>\n",
       "      <td>0</td>\n",
       "    </tr>\n",
       "  </tbody>\n",
       "</table>\n",
       "</div>"
      ],
      "text/plain": [
       "                                                text  id  sentiment\n",
       "0  Как сообщает пресс-служба акимата Алматы, для ...   0          0\n",
       "1  Казахстанские авиакомпании перевозят 250 тысяч...   1          0\n",
       "2  На состоявшемся под председательством Касым-Жо...   2          0\n",
       "3  В ОАЭ состоялись переговоры между казахстанско...   3          0\n",
       "4  12 вагонов грузового поезда сошли с путей в Во...   4          0\n",
       "5  Отправившиеся на «джихад» из города Сатпаева К...   5          0\n",
       "6  \\nНазарбаев утвердил новый состав правительств...   6          0\n",
       "7  ШЫМКЕНТ. КАЗИНФОРМ - В Шардаринском районе Южн...   7          0\n",
       "8   С 5 августа 2011 года вступил в юридическую с...   8          0\n",
       "9  Казахстанцы должны платить за коммунальные усл...   9          0"
      ]
     },
     "execution_count": 32,
     "metadata": {},
     "output_type": "execute_result"
    }
   ],
   "source": [
    "articles_test = pd.read_json('data/articles/test.json')\n",
    "articles_test['sentiment'] = pd.Series([0] * len(articles_test), dtype=int)\n",
    "articles_test.head(10)"
   ]
  },
  {
   "cell_type": "code",
   "execution_count": 33,
   "metadata": {
    "execution": {
     "iopub.execute_input": "2023-10-31T17:17:10.485361Z",
     "iopub.status.busy": "2023-10-31T17:17:10.485005Z",
     "iopub.status.idle": "2023-10-31T17:17:10.491515Z",
     "shell.execute_reply": "2023-10-31T17:17:10.490438Z",
     "shell.execute_reply.started": "2023-10-31T17:17:10.485332Z"
    }
   },
   "outputs": [],
   "source": [
    "def classify(model, text, tokenizer):\n",
    "    model.eval()\n",
    "    input_ids = tokenizer.encode(text, return_tensors='pt', truncation=True, \n",
    "                                 max_length=2048)\n",
    "    input_ids = input_ids.to(device)\n",
    "    outputs = model(input_ids=input_ids)\n",
    "    logits = torch.mean(outputs.logits, dim=1)\n",
    "    _, indices = torch.max(logits, 1)\n",
    "    return int(indices)"
   ]
  },
  {
   "cell_type": "code",
   "execution_count": 35,
   "metadata": {
    "execution": {
     "iopub.execute_input": "2023-10-31T17:17:35.116602Z",
     "iopub.status.busy": "2023-10-31T17:17:35.115912Z",
     "iopub.status.idle": "2023-10-31T17:19:09.681740Z",
     "shell.execute_reply": "2023-10-31T17:19:09.680446Z",
     "shell.execute_reply.started": "2023-10-31T17:17:35.116568Z"
    }
   },
   "outputs": [
    {
     "data": {
      "text/html": [
       "<div>\n",
       "<style scoped>\n",
       "    .dataframe tbody tr th:only-of-type {\n",
       "        vertical-align: middle;\n",
       "    }\n",
       "\n",
       "    .dataframe tbody tr th {\n",
       "        vertical-align: top;\n",
       "    }\n",
       "\n",
       "    .dataframe thead th {\n",
       "        text-align: right;\n",
       "    }\n",
       "</style>\n",
       "<table border=\"1\" class=\"dataframe\">\n",
       "  <thead>\n",
       "    <tr style=\"text-align: right;\">\n",
       "      <th></th>\n",
       "      <th>text</th>\n",
       "      <th>id</th>\n",
       "      <th>sentiment</th>\n",
       "    </tr>\n",
       "  </thead>\n",
       "  <tbody>\n",
       "    <tr>\n",
       "      <th>0</th>\n",
       "      <td>Как сообщает пресс-служба акимата Алматы, для ...</td>\n",
       "      <td>0</td>\n",
       "      <td>1</td>\n",
       "    </tr>\n",
       "    <tr>\n",
       "      <th>1</th>\n",
       "      <td>Казахстанские авиакомпании перевозят 250 тысяч...</td>\n",
       "      <td>1</td>\n",
       "      <td>2</td>\n",
       "    </tr>\n",
       "    <tr>\n",
       "      <th>2</th>\n",
       "      <td>На состоявшемся под председательством Касым-Жо...</td>\n",
       "      <td>2</td>\n",
       "      <td>1</td>\n",
       "    </tr>\n",
       "    <tr>\n",
       "      <th>3</th>\n",
       "      <td>В ОАЭ состоялись переговоры между казахстанско...</td>\n",
       "      <td>3</td>\n",
       "      <td>1</td>\n",
       "    </tr>\n",
       "    <tr>\n",
       "      <th>4</th>\n",
       "      <td>12 вагонов грузового поезда сошли с путей в Во...</td>\n",
       "      <td>4</td>\n",
       "      <td>0</td>\n",
       "    </tr>\n",
       "    <tr>\n",
       "      <th>5</th>\n",
       "      <td>Отправившиеся на «джихад» из города Сатпаева К...</td>\n",
       "      <td>5</td>\n",
       "      <td>0</td>\n",
       "    </tr>\n",
       "    <tr>\n",
       "      <th>6</th>\n",
       "      <td>\\nНазарбаев утвердил новый состав правительств...</td>\n",
       "      <td>6</td>\n",
       "      <td>2</td>\n",
       "    </tr>\n",
       "    <tr>\n",
       "      <th>7</th>\n",
       "      <td>ШЫМКЕНТ. КАЗИНФОРМ - В Шардаринском районе Южн...</td>\n",
       "      <td>7</td>\n",
       "      <td>2</td>\n",
       "    </tr>\n",
       "    <tr>\n",
       "      <th>8</th>\n",
       "      <td>С 5 августа 2011 года вступил в юридическую с...</td>\n",
       "      <td>8</td>\n",
       "      <td>1</td>\n",
       "    </tr>\n",
       "    <tr>\n",
       "      <th>9</th>\n",
       "      <td>Казахстанцы должны платить за коммунальные усл...</td>\n",
       "      <td>9</td>\n",
       "      <td>1</td>\n",
       "    </tr>\n",
       "  </tbody>\n",
       "</table>\n",
       "</div>"
      ],
      "text/plain": [
       "                                                text  id  sentiment\n",
       "0  Как сообщает пресс-служба акимата Алматы, для ...   0          1\n",
       "1  Казахстанские авиакомпании перевозят 250 тысяч...   1          2\n",
       "2  На состоявшемся под председательством Касым-Жо...   2          1\n",
       "3  В ОАЭ состоялись переговоры между казахстанско...   3          1\n",
       "4  12 вагонов грузового поезда сошли с путей в Во...   4          0\n",
       "5  Отправившиеся на «джихад» из города Сатпаева К...   5          0\n",
       "6  \\nНазарбаев утвердил новый состав правительств...   6          2\n",
       "7  ШЫМКЕНТ. КАЗИНФОРМ - В Шардаринском районе Южн...   7          2\n",
       "8   С 5 августа 2011 года вступил в юридическую с...   8          1\n",
       "9  Казахстанцы должны платить за коммунальные усл...   9          1"
      ]
     },
     "execution_count": 35,
     "metadata": {},
     "output_type": "execute_result"
    }
   ],
   "source": [
    "articles_test['sentiment'] = articles_test['text']\\\n",
    "    .apply(lambda text: classify(gpt, text, tokenizer))\n",
    "articles_test.head(10)"
   ]
  },
  {
   "cell_type": "code",
   "execution_count": 36,
   "metadata": {
    "execution": {
     "iopub.execute_input": "2023-10-31T17:21:16.503378Z",
     "iopub.status.busy": "2023-10-31T17:21:16.502509Z",
     "iopub.status.idle": "2023-10-31T17:21:16.516094Z",
     "shell.execute_reply": "2023-10-31T17:21:16.515232Z",
     "shell.execute_reply.started": "2023-10-31T17:21:16.503340Z"
    }
   },
   "outputs": [
    {
     "data": {
      "text/html": [
       "<div>\n",
       "<style scoped>\n",
       "    .dataframe tbody tr th:only-of-type {\n",
       "        vertical-align: middle;\n",
       "    }\n",
       "\n",
       "    .dataframe tbody tr th {\n",
       "        vertical-align: top;\n",
       "    }\n",
       "\n",
       "    .dataframe thead th {\n",
       "        text-align: right;\n",
       "    }\n",
       "</style>\n",
       "<table border=\"1\" class=\"dataframe\">\n",
       "  <thead>\n",
       "    <tr style=\"text-align: right;\">\n",
       "      <th></th>\n",
       "      <th>text</th>\n",
       "      <th>id</th>\n",
       "      <th>sentiment</th>\n",
       "    </tr>\n",
       "  </thead>\n",
       "  <tbody>\n",
       "    <tr>\n",
       "      <th>0</th>\n",
       "      <td>Как сообщает пресс-служба акимата Алматы, для ...</td>\n",
       "      <td>0</td>\n",
       "      <td>neutral</td>\n",
       "    </tr>\n",
       "    <tr>\n",
       "      <th>1</th>\n",
       "      <td>Казахстанские авиакомпании перевозят 250 тысяч...</td>\n",
       "      <td>1</td>\n",
       "      <td>positive</td>\n",
       "    </tr>\n",
       "    <tr>\n",
       "      <th>2</th>\n",
       "      <td>На состоявшемся под председательством Касым-Жо...</td>\n",
       "      <td>2</td>\n",
       "      <td>neutral</td>\n",
       "    </tr>\n",
       "    <tr>\n",
       "      <th>3</th>\n",
       "      <td>В ОАЭ состоялись переговоры между казахстанско...</td>\n",
       "      <td>3</td>\n",
       "      <td>neutral</td>\n",
       "    </tr>\n",
       "    <tr>\n",
       "      <th>4</th>\n",
       "      <td>12 вагонов грузового поезда сошли с путей в Во...</td>\n",
       "      <td>4</td>\n",
       "      <td>negative</td>\n",
       "    </tr>\n",
       "    <tr>\n",
       "      <th>5</th>\n",
       "      <td>Отправившиеся на «джихад» из города Сатпаева К...</td>\n",
       "      <td>5</td>\n",
       "      <td>negative</td>\n",
       "    </tr>\n",
       "    <tr>\n",
       "      <th>6</th>\n",
       "      <td>\\nНазарбаев утвердил новый состав правительств...</td>\n",
       "      <td>6</td>\n",
       "      <td>positive</td>\n",
       "    </tr>\n",
       "    <tr>\n",
       "      <th>7</th>\n",
       "      <td>ШЫМКЕНТ. КАЗИНФОРМ - В Шардаринском районе Южн...</td>\n",
       "      <td>7</td>\n",
       "      <td>positive</td>\n",
       "    </tr>\n",
       "    <tr>\n",
       "      <th>8</th>\n",
       "      <td>С 5 августа 2011 года вступил в юридическую с...</td>\n",
       "      <td>8</td>\n",
       "      <td>neutral</td>\n",
       "    </tr>\n",
       "    <tr>\n",
       "      <th>9</th>\n",
       "      <td>Казахстанцы должны платить за коммунальные усл...</td>\n",
       "      <td>9</td>\n",
       "      <td>neutral</td>\n",
       "    </tr>\n",
       "  </tbody>\n",
       "</table>\n",
       "</div>"
      ],
      "text/plain": [
       "                                                text  id sentiment\n",
       "0  Как сообщает пресс-служба акимата Алматы, для ...   0   neutral\n",
       "1  Казахстанские авиакомпании перевозят 250 тысяч...   1  positive\n",
       "2  На состоявшемся под председательством Касым-Жо...   2   neutral\n",
       "3  В ОАЭ состоялись переговоры между казахстанско...   3   neutral\n",
       "4  12 вагонов грузового поезда сошли с путей в Во...   4  negative\n",
       "5  Отправившиеся на «джихад» из города Сатпаева К...   5  negative\n",
       "6  \\nНазарбаев утвердил новый состав правительств...   6  positive\n",
       "7  ШЫМКЕНТ. КАЗИНФОРМ - В Шардаринском районе Южн...   7  positive\n",
       "8   С 5 августа 2011 года вступил в юридическую с...   8   neutral\n",
       "9  Казахстанцы должны платить за коммунальные усл...   9   neutral"
      ]
     },
     "execution_count": 36,
     "metadata": {},
     "output_type": "execute_result"
    }
   ],
   "source": [
    "articles_test['sentiment'] = articles_test['sentiment']\\\n",
    "    .map({v: k for k, v in sentiment_map.items()})\n",
    "articles_test.head(10)"
   ]
  },
  {
   "cell_type": "code",
   "execution_count": 37,
   "metadata": {
    "execution": {
     "iopub.execute_input": "2023-10-31T17:21:26.867843Z",
     "iopub.status.busy": "2023-10-31T17:21:26.867119Z",
     "iopub.status.idle": "2023-10-31T17:21:26.880071Z",
     "shell.execute_reply": "2023-10-31T17:21:26.879334Z",
     "shell.execute_reply.started": "2023-10-31T17:21:26.867805Z"
    }
   },
   "outputs": [],
   "source": [
    "articles_test[['id', 'sentiment']].to_csv('output.csv', index=False)"
   ]
  },
  {
   "attachments": {
    "24ae0bd0-05d3-40d7-a4af-4768264f7d2f.png": {
     "image/png": "[encoded data removed]"
    }
   },
   "cell_type": "markdown",
   "metadata": {},
   "source": [
    "![image.png](attachment:24ae0bd0-05d3-40d7-a4af-4768264f7d2f.png)"
   ]
  },
  {
   "cell_type": "code",
   "execution_count": 38,
   "metadata": {
    "execution": {
     "iopub.execute_input": "2023-10-31T17:22:51.556463Z",
     "iopub.status.busy": "2023-10-31T17:22:51.555688Z",
     "iopub.status.idle": "2023-10-31T17:22:52.377236Z",
     "shell.execute_reply": "2023-10-31T17:22:52.376441Z",
     "shell.execute_reply.started": "2023-10-31T17:22:51.556426Z"
    }
   },
   "outputs": [],
   "source": [
    "torch.save(gpt, 'lt_sberbank-gpt-sentiment-classifier.pth')"
   ]
  }
 ],
 "metadata": {
  "kernelspec": {
   "display_name": "Python 3 (ipykernel)",
   "language": "python",
   "name": "python3"
  },
  "language_info": {
   "codemirror_mode": {
    "name": "ipython",
    "version": 3
   },
   "file_extension": ".py",
   "mimetype": "text/x-python",
   "name": "python",
   "nbconvert_exporter": "python",
   "pygments_lexer": "ipython3",
   "version": "3.11.4"
  }
 },
 "nbformat": 4,
 "nbformat_minor": 4
}
