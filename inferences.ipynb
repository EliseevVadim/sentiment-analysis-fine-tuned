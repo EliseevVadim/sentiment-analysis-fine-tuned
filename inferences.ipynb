{
 "cells": [
  {
   "cell_type": "code",
   "execution_count": 1,
   "metadata": {
    "_cell_guid": "b1076dfc-b9ad-4769-8c92-a6c4dae69d19",
    "_uuid": "8f2839f25d086af736a60e9eeb907d3b93b6e0e5",
    "execution": {
     "iopub.execute_input": "2023-11-07T17:49:57.862553Z",
     "iopub.status.busy": "2023-11-07T17:49:57.862129Z",
     "iopub.status.idle": "2023-11-07T17:49:58.203809Z",
     "shell.execute_reply": "2023-11-07T17:49:58.202877Z",
     "shell.execute_reply.started": "2023-11-07T17:49:57.862518Z"
    }
   },
   "outputs": [],
   "source": [
    "import numpy as np\n",
    "import pandas as pd\n",
    "import matplotlib.pyplot as plt\n",
    "import gc"
   ]
  },
  {
   "cell_type": "code",
   "execution_count": 2,
   "metadata": {
    "execution": {
     "iopub.execute_input": "2023-11-07T17:49:58.852921Z",
     "iopub.status.busy": "2023-11-07T17:49:58.851950Z",
     "iopub.status.idle": "2023-11-07T17:50:02.333118Z",
     "shell.execute_reply": "2023-11-07T17:50:02.332097Z",
     "shell.execute_reply.started": "2023-11-07T17:49:58.852884Z"
    }
   },
   "outputs": [],
   "source": [
    "import torch\n",
    "import torch.nn as nn\n",
    "\n",
    "from torch.utils.data import Dataset, DataLoader"
   ]
  },
  {
   "cell_type": "code",
   "execution_count": 3,
   "metadata": {
    "execution": {
     "iopub.execute_input": "2023-11-07T17:50:02.335369Z",
     "iopub.status.busy": "2023-11-07T17:50:02.334873Z",
     "iopub.status.idle": "2023-11-07T17:50:04.208009Z",
     "shell.execute_reply": "2023-11-07T17:50:04.207235Z",
     "shell.execute_reply.started": "2023-11-07T17:50:02.335341Z"
    }
   },
   "outputs": [],
   "source": [
    "import transformers\n",
    "from transformers import GPT2Tokenizer, BertTokenizer"
   ]
  },
  {
   "cell_type": "code",
   "execution_count": 4,
   "metadata": {
    "execution": {
     "iopub.execute_input": "2023-11-07T17:50:04.209571Z",
     "iopub.status.busy": "2023-11-07T17:50:04.209117Z",
     "iopub.status.idle": "2023-11-07T17:50:05.191586Z",
     "shell.execute_reply": "2023-11-07T17:50:05.190718Z",
     "shell.execute_reply.started": "2023-11-07T17:50:04.209543Z"
    }
   },
   "outputs": [],
   "source": [
    "from sklearn.model_selection import train_test_split\n",
    "from sklearn.metrics import accuracy_score\n",
    "from sklearn.metrics import f1_score"
   ]
  },
  {
   "cell_type": "code",
   "execution_count": 5,
   "metadata": {
    "execution": {
     "iopub.execute_input": "2023-11-07T17:50:05.193851Z",
     "iopub.status.busy": "2023-11-07T17:50:05.193561Z",
     "iopub.status.idle": "2023-11-07T17:50:05.198757Z",
     "shell.execute_reply": "2023-11-07T17:50:05.197744Z",
     "shell.execute_reply.started": "2023-11-07T17:50:05.193825Z"
    }
   },
   "outputs": [],
   "source": [
    "def free_memory():\n",
    "    gc.collect()\n",
    "    torch.cuda.empty_cache()"
   ]
  },
  {
   "cell_type": "code",
   "execution_count": 6,
   "metadata": {
    "execution": {
     "iopub.execute_input": "2023-11-07T17:50:05.200332Z",
     "iopub.status.busy": "2023-11-07T17:50:05.199968Z",
     "iopub.status.idle": "2023-11-07T17:50:05.210819Z",
     "shell.execute_reply": "2023-11-07T17:50:05.209775Z",
     "shell.execute_reply.started": "2023-11-07T17:50:05.200305Z"
    }
   },
   "outputs": [],
   "source": [
    "sentiment_map = {\n",
    "    'negative': 0,\n",
    "    'neutral': 1,\n",
    "    'positive': 2\n",
    "}"
   ]
  },
  {
   "cell_type": "code",
   "execution_count": 7,
   "metadata": {
    "execution": {
     "iopub.execute_input": "2023-11-07T17:50:05.212023Z",
     "iopub.status.busy": "2023-11-07T17:50:05.211793Z",
     "iopub.status.idle": "2023-11-07T17:50:05.220920Z",
     "shell.execute_reply": "2023-11-07T17:50:05.220112Z",
     "shell.execute_reply.started": "2023-11-07T17:50:05.212002Z"
    }
   },
   "outputs": [],
   "source": [
    "sber_tokenizer_path = 'sberbank-ai/rugpt3small_based_on_gpt2'\n",
    "rubert_tokenizer_path = 'DeepPavlov/rubert-base-cased'\n",
    "lt_model_path = 'models/lt_sberbank-gpt-sentiment-classifier.pth'\n",
    "st_model_path = 'models/st_sberbank-gpt-sentiment-classifier.pth'\n",
    "st_medium_model_path = 'models/st_sberbank-gpt-sentiment-classifier_medium.pth'\n",
    "st_rubert_path = 'models/st_rubert-sentiment-classifier.pth'\n",
    "lt_rubert_path = 'models/lt_rubert-sentiment-classifier.pth'"
   ]
  },
  {
   "cell_type": "code",
   "execution_count": 8,
   "metadata": {
    "execution": {
     "iopub.execute_input": "2023-11-07T17:50:05.222044Z",
     "iopub.status.busy": "2023-11-07T17:50:05.221819Z",
     "iopub.status.idle": "2023-11-07T17:50:05.261849Z",
     "shell.execute_reply": "2023-11-07T17:50:05.260990Z",
     "shell.execute_reply.started": "2023-11-07T17:50:05.222024Z"
    }
   },
   "outputs": [
    {
     "data": {
      "text/plain": [
       "'cuda'"
      ]
     },
     "execution_count": 8,
     "metadata": {},
     "output_type": "execute_result"
    }
   ],
   "source": [
    "device = ('cuda' if torch.cuda.is_available() else 'cpu')\n",
    "device"
   ]
  },
  {
   "cell_type": "code",
   "execution_count": 9,
   "metadata": {
    "execution": {
     "iopub.execute_input": "2023-11-07T17:50:05.263391Z",
     "iopub.status.busy": "2023-11-07T17:50:05.263128Z",
     "iopub.status.idle": "2023-11-07T17:51:02.724807Z",
     "shell.execute_reply": "2023-11-07T17:51:02.723726Z",
     "shell.execute_reply.started": "2023-11-07T17:50:05.263370Z"
    }
   },
   "outputs": [
    {
     "data": {
      "application/vnd.jupyter.widget-view+json": {
       "model_id": "0b5bad189fd64424827955d3e382eecb",
       "version_major": 2,
       "version_minor": 0
      },
      "text/plain": [
       "Downloading (…)olve/main/vocab.json:   0%|          | 0.00/1.71M [00:00<?, ?B/s]"
      ]
     },
     "metadata": {},
     "output_type": "display_data"
    },
    {
     "data": {
      "application/vnd.jupyter.widget-view+json": {
       "model_id": "4b7da534b47a44628cc63fda5643bfc0",
       "version_major": 2,
       "version_minor": 0
      },
      "text/plain": [
       "Downloading (…)olve/main/merges.txt:   0%|          | 0.00/1.27M [00:00<?, ?B/s]"
      ]
     },
     "metadata": {},
     "output_type": "display_data"
    },
    {
     "data": {
      "application/vnd.jupyter.widget-view+json": {
       "model_id": "ebb595a82f134e29a41d1a18d7d73d76",
       "version_major": 2,
       "version_minor": 0
      },
      "text/plain": [
       "Downloading (…)lve/main/config.json:   0%|          | 0.00/608 [00:00<?, ?B/s]"
      ]
     },
     "metadata": {},
     "output_type": "display_data"
    },
    {
     "data": {
      "application/vnd.jupyter.widget-view+json": {
       "model_id": "0f4281289c0047b387f44fc7a741c56b",
       "version_major": 2,
       "version_minor": 0
      },
      "text/plain": [
       "Downloading (…)solve/main/vocab.txt:   0%|          | 0.00/1.65M [00:00<?, ?B/s]"
      ]
     },
     "metadata": {},
     "output_type": "display_data"
    },
    {
     "data": {
      "application/vnd.jupyter.widget-view+json": {
       "model_id": "e6fc8164290b4c1d87d04b52de24878e",
       "version_major": 2,
       "version_minor": 0
      },
      "text/plain": [
       "Downloading (…)cial_tokens_map.json:   0%|          | 0.00/112 [00:00<?, ?B/s]"
      ]
     },
     "metadata": {},
     "output_type": "display_data"
    },
    {
     "data": {
      "application/vnd.jupyter.widget-view+json": {
       "model_id": "e12f22a69e1d446f91022c29d0ba0f47",
       "version_major": 2,
       "version_minor": 0
      },
      "text/plain": [
       "Downloading (…)okenizer_config.json:   0%|          | 0.00/24.0 [00:00<?, ?B/s]"
      ]
     },
     "metadata": {},
     "output_type": "display_data"
    },
    {
     "data": {
      "application/vnd.jupyter.widget-view+json": {
       "model_id": "ff29156526834a80978c0e70b74e9dac",
       "version_major": 2,
       "version_minor": 0
      },
      "text/plain": [
       "Downloading (…)lve/main/config.json:   0%|          | 0.00/642 [00:00<?, ?B/s]"
      ]
     },
     "metadata": {},
     "output_type": "display_data"
    }
   ],
   "source": [
    "tokenizer = GPT2Tokenizer.from_pretrained(sber_tokenizer_path)\n",
    "rubert_tokenizer = BertTokenizer.from_pretrained(rubert_tokenizer_path)\n",
    "lt_model = torch.load(lt_model_path, map_location=device).to(device)\n",
    "st_model = torch.load(st_model_path, map_location=device).to(device)\n",
    "st_medium_model = torch.load(st_medium_model_path, map_location=device).to(device)\n",
    "st_rubert = torch.load(st_rubert_path, map_location=device).to(device)\n",
    "lt_rubert = torch.load(lt_rubert_path, map_location=device).to(device)"
   ]
  },
  {
   "cell_type": "code",
   "execution_count": 10,
   "metadata": {
    "execution": {
     "iopub.execute_input": "2023-11-07T17:51:02.728095Z",
     "iopub.status.busy": "2023-11-07T17:51:02.727768Z",
     "iopub.status.idle": "2023-11-07T17:51:03.442549Z",
     "shell.execute_reply": "2023-11-07T17:51:03.441611Z",
     "shell.execute_reply.started": "2023-11-07T17:51:02.728051Z"
    }
   },
   "outputs": [
    {
     "data": {
      "text/html": [
       "<div>\n",
       "<style scoped>\n",
       "    .dataframe tbody tr th:only-of-type {\n",
       "        vertical-align: middle;\n",
       "    }\n",
       "\n",
       "    .dataframe tbody tr th {\n",
       "        vertical-align: top;\n",
       "    }\n",
       "\n",
       "    .dataframe thead th {\n",
       "        text-align: right;\n",
       "    }\n",
       "</style>\n",
       "<table border=\"1\" class=\"dataframe\">\n",
       "  <thead>\n",
       "    <tr style=\"text-align: right;\">\n",
       "      <th></th>\n",
       "      <th>review</th>\n",
       "      <th>sentiment</th>\n",
       "    </tr>\n",
       "  </thead>\n",
       "  <tbody>\n",
       "    <tr>\n",
       "      <th>0</th>\n",
       "      <td>качество плохое пошив ужасный (горловина напер...</td>\n",
       "      <td>negative</td>\n",
       "    </tr>\n",
       "    <tr>\n",
       "      <th>1</th>\n",
       "      <td>Товар отдали другому человеку, я не получила п...</td>\n",
       "      <td>negative</td>\n",
       "    </tr>\n",
       "    <tr>\n",
       "      <th>2</th>\n",
       "      <td>Ужасная синтетика! Тонкая, ничего общего с пре...</td>\n",
       "      <td>negative</td>\n",
       "    </tr>\n",
       "    <tr>\n",
       "      <th>3</th>\n",
       "      <td>товар не пришел, продавец продлил защиту без м...</td>\n",
       "      <td>negative</td>\n",
       "    </tr>\n",
       "    <tr>\n",
       "      <th>4</th>\n",
       "      <td>Кофточка голая синтетика, носить не возможно.</td>\n",
       "      <td>negative</td>\n",
       "    </tr>\n",
       "    <tr>\n",
       "      <th>5</th>\n",
       "      <td>Очень глубокие проймы</td>\n",
       "      <td>negative</td>\n",
       "    </tr>\n",
       "    <tr>\n",
       "      <th>6</th>\n",
       "      <td>Я недовольна заказом.Я вот одного не понимаю п...</td>\n",
       "      <td>negative</td>\n",
       "    </tr>\n",
       "    <tr>\n",
       "      <th>7</th>\n",
       "      <td>заказала размер s на от 64,об 94,начнем с того...</td>\n",
       "      <td>negative</td>\n",
       "    </tr>\n",
       "    <tr>\n",
       "      <th>8</th>\n",
       "      <td>Заказ я сделала в июле. С тех пор посылка отсл...</td>\n",
       "      <td>negative</td>\n",
       "    </tr>\n",
       "    <tr>\n",
       "      <th>9</th>\n",
       "      <td>Ужасное качество товара!</td>\n",
       "      <td>negative</td>\n",
       "    </tr>\n",
       "  </tbody>\n",
       "</table>\n",
       "</div>"
      ],
      "text/plain": [
       "                                              review sentiment\n",
       "0  качество плохое пошив ужасный (горловина напер...  negative\n",
       "1  Товар отдали другому человеку, я не получила п...  negative\n",
       "2  Ужасная синтетика! Тонкая, ничего общего с пре...  negative\n",
       "3  товар не пришел, продавец продлил защиту без м...  negative\n",
       "4      Кофточка голая синтетика, носить не возможно.  negative\n",
       "5                              Очень глубокие проймы  negative\n",
       "6  Я недовольна заказом.Я вот одного не понимаю п...  negative\n",
       "7  заказала размер s на от 64,об 94,начнем с того...  negative\n",
       "8  Заказ я сделала в июле. С тех пор посылка отсл...  negative\n",
       "9                           Ужасное качество товара!  negative"
      ]
     },
     "execution_count": 10,
     "metadata": {},
     "output_type": "execute_result"
    }
   ],
   "source": [
    "reviews = pd.read_csv('data/reviews.csv.zip', sep='\\t')\n",
    "reviews.drop_duplicates(subset=['review'], inplace=True)\n",
    "reviews.head(10)"
   ]
  },
  {
   "cell_type": "code",
   "execution_count": 11,
   "metadata": {
    "execution": {
     "iopub.execute_input": "2023-11-07T17:51:03.447291Z",
     "iopub.status.busy": "2023-11-07T17:51:03.446988Z",
     "iopub.status.idle": "2023-11-07T17:51:03.461431Z",
     "shell.execute_reply": "2023-11-07T17:51:03.460390Z",
     "shell.execute_reply.started": "2023-11-07T17:51:03.447265Z"
    }
   },
   "outputs": [
    {
     "data": {
      "text/html": [
       "<div>\n",
       "<style scoped>\n",
       "    .dataframe tbody tr th:only-of-type {\n",
       "        vertical-align: middle;\n",
       "    }\n",
       "\n",
       "    .dataframe tbody tr th {\n",
       "        vertical-align: top;\n",
       "    }\n",
       "\n",
       "    .dataframe thead th {\n",
       "        text-align: right;\n",
       "    }\n",
       "</style>\n",
       "<table border=\"1\" class=\"dataframe\">\n",
       "  <thead>\n",
       "    <tr style=\"text-align: right;\">\n",
       "      <th></th>\n",
       "      <th>review</th>\n",
       "      <th>sentiment</th>\n",
       "    </tr>\n",
       "  </thead>\n",
       "  <tbody>\n",
       "    <tr>\n",
       "      <th>45140</th>\n",
       "      <td>Ехала долго посылка, больше полутора месяца. Д...</td>\n",
       "      <td>neautral</td>\n",
       "    </tr>\n",
       "    <tr>\n",
       "      <th>82647</th>\n",
       "      <td>Очень красивый и приятный на ощупь))</td>\n",
       "      <td>positive</td>\n",
       "    </tr>\n",
       "    <tr>\n",
       "      <th>39454</th>\n",
       "      <td>нитки торчат, прошито очень неаккуратно</td>\n",
       "      <td>neautral</td>\n",
       "    </tr>\n",
       "    <tr>\n",
       "      <th>71219</th>\n",
       "      <td>Доставка быстрая. По размеру подошло 46 р-р. Т...</td>\n",
       "      <td>positive</td>\n",
       "    </tr>\n",
       "    <tr>\n",
       "      <th>45132</th>\n",
       "      <td>Пахнет</td>\n",
       "      <td>neautral</td>\n",
       "    </tr>\n",
       "    <tr>\n",
       "      <th>72801</th>\n",
       "      <td>Отлично всё - пошив, качество, фасон. Брала сп...</td>\n",
       "      <td>positive</td>\n",
       "    </tr>\n",
       "    <tr>\n",
       "      <th>67107</th>\n",
       "      <td>Пришли за три недели, на 39 идеально!!! Понрав...</td>\n",
       "      <td>positive</td>\n",
       "    </tr>\n",
       "    <tr>\n",
       "      <th>1487</th>\n",
       "      <td>Плохое качество и велик размер S. Хотя у меня ...</td>\n",
       "      <td>negative</td>\n",
       "    </tr>\n",
       "    <tr>\n",
       "      <th>9131</th>\n",
       "      <td>Прошло 4 месяца с продом.продлевали защиту тов...</td>\n",
       "      <td>negative</td>\n",
       "    </tr>\n",
       "    <tr>\n",
       "      <th>3752</th>\n",
       "      <td>Товар так и не пришел! Пришел подарок от продо...</td>\n",
       "      <td>negative</td>\n",
       "    </tr>\n",
       "  </tbody>\n",
       "</table>\n",
       "</div>"
      ],
      "text/plain": [
       "                                                  review sentiment\n",
       "45140  Ехала долго посылка, больше полутора месяца. Д...  neautral\n",
       "82647              Очень красивый и приятный на ощупь))   positive\n",
       "39454            нитки торчат, прошито очень неаккуратно  neautral\n",
       "71219  Доставка быстрая. По размеру подошло 46 р-р. Т...  positive\n",
       "45132                                            Пахнет   neautral\n",
       "72801  Отлично всё - пошив, качество, фасон. Брала сп...  positive\n",
       "67107  Пришли за три недели, на 39 идеально!!! Понрав...  positive\n",
       "1487   Плохое качество и велик размер S. Хотя у меня ...  negative\n",
       "9131   Прошло 4 месяца с продом.продлевали защиту тов...  negative\n",
       "3752   Товар так и не пришел! Пришел подарок от продо...  negative"
      ]
     },
     "execution_count": 11,
     "metadata": {},
     "output_type": "execute_result"
    }
   ],
   "source": [
    "reviews_test_sample = reviews.sample(frac=0.2, random_state=42)\n",
    "reviews_test_sample.head(10)"
   ]
  },
  {
   "cell_type": "code",
   "execution_count": 12,
   "metadata": {
    "execution": {
     "iopub.execute_input": "2023-11-07T17:51:03.464614Z",
     "iopub.status.busy": "2023-11-07T17:51:03.464342Z",
     "iopub.status.idle": "2023-11-07T17:51:03.654133Z",
     "shell.execute_reply": "2023-11-07T17:51:03.652992Z",
     "shell.execute_reply.started": "2023-11-07T17:51:03.464590Z"
    }
   },
   "outputs": [
    {
     "data": {
      "image/png": "[encoded data removed]",
      "text/plain": [
       "<Figure size 640x480 with 1 Axes>"
      ]
     },
     "metadata": {},
     "output_type": "display_data"
    }
   ],
   "source": [
    "reviews_test_sample.sentiment.hist()\n",
    "plt.show()"
   ]
  },
  {
   "cell_type": "code",
   "execution_count": 13,
   "metadata": {
    "execution": {
     "iopub.execute_input": "2023-11-07T17:51:03.656494Z",
     "iopub.status.busy": "2023-11-07T17:51:03.655417Z",
     "iopub.status.idle": "2023-11-07T17:51:03.661386Z",
     "shell.execute_reply": "2023-11-07T17:51:03.660352Z",
     "shell.execute_reply.started": "2023-11-07T17:51:03.656458Z"
    }
   },
   "outputs": [],
   "source": [
    "reviews_sentiment_map = {\n",
    "    'negative': 0,\n",
    "    'neautral': 1,\n",
    "    'positive': 2\n",
    "}"
   ]
  },
  {
   "cell_type": "code",
   "execution_count": 14,
   "metadata": {
    "execution": {
     "iopub.execute_input": "2023-11-07T17:51:03.663630Z",
     "iopub.status.busy": "2023-11-07T17:51:03.662617Z",
     "iopub.status.idle": "2023-11-07T17:51:03.692662Z",
     "shell.execute_reply": "2023-11-07T17:51:03.691790Z",
     "shell.execute_reply.started": "2023-11-07T17:51:03.663594Z"
    }
   },
   "outputs": [
    {
     "data": {
      "text/html": [
       "<div>\n",
       "<style scoped>\n",
       "    .dataframe tbody tr th:only-of-type {\n",
       "        vertical-align: middle;\n",
       "    }\n",
       "\n",
       "    .dataframe tbody tr th {\n",
       "        vertical-align: top;\n",
       "    }\n",
       "\n",
       "    .dataframe thead th {\n",
       "        text-align: right;\n",
       "    }\n",
       "</style>\n",
       "<table border=\"1\" class=\"dataframe\">\n",
       "  <thead>\n",
       "    <tr style=\"text-align: right;\">\n",
       "      <th></th>\n",
       "      <th>review</th>\n",
       "      <th>sentiment</th>\n",
       "    </tr>\n",
       "  </thead>\n",
       "  <tbody>\n",
       "    <tr>\n",
       "      <th>45140</th>\n",
       "      <td>Ехала долго посылка, больше полутора месяца. Д...</td>\n",
       "      <td>1</td>\n",
       "    </tr>\n",
       "    <tr>\n",
       "      <th>82647</th>\n",
       "      <td>Очень красивый и приятный на ощупь))</td>\n",
       "      <td>2</td>\n",
       "    </tr>\n",
       "    <tr>\n",
       "      <th>39454</th>\n",
       "      <td>нитки торчат, прошито очень неаккуратно</td>\n",
       "      <td>1</td>\n",
       "    </tr>\n",
       "    <tr>\n",
       "      <th>71219</th>\n",
       "      <td>Доставка быстрая. По размеру подошло 46 р-р. Т...</td>\n",
       "      <td>2</td>\n",
       "    </tr>\n",
       "    <tr>\n",
       "      <th>45132</th>\n",
       "      <td>Пахнет</td>\n",
       "      <td>1</td>\n",
       "    </tr>\n",
       "    <tr>\n",
       "      <th>72801</th>\n",
       "      <td>Отлично всё - пошив, качество, фасон. Брала сп...</td>\n",
       "      <td>2</td>\n",
       "    </tr>\n",
       "    <tr>\n",
       "      <th>67107</th>\n",
       "      <td>Пришли за три недели, на 39 идеально!!! Понрав...</td>\n",
       "      <td>2</td>\n",
       "    </tr>\n",
       "    <tr>\n",
       "      <th>1487</th>\n",
       "      <td>Плохое качество и велик размер S. Хотя у меня ...</td>\n",
       "      <td>0</td>\n",
       "    </tr>\n",
       "    <tr>\n",
       "      <th>9131</th>\n",
       "      <td>Прошло 4 месяца с продом.продлевали защиту тов...</td>\n",
       "      <td>0</td>\n",
       "    </tr>\n",
       "    <tr>\n",
       "      <th>3752</th>\n",
       "      <td>Товар так и не пришел! Пришел подарок от продо...</td>\n",
       "      <td>0</td>\n",
       "    </tr>\n",
       "  </tbody>\n",
       "</table>\n",
       "</div>"
      ],
      "text/plain": [
       "                                                  review  sentiment\n",
       "45140  Ехала долго посылка, больше полутора месяца. Д...          1\n",
       "82647              Очень красивый и приятный на ощупь))           2\n",
       "39454            нитки торчат, прошито очень неаккуратно          1\n",
       "71219  Доставка быстрая. По размеру подошло 46 р-р. Т...          2\n",
       "45132                                            Пахнет           1\n",
       "72801  Отлично всё - пошив, качество, фасон. Брала сп...          2\n",
       "67107  Пришли за три недели, на 39 идеально!!! Понрав...          2\n",
       "1487   Плохое качество и велик размер S. Хотя у меня ...          0\n",
       "9131   Прошло 4 месяца с продом.продлевали защиту тов...          0\n",
       "3752   Товар так и не пришел! Пришел подарок от продо...          0"
      ]
     },
     "execution_count": 14,
     "metadata": {},
     "output_type": "execute_result"
    }
   ],
   "source": [
    "reviews_test_sample.sentiment = reviews_test_sample.sentiment\\\n",
    "    .apply(lambda x: reviews_sentiment_map[x])\n",
    "reviews_test_sample.head(10)"
   ]
  },
  {
   "cell_type": "code",
   "execution_count": 15,
   "metadata": {
    "execution": {
     "iopub.execute_input": "2023-11-07T17:51:03.694326Z",
     "iopub.status.busy": "2023-11-07T17:51:03.693647Z",
     "iopub.status.idle": "2023-11-07T17:51:03.701457Z",
     "shell.execute_reply": "2023-11-07T17:51:03.700563Z",
     "shell.execute_reply.started": "2023-11-07T17:51:03.694292Z"
    }
   },
   "outputs": [],
   "source": [
    "class SentimentAnalysisDataset(Dataset):\n",
    "    def __init__(self, X, y, tokenizer=None, num_labels=3, max_length=2048):\n",
    "        self.X = tokenizer(X.tolist(), \n",
    "                           truncation=True, \n",
    "                           padding=True,\n",
    "                           return_tensors=\"pt\",\n",
    "                           max_length=max_length).to(device)\n",
    "        self.y = torch.tensor(y.to_numpy(), dtype=torch.int64).to(device)\n",
    "    \n",
    "    def __len__(self):\n",
    "        return len(self.y)\n",
    "    \n",
    "    def __getitem__(self, idx):\n",
    "        return self.X.input_ids[idx], self.X.attention_mask[idx], self.y[idx]"
   ]
  },
  {
   "cell_type": "code",
   "execution_count": 16,
   "metadata": {
    "execution": {
     "iopub.execute_input": "2023-11-07T17:51:03.702795Z",
     "iopub.status.busy": "2023-11-07T17:51:03.702536Z",
     "iopub.status.idle": "2023-11-07T17:51:03.711987Z",
     "shell.execute_reply": "2023-11-07T17:51:03.711265Z",
     "shell.execute_reply.started": "2023-11-07T17:51:03.702771Z"
    }
   },
   "outputs": [],
   "source": [
    "X = reviews_test_sample.review\n",
    "y = reviews_test_sample.sentiment"
   ]
  },
  {
   "cell_type": "code",
   "execution_count": 17,
   "metadata": {
    "execution": {
     "iopub.execute_input": "2023-11-07T17:51:03.713739Z",
     "iopub.status.busy": "2023-11-07T17:51:03.713087Z",
     "iopub.status.idle": "2023-11-07T17:51:03.724885Z",
     "shell.execute_reply": "2023-11-07T17:51:03.724118Z",
     "shell.execute_reply.started": "2023-11-07T17:51:03.713701Z"
    }
   },
   "outputs": [
    {
     "name": "stdout",
     "output_type": "stream",
     "text": [
      "<pad>\n",
      "[PAD]\n"
     ]
    }
   ],
   "source": [
    "tokenizer.pad_token_id = 0\n",
    "rubert_tokenizer.pad_token_id = 0\n",
    "print(tokenizer.pad_token)\n",
    "print(rubert_tokenizer.pad_token)"
   ]
  },
  {
   "cell_type": "code",
   "execution_count": 18,
   "metadata": {
    "execution": {
     "iopub.execute_input": "2023-11-07T17:51:03.726177Z",
     "iopub.status.busy": "2023-11-07T17:51:03.725888Z",
     "iopub.status.idle": "2023-11-07T17:51:40.360939Z",
     "shell.execute_reply": "2023-11-07T17:51:40.359944Z",
     "shell.execute_reply.started": "2023-11-07T17:51:03.726153Z"
    }
   },
   "outputs": [],
   "source": [
    "reviews_test_dataset = SentimentAnalysisDataset(X, y, tokenizer)\n",
    "rubert_reviews_test_dataset = SentimentAnalysisDataset(X, y, rubert_tokenizer, \n",
    "                                                       max_length=512)\n",
    "\n",
    "free_memory()"
   ]
  },
  {
   "cell_type": "code",
   "execution_count": 19,
   "metadata": {
    "execution": {
     "iopub.execute_input": "2023-11-07T17:51:40.362352Z",
     "iopub.status.busy": "2023-11-07T17:51:40.362042Z",
     "iopub.status.idle": "2023-11-07T17:51:40.367009Z",
     "shell.execute_reply": "2023-11-07T17:51:40.365999Z",
     "shell.execute_reply.started": "2023-11-07T17:51:40.362326Z"
    }
   },
   "outputs": [],
   "source": [
    "reviews_test_loader = DataLoader(reviews_test_dataset, batch_size=32)\n",
    "rubert_reviews_test_loader = DataLoader(rubert_reviews_test_dataset, batch_size=32)"
   ]
  },
  {
   "cell_type": "code",
   "execution_count": 20,
   "metadata": {
    "execution": {
     "iopub.execute_input": "2023-11-07T17:51:40.368792Z",
     "iopub.status.busy": "2023-11-07T17:51:40.368444Z",
     "iopub.status.idle": "2023-11-07T17:51:40.380761Z",
     "shell.execute_reply": "2023-11-07T17:51:40.379982Z",
     "shell.execute_reply.started": "2023-11-07T17:51:40.368759Z"
    }
   },
   "outputs": [],
   "source": [
    "def evaluate_model(model, data_loader):\n",
    "    ground_truth = []\n",
    "    predictions = []\n",
    "\n",
    "    model.eval()\n",
    "    for input_ids, attention_mask, labels in data_loader:\n",
    "        input_ids = input_ids.to(device)\n",
    "        attention_mask = attention_mask.to(device)\n",
    "        labels = labels.to(device)\n",
    "        outputs = model(input_ids=input_ids, attention_mask=attention_mask)\n",
    "        logits = torch.mean(outputs.logits, dim=1)\n",
    "        _, indices = torch.max(logits, 1)\n",
    "        predictions.extend(indices.tolist())\n",
    "        ground_truth.extend(labels.tolist())\n",
    "        del input_ids\n",
    "        del attention_mask\n",
    "        del labels\n",
    "        del outputs\n",
    "        del logits\n",
    "        del indices\n",
    "        free_memory()\n",
    "    accuracy = accuracy_score(ground_truth, predictions)\n",
    "    f1 = f1_score(ground_truth, predictions, average='macro')\n",
    "    del predictions\n",
    "    del ground_truth\n",
    "    free_memory()\n",
    "    return accuracy, f1"
   ]
  },
  {
   "cell_type": "code",
   "execution_count": 21,
   "metadata": {
    "execution": {
     "iopub.execute_input": "2023-11-07T17:51:40.381942Z",
     "iopub.status.busy": "2023-11-07T17:51:40.381707Z",
     "iopub.status.idle": "2023-11-07T17:51:40.400725Z",
     "shell.execute_reply": "2023-11-07T17:51:40.399894Z",
     "shell.execute_reply.started": "2023-11-07T17:51:40.381921Z"
    }
   },
   "outputs": [],
   "source": [
    "def evaluate_bert_model(model, data_loader):\n",
    "    ground_truth = []\n",
    "    predictions = []\n",
    "\n",
    "    model.eval()\n",
    "    for input_ids, attention_mask, labels in data_loader:\n",
    "        input_ids = input_ids.to(device)\n",
    "        attention_mask = attention_mask.to(device)\n",
    "        labels = labels.to(device)\n",
    "        outputs = model(input_ids=input_ids, attention_mask=attention_mask)\n",
    "        _, indices = torch.max(outputs.logits, 1)\n",
    "        predictions.extend(indices.tolist())\n",
    "        ground_truth.extend(labels.tolist())\n",
    "        del input_ids\n",
    "        del attention_mask\n",
    "        del labels\n",
    "        del outputs\n",
    "        del indices\n",
    "        free_memory()\n",
    "    accuracy = accuracy_score(ground_truth, predictions)\n",
    "    f1 = f1_score(ground_truth, predictions, average='macro')\n",
    "    del predictions\n",
    "    del ground_truth\n",
    "    free_memory()\n",
    "    return accuracy, f1"
   ]
  },
  {
   "cell_type": "code",
   "execution_count": 22,
   "metadata": {
    "execution": {
     "iopub.execute_input": "2023-11-07T17:51:40.402216Z",
     "iopub.status.busy": "2023-11-07T17:51:40.401829Z",
     "iopub.status.idle": "2023-11-07T18:00:23.729261Z",
     "shell.execute_reply": "2023-11-07T18:00:23.728357Z",
     "shell.execute_reply.started": "2023-11-07T17:51:40.402181Z"
    }
   },
   "outputs": [
    {
     "name": "stdout",
     "output_type": "stream",
     "text": [
      "Reviews test accuracy from large text model is 0.4852840128263857\n",
      "Reviews test f1 score from large text model is 0.48834310344720455\n",
      "CPU times: user 7min 42s, sys: 59.5 s, total: 8min 41s\n",
      "Wall time: 8min 43s\n"
     ]
    }
   ],
   "source": [
    "%%time\n",
    "accuracy, f1 = evaluate_model(lt_model, reviews_test_loader)\n",
    "print(f\"Reviews test accuracy from large text model is {accuracy}\")\n",
    "print(f\"Reviews test f1 score from large text model is {f1}\")"
   ]
  },
  {
   "cell_type": "code",
   "execution_count": 23,
   "metadata": {
    "execution": {
     "iopub.execute_input": "2023-11-07T18:00:23.730588Z",
     "iopub.status.busy": "2023-11-07T18:00:23.730311Z",
     "iopub.status.idle": "2023-11-07T18:09:05.063752Z",
     "shell.execute_reply": "2023-11-07T18:09:05.062734Z",
     "shell.execute_reply.started": "2023-11-07T18:00:23.730563Z"
    }
   },
   "outputs": [
    {
     "name": "stdout",
     "output_type": "stream",
     "text": [
      "Reviews test accuracy from small text model is 0.7238318827301878\n",
      "Reviews test f1 score from small text model is 0.7217606786663741\n",
      "CPU times: user 7min 42s, sys: 59.5 s, total: 8min 41s\n",
      "Wall time: 8min 41s\n"
     ]
    }
   ],
   "source": [
    "%%time\n",
    "accuracy, f1 = evaluate_model(st_model, reviews_test_loader)\n",
    "print(f\"Reviews test accuracy from small text model is {accuracy}\")\n",
    "print(f\"Reviews test f1 score from small text model is {f1}\")"
   ]
  },
  {
   "cell_type": "code",
   "execution_count": 24,
   "metadata": {
    "execution": {
     "iopub.execute_input": "2023-11-07T18:09:05.065307Z",
     "iopub.status.busy": "2023-11-07T18:09:05.065000Z",
     "iopub.status.idle": "2023-11-07T18:30:26.004613Z",
     "shell.execute_reply": "2023-11-07T18:30:26.003644Z",
     "shell.execute_reply.started": "2023-11-07T18:09:05.065282Z"
    }
   },
   "outputs": [
    {
     "name": "stdout",
     "output_type": "stream",
     "text": [
      "Reviews test accuracy from small text medium sized model is 0.7186211635364178\n",
      "Reviews test f1 score from small text medium sized model is 0.7154217127279076\n",
      "CPU times: user 19min 38s, sys: 1min 43s, total: 21min 21s\n",
      "Wall time: 21min 20s\n"
     ]
    }
   ],
   "source": [
    "%%time\n",
    "accuracy, f1 = evaluate_model(st_medium_model, reviews_test_loader)\n",
    "print(f\"Reviews test accuracy from small text medium sized model is {accuracy}\")\n",
    "print(f\"Reviews test f1 score from small text medium sized model is {f1}\")"
   ]
  },
  {
   "cell_type": "code",
   "execution_count": 25,
   "metadata": {
    "execution": {
     "iopub.execute_input": "2023-11-07T18:30:26.006092Z",
     "iopub.status.busy": "2023-11-07T18:30:26.005797Z",
     "iopub.status.idle": "2023-11-07T18:35:57.753249Z",
     "shell.execute_reply": "2023-11-07T18:35:57.752277Z",
     "shell.execute_reply.started": "2023-11-07T18:30:26.006055Z"
    }
   },
   "outputs": [
    {
     "name": "stdout",
     "output_type": "stream",
     "text": [
      "Reviews test accuracy from small text RuBert is 0.6501946862116353\n",
      "Reviews test f1 score from small text RuBert is 0.6474060214332357\n",
      "CPU times: user 5min 20s, sys: 11.4 s, total: 5min 31s\n",
      "Wall time: 5min 31s\n"
     ]
    }
   ],
   "source": [
    "%%time\n",
    "accuracy, f1 = evaluate_bert_model(st_rubert, rubert_reviews_test_loader)\n",
    "print(f\"Reviews test accuracy from small text RuBert is {accuracy}\")\n",
    "print(f\"Reviews test f1 score from small text RuBert is {f1}\")"
   ]
  },
  {
   "cell_type": "code",
   "execution_count": 26,
   "metadata": {
    "execution": {
     "iopub.execute_input": "2023-11-07T18:35:57.755004Z",
     "iopub.status.busy": "2023-11-07T18:35:57.754607Z",
     "iopub.status.idle": "2023-11-07T18:41:28.009989Z",
     "shell.execute_reply": "2023-11-07T18:41:28.009087Z",
     "shell.execute_reply.started": "2023-11-07T18:35:57.754973Z"
    }
   },
   "outputs": [
    {
     "name": "stdout",
     "output_type": "stream",
     "text": [
      "Reviews test accuracy from large text RuBert is 0.5128263857077416\n",
      "Reviews test f1 score from large text RuBert is 0.5064336058420454\n",
      "CPU times: user 5min 19s, sys: 11.4 s, total: 5min 30s\n",
      "Wall time: 5min 30s\n"
     ]
    }
   ],
   "source": [
    "%%time\n",
    "accuracy, f1 = evaluate_bert_model(lt_rubert, rubert_reviews_test_loader)\n",
    "print(f\"Reviews test accuracy from large text RuBert is {accuracy}\")\n",
    "print(f\"Reviews test f1 score from large text RuBert is {f1}\")"
   ]
  },
  {
   "cell_type": "code",
   "execution_count": 27,
   "metadata": {
    "execution": {
     "iopub.execute_input": "2023-11-07T18:41:28.011591Z",
     "iopub.status.busy": "2023-11-07T18:41:28.011303Z",
     "iopub.status.idle": "2023-11-07T18:41:29.460796Z",
     "shell.execute_reply": "2023-11-07T18:41:29.459849Z",
     "shell.execute_reply.started": "2023-11-07T18:41:28.011565Z"
    }
   },
   "outputs": [
    {
     "data": {
      "text/html": [
       "<div>\n",
       "<style scoped>\n",
       "    .dataframe tbody tr th:only-of-type {\n",
       "        vertical-align: middle;\n",
       "    }\n",
       "\n",
       "    .dataframe tbody tr th {\n",
       "        vertical-align: top;\n",
       "    }\n",
       "\n",
       "    .dataframe thead th {\n",
       "        text-align: right;\n",
       "    }\n",
       "</style>\n",
       "<table border=\"1\" class=\"dataframe\">\n",
       "  <thead>\n",
       "    <tr style=\"text-align: right;\">\n",
       "      <th></th>\n",
       "      <th>text</th>\n",
       "      <th>id</th>\n",
       "      <th>sentiment</th>\n",
       "    </tr>\n",
       "  </thead>\n",
       "  <tbody>\n",
       "    <tr>\n",
       "      <th>0</th>\n",
       "      <td>Досудебное расследование по факту покупки ЕНПФ...</td>\n",
       "      <td>1945</td>\n",
       "      <td>negative</td>\n",
       "    </tr>\n",
       "    <tr>\n",
       "      <th>1</th>\n",
       "      <td>Медики рассказали о состоянии пострадавшего му...</td>\n",
       "      <td>1957</td>\n",
       "      <td>negative</td>\n",
       "    </tr>\n",
       "    <tr>\n",
       "      <th>2</th>\n",
       "      <td>Прошел почти год, как железнодорожным оператор...</td>\n",
       "      <td>1969</td>\n",
       "      <td>negative</td>\n",
       "    </tr>\n",
       "    <tr>\n",
       "      <th>3</th>\n",
       "      <td>По итогам 12 месяцев 2016 года на территории р...</td>\n",
       "      <td>1973</td>\n",
       "      <td>negative</td>\n",
       "    </tr>\n",
       "    <tr>\n",
       "      <th>4</th>\n",
       "      <td>Астана. 21 ноября. Kazakhstan Today - Агентств...</td>\n",
       "      <td>1975</td>\n",
       "      <td>negative</td>\n",
       "    </tr>\n",
       "    <tr>\n",
       "      <th>5</th>\n",
       "      <td>Об аресте бывшего министра национальной эконом...</td>\n",
       "      <td>1980</td>\n",
       "      <td>negative</td>\n",
       "    </tr>\n",
       "    <tr>\n",
       "      <th>6</th>\n",
       "      <td>Двое налетчиков совершили нападение на охранни...</td>\n",
       "      <td>1982</td>\n",
       "      <td>negative</td>\n",
       "    </tr>\n",
       "    <tr>\n",
       "      <th>7</th>\n",
       "      <td>\"Самрук-Энерго\" в I квартале почти вдвое снизи...</td>\n",
       "      <td>1983</td>\n",
       "      <td>negative</td>\n",
       "    </tr>\n",
       "    <tr>\n",
       "      <th>8</th>\n",
       "      <td>В 2016 году почти половина коррупционных прест...</td>\n",
       "      <td>1985</td>\n",
       "      <td>negative</td>\n",
       "    </tr>\n",
       "    <tr>\n",
       "      <th>9</th>\n",
       "      <td>Google+\\nЧт 19 янв 2017 12:35:02\\nОдин из фигу...</td>\n",
       "      <td>1988</td>\n",
       "      <td>negative</td>\n",
       "    </tr>\n",
       "  </tbody>\n",
       "</table>\n",
       "</div>"
      ],
      "text/plain": [
       "                                                text    id sentiment\n",
       "0  Досудебное расследование по факту покупки ЕНПФ...  1945  negative\n",
       "1  Медики рассказали о состоянии пострадавшего му...  1957  negative\n",
       "2  Прошел почти год, как железнодорожным оператор...  1969  negative\n",
       "3  По итогам 12 месяцев 2016 года на территории р...  1973  negative\n",
       "4  Астана. 21 ноября. Kazakhstan Today - Агентств...  1975  negative\n",
       "5  Об аресте бывшего министра национальной эконом...  1980  negative\n",
       "6  Двое налетчиков совершили нападение на охранни...  1982  negative\n",
       "7  \"Самрук-Энерго\" в I квартале почти вдвое снизи...  1983  negative\n",
       "8  В 2016 году почти половина коррупционных прест...  1985  negative\n",
       "9  Google+\\nЧт 19 янв 2017 12:35:02\\nОдин из фигу...  1988  negative"
      ]
     },
     "execution_count": 27,
     "metadata": {},
     "output_type": "execute_result"
    }
   ],
   "source": [
    "articles = pd.read_json('data/articles/train.json')\n",
    "articles.head(10)"
   ]
  },
  {
   "cell_type": "code",
   "execution_count": 28,
   "metadata": {
    "execution": {
     "iopub.execute_input": "2023-11-07T18:41:29.462209Z",
     "iopub.status.busy": "2023-11-07T18:41:29.461877Z",
     "iopub.status.idle": "2023-11-07T18:41:29.475007Z",
     "shell.execute_reply": "2023-11-07T18:41:29.474109Z",
     "shell.execute_reply.started": "2023-11-07T18:41:29.462167Z"
    }
   },
   "outputs": [
    {
     "data": {
      "text/html": [
       "<div>\n",
       "<style scoped>\n",
       "    .dataframe tbody tr th:only-of-type {\n",
       "        vertical-align: middle;\n",
       "    }\n",
       "\n",
       "    .dataframe tbody tr th {\n",
       "        vertical-align: top;\n",
       "    }\n",
       "\n",
       "    .dataframe thead th {\n",
       "        text-align: right;\n",
       "    }\n",
       "</style>\n",
       "<table border=\"1\" class=\"dataframe\">\n",
       "  <thead>\n",
       "    <tr style=\"text-align: right;\">\n",
       "      <th></th>\n",
       "      <th>text</th>\n",
       "      <th>id</th>\n",
       "      <th>sentiment</th>\n",
       "    </tr>\n",
       "  </thead>\n",
       "  <tbody>\n",
       "    <tr>\n",
       "      <th>5176</th>\n",
       "      <td>В немецком городе Гамбург состоялся экономичес...</td>\n",
       "      <td>7230</td>\n",
       "      <td>neutral</td>\n",
       "    </tr>\n",
       "    <tr>\n",
       "      <th>5418</th>\n",
       "      <td>Глава правительства Бакытжан Сагинтаев провел ...</td>\n",
       "      <td>7472</td>\n",
       "      <td>neutral</td>\n",
       "    </tr>\n",
       "    <tr>\n",
       "      <th>856</th>\n",
       "      <td>В среду, 25 января, первый заместитель п...</td>\n",
       "      <td>2910</td>\n",
       "      <td>positive</td>\n",
       "    </tr>\n",
       "    <tr>\n",
       "      <th>8200</th>\n",
       "      <td>Kapital.kz 19 января 2017, 17:11 \\n\\nkapital.k...</td>\n",
       "      <td>10254</td>\n",
       "      <td>positive</td>\n",
       "    </tr>\n",
       "    <tr>\n",
       "      <th>1793</th>\n",
       "      <td>Высококачественные подделки тенге в Казахстане...</td>\n",
       "      <td>3847</td>\n",
       "      <td>neutral</td>\n",
       "    </tr>\n",
       "    <tr>\n",
       "      <th>7678</th>\n",
       "      <td>Все отрасли ТЭК. Россия и Мир 20:41, 5.1.17 \\n...</td>\n",
       "      <td>9732</td>\n",
       "      <td>neutral</td>\n",
       "    </tr>\n",
       "    <tr>\n",
       "      <th>4840</th>\n",
       "      <td>\\nКАЗАНЬ, 7 октября. /Корр. ТАСС Алексей Угаро...</td>\n",
       "      <td>6894</td>\n",
       "      <td>positive</td>\n",
       "    </tr>\n",
       "    <tr>\n",
       "      <th>5576</th>\n",
       "      <td>О реализации инвестпроектов в агропромышленном...</td>\n",
       "      <td>7630</td>\n",
       "      <td>neutral</td>\n",
       "    </tr>\n",
       "    <tr>\n",
       "      <th>7326</th>\n",
       "      <td>Ранее торговый центр был выставлен на торги че...</td>\n",
       "      <td>9380</td>\n",
       "      <td>neutral</td>\n",
       "    </tr>\n",
       "    <tr>\n",
       "      <th>5351</th>\n",
       "      <td>Алматы. 26 декабря. Центр информации. Руководс...</td>\n",
       "      <td>7405</td>\n",
       "      <td>positive</td>\n",
       "    </tr>\n",
       "  </tbody>\n",
       "</table>\n",
       "</div>"
      ],
      "text/plain": [
       "                                                   text     id sentiment\n",
       "5176  В немецком городе Гамбург состоялся экономичес...   7230   neutral\n",
       "5418  Глава правительства Бакытжан Сагинтаев провел ...   7472   neutral\n",
       "856         В среду, 25 января, первый заместитель п...   2910  positive\n",
       "8200  Kapital.kz 19 января 2017, 17:11 \\n\\nkapital.k...  10254  positive\n",
       "1793  Высококачественные подделки тенге в Казахстане...   3847   neutral\n",
       "7678  Все отрасли ТЭК. Россия и Мир 20:41, 5.1.17 \\n...   9732   neutral\n",
       "4840  \\nКАЗАНЬ, 7 октября. /Корр. ТАСС Алексей Угаро...   6894  positive\n",
       "5576  О реализации инвестпроектов в агропромышленном...   7630   neutral\n",
       "7326  Ранее торговый центр был выставлен на торги че...   9380   neutral\n",
       "5351  Алматы. 26 декабря. Центр информации. Руководс...   7405  positive"
      ]
     },
     "execution_count": 28,
     "metadata": {},
     "output_type": "execute_result"
    }
   ],
   "source": [
    "articles_test_sample = articles.sample(2056, random_state=42)\n",
    "articles_test_sample.head(10)"
   ]
  },
  {
   "cell_type": "code",
   "execution_count": 29,
   "metadata": {
    "execution": {
     "iopub.execute_input": "2023-11-07T18:41:29.480352Z",
     "iopub.status.busy": "2023-11-07T18:41:29.480057Z",
     "iopub.status.idle": "2023-11-07T18:41:29.684231Z",
     "shell.execute_reply": "2023-11-07T18:41:29.683277Z",
     "shell.execute_reply.started": "2023-11-07T18:41:29.480329Z"
    }
   },
   "outputs": [
    {
     "data": {
      "image/png": "[encoded data removed]",
      "text/plain": [
       "<Figure size 640x480 with 1 Axes>"
      ]
     },
     "metadata": {},
     "output_type": "display_data"
    }
   ],
   "source": [
    "articles_test_sample.sentiment.hist()\n",
    "plt.show()"
   ]
  },
  {
   "cell_type": "code",
   "execution_count": 30,
   "metadata": {
    "execution": {
     "iopub.execute_input": "2023-11-07T18:41:29.685794Z",
     "iopub.status.busy": "2023-11-07T18:41:29.685422Z",
     "iopub.status.idle": "2023-11-07T18:41:29.698845Z",
     "shell.execute_reply": "2023-11-07T18:41:29.697807Z",
     "shell.execute_reply.started": "2023-11-07T18:41:29.685758Z"
    }
   },
   "outputs": [
    {
     "data": {
      "text/html": [
       "<div>\n",
       "<style scoped>\n",
       "    .dataframe tbody tr th:only-of-type {\n",
       "        vertical-align: middle;\n",
       "    }\n",
       "\n",
       "    .dataframe tbody tr th {\n",
       "        vertical-align: top;\n",
       "    }\n",
       "\n",
       "    .dataframe thead th {\n",
       "        text-align: right;\n",
       "    }\n",
       "</style>\n",
       "<table border=\"1\" class=\"dataframe\">\n",
       "  <thead>\n",
       "    <tr style=\"text-align: right;\">\n",
       "      <th></th>\n",
       "      <th>text</th>\n",
       "      <th>id</th>\n",
       "      <th>sentiment</th>\n",
       "    </tr>\n",
       "  </thead>\n",
       "  <tbody>\n",
       "    <tr>\n",
       "      <th>5176</th>\n",
       "      <td>В немецком городе Гамбург состоялся экономичес...</td>\n",
       "      <td>7230</td>\n",
       "      <td>1</td>\n",
       "    </tr>\n",
       "    <tr>\n",
       "      <th>5418</th>\n",
       "      <td>Глава правительства Бакытжан Сагинтаев провел ...</td>\n",
       "      <td>7472</td>\n",
       "      <td>1</td>\n",
       "    </tr>\n",
       "    <tr>\n",
       "      <th>856</th>\n",
       "      <td>В среду, 25 января, первый заместитель п...</td>\n",
       "      <td>2910</td>\n",
       "      <td>2</td>\n",
       "    </tr>\n",
       "    <tr>\n",
       "      <th>8200</th>\n",
       "      <td>Kapital.kz 19 января 2017, 17:11 \\n\\nkapital.k...</td>\n",
       "      <td>10254</td>\n",
       "      <td>2</td>\n",
       "    </tr>\n",
       "    <tr>\n",
       "      <th>1793</th>\n",
       "      <td>Высококачественные подделки тенге в Казахстане...</td>\n",
       "      <td>3847</td>\n",
       "      <td>1</td>\n",
       "    </tr>\n",
       "    <tr>\n",
       "      <th>7678</th>\n",
       "      <td>Все отрасли ТЭК. Россия и Мир 20:41, 5.1.17 \\n...</td>\n",
       "      <td>9732</td>\n",
       "      <td>1</td>\n",
       "    </tr>\n",
       "    <tr>\n",
       "      <th>4840</th>\n",
       "      <td>\\nКАЗАНЬ, 7 октября. /Корр. ТАСС Алексей Угаро...</td>\n",
       "      <td>6894</td>\n",
       "      <td>2</td>\n",
       "    </tr>\n",
       "    <tr>\n",
       "      <th>5576</th>\n",
       "      <td>О реализации инвестпроектов в агропромышленном...</td>\n",
       "      <td>7630</td>\n",
       "      <td>1</td>\n",
       "    </tr>\n",
       "    <tr>\n",
       "      <th>7326</th>\n",
       "      <td>Ранее торговый центр был выставлен на торги че...</td>\n",
       "      <td>9380</td>\n",
       "      <td>1</td>\n",
       "    </tr>\n",
       "    <tr>\n",
       "      <th>5351</th>\n",
       "      <td>Алматы. 26 декабря. Центр информации. Руководс...</td>\n",
       "      <td>7405</td>\n",
       "      <td>2</td>\n",
       "    </tr>\n",
       "  </tbody>\n",
       "</table>\n",
       "</div>"
      ],
      "text/plain": [
       "                                                   text     id  sentiment\n",
       "5176  В немецком городе Гамбург состоялся экономичес...   7230          1\n",
       "5418  Глава правительства Бакытжан Сагинтаев провел ...   7472          1\n",
       "856         В среду, 25 января, первый заместитель п...   2910          2\n",
       "8200  Kapital.kz 19 января 2017, 17:11 \\n\\nkapital.k...  10254          2\n",
       "1793  Высококачественные подделки тенге в Казахстане...   3847          1\n",
       "7678  Все отрасли ТЭК. Россия и Мир 20:41, 5.1.17 \\n...   9732          1\n",
       "4840  \\nКАЗАНЬ, 7 октября. /Корр. ТАСС Алексей Угаро...   6894          2\n",
       "5576  О реализации инвестпроектов в агропромышленном...   7630          1\n",
       "7326  Ранее торговый центр был выставлен на торги че...   9380          1\n",
       "5351  Алматы. 26 декабря. Центр информации. Руководс...   7405          2"
      ]
     },
     "execution_count": 30,
     "metadata": {},
     "output_type": "execute_result"
    }
   ],
   "source": [
    "articles_test_sample.sentiment = articles_test_sample.sentiment\\\n",
    "    .apply(lambda x: sentiment_map[x])\n",
    "articles_test_sample.head(10)"
   ]
  },
  {
   "cell_type": "code",
   "execution_count": 31,
   "metadata": {
    "execution": {
     "iopub.execute_input": "2023-11-07T18:41:29.700106Z",
     "iopub.status.busy": "2023-11-07T18:41:29.699848Z",
     "iopub.status.idle": "2023-11-07T18:41:29.708341Z",
     "shell.execute_reply": "2023-11-07T18:41:29.707604Z",
     "shell.execute_reply.started": "2023-11-07T18:41:29.700078Z"
    }
   },
   "outputs": [],
   "source": [
    "X_articles_test = articles_test_sample.text\n",
    "y_articles_test = articles_test_sample.sentiment"
   ]
  },
  {
   "cell_type": "code",
   "execution_count": 32,
   "metadata": {
    "execution": {
     "iopub.execute_input": "2023-11-07T18:41:29.709564Z",
     "iopub.status.busy": "2023-11-07T18:41:29.709312Z",
     "iopub.status.idle": "2023-11-07T18:42:47.652893Z",
     "shell.execute_reply": "2023-11-07T18:42:47.652100Z",
     "shell.execute_reply.started": "2023-11-07T18:41:29.709541Z"
    }
   },
   "outputs": [],
   "source": [
    "articles_test_dataset = SentimentAnalysisDataset(X_articles_test, y_articles_test, \n",
    "                                                 tokenizer)\n",
    "rubert_articles_test_dataset = SentimentAnalysisDataset(X_articles_test, y_articles_test, \n",
    "                                                 rubert_tokenizer, max_length=512)\n",
    "\n",
    "free_memory()"
   ]
  },
  {
   "cell_type": "code",
   "execution_count": 33,
   "metadata": {
    "execution": {
     "iopub.execute_input": "2023-11-07T18:42:47.654155Z",
     "iopub.status.busy": "2023-11-07T18:42:47.653887Z",
     "iopub.status.idle": "2023-11-07T18:42:47.659435Z",
     "shell.execute_reply": "2023-11-07T18:42:47.658512Z",
     "shell.execute_reply.started": "2023-11-07T18:42:47.654132Z"
    }
   },
   "outputs": [],
   "source": [
    "articles_test_loader = DataLoader(articles_test_dataset, batch_size=10)\n",
    "rubert_articles_test_loader = DataLoader(rubert_articles_test_dataset, batch_size=10)"
   ]
  },
  {
   "cell_type": "code",
   "execution_count": 34,
   "metadata": {
    "execution": {
     "iopub.execute_input": "2023-11-07T18:42:47.661296Z",
     "iopub.status.busy": "2023-11-07T18:42:47.660660Z",
     "iopub.status.idle": "2023-11-07T18:48:45.452113Z",
     "shell.execute_reply": "2023-11-07T18:48:45.451134Z",
     "shell.execute_reply.started": "2023-11-07T18:42:47.661264Z"
    }
   },
   "outputs": [
    {
     "name": "stdout",
     "output_type": "stream",
     "text": [
      "Articles test accuracy from small text model is 0.49367704280155644\n",
      "Articles test f1 score from small text model is 0.3540032465547715\n",
      "CPU times: user 5min 23s, sys: 18.7 s, total: 5min 42s\n",
      "Wall time: 5min 57s\n"
     ]
    }
   ],
   "source": [
    "%%time\n",
    "accuracy, f1 = evaluate_model(st_model, articles_test_loader)\n",
    "print(f\"Articles test accuracy from small text model is {accuracy}\")\n",
    "print(f\"Articles test f1 score from small text model is {f1}\")"
   ]
  },
  {
   "cell_type": "code",
   "execution_count": 35,
   "metadata": {
    "execution": {
     "iopub.execute_input": "2023-11-07T18:48:45.453547Z",
     "iopub.status.busy": "2023-11-07T18:48:45.453276Z",
     "iopub.status.idle": "2023-11-07T18:54:44.081535Z",
     "shell.execute_reply": "2023-11-07T18:54:44.080458Z",
     "shell.execute_reply.started": "2023-11-07T18:48:45.453513Z"
    }
   },
   "outputs": [
    {
     "name": "stdout",
     "output_type": "stream",
     "text": [
      "Articles test accuracy from large text model is 0.7334630350194552\n",
      "Articles test f1 score from large text model is 0.7267055779946027\n",
      "CPU times: user 5min 24s, sys: 18.7 s, total: 5min 42s\n",
      "Wall time: 5min 58s\n"
     ]
    }
   ],
   "source": [
    "%%time\n",
    "accuracy, f1 = evaluate_model(lt_model, articles_test_loader)\n",
    "print(f\"Articles test accuracy from large text model is {accuracy}\")\n",
    "print(f\"Articles test f1 score from large text model is {f1}\")"
   ]
  },
  {
   "cell_type": "code",
   "execution_count": 36,
   "metadata": {
    "execution": {
     "iopub.execute_input": "2023-11-07T18:54:44.083171Z",
     "iopub.status.busy": "2023-11-07T18:54:44.082885Z",
     "iopub.status.idle": "2023-11-07T18:56:15.710761Z",
     "shell.execute_reply": "2023-11-07T18:56:15.709817Z",
     "shell.execute_reply.started": "2023-11-07T18:54:44.083146Z"
    }
   },
   "outputs": [
    {
     "name": "stdout",
     "output_type": "stream",
     "text": [
      "Articles test accuracy from large text RuBert is 0.6381322957198443\n",
      "Articles test f1 score from large text RuBert is 0.5821312898429282\n",
      "CPU times: user 1min 28s, sys: 2.8 s, total: 1min 31s\n",
      "Wall time: 1min 31s\n"
     ]
    }
   ],
   "source": [
    "%%time\n",
    "accuracy, f1 = evaluate_bert_model(lt_rubert, rubert_articles_test_loader)\n",
    "print(f\"Articles test accuracy from large text RuBert is {accuracy}\")\n",
    "print(f\"Articles test f1 score from large text RuBert is {f1}\")"
   ]
  },
  {
   "cell_type": "code",
   "execution_count": 37,
   "metadata": {
    "execution": {
     "iopub.execute_input": "2023-11-07T18:56:15.712268Z",
     "iopub.status.busy": "2023-11-07T18:56:15.711972Z",
     "iopub.status.idle": "2023-11-07T18:57:46.763508Z",
     "shell.execute_reply": "2023-11-07T18:57:46.762526Z",
     "shell.execute_reply.started": "2023-11-07T18:56:15.712243Z"
    }
   },
   "outputs": [
    {
     "name": "stdout",
     "output_type": "stream",
     "text": [
      "Articles test accuracy from small text RuBert is 0.5\n",
      "Articles test f1 score from small text RuBert is 0.50463469503104\n",
      "CPU times: user 1min 28s, sys: 2.78 s, total: 1min 31s\n",
      "Wall time: 1min 31s\n"
     ]
    }
   ],
   "source": [
    "%%time\n",
    "accuracy, f1 = evaluate_bert_model(st_rubert, rubert_articles_test_loader)\n",
    "print(f\"Articles test accuracy from small text RuBert is {accuracy}\")\n",
    "print(f\"Articles test f1 score from small text RuBert is {f1}\")"
   ]
  },
  {
   "cell_type": "code",
   "execution_count": 38,
   "metadata": {
    "execution": {
     "iopub.execute_input": "2023-11-07T18:57:46.765024Z",
     "iopub.status.busy": "2023-11-07T18:57:46.764768Z",
     "iopub.status.idle": "2023-11-07T18:57:46.769264Z",
     "shell.execute_reply": "2023-11-07T18:57:46.768306Z",
     "shell.execute_reply.started": "2023-11-07T18:57:46.765001Z"
    }
   },
   "outputs": [],
   "source": [
    "articles_test_loader = DataLoader(articles_test_dataset, batch_size=6)"
   ]
  },
  {
   "cell_type": "code",
   "execution_count": 39,
   "metadata": {
    "execution": {
     "iopub.execute_input": "2023-11-07T18:57:46.770716Z",
     "iopub.status.busy": "2023-11-07T18:57:46.770439Z",
     "iopub.status.idle": "2023-11-07T19:13:29.170832Z",
     "shell.execute_reply": "2023-11-07T19:13:29.169791Z",
     "shell.execute_reply.started": "2023-11-07T18:57:46.770693Z"
    }
   },
   "outputs": [
    {
     "name": "stdout",
     "output_type": "stream",
     "text": [
      "Articles test accuracy from small text medium sized model is 0.4474708171206226\n",
      "Articles test f1 score from small text medium sized model is 0.4100246130678619\n",
      "CPU times: user 15min 3s, sys: 15.1 s, total: 15min 18s\n",
      "Wall time: 15min 42s\n"
     ]
    }
   ],
   "source": [
    "%%time\n",
    "accuracy, f1 = evaluate_model(st_medium_model, articles_test_loader)\n",
    "print(f\"Articles test accuracy from small text medium sized model is {accuracy}\")\n",
    "print(f\"Articles test f1 score from small text medium sized model is {f1}\")"
   ]
  }
 ],
 "metadata": {
  "kernelspec": {
   "display_name": "Python 3 (ipykernel)",
   "language": "python",
   "name": "python3"
  },
  "language_info": {
   "codemirror_mode": {
    "name": "ipython",
    "version": 3
   },
   "file_extension": ".py",
   "mimetype": "text/x-python",
   "name": "python",
   "nbconvert_exporter": "python",
   "pygments_lexer": "ipython3",
   "version": "3.11.4"
  }
 },
 "nbformat": 4,
 "nbformat_minor": 4
}
