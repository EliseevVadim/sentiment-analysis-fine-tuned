{
 "cells": [
  {
   "cell_type": "code",
   "execution_count": 1,
   "metadata": {
    "_cell_guid": "b1076dfc-b9ad-4769-8c92-a6c4dae69d19",
    "_uuid": "8f2839f25d086af736a60e9eeb907d3b93b6e0e5",
    "execution": {
     "iopub.execute_input": "2023-11-07T12:01:17.320417Z",
     "iopub.status.busy": "2023-11-07T12:01:17.320124Z",
     "iopub.status.idle": "2023-11-07T12:01:17.672797Z",
     "shell.execute_reply": "2023-11-07T12:01:17.671989Z",
     "shell.execute_reply.started": "2023-11-07T12:01:17.320390Z"
    }
   },
   "outputs": [],
   "source": [
    "import numpy as np\n",
    "import pandas as pd\n",
    "import matplotlib.pyplot as plt\n",
    "import gc"
   ]
  },
  {
   "cell_type": "code",
   "execution_count": 2,
   "metadata": {
    "execution": {
     "iopub.execute_input": "2023-11-07T12:01:17.674737Z",
     "iopub.status.busy": "2023-11-07T12:01:17.674363Z",
     "iopub.status.idle": "2023-11-07T12:01:21.311541Z",
     "shell.execute_reply": "2023-11-07T12:01:21.310522Z",
     "shell.execute_reply.started": "2023-11-07T12:01:17.674700Z"
    }
   },
   "outputs": [],
   "source": [
    "import torch\n",
    "import torch.nn as nn\n",
    "\n",
    "from torch.optim import AdamW\n",
    "from torch.optim.lr_scheduler import StepLR\n",
    "from torch.utils.data import Dataset, DataLoader\n",
    "from torch.nn.utils import clip_grad_norm_"
   ]
  },
  {
   "cell_type": "code",
   "execution_count": 3,
   "metadata": {
    "execution": {
     "iopub.execute_input": "2023-11-07T12:01:21.313487Z",
     "iopub.status.busy": "2023-11-07T12:01:21.312963Z",
     "iopub.status.idle": "2023-11-07T12:01:30.865953Z",
     "shell.execute_reply": "2023-11-07T12:01:30.865138Z",
     "shell.execute_reply.started": "2023-11-07T12:01:21.313453Z"
    }
   },
   "outputs": [],
   "source": [
    "import transformers\n",
    "from transformers import BertForSequenceClassification, BertTokenizer"
   ]
  },
  {
   "cell_type": "code",
   "execution_count": 4,
   "metadata": {
    "execution": {
     "iopub.execute_input": "2023-11-07T12:01:30.868297Z",
     "iopub.status.busy": "2023-11-07T12:01:30.868000Z",
     "iopub.status.idle": "2023-11-07T12:01:31.230291Z",
     "shell.execute_reply": "2023-11-07T12:01:31.229210Z",
     "shell.execute_reply.started": "2023-11-07T12:01:30.868270Z"
    }
   },
   "outputs": [],
   "source": [
    "from sklearn.model_selection import train_test_split\n",
    "from sklearn.metrics import accuracy_score\n",
    "from sklearn.metrics import f1_score"
   ]
  },
  {
   "cell_type": "code",
   "execution_count": 5,
   "metadata": {
    "execution": {
     "iopub.execute_input": "2023-11-07T12:01:31.231815Z",
     "iopub.status.busy": "2023-11-07T12:01:31.231502Z",
     "iopub.status.idle": "2023-11-07T12:01:31.236487Z",
     "shell.execute_reply": "2023-11-07T12:01:31.235422Z",
     "shell.execute_reply.started": "2023-11-07T12:01:31.231788Z"
    }
   },
   "outputs": [],
   "source": [
    "def free_memory():\n",
    "    gc.collect()\n",
    "    torch.cuda.empty_cache()"
   ]
  },
  {
   "cell_type": "code",
   "execution_count": 6,
   "metadata": {
    "execution": {
     "iopub.execute_input": "2023-11-07T12:01:31.238018Z",
     "iopub.status.busy": "2023-11-07T12:01:31.237726Z",
     "iopub.status.idle": "2023-11-07T12:01:32.629279Z",
     "shell.execute_reply": "2023-11-07T12:01:32.628385Z",
     "shell.execute_reply.started": "2023-11-07T12:01:31.237995Z"
    }
   },
   "outputs": [
    {
     "data": {
      "text/html": [
       "<div>\n",
       "<style scoped>\n",
       "    .dataframe tbody tr th:only-of-type {\n",
       "        vertical-align: middle;\n",
       "    }\n",
       "\n",
       "    .dataframe tbody tr th {\n",
       "        vertical-align: top;\n",
       "    }\n",
       "\n",
       "    .dataframe thead th {\n",
       "        text-align: right;\n",
       "    }\n",
       "</style>\n",
       "<table border=\"1\" class=\"dataframe\">\n",
       "  <thead>\n",
       "    <tr style=\"text-align: right;\">\n",
       "      <th></th>\n",
       "      <th>text</th>\n",
       "      <th>sentiment</th>\n",
       "    </tr>\n",
       "    <tr>\n",
       "      <th>id</th>\n",
       "      <th></th>\n",
       "      <th></th>\n",
       "    </tr>\n",
       "  </thead>\n",
       "  <tbody>\n",
       "    <tr>\n",
       "      <th>1945</th>\n",
       "      <td>Досудебное расследование по факту покупки ЕНПФ...</td>\n",
       "      <td>negative</td>\n",
       "    </tr>\n",
       "    <tr>\n",
       "      <th>1957</th>\n",
       "      <td>Медики рассказали о состоянии пострадавшего му...</td>\n",
       "      <td>negative</td>\n",
       "    </tr>\n",
       "    <tr>\n",
       "      <th>1969</th>\n",
       "      <td>Прошел почти год, как железнодорожным оператор...</td>\n",
       "      <td>negative</td>\n",
       "    </tr>\n",
       "    <tr>\n",
       "      <th>1973</th>\n",
       "      <td>По итогам 12 месяцев 2016 года на территории р...</td>\n",
       "      <td>negative</td>\n",
       "    </tr>\n",
       "    <tr>\n",
       "      <th>1975</th>\n",
       "      <td>Астана. 21 ноября. Kazakhstan Today - Агентств...</td>\n",
       "      <td>negative</td>\n",
       "    </tr>\n",
       "    <tr>\n",
       "      <th>1980</th>\n",
       "      <td>Об аресте бывшего министра национальной эконом...</td>\n",
       "      <td>negative</td>\n",
       "    </tr>\n",
       "    <tr>\n",
       "      <th>1982</th>\n",
       "      <td>Двое налетчиков совершили нападение на охранни...</td>\n",
       "      <td>negative</td>\n",
       "    </tr>\n",
       "    <tr>\n",
       "      <th>1983</th>\n",
       "      <td>\"Самрук-Энерго\" в I квартале почти вдвое снизи...</td>\n",
       "      <td>negative</td>\n",
       "    </tr>\n",
       "    <tr>\n",
       "      <th>1985</th>\n",
       "      <td>В 2016 году почти половина коррупционных прест...</td>\n",
       "      <td>negative</td>\n",
       "    </tr>\n",
       "    <tr>\n",
       "      <th>1988</th>\n",
       "      <td>Google+\\nЧт 19 янв 2017 12:35:02\\nОдин из фигу...</td>\n",
       "      <td>negative</td>\n",
       "    </tr>\n",
       "  </tbody>\n",
       "</table>\n",
       "</div>"
      ],
      "text/plain": [
       "                                                   text sentiment\n",
       "id                                                               \n",
       "1945  Досудебное расследование по факту покупки ЕНПФ...  negative\n",
       "1957  Медики рассказали о состоянии пострадавшего му...  negative\n",
       "1969  Прошел почти год, как железнодорожным оператор...  negative\n",
       "1973  По итогам 12 месяцев 2016 года на территории р...  negative\n",
       "1975  Астана. 21 ноября. Kazakhstan Today - Агентств...  negative\n",
       "1980  Об аресте бывшего министра национальной эконом...  negative\n",
       "1982  Двое налетчиков совершили нападение на охранни...  negative\n",
       "1983  \"Самрук-Энерго\" в I квартале почти вдвое снизи...  negative\n",
       "1985  В 2016 году почти половина коррупционных прест...  negative\n",
       "1988  Google+\\nЧт 19 янв 2017 12:35:02\\nОдин из фигу...  negative"
      ]
     },
     "execution_count": 6,
     "metadata": {},
     "output_type": "execute_result"
    }
   ],
   "source": [
    "articles = pd.read_json('data/articles/train.json')\n",
    "articles.drop_duplicates(subset=['text'], inplace=True)\n",
    "articles.set_index('id', inplace=True)\n",
    "articles.head(10)"
   ]
  },
  {
   "cell_type": "code",
   "execution_count": 7,
   "metadata": {
    "execution": {
     "iopub.execute_input": "2023-11-07T12:01:32.630791Z",
     "iopub.status.busy": "2023-11-07T12:01:32.630472Z",
     "iopub.status.idle": "2023-11-07T12:01:32.898757Z",
     "shell.execute_reply": "2023-11-07T12:01:32.897799Z",
     "shell.execute_reply.started": "2023-11-07T12:01:32.630756Z"
    }
   },
   "outputs": [
    {
     "data": {
      "image/png": "[encoded data removed]",
      "text/plain": [
       "<Figure size 640x480 with 1 Axes>"
      ]
     },
     "metadata": {},
     "output_type": "display_data"
    }
   ],
   "source": [
    "articles.sentiment.hist()\n",
    "plt.show()"
   ]
  },
  {
   "cell_type": "code",
   "execution_count": 8,
   "metadata": {
    "execution": {
     "iopub.execute_input": "2023-11-07T12:01:32.900697Z",
     "iopub.status.busy": "2023-11-07T12:01:32.900300Z",
     "iopub.status.idle": "2023-11-07T12:01:32.906743Z",
     "shell.execute_reply": "2023-11-07T12:01:32.905789Z",
     "shell.execute_reply.started": "2023-11-07T12:01:32.900662Z"
    }
   },
   "outputs": [],
   "source": [
    "sentiment_map = {\n",
    "    'negative': 0,\n",
    "    'neutral': 1,\n",
    "    'positive': 2\n",
    "}"
   ]
  },
  {
   "cell_type": "code",
   "execution_count": 9,
   "metadata": {
    "execution": {
     "iopub.execute_input": "2023-11-07T12:01:32.908231Z",
     "iopub.status.busy": "2023-11-07T12:01:32.907941Z",
     "iopub.status.idle": "2023-11-07T12:01:32.930394Z",
     "shell.execute_reply": "2023-11-07T12:01:32.929326Z",
     "shell.execute_reply.started": "2023-11-07T12:01:32.908198Z"
    }
   },
   "outputs": [
    {
     "data": {
      "text/html": [
       "<div>\n",
       "<style scoped>\n",
       "    .dataframe tbody tr th:only-of-type {\n",
       "        vertical-align: middle;\n",
       "    }\n",
       "\n",
       "    .dataframe tbody tr th {\n",
       "        vertical-align: top;\n",
       "    }\n",
       "\n",
       "    .dataframe thead th {\n",
       "        text-align: right;\n",
       "    }\n",
       "</style>\n",
       "<table border=\"1\" class=\"dataframe\">\n",
       "  <thead>\n",
       "    <tr style=\"text-align: right;\">\n",
       "      <th></th>\n",
       "      <th>text</th>\n",
       "      <th>sentiment</th>\n",
       "    </tr>\n",
       "    <tr>\n",
       "      <th>id</th>\n",
       "      <th></th>\n",
       "      <th></th>\n",
       "    </tr>\n",
       "  </thead>\n",
       "  <tbody>\n",
       "    <tr>\n",
       "      <th>1945</th>\n",
       "      <td>Досудебное расследование по факту покупки ЕНПФ...</td>\n",
       "      <td>0</td>\n",
       "    </tr>\n",
       "    <tr>\n",
       "      <th>1957</th>\n",
       "      <td>Медики рассказали о состоянии пострадавшего му...</td>\n",
       "      <td>0</td>\n",
       "    </tr>\n",
       "    <tr>\n",
       "      <th>1969</th>\n",
       "      <td>Прошел почти год, как железнодорожным оператор...</td>\n",
       "      <td>0</td>\n",
       "    </tr>\n",
       "    <tr>\n",
       "      <th>1973</th>\n",
       "      <td>По итогам 12 месяцев 2016 года на территории р...</td>\n",
       "      <td>0</td>\n",
       "    </tr>\n",
       "    <tr>\n",
       "      <th>1975</th>\n",
       "      <td>Астана. 21 ноября. Kazakhstan Today - Агентств...</td>\n",
       "      <td>0</td>\n",
       "    </tr>\n",
       "    <tr>\n",
       "      <th>1980</th>\n",
       "      <td>Об аресте бывшего министра национальной эконом...</td>\n",
       "      <td>0</td>\n",
       "    </tr>\n",
       "    <tr>\n",
       "      <th>1982</th>\n",
       "      <td>Двое налетчиков совершили нападение на охранни...</td>\n",
       "      <td>0</td>\n",
       "    </tr>\n",
       "    <tr>\n",
       "      <th>1983</th>\n",
       "      <td>\"Самрук-Энерго\" в I квартале почти вдвое снизи...</td>\n",
       "      <td>0</td>\n",
       "    </tr>\n",
       "    <tr>\n",
       "      <th>1985</th>\n",
       "      <td>В 2016 году почти половина коррупционных прест...</td>\n",
       "      <td>0</td>\n",
       "    </tr>\n",
       "    <tr>\n",
       "      <th>1988</th>\n",
       "      <td>Google+\\nЧт 19 янв 2017 12:35:02\\nОдин из фигу...</td>\n",
       "      <td>0</td>\n",
       "    </tr>\n",
       "  </tbody>\n",
       "</table>\n",
       "</div>"
      ],
      "text/plain": [
       "                                                   text  sentiment\n",
       "id                                                                \n",
       "1945  Досудебное расследование по факту покупки ЕНПФ...          0\n",
       "1957  Медики рассказали о состоянии пострадавшего му...          0\n",
       "1969  Прошел почти год, как железнодорожным оператор...          0\n",
       "1973  По итогам 12 месяцев 2016 года на территории р...          0\n",
       "1975  Астана. 21 ноября. Kazakhstan Today - Агентств...          0\n",
       "1980  Об аресте бывшего министра национальной эконом...          0\n",
       "1982  Двое налетчиков совершили нападение на охранни...          0\n",
       "1983  \"Самрук-Энерго\" в I квартале почти вдвое снизи...          0\n",
       "1985  В 2016 году почти половина коррупционных прест...          0\n",
       "1988  Google+\\nЧт 19 янв 2017 12:35:02\\nОдин из фигу...          0"
      ]
     },
     "execution_count": 9,
     "metadata": {},
     "output_type": "execute_result"
    }
   ],
   "source": [
    "articles.sentiment = articles.sentiment.apply(lambda x: sentiment_map[x])\n",
    "articles.head(10)"
   ]
  },
  {
   "cell_type": "code",
   "execution_count": 10,
   "metadata": {
    "execution": {
     "iopub.execute_input": "2023-11-07T12:01:32.935756Z",
     "iopub.status.busy": "2023-11-07T12:01:32.935478Z",
     "iopub.status.idle": "2023-11-07T12:01:32.968849Z",
     "shell.execute_reply": "2023-11-07T12:01:32.967789Z",
     "shell.execute_reply.started": "2023-11-07T12:01:32.935712Z"
    }
   },
   "outputs": [
    {
     "data": {
      "text/plain": [
       "'cuda'"
      ]
     },
     "execution_count": 10,
     "metadata": {},
     "output_type": "execute_result"
    }
   ],
   "source": [
    "device = ('cuda' if torch.cuda.is_available() else 'cpu')\n",
    "device"
   ]
  },
  {
   "cell_type": "code",
   "execution_count": 11,
   "metadata": {
    "execution": {
     "iopub.execute_input": "2023-11-07T12:01:32.970628Z",
     "iopub.status.busy": "2023-11-07T12:01:32.970262Z",
     "iopub.status.idle": "2023-11-07T12:01:32.980405Z",
     "shell.execute_reply": "2023-11-07T12:01:32.979494Z",
     "shell.execute_reply.started": "2023-11-07T12:01:32.970601Z"
    }
   },
   "outputs": [],
   "source": [
    "pretrained_model_name_or_path = 'DeepPavlov/rubert-base-cased'"
   ]
  },
  {
   "cell_type": "code",
   "execution_count": 12,
   "metadata": {
    "execution": {
     "iopub.execute_input": "2023-11-07T12:01:32.982031Z",
     "iopub.status.busy": "2023-11-07T12:01:32.981672Z",
     "iopub.status.idle": "2023-11-07T12:01:32.996077Z",
     "shell.execute_reply": "2023-11-07T12:01:32.994989Z",
     "shell.execute_reply.started": "2023-11-07T12:01:32.982000Z"
    }
   },
   "outputs": [
    {
     "data": {
      "text/plain": [
       "3"
      ]
     },
     "execution_count": 12,
     "metadata": {},
     "output_type": "execute_result"
    }
   ],
   "source": [
    "num_labels = articles.sentiment.nunique()\n",
    "num_labels"
   ]
  },
  {
   "cell_type": "code",
   "execution_count": 13,
   "metadata": {
    "execution": {
     "iopub.execute_input": "2023-11-07T12:01:32.997626Z",
     "iopub.status.busy": "2023-11-07T12:01:32.997293Z",
     "iopub.status.idle": "2023-11-07T12:01:39.777655Z",
     "shell.execute_reply": "2023-11-07T12:01:39.776626Z",
     "shell.execute_reply.started": "2023-11-07T12:01:32.997593Z"
    }
   },
   "outputs": [
    {
     "data": {
      "application/vnd.jupyter.widget-view+json": {
       "model_id": "04e0280663264a6fb30454b0fec388c6",
       "version_major": 2,
       "version_minor": 0
      },
      "text/plain": [
       "Downloading (…)lve/main/config.json:   0%|          | 0.00/642 [00:00<?, ?B/s]"
      ]
     },
     "metadata": {},
     "output_type": "display_data"
    },
    {
     "data": {
      "application/vnd.jupyter.widget-view+json": {
       "model_id": "04c8ba49e5214121a98ac39f6a5ae3fe",
       "version_major": 2,
       "version_minor": 0
      },
      "text/plain": [
       "Downloading pytorch_model.bin:   0%|          | 0.00/714M [00:00<?, ?B/s]"
      ]
     },
     "metadata": {},
     "output_type": "display_data"
    },
    {
     "name": "stderr",
     "output_type": "stream",
     "text": [
      "Some weights of BertForSequenceClassification were not initialized from the model checkpoint at DeepPavlov/rubert-base-cased and are newly initialized: ['classifier.weight', 'classifier.bias']\n",
      "You should probably TRAIN this model on a down-stream task to be able to use it for predictions and inference.\n"
     ]
    },
    {
     "data": {
      "application/vnd.jupyter.widget-view+json": {
       "model_id": "ac401dfeb7634dcf9d2c52ce8e250da4",
       "version_major": 2,
       "version_minor": 0
      },
      "text/plain": [
       "Downloading (…)solve/main/vocab.txt:   0%|          | 0.00/1.65M [00:00<?, ?B/s]"
      ]
     },
     "metadata": {},
     "output_type": "display_data"
    },
    {
     "data": {
      "application/vnd.jupyter.widget-view+json": {
       "model_id": "aa403245e6654bc2afdb2966584ecdb4",
       "version_major": 2,
       "version_minor": 0
      },
      "text/plain": [
       "Downloading (…)cial_tokens_map.json:   0%|          | 0.00/112 [00:00<?, ?B/s]"
      ]
     },
     "metadata": {},
     "output_type": "display_data"
    },
    {
     "data": {
      "application/vnd.jupyter.widget-view+json": {
       "model_id": "14d81ff00b3f40dc8fcf8d904c33e0bc",
       "version_major": 2,
       "version_minor": 0
      },
      "text/plain": [
       "Downloading (…)okenizer_config.json:   0%|          | 0.00/24.0 [00:00<?, ?B/s]"
      ]
     },
     "metadata": {},
     "output_type": "display_data"
    }
   ],
   "source": [
    "model = BertForSequenceClassification.from_pretrained(pretrained_model_name_or_path, \n",
    "                                                      num_labels=num_labels)\n",
    "tokenizer = BertTokenizer.from_pretrained(pretrained_model_name_or_path)"
   ]
  },
  {
   "cell_type": "code",
   "execution_count": 14,
   "metadata": {
    "execution": {
     "iopub.execute_input": "2023-11-07T12:01:39.779249Z",
     "iopub.status.busy": "2023-11-07T12:01:39.778976Z",
     "iopub.status.idle": "2023-11-07T12:01:45.044676Z",
     "shell.execute_reply": "2023-11-07T12:01:45.043620Z",
     "shell.execute_reply.started": "2023-11-07T12:01:39.779225Z"
    }
   },
   "outputs": [
    {
     "data": {
      "text/plain": [
       "BertForSequenceClassification(\n",
       "  (bert): BertModel(\n",
       "    (embeddings): BertEmbeddings(\n",
       "      (word_embeddings): Embedding(119547, 768, padding_idx=0)\n",
       "      (position_embeddings): Embedding(512, 768)\n",
       "      (token_type_embeddings): Embedding(2, 768)\n",
       "      (LayerNorm): LayerNorm((768,), eps=1e-12, elementwise_affine=True)\n",
       "      (dropout): Dropout(p=0.1, inplace=False)\n",
       "    )\n",
       "    (encoder): BertEncoder(\n",
       "      (layer): ModuleList(\n",
       "        (0-11): 12 x BertLayer(\n",
       "          (attention): BertAttention(\n",
       "            (self): BertSelfAttention(\n",
       "              (query): Linear(in_features=768, out_features=768, bias=True)\n",
       "              (key): Linear(in_features=768, out_features=768, bias=True)\n",
       "              (value): Linear(in_features=768, out_features=768, bias=True)\n",
       "              (dropout): Dropout(p=0.1, inplace=False)\n",
       "            )\n",
       "            (output): BertSelfOutput(\n",
       "              (dense): Linear(in_features=768, out_features=768, bias=True)\n",
       "              (LayerNorm): LayerNorm((768,), eps=1e-12, elementwise_affine=True)\n",
       "              (dropout): Dropout(p=0.1, inplace=False)\n",
       "            )\n",
       "          )\n",
       "          (intermediate): BertIntermediate(\n",
       "            (dense): Linear(in_features=768, out_features=3072, bias=True)\n",
       "            (intermediate_act_fn): GELUActivation()\n",
       "          )\n",
       "          (output): BertOutput(\n",
       "            (dense): Linear(in_features=3072, out_features=768, bias=True)\n",
       "            (LayerNorm): LayerNorm((768,), eps=1e-12, elementwise_affine=True)\n",
       "            (dropout): Dropout(p=0.1, inplace=False)\n",
       "          )\n",
       "        )\n",
       "      )\n",
       "    )\n",
       "    (pooler): BertPooler(\n",
       "      (dense): Linear(in_features=768, out_features=768, bias=True)\n",
       "      (activation): Tanh()\n",
       "    )\n",
       "  )\n",
       "  (dropout): Dropout(p=0.1, inplace=False)\n",
       "  (classifier): Linear(in_features=768, out_features=3, bias=True)\n",
       ")"
      ]
     },
     "execution_count": 14,
     "metadata": {},
     "output_type": "execute_result"
    }
   ],
   "source": [
    "model = model.to(device)\n",
    "model"
   ]
  },
  {
   "cell_type": "code",
   "execution_count": 15,
   "metadata": {
    "execution": {
     "iopub.execute_input": "2023-11-07T12:01:45.046001Z",
     "iopub.status.busy": "2023-11-07T12:01:45.045698Z",
     "iopub.status.idle": "2023-11-07T12:01:45.051454Z",
     "shell.execute_reply": "2023-11-07T12:01:45.050522Z",
     "shell.execute_reply.started": "2023-11-07T12:01:45.045976Z"
    }
   },
   "outputs": [],
   "source": [
    "embedding_parameters = [param for name, param in model.named_parameters() \n",
    "                        if 'classifier' not in name]"
   ]
  },
  {
   "cell_type": "code",
   "execution_count": 16,
   "metadata": {
    "execution": {
     "iopub.execute_input": "2023-11-07T12:01:45.053152Z",
     "iopub.status.busy": "2023-11-07T12:01:45.052452Z",
     "iopub.status.idle": "2023-11-07T12:01:47.700798Z",
     "shell.execute_reply": "2023-11-07T12:01:47.699804Z",
     "shell.execute_reply.started": "2023-11-07T12:01:45.053127Z"
    }
   },
   "outputs": [],
   "source": [
    "for param in embedding_parameters:\n",
    "    param.requires_grad = False"
   ]
  },
  {
   "cell_type": "code",
   "execution_count": 17,
   "metadata": {
    "execution": {
     "iopub.execute_input": "2023-11-07T12:01:47.702375Z",
     "iopub.status.busy": "2023-11-07T12:01:47.702063Z",
     "iopub.status.idle": "2023-11-07T12:01:47.713198Z",
     "shell.execute_reply": "2023-11-07T12:01:47.712378Z",
     "shell.execute_reply.started": "2023-11-07T12:01:47.702348Z"
    }
   },
   "outputs": [],
   "source": [
    "X = articles.text\n",
    "y = articles.sentiment"
   ]
  },
  {
   "cell_type": "code",
   "execution_count": 18,
   "metadata": {
    "execution": {
     "iopub.execute_input": "2023-11-07T12:01:47.715024Z",
     "iopub.status.busy": "2023-11-07T12:01:47.714410Z",
     "iopub.status.idle": "2023-11-07T12:01:47.727250Z",
     "shell.execute_reply": "2023-11-07T12:01:47.726512Z",
     "shell.execute_reply.started": "2023-11-07T12:01:47.714991Z"
    }
   },
   "outputs": [],
   "source": [
    "X_train, X_test, y_train, y_test = train_test_split(X, y, test_size=0.2, random_state=42)"
   ]
  },
  {
   "cell_type": "code",
   "execution_count": 19,
   "metadata": {
    "execution": {
     "iopub.execute_input": "2023-11-07T12:01:47.728479Z",
     "iopub.status.busy": "2023-11-07T12:01:47.728164Z",
     "iopub.status.idle": "2023-11-07T12:01:47.739367Z",
     "shell.execute_reply": "2023-11-07T12:01:47.738512Z",
     "shell.execute_reply.started": "2023-11-07T12:01:47.728455Z"
    }
   },
   "outputs": [
    {
     "name": "stdout",
     "output_type": "stream",
     "text": [
      "[PAD]\n"
     ]
    }
   ],
   "source": [
    "tokenizer.pad_token_id = 0\n",
    "print(tokenizer.pad_token)"
   ]
  },
  {
   "cell_type": "code",
   "execution_count": 20,
   "metadata": {
    "execution": {
     "iopub.execute_input": "2023-11-07T12:01:47.740604Z",
     "iopub.status.busy": "2023-11-07T12:01:47.740347Z",
     "iopub.status.idle": "2023-11-07T12:01:47.751834Z",
     "shell.execute_reply": "2023-11-07T12:01:47.751010Z",
     "shell.execute_reply.started": "2023-11-07T12:01:47.740581Z"
    }
   },
   "outputs": [],
   "source": [
    "class SentimentAnalysisDataset(Dataset):\n",
    "    def __init__(self, X, y, tokenizer=None, num_labels=3):\n",
    "        self.X = tokenizer(X.tolist(), \n",
    "                           truncation=True, \n",
    "                           padding=True,\n",
    "                           return_tensors=\"pt\",\n",
    "                           max_length=512).to(device)\n",
    "        self.y = torch.tensor(y.to_numpy(), dtype=torch.int64).to(device)\n",
    "    \n",
    "    def __len__(self):\n",
    "        return len(self.y)\n",
    "    \n",
    "    def __getitem__(self, idx):\n",
    "        return self.X.input_ids[idx], self.X.attention_mask[idx], self.y[idx]"
   ]
  },
  {
   "cell_type": "code",
   "execution_count": 21,
   "metadata": {
    "execution": {
     "iopub.execute_input": "2023-11-07T12:01:47.753119Z",
     "iopub.status.busy": "2023-11-07T12:01:47.752864Z",
     "iopub.status.idle": "2023-11-07T12:04:31.774234Z",
     "shell.execute_reply": "2023-11-07T12:04:31.773389Z",
     "shell.execute_reply.started": "2023-11-07T12:01:47.753096Z"
    }
   },
   "outputs": [],
   "source": [
    "train_dataset = SentimentAnalysisDataset(X_train, y_train, tokenizer)\n",
    "test_dataset = SentimentAnalysisDataset(X_test, y_test, tokenizer)\n",
    "\n",
    "free_memory()"
   ]
  },
  {
   "cell_type": "code",
   "execution_count": 22,
   "metadata": {
    "execution": {
     "iopub.execute_input": "2023-11-07T12:04:31.775807Z",
     "iopub.status.busy": "2023-11-07T12:04:31.775464Z",
     "iopub.status.idle": "2023-11-07T12:04:31.780090Z",
     "shell.execute_reply": "2023-11-07T12:04:31.779159Z",
     "shell.execute_reply.started": "2023-11-07T12:04:31.775775Z"
    }
   },
   "outputs": [],
   "source": [
    "batch_size = 16\n",
    "num_epochs = 12"
   ]
  },
  {
   "cell_type": "code",
   "execution_count": 23,
   "metadata": {
    "execution": {
     "iopub.execute_input": "2023-11-07T12:04:31.781643Z",
     "iopub.status.busy": "2023-11-07T12:04:31.781354Z",
     "iopub.status.idle": "2023-11-07T12:04:31.798319Z",
     "shell.execute_reply": "2023-11-07T12:04:31.797412Z",
     "shell.execute_reply.started": "2023-11-07T12:04:31.781619Z"
    }
   },
   "outputs": [],
   "source": [
    "train_loader = DataLoader(train_dataset, batch_size=batch_size, shuffle=True)"
   ]
  },
  {
   "cell_type": "code",
   "execution_count": 24,
   "metadata": {
    "execution": {
     "iopub.execute_input": "2023-11-07T12:04:31.800044Z",
     "iopub.status.busy": "2023-11-07T12:04:31.799647Z",
     "iopub.status.idle": "2023-11-07T12:04:31.812697Z",
     "shell.execute_reply": "2023-11-07T12:04:31.811783Z",
     "shell.execute_reply.started": "2023-11-07T12:04:31.800005Z"
    }
   },
   "outputs": [],
   "source": [
    "optimizer = AdamW(model.classifier.parameters(), lr=0.01, weight_decay=1e-4)\n",
    "criterion = nn.CrossEntropyLoss()"
   ]
  },
  {
   "cell_type": "code",
   "execution_count": 25,
   "metadata": {
    "execution": {
     "iopub.execute_input": "2023-11-07T12:04:31.814323Z",
     "iopub.status.busy": "2023-11-07T12:04:31.813977Z",
     "iopub.status.idle": "2023-11-07T12:04:31.825440Z",
     "shell.execute_reply": "2023-11-07T12:04:31.824440Z",
     "shell.execute_reply.started": "2023-11-07T12:04:31.814290Z"
    }
   },
   "outputs": [],
   "source": [
    "def evaluate_model(model, data_loader):\n",
    "    ground_truth = []\n",
    "    predictions = []\n",
    "\n",
    "    model.eval()\n",
    "    for input_ids, attention_mask, labels in data_loader:\n",
    "        input_ids = input_ids.to(device)\n",
    "        attention_mask = attention_mask.to(device)\n",
    "        labels = labels.to(device)\n",
    "        outputs = model(input_ids=input_ids, attention_mask=attention_mask)\n",
    "        _, indices = torch.max(outputs.logits, 1)\n",
    "        predictions.extend(indices.tolist())\n",
    "        ground_truth.extend(labels.tolist())\n",
    "        del input_ids\n",
    "        del attention_mask\n",
    "        del labels\n",
    "        del outputs\n",
    "        del indices\n",
    "        free_memory()\n",
    "    accuracy = accuracy_score(ground_truth, predictions)\n",
    "    f1 = f1_score(ground_truth, predictions, average='macro')\n",
    "    del predictions\n",
    "    del ground_truth\n",
    "    free_memory()\n",
    "    return accuracy, f1"
   ]
  },
  {
   "cell_type": "code",
   "execution_count": 26,
   "metadata": {
    "execution": {
     "iopub.execute_input": "2023-11-07T12:04:31.827239Z",
     "iopub.status.busy": "2023-11-07T12:04:31.826949Z",
     "iopub.status.idle": "2023-11-07T12:04:31.838958Z",
     "shell.execute_reply": "2023-11-07T12:04:31.838134Z",
     "shell.execute_reply.started": "2023-11-07T12:04:31.827204Z"
    }
   },
   "outputs": [],
   "source": [
    "def train_model(model, train_loader, criterion, optimizer, num_epochs, \n",
    "                step_size=1, gamma=0.5):\n",
    "    scheduler = StepLR(optimizer, step_size=step_size, gamma=gamma)\n",
    "    loss_history = []\n",
    "    train_history = []\n",
    "    \n",
    "    for epoch in range(num_epochs):\n",
    "        model.train()\n",
    "        \n",
    "        loss_accum = 0\n",
    "        correct_samples = 0\n",
    "        total_samples = 0\n",
    "        \n",
    "        for i_step, (input_ids, attention_mask, y) in enumerate(train_loader):\n",
    "            input_ids = input_ids.to(device)\n",
    "            attention_mask = attention_mask.to(device)\n",
    "            y = y.to(device)\n",
    "            outputs = model(input_ids=input_ids, attention_mask=attention_mask)\n",
    "            optimizer.zero_grad()\n",
    "            loss = criterion(outputs.logits, y)\n",
    "            loss.backward()\n",
    "            clip_grad_norm_(model.classifier.parameters(), 1.0)\n",
    "            optimizer.step()\n",
    "            \n",
    "            _, indices = torch.max(outputs.logits, 1)\n",
    "            correct_samples += torch.sum(indices == y)\n",
    "            total_samples += y.shape[0]\n",
    "            loss_accum += loss\n",
    "            \n",
    "            del outputs\n",
    "            del indices\n",
    "            del input_ids\n",
    "            del attention_mask\n",
    "            del y\n",
    "            free_memory()\n",
    "          \n",
    "        scheduler.step()\n",
    "        ave_loss = loss_accum / i_step\n",
    "        train_accuracy = float(correct_samples) / total_samples\n",
    "\n",
    "        loss_history.append(float(ave_loss))\n",
    "        train_history.append(train_accuracy)\n",
    "        \n",
    "        free_memory()\n",
    "\n",
    "        print(\"Average loss: %f, Train accuracy: %f\" % (ave_loss, train_accuracy))\n",
    "        \n",
    "    return loss_history, train_history"
   ]
  },
  {
   "cell_type": "code",
   "execution_count": 27,
   "metadata": {
    "execution": {
     "iopub.execute_input": "2023-11-07T12:04:31.840389Z",
     "iopub.status.busy": "2023-11-07T12:04:31.840103Z",
     "iopub.status.idle": "2023-11-07T12:50:53.041381Z",
     "shell.execute_reply": "2023-11-07T12:50:53.040415Z",
     "shell.execute_reply.started": "2023-11-07T12:04:31.840364Z"
    }
   },
   "outputs": [
    {
     "name": "stdout",
     "output_type": "stream",
     "text": [
      "Average loss: 1.100176, Train accuracy: 0.492373\n",
      "Average loss: 0.926446, Train accuracy: 0.554961\n",
      "Average loss: 0.897694, Train accuracy: 0.577135\n",
      "Average loss: 0.870374, Train accuracy: 0.583425\n",
      "Average loss: 0.847888, Train accuracy: 0.596477\n",
      "Average loss: 0.843798, Train accuracy: 0.601352\n",
      "Average loss: 0.840460, Train accuracy: 0.598679\n",
      "Average loss: 0.829165, Train accuracy: 0.607328\n",
      "Average loss: 0.833426, Train accuracy: 0.607485\n",
      "Average loss: 0.837967, Train accuracy: 0.601038\n",
      "Average loss: 0.830769, Train accuracy: 0.608429\n",
      "Average loss: 0.827983, Train accuracy: 0.612989\n"
     ]
    }
   ],
   "source": [
    "loss_history, train_history = train_model(model, \n",
    "                                          train_loader, \n",
    "                                          criterion, \n",
    "                                          optimizer, num_epochs)"
   ]
  },
  {
   "cell_type": "code",
   "execution_count": 28,
   "metadata": {
    "execution": {
     "iopub.execute_input": "2023-11-07T12:50:53.046748Z",
     "iopub.status.busy": "2023-11-07T12:50:53.046438Z",
     "iopub.status.idle": "2023-11-07T12:50:53.307070Z",
     "shell.execute_reply": "2023-11-07T12:50:53.306076Z",
     "shell.execute_reply.started": "2023-11-07T12:50:53.046709Z"
    }
   },
   "outputs": [],
   "source": [
    "free_memory()"
   ]
  },
  {
   "cell_type": "code",
   "execution_count": 29,
   "metadata": {
    "execution": {
     "iopub.execute_input": "2023-11-07T12:50:53.308436Z",
     "iopub.status.busy": "2023-11-07T12:50:53.308164Z",
     "iopub.status.idle": "2023-11-07T12:50:53.591224Z",
     "shell.execute_reply": "2023-11-07T12:50:53.590249Z",
     "shell.execute_reply.started": "2023-11-07T12:50:53.308412Z"
    }
   },
   "outputs": [
    {
     "data": {
      "image/png": "[encoded data removed]",
      "text/plain": [
       "<Figure size 640x480 with 1 Axes>"
      ]
     },
     "metadata": {},
     "output_type": "display_data"
    }
   ],
   "source": [
    "plt.title(\"History\")\n",
    "plt.plot(loss_history, label=\"Loss history\")\n",
    "plt.plot(train_history, label=\"Train history\")\n",
    "plt.legend(loc=\"upper left\")\n",
    "plt.show()"
   ]
  },
  {
   "cell_type": "code",
   "execution_count": 30,
   "metadata": {
    "execution": {
     "iopub.execute_input": "2023-11-07T12:50:53.593031Z",
     "iopub.status.busy": "2023-11-07T12:50:53.592629Z",
     "iopub.status.idle": "2023-11-07T12:50:53.598026Z",
     "shell.execute_reply": "2023-11-07T12:50:53.597133Z",
     "shell.execute_reply.started": "2023-11-07T12:50:53.592995Z"
    }
   },
   "outputs": [],
   "source": [
    "test_loader = DataLoader(test_dataset, batch_size=batch_size)"
   ]
  },
  {
   "cell_type": "code",
   "execution_count": 32,
   "metadata": {
    "execution": {
     "iopub.execute_input": "2023-11-07T12:51:49.635557Z",
     "iopub.status.busy": "2023-11-07T12:51:49.635115Z",
     "iopub.status.idle": "2023-11-07T12:52:46.232053Z",
     "shell.execute_reply": "2023-11-07T12:52:46.231036Z",
     "shell.execute_reply.started": "2023-11-07T12:51:49.635509Z"
    }
   },
   "outputs": [
    {
     "name": "stdout",
     "output_type": "stream",
     "text": [
      "Test accuracy is 0.6132075471698113\n",
      "Test f1 score is 0.5442123904757672\n"
     ]
    }
   ],
   "source": [
    "accuracy, f1 = evaluate_model(model, test_loader)\n",
    "print(f\"Test accuracy is {accuracy}\")\n",
    "print(f\"Test f1 score is {f1}\")"
   ]
  },
  {
   "cell_type": "code",
   "execution_count": 33,
   "metadata": {
    "execution": {
     "iopub.execute_input": "2023-11-07T12:53:14.581802Z",
     "iopub.status.busy": "2023-11-07T12:53:14.580940Z",
     "iopub.status.idle": "2023-11-07T12:53:15.005242Z",
     "shell.execute_reply": "2023-11-07T12:53:15.004302Z",
     "shell.execute_reply.started": "2023-11-07T12:53:14.581760Z"
    }
   },
   "outputs": [
    {
     "data": {
      "text/html": [
       "<div>\n",
       "<style scoped>\n",
       "    .dataframe tbody tr th:only-of-type {\n",
       "        vertical-align: middle;\n",
       "    }\n",
       "\n",
       "    .dataframe tbody tr th {\n",
       "        vertical-align: top;\n",
       "    }\n",
       "\n",
       "    .dataframe thead th {\n",
       "        text-align: right;\n",
       "    }\n",
       "</style>\n",
       "<table border=\"1\" class=\"dataframe\">\n",
       "  <thead>\n",
       "    <tr style=\"text-align: right;\">\n",
       "      <th></th>\n",
       "      <th>text</th>\n",
       "      <th>id</th>\n",
       "      <th>sentiment</th>\n",
       "    </tr>\n",
       "  </thead>\n",
       "  <tbody>\n",
       "    <tr>\n",
       "      <th>0</th>\n",
       "      <td>Как сообщает пресс-служба акимата Алматы, для ...</td>\n",
       "      <td>0</td>\n",
       "      <td>0</td>\n",
       "    </tr>\n",
       "    <tr>\n",
       "      <th>1</th>\n",
       "      <td>Казахстанские авиакомпании перевозят 250 тысяч...</td>\n",
       "      <td>1</td>\n",
       "      <td>0</td>\n",
       "    </tr>\n",
       "    <tr>\n",
       "      <th>2</th>\n",
       "      <td>На состоявшемся под председательством Касым-Жо...</td>\n",
       "      <td>2</td>\n",
       "      <td>0</td>\n",
       "    </tr>\n",
       "    <tr>\n",
       "      <th>3</th>\n",
       "      <td>В ОАЭ состоялись переговоры между казахстанско...</td>\n",
       "      <td>3</td>\n",
       "      <td>0</td>\n",
       "    </tr>\n",
       "    <tr>\n",
       "      <th>4</th>\n",
       "      <td>12 вагонов грузового поезда сошли с путей в Во...</td>\n",
       "      <td>4</td>\n",
       "      <td>0</td>\n",
       "    </tr>\n",
       "    <tr>\n",
       "      <th>5</th>\n",
       "      <td>Отправившиеся на «джихад» из города Сатпаева К...</td>\n",
       "      <td>5</td>\n",
       "      <td>0</td>\n",
       "    </tr>\n",
       "    <tr>\n",
       "      <th>6</th>\n",
       "      <td>\\nНазарбаев утвердил новый состав правительств...</td>\n",
       "      <td>6</td>\n",
       "      <td>0</td>\n",
       "    </tr>\n",
       "    <tr>\n",
       "      <th>7</th>\n",
       "      <td>ШЫМКЕНТ. КАЗИНФОРМ - В Шардаринском районе Южн...</td>\n",
       "      <td>7</td>\n",
       "      <td>0</td>\n",
       "    </tr>\n",
       "    <tr>\n",
       "      <th>8</th>\n",
       "      <td>С 5 августа 2011 года вступил в юридическую с...</td>\n",
       "      <td>8</td>\n",
       "      <td>0</td>\n",
       "    </tr>\n",
       "    <tr>\n",
       "      <th>9</th>\n",
       "      <td>Казахстанцы должны платить за коммунальные усл...</td>\n",
       "      <td>9</td>\n",
       "      <td>0</td>\n",
       "    </tr>\n",
       "  </tbody>\n",
       "</table>\n",
       "</div>"
      ],
      "text/plain": [
       "                                                text  id  sentiment\n",
       "0  Как сообщает пресс-служба акимата Алматы, для ...   0          0\n",
       "1  Казахстанские авиакомпании перевозят 250 тысяч...   1          0\n",
       "2  На состоявшемся под председательством Касым-Жо...   2          0\n",
       "3  В ОАЭ состоялись переговоры между казахстанско...   3          0\n",
       "4  12 вагонов грузового поезда сошли с путей в Во...   4          0\n",
       "5  Отправившиеся на «джихад» из города Сатпаева К...   5          0\n",
       "6  \\nНазарбаев утвердил новый состав правительств...   6          0\n",
       "7  ШЫМКЕНТ. КАЗИНФОРМ - В Шардаринском районе Южн...   7          0\n",
       "8   С 5 августа 2011 года вступил в юридическую с...   8          0\n",
       "9  Казахстанцы должны платить за коммунальные усл...   9          0"
      ]
     },
     "execution_count": 33,
     "metadata": {},
     "output_type": "execute_result"
    }
   ],
   "source": [
    "articles_test = pd.read_json('data/articles/test.json')\n",
    "articles_test['sentiment'] = pd.Series([0] * len(articles_test), dtype=int)\n",
    "articles_test.head(10)"
   ]
  },
  {
   "cell_type": "code",
   "execution_count": 34,
   "metadata": {
    "execution": {
     "iopub.execute_input": "2023-11-07T12:53:19.399877Z",
     "iopub.status.busy": "2023-11-07T12:53:19.399016Z",
     "iopub.status.idle": "2023-11-07T12:53:19.405557Z",
     "shell.execute_reply": "2023-11-07T12:53:19.404558Z",
     "shell.execute_reply.started": "2023-11-07T12:53:19.399840Z"
    }
   },
   "outputs": [],
   "source": [
    "def classify(model, text, tokenizer):\n",
    "    model.eval()\n",
    "    input_ids = tokenizer.encode(text, return_tensors='pt', truncation=True, \n",
    "                                 max_length=512)\n",
    "    input_ids = input_ids.to(device)\n",
    "    outputs = model(input_ids=input_ids)\n",
    "    _, indices = torch.max(outputs.logits, 1)\n",
    "    return int(indices)"
   ]
  },
  {
   "cell_type": "code",
   "execution_count": 35,
   "metadata": {
    "execution": {
     "iopub.execute_input": "2023-11-07T12:53:22.847344Z",
     "iopub.status.busy": "2023-11-07T12:53:22.846976Z",
     "iopub.status.idle": "2023-11-07T12:54:45.616025Z",
     "shell.execute_reply": "2023-11-07T12:54:45.615081Z",
     "shell.execute_reply.started": "2023-11-07T12:53:22.847312Z"
    }
   },
   "outputs": [
    {
     "data": {
      "text/html": [
       "<div>\n",
       "<style scoped>\n",
       "    .dataframe tbody tr th:only-of-type {\n",
       "        vertical-align: middle;\n",
       "    }\n",
       "\n",
       "    .dataframe tbody tr th {\n",
       "        vertical-align: top;\n",
       "    }\n",
       "\n",
       "    .dataframe thead th {\n",
       "        text-align: right;\n",
       "    }\n",
       "</style>\n",
       "<table border=\"1\" class=\"dataframe\">\n",
       "  <thead>\n",
       "    <tr style=\"text-align: right;\">\n",
       "      <th></th>\n",
       "      <th>text</th>\n",
       "      <th>id</th>\n",
       "      <th>sentiment</th>\n",
       "    </tr>\n",
       "  </thead>\n",
       "  <tbody>\n",
       "    <tr>\n",
       "      <th>0</th>\n",
       "      <td>Как сообщает пресс-служба акимата Алматы, для ...</td>\n",
       "      <td>0</td>\n",
       "      <td>1</td>\n",
       "    </tr>\n",
       "    <tr>\n",
       "      <th>1</th>\n",
       "      <td>Казахстанские авиакомпании перевозят 250 тысяч...</td>\n",
       "      <td>1</td>\n",
       "      <td>2</td>\n",
       "    </tr>\n",
       "    <tr>\n",
       "      <th>2</th>\n",
       "      <td>На состоявшемся под председательством Касым-Жо...</td>\n",
       "      <td>2</td>\n",
       "      <td>1</td>\n",
       "    </tr>\n",
       "    <tr>\n",
       "      <th>3</th>\n",
       "      <td>В ОАЭ состоялись переговоры между казахстанско...</td>\n",
       "      <td>3</td>\n",
       "      <td>2</td>\n",
       "    </tr>\n",
       "    <tr>\n",
       "      <th>4</th>\n",
       "      <td>12 вагонов грузового поезда сошли с путей в Во...</td>\n",
       "      <td>4</td>\n",
       "      <td>0</td>\n",
       "    </tr>\n",
       "    <tr>\n",
       "      <th>5</th>\n",
       "      <td>Отправившиеся на «джихад» из города Сатпаева К...</td>\n",
       "      <td>5</td>\n",
       "      <td>0</td>\n",
       "    </tr>\n",
       "    <tr>\n",
       "      <th>6</th>\n",
       "      <td>\\nНазарбаев утвердил новый состав правительств...</td>\n",
       "      <td>6</td>\n",
       "      <td>1</td>\n",
       "    </tr>\n",
       "    <tr>\n",
       "      <th>7</th>\n",
       "      <td>ШЫМКЕНТ. КАЗИНФОРМ - В Шардаринском районе Южн...</td>\n",
       "      <td>7</td>\n",
       "      <td>2</td>\n",
       "    </tr>\n",
       "    <tr>\n",
       "      <th>8</th>\n",
       "      <td>С 5 августа 2011 года вступил в юридическую с...</td>\n",
       "      <td>8</td>\n",
       "      <td>1</td>\n",
       "    </tr>\n",
       "    <tr>\n",
       "      <th>9</th>\n",
       "      <td>Казахстанцы должны платить за коммунальные усл...</td>\n",
       "      <td>9</td>\n",
       "      <td>1</td>\n",
       "    </tr>\n",
       "  </tbody>\n",
       "</table>\n",
       "</div>"
      ],
      "text/plain": [
       "                                                text  id  sentiment\n",
       "0  Как сообщает пресс-служба акимата Алматы, для ...   0          1\n",
       "1  Казахстанские авиакомпании перевозят 250 тысяч...   1          2\n",
       "2  На состоявшемся под председательством Касым-Жо...   2          1\n",
       "3  В ОАЭ состоялись переговоры между казахстанско...   3          2\n",
       "4  12 вагонов грузового поезда сошли с путей в Во...   4          0\n",
       "5  Отправившиеся на «джихад» из города Сатпаева К...   5          0\n",
       "6  \\nНазарбаев утвердил новый состав правительств...   6          1\n",
       "7  ШЫМКЕНТ. КАЗИНФОРМ - В Шардаринском районе Южн...   7          2\n",
       "8   С 5 августа 2011 года вступил в юридическую с...   8          1\n",
       "9  Казахстанцы должны платить за коммунальные усл...   9          1"
      ]
     },
     "execution_count": 35,
     "metadata": {},
     "output_type": "execute_result"
    }
   ],
   "source": [
    "articles_test['sentiment'] = articles_test['text']\\\n",
    "    .apply(lambda text: classify(model, text, tokenizer))\n",
    "articles_test.head(10)"
   ]
  },
  {
   "cell_type": "code",
   "execution_count": 36,
   "metadata": {
    "execution": {
     "iopub.execute_input": "2023-11-07T12:54:54.614999Z",
     "iopub.status.busy": "2023-11-07T12:54:54.614028Z",
     "iopub.status.idle": "2023-11-07T12:54:54.627200Z",
     "shell.execute_reply": "2023-11-07T12:54:54.626171Z",
     "shell.execute_reply.started": "2023-11-07T12:54:54.614962Z"
    }
   },
   "outputs": [
    {
     "data": {
      "text/html": [
       "<div>\n",
       "<style scoped>\n",
       "    .dataframe tbody tr th:only-of-type {\n",
       "        vertical-align: middle;\n",
       "    }\n",
       "\n",
       "    .dataframe tbody tr th {\n",
       "        vertical-align: top;\n",
       "    }\n",
       "\n",
       "    .dataframe thead th {\n",
       "        text-align: right;\n",
       "    }\n",
       "</style>\n",
       "<table border=\"1\" class=\"dataframe\">\n",
       "  <thead>\n",
       "    <tr style=\"text-align: right;\">\n",
       "      <th></th>\n",
       "      <th>text</th>\n",
       "      <th>id</th>\n",
       "      <th>sentiment</th>\n",
       "    </tr>\n",
       "  </thead>\n",
       "  <tbody>\n",
       "    <tr>\n",
       "      <th>0</th>\n",
       "      <td>Как сообщает пресс-служба акимата Алматы, для ...</td>\n",
       "      <td>0</td>\n",
       "      <td>neutral</td>\n",
       "    </tr>\n",
       "    <tr>\n",
       "      <th>1</th>\n",
       "      <td>Казахстанские авиакомпании перевозят 250 тысяч...</td>\n",
       "      <td>1</td>\n",
       "      <td>positive</td>\n",
       "    </tr>\n",
       "    <tr>\n",
       "      <th>2</th>\n",
       "      <td>На состоявшемся под председательством Касым-Жо...</td>\n",
       "      <td>2</td>\n",
       "      <td>neutral</td>\n",
       "    </tr>\n",
       "    <tr>\n",
       "      <th>3</th>\n",
       "      <td>В ОАЭ состоялись переговоры между казахстанско...</td>\n",
       "      <td>3</td>\n",
       "      <td>positive</td>\n",
       "    </tr>\n",
       "    <tr>\n",
       "      <th>4</th>\n",
       "      <td>12 вагонов грузового поезда сошли с путей в Во...</td>\n",
       "      <td>4</td>\n",
       "      <td>negative</td>\n",
       "    </tr>\n",
       "    <tr>\n",
       "      <th>5</th>\n",
       "      <td>Отправившиеся на «джихад» из города Сатпаева К...</td>\n",
       "      <td>5</td>\n",
       "      <td>negative</td>\n",
       "    </tr>\n",
       "    <tr>\n",
       "      <th>6</th>\n",
       "      <td>\\nНазарбаев утвердил новый состав правительств...</td>\n",
       "      <td>6</td>\n",
       "      <td>neutral</td>\n",
       "    </tr>\n",
       "    <tr>\n",
       "      <th>7</th>\n",
       "      <td>ШЫМКЕНТ. КАЗИНФОРМ - В Шардаринском районе Южн...</td>\n",
       "      <td>7</td>\n",
       "      <td>positive</td>\n",
       "    </tr>\n",
       "    <tr>\n",
       "      <th>8</th>\n",
       "      <td>С 5 августа 2011 года вступил в юридическую с...</td>\n",
       "      <td>8</td>\n",
       "      <td>neutral</td>\n",
       "    </tr>\n",
       "    <tr>\n",
       "      <th>9</th>\n",
       "      <td>Казахстанцы должны платить за коммунальные усл...</td>\n",
       "      <td>9</td>\n",
       "      <td>neutral</td>\n",
       "    </tr>\n",
       "  </tbody>\n",
       "</table>\n",
       "</div>"
      ],
      "text/plain": [
       "                                                text  id sentiment\n",
       "0  Как сообщает пресс-служба акимата Алматы, для ...   0   neutral\n",
       "1  Казахстанские авиакомпании перевозят 250 тысяч...   1  positive\n",
       "2  На состоявшемся под председательством Касым-Жо...   2   neutral\n",
       "3  В ОАЭ состоялись переговоры между казахстанско...   3  positive\n",
       "4  12 вагонов грузового поезда сошли с путей в Во...   4  negative\n",
       "5  Отправившиеся на «джихад» из города Сатпаева К...   5  negative\n",
       "6  \\nНазарбаев утвердил новый состав правительств...   6   neutral\n",
       "7  ШЫМКЕНТ. КАЗИНФОРМ - В Шардаринском районе Южн...   7  positive\n",
       "8   С 5 августа 2011 года вступил в юридическую с...   8   neutral\n",
       "9  Казахстанцы должны платить за коммунальные усл...   9   neutral"
      ]
     },
     "execution_count": 36,
     "metadata": {},
     "output_type": "execute_result"
    }
   ],
   "source": [
    "articles_test['sentiment'] = articles_test['sentiment']\\\n",
    "    .map({v: k for k, v in sentiment_map.items()})\n",
    "articles_test.head(10)"
   ]
  },
  {
   "cell_type": "code",
   "execution_count": 37,
   "metadata": {
    "execution": {
     "iopub.execute_input": "2023-11-07T12:55:02.683070Z",
     "iopub.status.busy": "2023-11-07T12:55:02.682296Z",
     "iopub.status.idle": "2023-11-07T12:55:02.696799Z",
     "shell.execute_reply": "2023-11-07T12:55:02.695886Z",
     "shell.execute_reply.started": "2023-11-07T12:55:02.683036Z"
    }
   },
   "outputs": [],
   "source": [
    "articles_test[['id', 'sentiment']].to_csv('output.csv', index=False)"
   ]
  },
  {
   "attachments": {
    "f359e470-5ec0-4a3d-94ea-38ae8a20db0b.png": {
     "image/png": "[encoded data removed]"
    }
   },
   "cell_type": "markdown",
   "metadata": {},
   "source": [
    "![image.png](attachment:f359e470-5ec0-4a3d-94ea-38ae8a20db0b.png)"
   ]
  },
  {
   "cell_type": "code",
   "execution_count": 38,
   "metadata": {
    "execution": {
     "iopub.execute_input": "2023-11-07T12:55:08.525083Z",
     "iopub.status.busy": "2023-11-07T12:55:08.524692Z",
     "iopub.status.idle": "2023-11-07T12:55:09.679384Z",
     "shell.execute_reply": "2023-11-07T12:55:09.678351Z",
     "shell.execute_reply.started": "2023-11-07T12:55:08.525049Z"
    }
   },
   "outputs": [],
   "source": [
    "torch.save(model, 'lt_rubert-sentiment-classifier.pth')"
   ]
  }
 ],
 "metadata": {
  "kernelspec": {
   "display_name": "Python 3 (ipykernel)",
   "language": "python",
   "name": "python3"
  },
  "language_info": {
   "codemirror_mode": {
    "name": "ipython",
    "version": 3
   },
   "file_extension": ".py",
   "mimetype": "text/x-python",
   "name": "python",
   "nbconvert_exporter": "python",
   "pygments_lexer": "ipython3",
   "version": "3.11.4"
  }
 },
 "nbformat": 4,
 "nbformat_minor": 4
}
