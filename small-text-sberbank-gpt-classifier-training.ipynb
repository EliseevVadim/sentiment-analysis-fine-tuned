{
 "cells": [
  {
   "cell_type": "code",
   "execution_count": 1,
   "metadata": {
    "_cell_guid": "b1076dfc-b9ad-4769-8c92-a6c4dae69d19",
    "_uuid": "8f2839f25d086af736a60e9eeb907d3b93b6e0e5",
    "execution": {
     "iopub.execute_input": "2023-10-23T07:01:38.839592Z",
     "iopub.status.busy": "2023-10-23T07:01:38.839329Z",
     "iopub.status.idle": "2023-10-23T07:01:39.167676Z",
     "shell.execute_reply": "2023-10-23T07:01:39.166763Z",
     "shell.execute_reply.started": "2023-10-23T07:01:38.839567Z"
    }
   },
   "outputs": [],
   "source": [
    "import numpy as np\n",
    "import pandas as pd\n",
    "import matplotlib.pyplot as plt\n",
    "import gc"
   ]
  },
  {
   "cell_type": "code",
   "execution_count": 2,
   "metadata": {
    "execution": {
     "iopub.execute_input": "2023-10-23T07:01:39.170448Z",
     "iopub.status.busy": "2023-10-23T07:01:39.169595Z",
     "iopub.status.idle": "2023-10-23T07:01:42.568158Z",
     "shell.execute_reply": "2023-10-23T07:01:42.567068Z",
     "shell.execute_reply.started": "2023-10-23T07:01:39.170412Z"
    }
   },
   "outputs": [],
   "source": [
    "import torch\n",
    "import torch.nn as nn\n",
    "\n",
    "from torch.optim import AdamW\n",
    "from torch.utils.data import Dataset, DataLoader"
   ]
  },
  {
   "cell_type": "code",
   "execution_count": 3,
   "metadata": {
    "execution": {
     "iopub.execute_input": "2023-10-23T07:01:42.569775Z",
     "iopub.status.busy": "2023-10-23T07:01:42.569396Z",
     "iopub.status.idle": "2023-10-23T07:01:52.251928Z",
     "shell.execute_reply": "2023-10-23T07:01:52.251057Z",
     "shell.execute_reply.started": "2023-10-23T07:01:42.569751Z"
    }
   },
   "outputs": [],
   "source": [
    "import transformers\n",
    "from transformers import GPT2LMHeadModel, GPT2Tokenizer"
   ]
  },
  {
   "cell_type": "code",
   "execution_count": 4,
   "metadata": {
    "execution": {
     "iopub.execute_input": "2023-10-23T07:01:52.254344Z",
     "iopub.status.busy": "2023-10-23T07:01:52.254047Z",
     "iopub.status.idle": "2023-10-23T07:01:52.606992Z",
     "shell.execute_reply": "2023-10-23T07:01:52.606142Z",
     "shell.execute_reply.started": "2023-10-23T07:01:52.254309Z"
    }
   },
   "outputs": [],
   "source": [
    "from sklearn.model_selection import train_test_split\n",
    "from sklearn.metrics import accuracy_score"
   ]
  },
  {
   "cell_type": "code",
   "execution_count": 5,
   "metadata": {
    "execution": {
     "iopub.execute_input": "2023-10-23T07:01:52.609267Z",
     "iopub.status.busy": "2023-10-23T07:01:52.608592Z",
     "iopub.status.idle": "2023-10-23T07:01:52.614202Z",
     "shell.execute_reply": "2023-10-23T07:01:52.613147Z",
     "shell.execute_reply.started": "2023-10-23T07:01:52.609232Z"
    }
   },
   "outputs": [],
   "source": [
    "def free_memory():\n",
    "    gc.collect()\n",
    "    torch.cuda.empty_cache()"
   ]
  },
  {
   "cell_type": "code",
   "execution_count": 6,
   "metadata": {
    "execution": {
     "iopub.execute_input": "2023-10-23T07:01:52.616246Z",
     "iopub.status.busy": "2023-10-23T07:01:52.615595Z",
     "iopub.status.idle": "2023-10-23T07:01:53.365885Z",
     "shell.execute_reply": "2023-10-23T07:01:53.364997Z",
     "shell.execute_reply.started": "2023-10-23T07:01:52.616192Z"
    }
   },
   "outputs": [
    {
     "data": {
      "text/html": [
       "<div>\n",
       "<style scoped>\n",
       "    .dataframe tbody tr th:only-of-type {\n",
       "        vertical-align: middle;\n",
       "    }\n",
       "\n",
       "    .dataframe tbody tr th {\n",
       "        vertical-align: top;\n",
       "    }\n",
       "\n",
       "    .dataframe thead th {\n",
       "        text-align: right;\n",
       "    }\n",
       "</style>\n",
       "<table border=\"1\" class=\"dataframe\">\n",
       "  <thead>\n",
       "    <tr style=\"text-align: right;\">\n",
       "      <th></th>\n",
       "      <th>review</th>\n",
       "      <th>sentiment</th>\n",
       "    </tr>\n",
       "  </thead>\n",
       "  <tbody>\n",
       "    <tr>\n",
       "      <th>0</th>\n",
       "      <td>качество плохое пошив ужасный (горловина напер...</td>\n",
       "      <td>negative</td>\n",
       "    </tr>\n",
       "    <tr>\n",
       "      <th>1</th>\n",
       "      <td>Товар отдали другому человеку, я не получила п...</td>\n",
       "      <td>negative</td>\n",
       "    </tr>\n",
       "    <tr>\n",
       "      <th>2</th>\n",
       "      <td>Ужасная синтетика! Тонкая, ничего общего с пре...</td>\n",
       "      <td>negative</td>\n",
       "    </tr>\n",
       "    <tr>\n",
       "      <th>3</th>\n",
       "      <td>товар не пришел, продавец продлил защиту без м...</td>\n",
       "      <td>negative</td>\n",
       "    </tr>\n",
       "    <tr>\n",
       "      <th>4</th>\n",
       "      <td>Кофточка голая синтетика, носить не возможно.</td>\n",
       "      <td>negative</td>\n",
       "    </tr>\n",
       "    <tr>\n",
       "      <th>5</th>\n",
       "      <td>Очень глубокие проймы</td>\n",
       "      <td>negative</td>\n",
       "    </tr>\n",
       "    <tr>\n",
       "      <th>6</th>\n",
       "      <td>Я недовольна заказом.Я вот одного не понимаю п...</td>\n",
       "      <td>negative</td>\n",
       "    </tr>\n",
       "    <tr>\n",
       "      <th>7</th>\n",
       "      <td>заказала размер s на от 64,об 94,начнем с того...</td>\n",
       "      <td>negative</td>\n",
       "    </tr>\n",
       "    <tr>\n",
       "      <th>8</th>\n",
       "      <td>Заказ я сделала в июле. С тех пор посылка отсл...</td>\n",
       "      <td>negative</td>\n",
       "    </tr>\n",
       "    <tr>\n",
       "      <th>9</th>\n",
       "      <td>Ужасное качество товара!</td>\n",
       "      <td>negative</td>\n",
       "    </tr>\n",
       "  </tbody>\n",
       "</table>\n",
       "</div>"
      ],
      "text/plain": [
       "                                              review sentiment\n",
       "0  качество плохое пошив ужасный (горловина напер...  negative\n",
       "1  Товар отдали другому человеку, я не получила п...  negative\n",
       "2  Ужасная синтетика! Тонкая, ничего общего с пре...  negative\n",
       "3  товар не пришел, продавец продлил защиту без м...  negative\n",
       "4      Кофточка голая синтетика, носить не возможно.  negative\n",
       "5                              Очень глубокие проймы  negative\n",
       "6  Я недовольна заказом.Я вот одного не понимаю п...  negative\n",
       "7  заказала размер s на от 64,об 94,начнем с того...  negative\n",
       "8  Заказ я сделала в июле. С тех пор посылка отсл...  negative\n",
       "9                           Ужасное качество товара!  negative"
      ]
     },
     "execution_count": 6,
     "metadata": {},
     "output_type": "execute_result"
    }
   ],
   "source": [
    "reviews = pd.read_csv('data/reviews.csv.zip', sep='\\t')\n",
    "reviews.drop_duplicates(subset=['review'], inplace=True)\n",
    "reviews.head(10)"
   ]
  },
  {
   "cell_type": "code",
   "execution_count": 7,
   "metadata": {
    "execution": {
     "iopub.execute_input": "2023-10-23T07:01:53.367445Z",
     "iopub.status.busy": "2023-10-23T07:01:53.367074Z",
     "iopub.status.idle": "2023-10-23T07:01:53.650422Z",
     "shell.execute_reply": "2023-10-23T07:01:53.649470Z",
     "shell.execute_reply.started": "2023-10-23T07:01:53.367416Z"
    }
   },
   "outputs": [
    {
     "data": {
      "image/png": "[encoded data removed]",
      "text/plain": [
       "<Figure size 640x480 with 1 Axes>"
      ]
     },
     "metadata": {},
     "output_type": "display_data"
    }
   ],
   "source": [
    "reviews.sentiment.hist()\n",
    "plt.show()"
   ]
  },
  {
   "cell_type": "code",
   "execution_count": 8,
   "metadata": {
    "execution": {
     "iopub.execute_input": "2023-10-23T07:01:53.651768Z",
     "iopub.status.busy": "2023-10-23T07:01:53.651500Z",
     "iopub.status.idle": "2023-10-23T07:01:53.656438Z",
     "shell.execute_reply": "2023-10-23T07:01:53.655535Z",
     "shell.execute_reply.started": "2023-10-23T07:01:53.651744Z"
    }
   },
   "outputs": [],
   "source": [
    "sentiment_map = {\n",
    "    'negative': 0,\n",
    "    'neautral': 1,\n",
    "    'positive': 2\n",
    "}"
   ]
  },
  {
   "cell_type": "code",
   "execution_count": 9,
   "metadata": {
    "execution": {
     "iopub.execute_input": "2023-10-23T07:01:53.660002Z",
     "iopub.status.busy": "2023-10-23T07:01:53.659742Z",
     "iopub.status.idle": "2023-10-23T07:01:53.727237Z",
     "shell.execute_reply": "2023-10-23T07:01:53.726393Z",
     "shell.execute_reply.started": "2023-10-23T07:01:53.659979Z"
    }
   },
   "outputs": [
    {
     "data": {
      "text/html": [
       "<div>\n",
       "<style scoped>\n",
       "    .dataframe tbody tr th:only-of-type {\n",
       "        vertical-align: middle;\n",
       "    }\n",
       "\n",
       "    .dataframe tbody tr th {\n",
       "        vertical-align: top;\n",
       "    }\n",
       "\n",
       "    .dataframe thead th {\n",
       "        text-align: right;\n",
       "    }\n",
       "</style>\n",
       "<table border=\"1\" class=\"dataframe\">\n",
       "  <thead>\n",
       "    <tr style=\"text-align: right;\">\n",
       "      <th></th>\n",
       "      <th>review</th>\n",
       "      <th>sentiment</th>\n",
       "    </tr>\n",
       "  </thead>\n",
       "  <tbody>\n",
       "    <tr>\n",
       "      <th>0</th>\n",
       "      <td>качество плохое пошив ужасный (горловина напер...</td>\n",
       "      <td>0</td>\n",
       "    </tr>\n",
       "    <tr>\n",
       "      <th>1</th>\n",
       "      <td>Товар отдали другому человеку, я не получила п...</td>\n",
       "      <td>0</td>\n",
       "    </tr>\n",
       "    <tr>\n",
       "      <th>2</th>\n",
       "      <td>Ужасная синтетика! Тонкая, ничего общего с пре...</td>\n",
       "      <td>0</td>\n",
       "    </tr>\n",
       "    <tr>\n",
       "      <th>3</th>\n",
       "      <td>товар не пришел, продавец продлил защиту без м...</td>\n",
       "      <td>0</td>\n",
       "    </tr>\n",
       "    <tr>\n",
       "      <th>4</th>\n",
       "      <td>Кофточка голая синтетика, носить не возможно.</td>\n",
       "      <td>0</td>\n",
       "    </tr>\n",
       "    <tr>\n",
       "      <th>5</th>\n",
       "      <td>Очень глубокие проймы</td>\n",
       "      <td>0</td>\n",
       "    </tr>\n",
       "    <tr>\n",
       "      <th>6</th>\n",
       "      <td>Я недовольна заказом.Я вот одного не понимаю п...</td>\n",
       "      <td>0</td>\n",
       "    </tr>\n",
       "    <tr>\n",
       "      <th>7</th>\n",
       "      <td>заказала размер s на от 64,об 94,начнем с того...</td>\n",
       "      <td>0</td>\n",
       "    </tr>\n",
       "    <tr>\n",
       "      <th>8</th>\n",
       "      <td>Заказ я сделала в июле. С тех пор посылка отсл...</td>\n",
       "      <td>0</td>\n",
       "    </tr>\n",
       "    <tr>\n",
       "      <th>9</th>\n",
       "      <td>Ужасное качество товара!</td>\n",
       "      <td>0</td>\n",
       "    </tr>\n",
       "  </tbody>\n",
       "</table>\n",
       "</div>"
      ],
      "text/plain": [
       "                                              review  sentiment\n",
       "0  качество плохое пошив ужасный (горловина напер...          0\n",
       "1  Товар отдали другому человеку, я не получила п...          0\n",
       "2  Ужасная синтетика! Тонкая, ничего общего с пре...          0\n",
       "3  товар не пришел, продавец продлил защиту без м...          0\n",
       "4      Кофточка голая синтетика, носить не возможно.          0\n",
       "5                              Очень глубокие проймы          0\n",
       "6  Я недовольна заказом.Я вот одного не понимаю п...          0\n",
       "7  заказала размер s на от 64,об 94,начнем с того...          0\n",
       "8  Заказ я сделала в июле. С тех пор посылка отсл...          0\n",
       "9                           Ужасное качество товара!          0"
      ]
     },
     "execution_count": 9,
     "metadata": {},
     "output_type": "execute_result"
    }
   ],
   "source": [
    "reviews.sentiment = reviews.sentiment.apply(lambda x: sentiment_map[x])\n",
    "reviews.head(10)"
   ]
  },
  {
   "cell_type": "code",
   "execution_count": 10,
   "metadata": {
    "execution": {
     "iopub.execute_input": "2023-10-23T07:01:53.728630Z",
     "iopub.status.busy": "2023-10-23T07:01:53.728303Z",
     "iopub.status.idle": "2023-10-23T07:01:53.758273Z",
     "shell.execute_reply": "2023-10-23T07:01:53.757305Z",
     "shell.execute_reply.started": "2023-10-23T07:01:53.728599Z"
    }
   },
   "outputs": [
    {
     "data": {
      "text/plain": [
       "'cuda'"
      ]
     },
     "execution_count": 10,
     "metadata": {},
     "output_type": "execute_result"
    }
   ],
   "source": [
    "device = ('cuda' if torch.cuda.is_available() else 'cpu')\n",
    "device"
   ]
  },
  {
   "cell_type": "code",
   "execution_count": 11,
   "metadata": {
    "execution": {
     "iopub.execute_input": "2023-10-23T07:01:53.759744Z",
     "iopub.status.busy": "2023-10-23T07:01:53.759449Z",
     "iopub.status.idle": "2023-10-23T07:01:53.767374Z",
     "shell.execute_reply": "2023-10-23T07:01:53.766575Z",
     "shell.execute_reply.started": "2023-10-23T07:01:53.759721Z"
    }
   },
   "outputs": [],
   "source": [
    "pretrained_model_name_or_path = 'sberbank-ai/rugpt3small_based_on_gpt2'"
   ]
  },
  {
   "cell_type": "code",
   "execution_count": 12,
   "metadata": {
    "execution": {
     "iopub.execute_input": "2023-10-23T07:01:53.768752Z",
     "iopub.status.busy": "2023-10-23T07:01:53.768436Z",
     "iopub.status.idle": "2023-10-23T07:02:46.458137Z",
     "shell.execute_reply": "2023-10-23T07:02:46.457140Z",
     "shell.execute_reply.started": "2023-10-23T07:01:53.768722Z"
    }
   },
   "outputs": [
    {
     "data": {
      "application/vnd.jupyter.widget-view+json": {
       "model_id": "74c92fd8819c4ceb93f26057994c1d9d",
       "version_major": 2,
       "version_minor": 0
      },
      "text/plain": [
       "Downloading (…)lve/main/config.json:   0%|          | 0.00/608 [00:00<?, ?B/s]"
      ]
     },
     "metadata": {},
     "output_type": "display_data"
    },
    {
     "data": {
      "application/vnd.jupyter.widget-view+json": {
       "model_id": "cb242db3668f4c3eb556e996abaf919a",
       "version_major": 2,
       "version_minor": 0
      },
      "text/plain": [
       "Downloading pytorch_model.bin:   0%|          | 0.00/551M [00:00<?, ?B/s]"
      ]
     },
     "metadata": {},
     "output_type": "display_data"
    },
    {
     "data": {
      "application/vnd.jupyter.widget-view+json": {
       "model_id": "4ebc0ca2163349ff8933d9c9fb0d4f33",
       "version_major": 2,
       "version_minor": 0
      },
      "text/plain": [
       "Downloading (…)olve/main/vocab.json:   0%|          | 0.00/1.71M [00:00<?, ?B/s]"
      ]
     },
     "metadata": {},
     "output_type": "display_data"
    },
    {
     "data": {
      "application/vnd.jupyter.widget-view+json": {
       "model_id": "e4748c41149e4936adb7fbb17114348f",
       "version_major": 2,
       "version_minor": 0
      },
      "text/plain": [
       "Downloading (…)olve/main/merges.txt:   0%|          | 0.00/1.27M [00:00<?, ?B/s]"
      ]
     },
     "metadata": {},
     "output_type": "display_data"
    }
   ],
   "source": [
    "gpt = GPT2LMHeadModel.from_pretrained(pretrained_model_name_or_path)\n",
    "tokenizer = GPT2Tokenizer.from_pretrained(pretrained_model_name_or_path)"
   ]
  },
  {
   "cell_type": "code",
   "execution_count": 13,
   "metadata": {
    "execution": {
     "iopub.execute_input": "2023-10-23T07:02:46.459649Z",
     "iopub.status.busy": "2023-10-23T07:02:46.459347Z",
     "iopub.status.idle": "2023-10-23T07:02:46.467919Z",
     "shell.execute_reply": "2023-10-23T07:02:46.465712Z",
     "shell.execute_reply.started": "2023-10-23T07:02:46.459623Z"
    }
   },
   "outputs": [
    {
     "data": {
      "text/plain": [
       "GPT2LMHeadModel(\n",
       "  (transformer): GPT2Model(\n",
       "    (wte): Embedding(50264, 768)\n",
       "    (wpe): Embedding(2048, 768)\n",
       "    (drop): Dropout(p=0.1, inplace=False)\n",
       "    (h): ModuleList(\n",
       "      (0-11): 12 x GPT2Block(\n",
       "        (ln_1): LayerNorm((768,), eps=1e-05, elementwise_affine=True)\n",
       "        (attn): GPT2Attention(\n",
       "          (c_attn): Conv1D()\n",
       "          (c_proj): Conv1D()\n",
       "          (attn_dropout): Dropout(p=0.1, inplace=False)\n",
       "          (resid_dropout): Dropout(p=0.1, inplace=False)\n",
       "        )\n",
       "        (ln_2): LayerNorm((768,), eps=1e-05, elementwise_affine=True)\n",
       "        (mlp): GPT2MLP(\n",
       "          (c_fc): Conv1D()\n",
       "          (c_proj): Conv1D()\n",
       "          (act): NewGELUActivation()\n",
       "          (dropout): Dropout(p=0.1, inplace=False)\n",
       "        )\n",
       "      )\n",
       "    )\n",
       "    (ln_f): LayerNorm((768,), eps=1e-05, elementwise_affine=True)\n",
       "  )\n",
       "  (lm_head): Linear(in_features=768, out_features=50264, bias=False)\n",
       ")"
      ]
     },
     "execution_count": 13,
     "metadata": {},
     "output_type": "execute_result"
    }
   ],
   "source": [
    "gpt"
   ]
  },
  {
   "cell_type": "code",
   "execution_count": 14,
   "metadata": {
    "execution": {
     "iopub.execute_input": "2023-10-23T07:02:46.469600Z",
     "iopub.status.busy": "2023-10-23T07:02:46.469255Z",
     "iopub.status.idle": "2023-10-23T07:02:47.827454Z",
     "shell.execute_reply": "2023-10-23T07:02:47.826440Z",
     "shell.execute_reply.started": "2023-10-23T07:02:46.469569Z"
    }
   },
   "outputs": [],
   "source": [
    "for param in gpt.parameters():\n",
    "    param.requires_grad = False"
   ]
  },
  {
   "cell_type": "code",
   "execution_count": 15,
   "metadata": {
    "execution": {
     "iopub.execute_input": "2023-10-23T07:02:47.828845Z",
     "iopub.status.busy": "2023-10-23T07:02:47.828590Z",
     "iopub.status.idle": "2023-10-23T07:02:47.842744Z",
     "shell.execute_reply": "2023-10-23T07:02:47.841856Z",
     "shell.execute_reply.started": "2023-10-23T07:02:47.828824Z"
    }
   },
   "outputs": [
    {
     "data": {
      "text/plain": [
       "3"
      ]
     },
     "execution_count": 15,
     "metadata": {},
     "output_type": "execute_result"
    }
   ],
   "source": [
    "num_labels = reviews.sentiment.nunique()\n",
    "num_labels"
   ]
  },
  {
   "cell_type": "code",
   "execution_count": 16,
   "metadata": {
    "execution": {
     "iopub.execute_input": "2023-10-23T07:02:47.844173Z",
     "iopub.status.busy": "2023-10-23T07:02:47.843831Z",
     "iopub.status.idle": "2023-10-23T07:02:52.920748Z",
     "shell.execute_reply": "2023-10-23T07:02:52.919839Z",
     "shell.execute_reply.started": "2023-10-23T07:02:47.844142Z"
    }
   },
   "outputs": [
    {
     "data": {
      "text/plain": [
       "GPT2LMHeadModel(\n",
       "  (transformer): GPT2Model(\n",
       "    (wte): Embedding(50264, 768)\n",
       "    (wpe): Embedding(2048, 768)\n",
       "    (drop): Dropout(p=0.1, inplace=False)\n",
       "    (h): ModuleList(\n",
       "      (0-11): 12 x GPT2Block(\n",
       "        (ln_1): LayerNorm((768,), eps=1e-05, elementwise_affine=True)\n",
       "        (attn): GPT2Attention(\n",
       "          (c_attn): Conv1D()\n",
       "          (c_proj): Conv1D()\n",
       "          (attn_dropout): Dropout(p=0.1, inplace=False)\n",
       "          (resid_dropout): Dropout(p=0.1, inplace=False)\n",
       "        )\n",
       "        (ln_2): LayerNorm((768,), eps=1e-05, elementwise_affine=True)\n",
       "        (mlp): GPT2MLP(\n",
       "          (c_fc): Conv1D()\n",
       "          (c_proj): Conv1D()\n",
       "          (act): NewGELUActivation()\n",
       "          (dropout): Dropout(p=0.1, inplace=False)\n",
       "        )\n",
       "      )\n",
       "    )\n",
       "    (ln_f): LayerNorm((768,), eps=1e-05, elementwise_affine=True)\n",
       "  )\n",
       "  (lm_head): Linear(in_features=768, out_features=3, bias=True)\n",
       ")"
      ]
     },
     "execution_count": 16,
     "metadata": {},
     "output_type": "execute_result"
    }
   ],
   "source": [
    "gpt.lm_head = nn.Linear(gpt.config.hidden_size, num_labels)\n",
    "gpt = gpt.to(device)\n",
    "gpt"
   ]
  },
  {
   "cell_type": "code",
   "execution_count": 18,
   "metadata": {
    "execution": {
     "iopub.execute_input": "2023-10-23T07:02:52.928272Z",
     "iopub.status.busy": "2023-10-23T07:02:52.928007Z",
     "iopub.status.idle": "2023-10-23T07:02:52.946490Z",
     "shell.execute_reply": "2023-10-23T07:02:52.945593Z",
     "shell.execute_reply.started": "2023-10-23T07:02:52.928249Z"
    }
   },
   "outputs": [],
   "source": [
    "X = reviews.review\n",
    "y = reviews.sentiment"
   ]
  },
  {
   "cell_type": "code",
   "execution_count": 19,
   "metadata": {
    "execution": {
     "iopub.execute_input": "2023-10-23T07:02:52.947742Z",
     "iopub.status.busy": "2023-10-23T07:02:52.947502Z",
     "iopub.status.idle": "2023-10-23T07:02:52.971990Z",
     "shell.execute_reply": "2023-10-23T07:02:52.971084Z",
     "shell.execute_reply.started": "2023-10-23T07:02:52.947721Z"
    }
   },
   "outputs": [],
   "source": [
    "X_train, X_test, y_train, y_test = train_test_split(X, y, test_size=0.2, random_state=42)"
   ]
  },
  {
   "cell_type": "code",
   "execution_count": 20,
   "metadata": {
    "execution": {
     "iopub.execute_input": "2023-10-23T07:02:52.973371Z",
     "iopub.status.busy": "2023-10-23T07:02:52.973073Z",
     "iopub.status.idle": "2023-10-23T07:02:52.978423Z",
     "shell.execute_reply": "2023-10-23T07:02:52.977551Z",
     "shell.execute_reply.started": "2023-10-23T07:02:52.973347Z"
    }
   },
   "outputs": [
    {
     "name": "stdout",
     "output_type": "stream",
     "text": [
      "<pad>\n"
     ]
    }
   ],
   "source": [
    "tokenizer.pad_token_id = 0\n",
    "print(tokenizer.pad_token)"
   ]
  },
  {
   "cell_type": "code",
   "execution_count": 21,
   "metadata": {
    "execution": {
     "iopub.execute_input": "2023-10-23T07:02:52.979842Z",
     "iopub.status.busy": "2023-10-23T07:02:52.979581Z",
     "iopub.status.idle": "2023-10-23T07:02:52.989643Z",
     "shell.execute_reply": "2023-10-23T07:02:52.988838Z",
     "shell.execute_reply.started": "2023-10-23T07:02:52.979812Z"
    }
   },
   "outputs": [],
   "source": [
    "class SentimentAnalysisDataset(Dataset):\n",
    "    def __init__(self, X, y, tokenizer=None, num_labels=3):\n",
    "        self.X = tokenizer(X.tolist(), \n",
    "                           truncation=True, \n",
    "                           padding=True,\n",
    "                           return_tensors=\"pt\",\n",
    "                           max_length=2048).to(device)\n",
    "        self.y = torch.tensor(y.to_numpy(), dtype=torch.int64).to(device)\n",
    "    \n",
    "    def __len__(self):\n",
    "        return len(self.y)\n",
    "    \n",
    "    def __getitem__(self, idx):\n",
    "        return self.X.input_ids[idx], self.X.attention_mask[idx], self.y[idx]"
   ]
  },
  {
   "cell_type": "code",
   "execution_count": 22,
   "metadata": {
    "execution": {
     "iopub.execute_input": "2023-10-23T07:02:52.991221Z",
     "iopub.status.busy": "2023-10-23T07:02:52.990651Z",
     "iopub.status.idle": "2023-10-23T07:04:38.846230Z",
     "shell.execute_reply": "2023-10-23T07:04:38.845437Z",
     "shell.execute_reply.started": "2023-10-23T07:02:52.991196Z"
    }
   },
   "outputs": [],
   "source": [
    "train_dataset = SentimentAnalysisDataset(X_train, y_train, tokenizer)\n",
    "test_dataset = SentimentAnalysisDataset(X_test, y_test, tokenizer)\n",
    "\n",
    "free_memory()"
   ]
  },
  {
   "cell_type": "code",
   "execution_count": 23,
   "metadata": {
    "execution": {
     "iopub.execute_input": "2023-10-23T07:04:38.847829Z",
     "iopub.status.busy": "2023-10-23T07:04:38.847481Z",
     "iopub.status.idle": "2023-10-23T07:04:38.852271Z",
     "shell.execute_reply": "2023-10-23T07:04:38.851393Z",
     "shell.execute_reply.started": "2023-10-23T07:04:38.847799Z"
    }
   },
   "outputs": [],
   "source": [
    "batch_size = 32\n",
    "num_epochs = 5"
   ]
  },
  {
   "cell_type": "code",
   "execution_count": 24,
   "metadata": {
    "execution": {
     "iopub.execute_input": "2023-10-23T07:04:38.857203Z",
     "iopub.status.busy": "2023-10-23T07:04:38.856898Z",
     "iopub.status.idle": "2023-10-23T07:04:38.865576Z",
     "shell.execute_reply": "2023-10-23T07:04:38.864762Z",
     "shell.execute_reply.started": "2023-10-23T07:04:38.857179Z"
    }
   },
   "outputs": [],
   "source": [
    "train_loader = DataLoader(train_dataset, batch_size=batch_size)"
   ]
  },
  {
   "cell_type": "code",
   "execution_count": 26,
   "metadata": {
    "execution": {
     "iopub.execute_input": "2023-10-23T07:04:38.878045Z",
     "iopub.status.busy": "2023-10-23T07:04:38.877728Z",
     "iopub.status.idle": "2023-10-23T07:04:38.887916Z",
     "shell.execute_reply": "2023-10-23T07:04:38.886892Z",
     "shell.execute_reply.started": "2023-10-23T07:04:38.878021Z"
    }
   },
   "outputs": [],
   "source": [
    "optimizer = AdamW(gpt.lm_head.parameters(), lr=0.001)\n",
    "criterion = nn.CrossEntropyLoss()"
   ]
  },
  {
   "cell_type": "code",
   "execution_count": 70,
   "metadata": {
    "execution": {
     "iopub.execute_input": "2023-10-23T15:38:46.707562Z",
     "iopub.status.busy": "2023-10-23T15:38:46.706888Z",
     "iopub.status.idle": "2023-10-23T15:38:46.715925Z",
     "shell.execute_reply": "2023-10-23T15:38:46.714886Z",
     "shell.execute_reply.started": "2023-10-23T15:38:46.707527Z"
    }
   },
   "outputs": [],
   "source": [
    "def evaluate_model(model, data_loader):\n",
    "    ground_truth = []\n",
    "    predictions = []\n",
    "\n",
    "    model.eval()\n",
    "    for input_ids, attention_mask, labels in data_loader:\n",
    "        input_ids = input_ids.to(device)\n",
    "        attention_mask = attention_mask.to(device)\n",
    "        labels = labels.to(device)\n",
    "        outputs = model(input_ids=input_ids, attention_mask=attention_mask)\n",
    "        logits = torch.mean(outputs.logits, dim=1)\n",
    "        _, indices = torch.max(logits, 1)\n",
    "        predictions.extend(indices.tolist())\n",
    "        ground_truth.extend(labels.tolist())\n",
    "        del input_ids\n",
    "        del attention_mask\n",
    "        del labels\n",
    "        del outputs\n",
    "        del logits\n",
    "        del indices\n",
    "        free_memory()\n",
    "    accuracy = accuracy_score(ground_truth, predictions)\n",
    "    del predictions\n",
    "    del ground_truth\n",
    "    free_memory()\n",
    "    return accuracy"
   ]
  },
  {
   "cell_type": "code",
   "execution_count": 27,
   "metadata": {
    "execution": {
     "iopub.execute_input": "2023-10-23T07:04:38.889352Z",
     "iopub.status.busy": "2023-10-23T07:04:38.889048Z",
     "iopub.status.idle": "2023-10-23T07:04:38.899971Z",
     "shell.execute_reply": "2023-10-23T07:04:38.899234Z",
     "shell.execute_reply.started": "2023-10-23T07:04:38.889328Z"
    }
   },
   "outputs": [],
   "source": [
    "def train_model(model, train_loader, criterion, optimizer, num_epochs):\n",
    "    loss_history = []\n",
    "    train_history = []\n",
    "    \n",
    "    \n",
    "    for epoch in range(num_epochs):\n",
    "        model.train()\n",
    "        \n",
    "        loss_accum = 0\n",
    "        correct_samples = 0\n",
    "        total_samples = 0\n",
    "        \n",
    "        for i_step, (input_ids, attention_mask, y) in enumerate(train_loader):\n",
    "            input_ids = input_ids.to(device)\n",
    "            attention_mask = attention_mask.to(device)\n",
    "            y = y.to(device)\n",
    "            outputs = model(input_ids=input_ids, attention_mask=attention_mask)\n",
    "            logits = torch.mean(outputs.logits, dim=1)\n",
    "            optimizer.zero_grad()\n",
    "            loss = criterion(logits, y)\n",
    "            loss.backward()\n",
    "            optimizer.step()\n",
    "            \n",
    "            _, indices = torch.max(logits, 1)\n",
    "            correct_samples += torch.sum(indices == y)\n",
    "            total_samples += y.shape[0]\n",
    "            loss_accum += loss\n",
    "            \n",
    "            del outputs\n",
    "            del logits\n",
    "            del indices\n",
    "            del input_ids\n",
    "            del attention_mask\n",
    "            del y\n",
    "            free_memory()\n",
    "            \n",
    "        ave_loss = loss_accum / i_step\n",
    "        train_accuracy = float(correct_samples) / total_samples\n",
    "\n",
    "        loss_history.append(float(ave_loss))\n",
    "        train_history.append(train_accuracy)\n",
    "        \n",
    "        free_memory()\n",
    "\n",
    "        print(\"Average loss: %f, Train accuracy: %f\" % (ave_loss, train_accuracy))\n",
    "        \n",
    "    return loss_history, train_history"
   ]
  },
  {
   "cell_type": "code",
   "execution_count": 28,
   "metadata": {
    "execution": {
     "iopub.execute_input": "2023-10-23T07:04:38.901310Z",
     "iopub.status.busy": "2023-10-23T07:04:38.900975Z",
     "iopub.status.idle": "2023-10-23T14:06:09.432044Z",
     "shell.execute_reply": "2023-10-23T14:06:09.430884Z",
     "shell.execute_reply.started": "2023-10-23T07:04:38.901287Z"
    }
   },
   "outputs": [
    {
     "name": "stdout",
     "output_type": "stream",
     "text": [
      "Average loss: 0.673101, Train accuracy: 0.696590\n",
      "Average loss: 0.641609, Train accuracy: 0.709989\n",
      "Average loss: 0.634727, Train accuracy: 0.714198\n",
      "Average loss: 0.630941, Train accuracy: 0.716975\n",
      "Average loss: 0.628454, Train accuracy: 0.717175\n"
     ]
    }
   ],
   "source": [
    "loss_history, train_history = train_model(gpt, \n",
    "                                          train_loader, \n",
    "                                          criterion, \n",
    "                                          optimizer, num_epochs)"
   ]
  },
  {
   "cell_type": "code",
   "execution_count": 29,
   "metadata": {
    "execution": {
     "iopub.execute_input": "2023-10-23T14:06:09.491276Z",
     "iopub.status.busy": "2023-10-23T14:06:09.490856Z",
     "iopub.status.idle": "2023-10-23T14:06:09.745229Z",
     "shell.execute_reply": "2023-10-23T14:06:09.744000Z",
     "shell.execute_reply.started": "2023-10-23T14:06:09.491240Z"
    }
   },
   "outputs": [],
   "source": [
    "free_memory()"
   ]
  },
  {
   "cell_type": "code",
   "execution_count": 30,
   "metadata": {
    "execution": {
     "iopub.execute_input": "2023-10-23T14:06:09.747534Z",
     "iopub.status.busy": "2023-10-23T14:06:09.746574Z",
     "iopub.status.idle": "2023-10-23T14:06:10.063812Z",
     "shell.execute_reply": "2023-10-23T14:06:10.062798Z",
     "shell.execute_reply.started": "2023-10-23T14:06:09.747479Z"
    }
   },
   "outputs": [
    {
     "data": {
      "text/plain": [
       "<matplotlib.legend.Legend at 0x7f5ba9067010>"
      ]
     },
     "execution_count": 30,
     "metadata": {},
     "output_type": "execute_result"
    },
    {
     "data": {
      "image/png": "[encoded data removed]",
      "text/plain": [
       "<Figure size 640x480 with 1 Axes>"
      ]
     },
     "metadata": {},
     "output_type": "display_data"
    }
   ],
   "source": [
    "plt.title(\"History\")\n",
    "plt.plot(loss_history, label=\"Loss history\")\n",
    "plt.plot(train_history, label=\"Train history\")\n",
    "plt.legend(loc=\"upper left\")"
   ]
  },
  {
   "cell_type": "code",
   "execution_count": 39,
   "metadata": {
    "execution": {
     "iopub.execute_input": "2023-10-23T14:21:54.792436Z",
     "iopub.status.busy": "2023-10-23T14:21:54.791585Z",
     "iopub.status.idle": "2023-10-23T14:21:54.796574Z",
     "shell.execute_reply": "2023-10-23T14:21:54.795581Z",
     "shell.execute_reply.started": "2023-10-23T14:21:54.792402Z"
    }
   },
   "outputs": [],
   "source": [
    "test_loader = DataLoader(test_dataset, batch_size=batch_size)"
   ]
  },
  {
   "cell_type": "code",
   "execution_count": 71,
   "metadata": {
    "execution": {
     "iopub.execute_input": "2023-10-23T15:39:27.080730Z",
     "iopub.status.busy": "2023-10-23T15:39:27.079912Z",
     "iopub.status.idle": "2023-10-23T15:51:52.690571Z",
     "shell.execute_reply": "2023-10-23T15:51:52.689430Z",
     "shell.execute_reply.started": "2023-10-23T15:39:27.080695Z"
    }
   },
   "outputs": [
    {
     "data": {
      "text/plain": [
       "0.723790438018895"
      ]
     },
     "execution_count": 71,
     "metadata": {},
     "output_type": "execute_result"
    }
   ],
   "source": [
    "accuracy = evaluate_model(gpt, test_loader)\n",
    "accuracy"
   ]
  },
  {
   "cell_type": "code",
   "execution_count": 32,
   "metadata": {
    "execution": {
     "iopub.execute_input": "2023-10-23T14:08:47.732978Z",
     "iopub.status.busy": "2023-10-23T14:08:47.732612Z",
     "iopub.status.idle": "2023-10-23T14:08:48.543896Z",
     "shell.execute_reply": "2023-10-23T14:08:48.543124Z",
     "shell.execute_reply.started": "2023-10-23T14:08:47.732949Z"
    }
   },
   "outputs": [],
   "source": [
    "torch.save(gpt, 'st_sberbank-gpt-sentiment-classifier.pth')"
   ]
  },
  {
   "cell_type": "code",
   "execution_count": 67,
   "metadata": {
    "execution": {
     "iopub.execute_input": "2023-10-23T15:17:09.532169Z",
     "iopub.status.busy": "2023-10-23T15:17:09.531756Z",
     "iopub.status.idle": "2023-10-23T15:17:10.021491Z",
     "shell.execute_reply": "2023-10-23T15:17:10.020491Z",
     "shell.execute_reply.started": "2023-10-23T15:17:09.532135Z"
    }
   },
   "outputs": [
    {
     "data": {
      "text/plain": [
       "GPT2LMHeadModel(\n",
       "  (transformer): GPT2Model(\n",
       "    (wte): Embedding(50264, 768)\n",
       "    (wpe): Embedding(2048, 768)\n",
       "    (drop): Dropout(p=0.1, inplace=False)\n",
       "    (h): ModuleList(\n",
       "      (0-11): 12 x GPT2Block(\n",
       "        (ln_1): LayerNorm((768,), eps=1e-05, elementwise_affine=True)\n",
       "        (attn): GPT2Attention(\n",
       "          (c_attn): Conv1D()\n",
       "          (c_proj): Conv1D()\n",
       "          (attn_dropout): Dropout(p=0.1, inplace=False)\n",
       "          (resid_dropout): Dropout(p=0.1, inplace=False)\n",
       "        )\n",
       "        (ln_2): LayerNorm((768,), eps=1e-05, elementwise_affine=True)\n",
       "        (mlp): GPT2MLP(\n",
       "          (c_fc): Conv1D()\n",
       "          (c_proj): Conv1D()\n",
       "          (act): NewGELUActivation()\n",
       "          (dropout): Dropout(p=0.1, inplace=False)\n",
       "        )\n",
       "      )\n",
       "    )\n",
       "    (ln_f): LayerNorm((768,), eps=1e-05, elementwise_affine=True)\n",
       "  )\n",
       "  (lm_head): Linear(in_features=768, out_features=3, bias=True)\n",
       ")"
      ]
     },
     "execution_count": 67,
     "metadata": {},
     "output_type": "execute_result"
    }
   ],
   "source": [
    "loaded_model = torch.load('st_sberbank-gpt-sentiment-classifier.pth').to(device)\n",
    "loaded_model"
   ]
  },
  {
   "cell_type": "code",
   "execution_count": 73,
   "metadata": {
    "execution": {
     "iopub.execute_input": "2023-10-23T15:53:55.960791Z",
     "iopub.status.busy": "2023-10-23T15:53:55.960415Z",
     "iopub.status.idle": "2023-10-23T16:06:24.353850Z",
     "shell.execute_reply": "2023-10-23T16:06:24.352909Z",
     "shell.execute_reply.started": "2023-10-23T15:53:55.960762Z"
    }
   },
   "outputs": [
    {
     "data": {
      "text/plain": [
       "0.723790438018895"
      ]
     },
     "execution_count": 73,
     "metadata": {},
     "output_type": "execute_result"
    }
   ],
   "source": [
    "accuracy = evaluate_model(loaded_model, test_loader)\n",
    "accuracy"
   ]
  }
 ],
 "metadata": {
  "kernelspec": {
   "display_name": "Python 3 (ipykernel)",
   "language": "python",
   "name": "python3"
  },
  "language_info": {
   "codemirror_mode": {
    "name": "ipython",
    "version": 3
   },
   "file_extension": ".py",
   "mimetype": "text/x-python",
   "name": "python",
   "nbconvert_exporter": "python",
   "pygments_lexer": "ipython3",
   "version": "3.11.4"
  }
 },
 "nbformat": 4,
 "nbformat_minor": 4
}
