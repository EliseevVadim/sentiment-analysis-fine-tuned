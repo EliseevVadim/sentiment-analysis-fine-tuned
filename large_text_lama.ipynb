{
 "cells": [
  {
   "cell_type": "code",
   "execution_count": 1,
   "id": "6b2db89d",
   "metadata": {},
   "outputs": [],
   "source": [
    "import numpy as np\n",
    "import pandas as pd\n",
    "import matplotlib.pyplot as plt"
   ]
  },
  {
   "cell_type": "code",
   "execution_count": 2,
   "id": "e42929c0",
   "metadata": {},
   "outputs": [],
   "source": [
    "from sklearn.model_selection import train_test_split\n",
    "from sklearn.metrics import accuracy_score\n",
    "from sklearn.metrics import f1_score"
   ]
  },
  {
   "cell_type": "code",
   "execution_count": 3,
   "id": "24555bfe",
   "metadata": {},
   "outputs": [
    {
     "name": "stderr",
     "output_type": "stream",
     "text": [
      "C:\\Users\\Admin\\.conda\\envs\\oldervenv\\Lib\\site-packages\\lightautoml\\transformers\\text.py:22: UserWarning: 'gensim' - package isn't installed\n",
      "  warnings.warn(\"'gensim' - package isn't installed\")\n",
      "C:\\Users\\Admin\\.conda\\envs\\oldervenv\\Lib\\site-packages\\lightautoml\\addons\\interpretation\\l2x.py:23: UserWarning: 'gensim' - package isn't installed\n",
      "  warnings.warn(\"'gensim' - package isn't installed\")\n"
     ]
    }
   ],
   "source": [
    "from lightautoml.automl.presets.text_presets import TabularNLPAutoML\n",
    "from lightautoml.tasks import Task\n",
    "\n",
    "from lightautoml.addons.interpretation import LimeTextExplainer"
   ]
  },
  {
   "cell_type": "code",
   "execution_count": 4,
   "id": "98d6d9d3",
   "metadata": {},
   "outputs": [],
   "source": [
    "import torch"
   ]
  },
  {
   "cell_type": "code",
   "execution_count": 5,
   "id": "09020123",
   "metadata": {},
   "outputs": [
    {
     "data": {
      "text/plain": [
       "True"
      ]
     },
     "execution_count": 5,
     "metadata": {},
     "output_type": "execute_result"
    }
   ],
   "source": [
    "torch.cuda.is_available()"
   ]
  },
  {
   "cell_type": "code",
   "execution_count": 6,
   "id": "39c081a6",
   "metadata": {},
   "outputs": [],
   "source": [
    "from transformers import logging\n",
    "\n",
    "logging.set_verbosity_error()"
   ]
  },
  {
   "cell_type": "code",
   "execution_count": 7,
   "id": "8449e4ec",
   "metadata": {},
   "outputs": [],
   "source": [
    "np.random.seed(42)"
   ]
  },
  {
   "cell_type": "code",
   "execution_count": 8,
   "id": "a7da60f3",
   "metadata": {},
   "outputs": [
    {
     "data": {
      "text/html": [
       "<div>\n",
       "<style scoped>\n",
       "    .dataframe tbody tr th:only-of-type {\n",
       "        vertical-align: middle;\n",
       "    }\n",
       "\n",
       "    .dataframe tbody tr th {\n",
       "        vertical-align: top;\n",
       "    }\n",
       "\n",
       "    .dataframe thead th {\n",
       "        text-align: right;\n",
       "    }\n",
       "</style>\n",
       "<table border=\"1\" class=\"dataframe\">\n",
       "  <thead>\n",
       "    <tr style=\"text-align: right;\">\n",
       "      <th></th>\n",
       "      <th>text</th>\n",
       "      <th>sentiment</th>\n",
       "    </tr>\n",
       "    <tr>\n",
       "      <th>id</th>\n",
       "      <th></th>\n",
       "      <th></th>\n",
       "    </tr>\n",
       "  </thead>\n",
       "  <tbody>\n",
       "    <tr>\n",
       "      <th>3225</th>\n",
       "      <td>Кирилл Жданов\\nОткрытие заводов по утилизации ...</td>\n",
       "      <td>positive</td>\n",
       "    </tr>\n",
       "    <tr>\n",
       "      <th>4365</th>\n",
       "      <td>Почти во всех случаях обходилось без пострадав...</td>\n",
       "      <td>neutral</td>\n",
       "    </tr>\n",
       "    <tr>\n",
       "      <th>5406</th>\n",
       "      <td>25.11.2016, 12:14\\nЕАБР предоставит банку \"Цен...</td>\n",
       "      <td>neutral</td>\n",
       "    </tr>\n",
       "    <tr>\n",
       "      <th>3485</th>\n",
       "      <td>Отравление двухлетней девочки в Актау не связа...</td>\n",
       "      <td>neutral</td>\n",
       "    </tr>\n",
       "    <tr>\n",
       "      <th>5401</th>\n",
       "      <td>По состоянию на 10 января 2017 года в области ...</td>\n",
       "      <td>neutral</td>\n",
       "    </tr>\n",
       "    <tr>\n",
       "      <th>3239</th>\n",
       "      <td>Суд № 2 Алматинского района Астаны принял реше...</td>\n",
       "      <td>negative</td>\n",
       "    </tr>\n",
       "    <tr>\n",
       "      <th>4383</th>\n",
       "      <td>Национальный банк РК намерен обратиться в прав...</td>\n",
       "      <td>neutral</td>\n",
       "    </tr>\n",
       "    <tr>\n",
       "      <th>5263</th>\n",
       "      <td>Пересмотр — при наличии правовых оснований \\n\\...</td>\n",
       "      <td>neutral</td>\n",
       "    </tr>\n",
       "    <tr>\n",
       "      <th>8492</th>\n",
       "      <td>АСТАНА. КАЗИНФОРМ - Согласно дорожной карте ме...</td>\n",
       "      <td>neutral</td>\n",
       "    </tr>\n",
       "    <tr>\n",
       "      <th>9749</th>\n",
       "      <td>\\nСегодня в Бишкеке начала работу торговая мис...</td>\n",
       "      <td>positive</td>\n",
       "    </tr>\n",
       "  </tbody>\n",
       "</table>\n",
       "</div>"
      ],
      "text/plain": [
       "                                                   text sentiment\n",
       "id                                                               \n",
       "3225  Кирилл Жданов\\nОткрытие заводов по утилизации ...  positive\n",
       "4365  Почти во всех случаях обходилось без пострадав...   neutral\n",
       "5406  25.11.2016, 12:14\\nЕАБР предоставит банку \"Цен...   neutral\n",
       "3485  Отравление двухлетней девочки в Актау не связа...   neutral\n",
       "5401  По состоянию на 10 января 2017 года в области ...   neutral\n",
       "3239  Суд № 2 Алматинского района Астаны принял реше...  negative\n",
       "4383  Национальный банк РК намерен обратиться в прав...   neutral\n",
       "5263  Пересмотр — при наличии правовых оснований \\n\\...   neutral\n",
       "8492  АСТАНА. КАЗИНФОРМ - Согласно дорожной карте ме...   neutral\n",
       "9749  \\nСегодня в Бишкеке начала работу торговая мис...  positive"
      ]
     },
     "execution_count": 8,
     "metadata": {},
     "output_type": "execute_result"
    }
   ],
   "source": [
    "articles = pd.read_json('data/articles/train.json')\n",
    "articles.drop_duplicates(subset=['text'], inplace=True)\n",
    "articles.set_index('id', inplace=True)\n",
    "articles.sample(10)"
   ]
  },
  {
   "cell_type": "code",
   "execution_count": 9,
   "id": "c0c306a6",
   "metadata": {},
   "outputs": [
    {
     "data": {
      "text/html": [
       "<div>\n",
       "<style scoped>\n",
       "    .dataframe tbody tr th:only-of-type {\n",
       "        vertical-align: middle;\n",
       "    }\n",
       "\n",
       "    .dataframe tbody tr th {\n",
       "        vertical-align: top;\n",
       "    }\n",
       "\n",
       "    .dataframe thead th {\n",
       "        text-align: right;\n",
       "    }\n",
       "</style>\n",
       "<table border=\"1\" class=\"dataframe\">\n",
       "  <thead>\n",
       "    <tr style=\"text-align: right;\">\n",
       "      <th></th>\n",
       "      <th>count</th>\n",
       "    </tr>\n",
       "    <tr>\n",
       "      <th>sentiment</th>\n",
       "      <th></th>\n",
       "    </tr>\n",
       "  </thead>\n",
       "  <tbody>\n",
       "    <tr>\n",
       "      <th>negative</th>\n",
       "      <td>1381</td>\n",
       "    </tr>\n",
       "    <tr>\n",
       "      <th>neutral</th>\n",
       "      <td>3893</td>\n",
       "    </tr>\n",
       "    <tr>\n",
       "      <th>positive</th>\n",
       "      <td>2675</td>\n",
       "    </tr>\n",
       "  </tbody>\n",
       "</table>\n",
       "</div>"
      ],
      "text/plain": [
       "           count\n",
       "sentiment       \n",
       "negative    1381\n",
       "neutral     3893\n",
       "positive    2675"
      ]
     },
     "execution_count": 9,
     "metadata": {},
     "output_type": "execute_result"
    }
   ],
   "source": [
    "full_counts = articles.groupby('sentiment').agg(count = ('sentiment', 'count'))\n",
    "full_counts"
   ]
  },
  {
   "cell_type": "code",
   "execution_count": 10,
   "id": "6bcdfd61",
   "metadata": {},
   "outputs": [
    {
     "data": {
      "image/png": "[encoded data removed]",
      "text/plain": [
       "<Figure size 800x800 with 1 Axes>"
      ]
     },
     "metadata": {},
     "output_type": "display_data"
    }
   ],
   "source": [
    "full_counts.plot.pie(figsize=(8, 8), subplots=True, autopct='%1.1f%%')\n",
    "plt.ylabel('')\n",
    "plt.legend(loc='lower left')\n",
    "plt.show()"
   ]
  },
  {
   "cell_type": "code",
   "execution_count": 11,
   "id": "67bda5c6",
   "metadata": {},
   "outputs": [],
   "source": [
    "sentiment_map = {\n",
    "    'negative': 0,\n",
    "    'neutral': 1,\n",
    "    'positive': 2\n",
    "}"
   ]
  },
  {
   "cell_type": "code",
   "execution_count": 12,
   "id": "11d34a89",
   "metadata": {},
   "outputs": [
    {
     "data": {
      "text/html": [
       "<div>\n",
       "<style scoped>\n",
       "    .dataframe tbody tr th:only-of-type {\n",
       "        vertical-align: middle;\n",
       "    }\n",
       "\n",
       "    .dataframe tbody tr th {\n",
       "        vertical-align: top;\n",
       "    }\n",
       "\n",
       "    .dataframe thead th {\n",
       "        text-align: right;\n",
       "    }\n",
       "</style>\n",
       "<table border=\"1\" class=\"dataframe\">\n",
       "  <thead>\n",
       "    <tr style=\"text-align: right;\">\n",
       "      <th></th>\n",
       "      <th>text</th>\n",
       "      <th>sentiment</th>\n",
       "    </tr>\n",
       "    <tr>\n",
       "      <th>id</th>\n",
       "      <th></th>\n",
       "      <th></th>\n",
       "    </tr>\n",
       "  </thead>\n",
       "  <tbody>\n",
       "    <tr>\n",
       "      <th>8360</th>\n",
       "      <td>Министр национальной экономики Тимур Сулеймено...</td>\n",
       "      <td>1</td>\n",
       "    </tr>\n",
       "    <tr>\n",
       "      <th>7634</th>\n",
       "      <td>Комитет национальной безопасности РК подозрева...</td>\n",
       "      <td>1</td>\n",
       "    </tr>\n",
       "    <tr>\n",
       "      <th>3726</th>\n",
       "      <td>АСТАНА, 1 ноября. /Корр. ТАСС Светлана Тумаков...</td>\n",
       "      <td>1</td>\n",
       "    </tr>\n",
       "    <tr>\n",
       "      <th>5290</th>\n",
       "      <td>\\nВ Министерстве по делам религий и гражданско...</td>\n",
       "      <td>1</td>\n",
       "    </tr>\n",
       "    <tr>\n",
       "      <th>2249</th>\n",
       "      <td>\\n«Ожидается, что в рамках проекта по утилизац...</td>\n",
       "      <td>2</td>\n",
       "    </tr>\n",
       "    <tr>\n",
       "      <th>3118</th>\n",
       "      <td>Общий инвестиционный убыток ЕНПФ в декабре про...</td>\n",
       "      <td>1</td>\n",
       "    </tr>\n",
       "    <tr>\n",
       "      <th>8508</th>\n",
       "      <td>Отравление двухлетней девочки в Актау не связа...</td>\n",
       "      <td>1</td>\n",
       "    </tr>\n",
       "    <tr>\n",
       "      <th>9057</th>\n",
       "      <td>\\nРезультирующее влияние ключевых внешних факт...</td>\n",
       "      <td>1</td>\n",
       "    </tr>\n",
       "    <tr>\n",
       "      <th>7274</th>\n",
       "      <td>Адвокат главы ЕНПФ Руслана Ерденаева и начальн...</td>\n",
       "      <td>0</td>\n",
       "    </tr>\n",
       "    <tr>\n",
       "      <th>2224</th>\n",
       "      <td>Алматы. 20 января. Центр информации. АО \"Казко...</td>\n",
       "      <td>1</td>\n",
       "    </tr>\n",
       "  </tbody>\n",
       "</table>\n",
       "</div>"
      ],
      "text/plain": [
       "                                                   text  sentiment\n",
       "id                                                                \n",
       "8360  Министр национальной экономики Тимур Сулеймено...          1\n",
       "7634  Комитет национальной безопасности РК подозрева...          1\n",
       "3726  АСТАНА, 1 ноября. /Корр. ТАСС Светлана Тумаков...          1\n",
       "5290  \\nВ Министерстве по делам религий и гражданско...          1\n",
       "2249  \\n«Ожидается, что в рамках проекта по утилизац...          2\n",
       "3118  Общий инвестиционный убыток ЕНПФ в декабре про...          1\n",
       "8508  Отравление двухлетней девочки в Актау не связа...          1\n",
       "9057  \\nРезультирующее влияние ключевых внешних факт...          1\n",
       "7274  Адвокат главы ЕНПФ Руслана Ерденаева и начальн...          0\n",
       "2224  Алматы. 20 января. Центр информации. АО \"Казко...          1"
      ]
     },
     "execution_count": 12,
     "metadata": {},
     "output_type": "execute_result"
    }
   ],
   "source": [
    "articles.sentiment = articles.sentiment.apply(lambda x: sentiment_map[x])\n",
    "articles.sample(10)"
   ]
  },
  {
   "cell_type": "code",
   "execution_count": 13,
   "id": "a3e31fd2",
   "metadata": {},
   "outputs": [],
   "source": [
    "train, test = train_test_split(articles, test_size=0.2, random_state=42)"
   ]
  },
  {
   "cell_type": "code",
   "execution_count": 14,
   "id": "9579e198",
   "metadata": {},
   "outputs": [],
   "source": [
    "roles = {\n",
    "    'text': ['text'],\n",
    "    'target': 'sentiment'\n",
    "}"
   ]
  },
  {
   "cell_type": "code",
   "execution_count": 15,
   "id": "4f963d51",
   "metadata": {},
   "outputs": [],
   "source": [
    "task = Task('multiclass', loss='f1')"
   ]
  },
  {
   "cell_type": "code",
   "execution_count": 16,
   "id": "c9819548",
   "metadata": {},
   "outputs": [],
   "source": [
    "automl = TabularNLPAutoML(\n",
    "    task=task,\n",
    "    gpu_ids='0',\n",
    "    general_params={\n",
    "        'nested_cv': False,\n",
    "        'use_algos': [['nn', 'linear_l2', 'lgb']]\n",
    "    },\n",
    "    text_params={\n",
    "        'lang': 'ru'\n",
    "    },\n",
    "    timeout=3600,\n",
    "    cpu_limit=4,\n",
    "    reader_params={\n",
    "        'random_state': 42\n",
    "    },\n",
    "    nn_params={\n",
    "        'opt_params': {'lr': 1e-5},\n",
    "        'max_length': 128,\n",
    "        'bs': 32,\n",
    "        'n_epochs': 7,\n",
    "    }\n",
    ")"
   ]
  },
  {
   "cell_type": "code",
   "execution_count": 17,
   "id": "4af913f8",
   "metadata": {},
   "outputs": [
    {
     "data": {
      "text/plain": [
       "{'text': ['text'], 'target': 'sentiment'}"
      ]
     },
     "execution_count": 17,
     "metadata": {},
     "output_type": "execute_result"
    }
   ],
   "source": [
    "roles"
   ]
  },
  {
   "cell_type": "code",
   "execution_count": 18,
   "id": "cbcd9243",
   "metadata": {},
   "outputs": [
    {
     "name": "stdout",
     "output_type": "stream",
     "text": [
      "[14:53:41] Stdout logging level is DEBUG.\n",
      "[14:53:41] Model language mode: ru\n",
      "[14:53:41] Task: multiclass\n",
      "\n",
      "[14:53:41] Start automl preset with listed constraints:\n",
      "[14:53:41] - time: 3600.00 seconds\n",
      "[14:53:41] - CPU: 4 cores\n",
      "[14:53:41] - memory: 16 GB\n",
      "\n",
      "[14:53:41] \u001b[1mTrain data shape: (6359, 2)\u001b[0m\n",
      "\n",
      "[14:53:41] Layer \u001b[1m1\u001b[0m train process start. Time left 3599.98 secs\n",
      "[14:54:05] Start fitting \u001b[1mLvl_0_Pipe_0_Mod_0_LinearL2\u001b[0m ...\n",
      "[14:54:05] Training params: {'tol': 1e-06, 'max_iter': 100, 'cs': [1e-05, 5e-05, 0.0001, 0.0005, 0.001, 0.005, 0.01, 0.05, 0.1, 0.5, 1, 5, 10, 50, 100, 500, 1000, 5000, 10000, 50000, 100000], 'early_stopping': 2, 'categorical_idx': [], 'embed_sizes': (), 'data_size': 100}\n",
      "[14:54:05] ===== Start working with \u001b[1mfold 0\u001b[0m for \u001b[1mLvl_0_Pipe_0_Mod_0_LinearL2\u001b[0m =====\n",
      "[14:54:07] Linear model: C = 1e-05 score = -5.392030468185371\n",
      "[14:54:07] Linear model: C = 5e-05 score = -5.392030468185371\n",
      "[14:54:07] Linear model: C = 0.0001 score = -5.392030468185371\n",
      "[14:54:07] ===== Start working with \u001b[1mfold 1\u001b[0m for \u001b[1mLvl_0_Pipe_0_Mod_0_LinearL2\u001b[0m =====\n",
      "[14:54:07] Linear model: C = 1e-05 score = -5.575104436273621\n",
      "[14:54:07] Linear model: C = 5e-05 score = -5.575104436273621\n",
      "[14:54:07] Linear model: C = 0.0001 score = -5.575104436273621\n",
      "[14:54:07] ===== Start working with \u001b[1mfold 2\u001b[0m for \u001b[1mLvl_0_Pipe_0_Mod_0_LinearL2\u001b[0m =====\n",
      "[14:54:08] Linear model: C = 1e-05 score = -5.503667635197014\n",
      "[14:54:08] Linear model: C = 5e-05 score = -5.503667635197014\n",
      "[14:54:08] Linear model: C = 0.0001 score = -5.503667635197014\n",
      "[14:54:08] Fitting \u001b[1mLvl_0_Pipe_0_Mod_0_LinearL2\u001b[0m finished. score = \u001b[1m-5.490265405949919\u001b[0m\n",
      "[14:54:08] \u001b[1mLvl_0_Pipe_0_Mod_0_LinearL2\u001b[0m fitting and predicting completed\n",
      "[14:54:08] Time left 3572.71 secs\n",
      "\n",
      "[14:54:11] Feature concated__text fitted\n"
     ]
    },
    {
     "name": "stderr",
     "output_type": "stream",
     "text": [
      "  0%|                                                                                           | 0/20 [00:00<?, ?it/s]C:\\Users\\Admin\\.conda\\envs\\oldervenv\\Lib\\site-packages\\transformers\\models\\bert\\modeling_bert.py:435: UserWarning: 1Torch was not compiled with flash attention. (Triggered internally at ..\\aten\\src\\ATen\\native\\transformers\\cuda\\sdp_utils.cpp:455.)\n",
      "  attn_output = torch.nn.functional.scaled_dot_product_attention(\n",
      "100%|██████████████████████████████████████████████████████████████████████████████████| 20/20 [01:15<00:00,  3.76s/it]\n"
     ]
    },
    {
     "name": "stdout",
     "output_type": "stream",
     "text": [
      "[14:55:27] Feature concated__text transformed\n",
      "[14:55:27] Start fitting \u001b[1mLvl_0_Pipe_1_Mod_0_LightGBM\u001b[0m ...\n",
      "[14:55:27] Training params: {'task': 'train', 'learning_rate': 0.01, 'num_leaves': 32, 'feature_fraction': 0.7, 'bagging_fraction': 0.7, 'bagging_freq': 1, 'max_depth': -1, 'verbosity': -1, 'reg_alpha': 0.5, 'reg_lambda': 0.0, 'min_split_gain': 0.0, 'zero_as_missing': False, 'num_threads': 4, 'max_bin': 255, 'min_data_in_bin': 3, 'num_trees': 3000, 'early_stopping_rounds': 200, 'random_state': 42}\n",
      "[14:55:27] ===== Start working with \u001b[1mfold 0\u001b[0m for \u001b[1mLvl_0_Pipe_1_Mod_0_LightGBM\u001b[0m =====\n",
      "[14:55:28] Training until validation scores don't improve for 200 rounds\n",
      "[14:55:36] [100]\tvalid's multi_logloss: 0.0634426\n",
      "[14:55:41] [200]\tvalid's multi_logloss: -0.688644\n",
      "[14:55:43] [300]\tvalid's multi_logloss: -1.08469\n",
      "[14:55:44] [400]\tvalid's multi_logloss: -1.35502\n",
      "[14:55:45] [500]\tvalid's multi_logloss: -1.56105\n",
      "[14:55:46] [600]\tvalid's multi_logloss: -1.73281\n",
      "[14:55:46] [700]\tvalid's multi_logloss: -1.88011\n",
      "[14:55:47] [800]\tvalid's multi_logloss: -2.00917\n",
      "[14:55:48] [900]\tvalid's multi_logloss: -2.1237\n",
      "[14:55:49] [1000]\tvalid's multi_logloss: -2.22688\n",
      "[14:55:49] [1100]\tvalid's multi_logloss: -2.32016\n",
      "[14:55:50] [1200]\tvalid's multi_logloss: -2.40595\n",
      "[14:55:50] [1300]\tvalid's multi_logloss: -2.48485\n",
      "[14:55:51] [1400]\tvalid's multi_logloss: -2.55745\n",
      "[14:55:52] [1500]\tvalid's multi_logloss: -2.62451\n",
      "[14:55:52] [1600]\tvalid's multi_logloss: -2.68829\n",
      "[14:55:53] [1700]\tvalid's multi_logloss: -2.74702\n",
      "[14:55:54] [1800]\tvalid's multi_logloss: -2.803\n",
      "[14:55:54] [1900]\tvalid's multi_logloss: -2.85587\n",
      "[14:55:55] [2000]\tvalid's multi_logloss: -2.90519\n",
      "[14:55:56] [2100]\tvalid's multi_logloss: -2.95272\n",
      "[14:55:56] [2200]\tvalid's multi_logloss: -2.99798\n",
      "[14:55:57] [2300]\tvalid's multi_logloss: -3.04024\n",
      "[14:55:57] [2400]\tvalid's multi_logloss: -3.08065\n",
      "[14:55:58] [2500]\tvalid's multi_logloss: -3.1185\n",
      "[14:55:59] [2600]\tvalid's multi_logloss: -3.1511\n",
      "[14:55:59] [2700]\tvalid's multi_logloss: -3.178\n",
      "[14:56:00] [2800]\tvalid's multi_logloss: -3.20497\n",
      "[14:56:01] [2900]\tvalid's multi_logloss: -3.2352\n",
      "[14:56:01] [3000]\tvalid's multi_logloss: -3.26279\n",
      "[14:56:01] Did not meet early stopping. Best iteration is:\n",
      "[3000]\tvalid's multi_logloss: -3.26279\n",
      "[14:56:02] ===== Start working with \u001b[1mfold 1\u001b[0m for \u001b[1mLvl_0_Pipe_1_Mod_0_LightGBM\u001b[0m =====\n",
      "[14:56:03] Training until validation scores don't improve for 200 rounds\n",
      "[14:56:10] [100]\tvalid's multi_logloss: 0.0761112\n",
      "[14:56:14] [200]\tvalid's multi_logloss: -0.696421\n",
      "[14:56:16] [300]\tvalid's multi_logloss: -1.05952\n",
      "[14:56:17] [400]\tvalid's multi_logloss: -1.36078\n",
      "[14:56:18] [500]\tvalid's multi_logloss: -1.56615\n",
      "[14:56:19] [600]\tvalid's multi_logloss: -1.73779\n",
      "[14:56:20] [700]\tvalid's multi_logloss: -1.88473\n",
      "[14:56:21] [800]\tvalid's multi_logloss: -2.01324\n",
      "[14:56:22] [900]\tvalid's multi_logloss: -2.12751\n",
      "[14:56:22] [1000]\tvalid's multi_logloss: -2.2304\n",
      "[14:56:23] [1100]\tvalid's multi_logloss: -2.32401\n",
      "[14:56:24] [1200]\tvalid's multi_logloss: -2.40966\n",
      "[14:56:24] [1300]\tvalid's multi_logloss: -2.48847\n",
      "[14:56:25] [1400]\tvalid's multi_logloss: -2.56125\n",
      "[14:56:26] [1500]\tvalid's multi_logloss: -2.62914\n",
      "[14:56:26] [1600]\tvalid's multi_logloss: -2.692\n",
      "[14:56:27] [1700]\tvalid's multi_logloss: -2.75204\n",
      "[14:56:28] [1800]\tvalid's multi_logloss: -2.80846\n",
      "[14:56:28] [1900]\tvalid's multi_logloss: -2.86123\n",
      "[14:56:29] [2000]\tvalid's multi_logloss: -2.91063\n",
      "[14:56:29] [2100]\tvalid's multi_logloss: -2.95758\n",
      "[14:56:30] [2200]\tvalid's multi_logloss: -3.00296\n",
      "[14:56:31] [2300]\tvalid's multi_logloss: -3.04643\n",
      "[14:56:31] [2400]\tvalid's multi_logloss: -3.08676\n",
      "[14:56:32] [2500]\tvalid's multi_logloss: -3.12513\n",
      "[14:56:33] [2600]\tvalid's multi_logloss: -3.16365\n",
      "[14:56:33] [2700]\tvalid's multi_logloss: -3.19969\n",
      "[14:56:34] [2800]\tvalid's multi_logloss: -3.23493\n",
      "[14:56:34] [2900]\tvalid's multi_logloss: -3.26856\n",
      "[14:56:35] [3000]\tvalid's multi_logloss: -3.29923\n",
      "[14:56:35] Did not meet early stopping. Best iteration is:\n",
      "[3000]\tvalid's multi_logloss: -3.29923\n",
      "[14:56:36] ===== Start working with \u001b[1mfold 2\u001b[0m for \u001b[1mLvl_0_Pipe_1_Mod_0_LightGBM\u001b[0m =====\n",
      "[14:56:37] Training until validation scores don't improve for 200 rounds\n",
      "[14:56:44] [100]\tvalid's multi_logloss: 0.096443\n",
      "[14:56:49] [200]\tvalid's multi_logloss: -0.654832\n",
      "[14:56:51] [300]\tvalid's multi_logloss: -1.03018\n",
      "[14:56:52] [400]\tvalid's multi_logloss: -1.32579\n",
      "[14:56:53] [500]\tvalid's multi_logloss: -1.54647\n",
      "[14:56:54] [600]\tvalid's multi_logloss: -1.71751\n",
      "[14:56:55] [700]\tvalid's multi_logloss: -1.87838\n",
      "[14:56:56] [800]\tvalid's multi_logloss: -2.00829\n",
      "[14:56:56] [900]\tvalid's multi_logloss: -2.12311\n",
      "[14:56:57] [1000]\tvalid's multi_logloss: -2.226\n",
      "[14:56:58] [1100]\tvalid's multi_logloss: -2.31982\n",
      "[14:56:58] [1200]\tvalid's multi_logloss: -2.40612\n",
      "[14:56:59] [1300]\tvalid's multi_logloss: -2.48466\n",
      "[14:57:00] [1400]\tvalid's multi_logloss: -2.55765\n",
      "[14:57:00] [1500]\tvalid's multi_logloss: -2.62539\n",
      "[14:57:01] [1600]\tvalid's multi_logloss: -2.68914\n",
      "[14:57:02] [1700]\tvalid's multi_logloss: -2.74835\n",
      "[14:57:02] [1800]\tvalid's multi_logloss: -2.80361\n",
      "[14:57:03] [1900]\tvalid's multi_logloss: -2.85428\n",
      "[14:57:04] [2000]\tvalid's multi_logloss: -2.90244\n",
      "[14:57:04] [2100]\tvalid's multi_logloss: -2.94637\n",
      "[14:57:05] [2200]\tvalid's multi_logloss: -2.98388\n",
      "[14:57:06] [2300]\tvalid's multi_logloss: -3.02165\n",
      "[14:57:06] [2400]\tvalid's multi_logloss: -3.05769\n",
      "[14:57:07] [2500]\tvalid's multi_logloss: -3.09265\n",
      "[14:57:07] [2600]\tvalid's multi_logloss: -3.12717\n",
      "[14:57:08] [2700]\tvalid's multi_logloss: -3.15889\n",
      "[14:57:09] [2800]\tvalid's multi_logloss: -3.18984\n",
      "[14:57:09] [2900]\tvalid's multi_logloss: -3.22022\n",
      "[14:57:10] [3000]\tvalid's multi_logloss: -3.24582\n",
      "[14:57:10] Did not meet early stopping. Best iteration is:\n",
      "[3000]\tvalid's multi_logloss: -3.24582\n",
      "[14:57:11] Fitting \u001b[1mLvl_0_Pipe_1_Mod_0_LightGBM\u001b[0m finished. score = \u001b[1m-0.9336924481128742\u001b[0m\n",
      "[14:57:11] \u001b[1mLvl_0_Pipe_1_Mod_0_LightGBM\u001b[0m fitting and predicting completed\n",
      "[14:57:11] Time left 3389.54 secs\n",
      "\n",
      "[14:57:11] number of text features: 1 \n",
      "[14:57:11] number of categorical features: 0 \n",
      "[14:57:11] number of continuous features: 0 \n",
      "[14:57:11] Start fitting \u001b[1mLvl_0_Pipe_2_Mod_0_TorchNN__linear_layer_0\u001b[0m ...\n",
      "[14:57:11] Training params: {'num_workers': 4, 'pin_memory': False, 'max_length': 128, 'is_snap': False, 'input_bn': False, 'max_emb_size': 50, 'bert_name': None, 'pooling': 'cls', 'device': device(type='cuda', index=0), 'use_cont': True, 'use_cat': True, 'use_text': True, 'lang': 'ru', 'deterministic': False, 'multigpu': False, 'random_state': 42, 'model': '_linear_layer', 'model_with_emb': False, 'path_to_save': None, 'verbose_inside': None, 'verbose': 1, 'n_epochs': 7, 'snap_params': {'k': 1, 'early_stopping': True, 'patience': 1, 'swa': False}, 'bs': 32, 'emb_dropout': 0.1, 'emb_ratio': 3, 'opt': <class 'torch.optim.adam.Adam'>, 'opt_params': {'lr': 1e-05}, 'sch': <class 'torch.optim.lr_scheduler.ReduceLROnPlateau'>, 'scheduler_params': {'patience': 5, 'factor': 0.5, 'verbose': True}, 'loss': None, 'loss_params': {}, 'loss_on_logits': True, 'clip_grad': False, 'clip_grad_params': {}, 'init_bias': True, 'dataset': <class 'lightautoml.text.nn_model.UniversalDataset'>, 'tuned': False, 'optimization_search_space': None, 'verbose_bar': False, 'freeze_defaults': False, 'n_out': 3, 'hid_factor': [2, 2], 'hidden_size': [512, 512, 512], 'block_config': [2, 2], 'compression': 0.5, 'growth_size': 256, 'bn_factor': 2, 'drop_rate': 0.1, 'noise_std': 0.05, 'num_init_features': None, 'act_fun': <class 'torch.nn.modules.activation.ReLU'>, 'use_noise': False, 'use_bn': True, 'embedding_size': 10, 'cat_embedder': 'cat', 'cont_embedder': 'cont', 'stop_by_metric': False, 'device_ids': None, 'num_dims': 0, 'text_features': ['concated__text'], 'bias': array([-1.74551112, -0.7101169 , -1.09704095])}\n",
      "[14:57:11] ===== Start working with \u001b[1mfold 0\u001b[0m for \u001b[1mLvl_0_Pipe_2_Mod_0_TorchNN__linear_layer_0\u001b[0m =====\n",
      "[14:57:13] Last linear layer not founded, so init_bias=False\n"
     ]
    },
    {
     "name": "stderr",
     "output_type": "stream",
     "text": [
      "C:\\Users\\Admin\\.conda\\envs\\oldervenv\\Lib\\site-packages\\torch\\optim\\lr_scheduler.py:28: UserWarning: The verbose parameter is deprecated. Please use get_last_lr() to access the learning rate.\n",
      "  warnings.warn(\"The verbose parameter is deprecated. Please use get_last_lr() \"\n"
     ]
    },
    {
     "name": "stdout",
     "output_type": "stream",
     "text": [
      "[14:59:09] Epoch: 0, train loss: -0.4676361083984375, val loss: -0.5013915300369263, val metric: -0.9196711578228483\n",
      "[15:01:07] Epoch: 1, train loss: -0.5035665035247803, val loss: -0.5075097680091858, val metric: -0.8718536559568473\n",
      "[15:03:04] Epoch: 2, train loss: -0.5257828831672668, val loss: -0.5147332549095154, val metric: -0.8179419382259158\n",
      "[15:05:00] Epoch: 3, train loss: -0.5491076111793518, val loss: -0.5120641589164734, val metric: -0.7926713596740125\n",
      "[15:05:03] ===== Start working with \u001b[1mfold 1\u001b[0m for \u001b[1mLvl_0_Pipe_2_Mod_0_TorchNN__linear_layer_0\u001b[0m =====\n",
      "[15:05:05] Last linear layer not founded, so init_bias=False\n"
     ]
    },
    {
     "name": "stderr",
     "output_type": "stream",
     "text": [
      "C:\\Users\\Admin\\.conda\\envs\\oldervenv\\Lib\\site-packages\\torch\\optim\\lr_scheduler.py:28: UserWarning: The verbose parameter is deprecated. Please use get_last_lr() to access the learning rate.\n",
      "  warnings.warn(\"The verbose parameter is deprecated. Please use get_last_lr() \"\n"
     ]
    },
    {
     "name": "stdout",
     "output_type": "stream",
     "text": [
      "[15:07:04] Epoch: 0, train loss: -0.4668887257575989, val loss: -0.4999580979347229, val metric: -0.8974825076592612\n",
      "[15:08:58] Epoch: 1, train loss: -0.5077371597290039, val loss: -0.5105751752853394, val metric: -0.8504946962853204\n",
      "[15:10:49] Epoch: 2, train loss: -0.5264902114868164, val loss: -0.5128782391548157, val metric: -0.8289939121148941\n",
      "[15:12:40] Epoch: 3, train loss: -0.5482926964759827, val loss: -0.5080201625823975, val metric: -0.850916243313708\n",
      "[15:12:43] ===== Start working with \u001b[1mfold 2\u001b[0m for \u001b[1mLvl_0_Pipe_2_Mod_0_TorchNN__linear_layer_0\u001b[0m =====\n",
      "[15:12:45] Last linear layer not founded, so init_bias=False\n"
     ]
    },
    {
     "name": "stderr",
     "output_type": "stream",
     "text": [
      "C:\\Users\\Admin\\.conda\\envs\\oldervenv\\Lib\\site-packages\\torch\\optim\\lr_scheduler.py:28: UserWarning: The verbose parameter is deprecated. Please use get_last_lr() to access the learning rate.\n",
      "  warnings.warn(\"The verbose parameter is deprecated. Please use get_last_lr() \"\n"
     ]
    },
    {
     "name": "stdout",
     "output_type": "stream",
     "text": [
      "[15:14:36] Epoch: 0, train loss: -0.4658328592777252, val loss: -0.5113288760185242, val metric: -0.8516125572756583\n",
      "[15:16:27] Epoch: 1, train loss: -0.5041620135307312, val loss: -0.513862669467926, val metric: -0.8605462400210266\n",
      "[15:18:17] Epoch: 2, train loss: -0.5240338444709778, val loss: -0.5115302205085754, val metric: -0.9002872222163845\n",
      "[15:18:19] Fitting \u001b[1mLvl_0_Pipe_2_Mod_0_TorchNN__linear_layer_0\u001b[0m finished. score = \u001b[1m-0.8479500459522702\u001b[0m\n",
      "[15:18:19] \u001b[1mLvl_0_Pipe_2_Mod_0_TorchNN__linear_layer_0\u001b[0m fitting and predicting completed\n",
      "[15:18:19] Time left 2121.23 secs\n",
      "\n",
      "[15:18:19] \u001b[1mLayer 1 training completed.\u001b[0m\n",
      "\n",
      "[15:18:19] Blending: optimization starts with equal weights and score \u001b[1m-0.752515666803781\u001b[0m\n",
      "[15:18:19] Blending: iteration \u001b[1m0\u001b[0m: score = \u001b[1m-0.7099130000720372\u001b[0m, weights = \u001b[1m[0.15976918 0.2773664  0.5628644 ]\u001b[0m\n",
      "[15:18:20] Blending: iteration \u001b[1m1\u001b[0m: score = \u001b[1m-0.7098956687139307\u001b[0m, weights = \u001b[1m[0.15583974 0.28625026 0.55791   ]\u001b[0m\n",
      "[15:18:20] Blending: iteration \u001b[1m2\u001b[0m: score = \u001b[1m-0.709895675653124\u001b[0m, weights = \u001b[1m[0.15594661 0.286214   0.55783933]\u001b[0m\n",
      "[15:18:20] Blending: no score update. Terminated\n",
      "\n",
      "[15:18:20] \u001b[1mAutoml preset training completed in 1479.06 seconds\u001b[0m\n",
      "\n",
      "[15:18:20] Model description:\n",
      "Final prediction for new objects (level 0) = \n",
      "\t 0.15584 * (3 averaged models Lvl_0_Pipe_0_Mod_0_LinearL2) +\n",
      "\t 0.28625 * (3 averaged models Lvl_0_Pipe_1_Mod_0_LightGBM) +\n",
      "\t 0.55791 * (3 averaged models Lvl_0_Pipe_2_Mod_0_TorchNN__linear_layer_0) \n",
      "\n",
      "CPU times: total: 21min 54s\n",
      "Wall time: 24min 39s\n"
     ]
    }
   ],
   "source": [
    "%%time\n",
    "oof_predict = automl.fit_predict(train, roles=roles, verbose=10)"
   ]
  },
  {
   "cell_type": "code",
   "execution_count": 19,
   "id": "ff74d073",
   "metadata": {},
   "outputs": [
    {
     "name": "stderr",
     "output_type": "stream",
     "text": [
      "100%|████████████████████████████████████████████████████████████████████████████████████| 5/5 [00:36<00:00,  7.22s/it]\n"
     ]
    },
    {
     "name": "stdout",
     "output_type": "stream",
     "text": [
      "[15:19:04] Feature concated__text transformed\n",
      "[15:19:07] Last linear layer not founded, so init_bias=False\n"
     ]
    },
    {
     "name": "stderr",
     "output_type": "stream",
     "text": [
      "C:\\Users\\Admin\\.conda\\envs\\oldervenv\\Lib\\site-packages\\torch\\optim\\lr_scheduler.py:28: UserWarning: The verbose parameter is deprecated. Please use get_last_lr() to access the learning rate.\n",
      "  warnings.warn(\"The verbose parameter is deprecated. Please use get_last_lr() \"\n"
     ]
    },
    {
     "name": "stdout",
     "output_type": "stream",
     "text": [
      "[15:19:37] Last linear layer not founded, so init_bias=False\n"
     ]
    },
    {
     "name": "stderr",
     "output_type": "stream",
     "text": [
      "C:\\Users\\Admin\\.conda\\envs\\oldervenv\\Lib\\site-packages\\torch\\optim\\lr_scheduler.py:28: UserWarning: The verbose parameter is deprecated. Please use get_last_lr() to access the learning rate.\n",
      "  warnings.warn(\"The verbose parameter is deprecated. Please use get_last_lr() \"\n"
     ]
    },
    {
     "name": "stdout",
     "output_type": "stream",
     "text": [
      "[15:20:08] Last linear layer not founded, so init_bias=False\n"
     ]
    },
    {
     "name": "stderr",
     "output_type": "stream",
     "text": [
      "C:\\Users\\Admin\\.conda\\envs\\oldervenv\\Lib\\site-packages\\torch\\optim\\lr_scheduler.py:28: UserWarning: The verbose parameter is deprecated. Please use get_last_lr() to access the learning rate.\n",
      "  warnings.warn(\"The verbose parameter is deprecated. Please use get_last_lr() \"\n"
     ]
    },
    {
     "data": {
      "text/plain": [
       "array([[0.08144191, 0.4056108 , 0.5129473 ],\n",
       "       [0.70450854, 0.2367191 , 0.05877233],\n",
       "       [0.03906991, 0.34120739, 0.61972284],\n",
       "       ...,\n",
       "       [0.11621585, 0.80239284, 0.08139141],\n",
       "       [0.07361812, 0.30763164, 0.61875033],\n",
       "       [0.09449469, 0.86721945, 0.03828591]], dtype=float32)"
      ]
     },
     "execution_count": 19,
     "metadata": {},
     "output_type": "execute_result"
    }
   ],
   "source": [
    "test_pred = automl.predict(test)\n",
    "test_pred"
   ]
  },
  {
   "cell_type": "code",
   "execution_count": 20,
   "id": "6e4fba0e",
   "metadata": {},
   "outputs": [
    {
     "data": {
      "text/plain": [
       "array([2, 0, 2, ..., 1, 2, 1], dtype=int64)"
      ]
     },
     "execution_count": 20,
     "metadata": {},
     "output_type": "execute_result"
    }
   ],
   "source": [
    "predictied_labels = np.argmax(test_pred.data, axis=1)\n",
    "predictied_labels"
   ]
  },
  {
   "cell_type": "code",
   "execution_count": 21,
   "id": "cffe96e2",
   "metadata": {},
   "outputs": [
    {
     "data": {
      "text/plain": [
       "0.6855345911949685"
      ]
     },
     "execution_count": 21,
     "metadata": {},
     "output_type": "execute_result"
    }
   ],
   "source": [
    "accuracy_score(predictied_labels, test['sentiment'])"
   ]
  },
  {
   "cell_type": "code",
   "execution_count": 22,
   "id": "743b0d95",
   "metadata": {},
   "outputs": [
    {
     "data": {
      "text/plain": [
       "0.681299714243064"
      ]
     },
     "execution_count": 22,
     "metadata": {},
     "output_type": "execute_result"
    }
   ],
   "source": [
    "f1_score(test['sentiment'], predictied_labels, average='macro')"
   ]
  },
  {
   "cell_type": "code",
   "execution_count": 23,
   "id": "939443ea",
   "metadata": {},
   "outputs": [],
   "source": [
    "lime = LimeTextExplainer(automl, feature_selection='lasso', force_order=False)"
   ]
  },
  {
   "cell_type": "code",
   "execution_count": 24,
   "id": "9fae7a64",
   "metadata": {},
   "outputs": [
    {
     "name": "stderr",
     "output_type": "stream",
     "text": [
      "100%|██████████████████████████████████████████████████████████████████████████████████| 16/16 [00:58<00:00,  3.67s/it]\n"
     ]
    },
    {
     "name": "stdout",
     "output_type": "stream",
     "text": [
      "[15:21:48] Feature concated__text transformed\n",
      "[15:21:54] Last linear layer not founded, so init_bias=False\n"
     ]
    },
    {
     "name": "stderr",
     "output_type": "stream",
     "text": [
      "C:\\Users\\Admin\\.conda\\envs\\oldervenv\\Lib\\site-packages\\torch\\optim\\lr_scheduler.py:28: UserWarning: The verbose parameter is deprecated. Please use get_last_lr() to access the learning rate.\n",
      "  warnings.warn(\"The verbose parameter is deprecated. Please use get_last_lr() \"\n"
     ]
    },
    {
     "name": "stdout",
     "output_type": "stream",
     "text": [
      "[15:22:37] Last linear layer not founded, so init_bias=False\n"
     ]
    },
    {
     "name": "stderr",
     "output_type": "stream",
     "text": [
      "C:\\Users\\Admin\\.conda\\envs\\oldervenv\\Lib\\site-packages\\torch\\optim\\lr_scheduler.py:28: UserWarning: The verbose parameter is deprecated. Please use get_last_lr() to access the learning rate.\n",
      "  warnings.warn(\"The verbose parameter is deprecated. Please use get_last_lr() \"\n"
     ]
    },
    {
     "name": "stdout",
     "output_type": "stream",
     "text": [
      "[15:23:24] Last linear layer not founded, so init_bias=False\n"
     ]
    },
    {
     "name": "stderr",
     "output_type": "stream",
     "text": [
      "C:\\Users\\Admin\\.conda\\envs\\oldervenv\\Lib\\site-packages\\torch\\optim\\lr_scheduler.py:28: UserWarning: The verbose parameter is deprecated. Please use get_last_lr() to access the learning rate.\n",
      "  warnings.warn(\"The verbose parameter is deprecated. Please use get_last_lr() \"\n"
     ]
    },
    {
     "data": {
      "text/html": [
       "\n",
       "    <div>\n",
       "        <p style=\"text-align: center\">\n",
       "            Text\n",
       "        </p>\n",
       "        <div style=\"border: 1px solid black;\">\n",
       "            <p style=\"font-size:14px;; margin-left: 1%; margin-right: 1%;\"><span style=\"background-color: #FFFEFE;\">\n",
       "12 </span> <span style=\"background-color: #B0B0FF;\">ноября</span> <span style=\"background-color: #FFFEFE;\"> в </span> <span style=\"background-color: #BCBCFF;\">ходе</span> <span style=\"background-color: #FFFEFE;\"> </span> <span style=\"background-color: #8080FF;\">строительства</span> <span style=\"background-color: #FFFEFE;\"> </span> <span style=\"background-color: #B3B3FF;\">вторых</span> <span style=\"background-color: #FFFEFE;\"> </span> <span style=\"background-color: #CCCCFF;\">путей</span> <span style=\"background-color: #FFFEFE;\"> </span> <span style=\"background-color: #B0B0FF;\">на</span> <span style=\"background-color: #FFFEFE;\"> </span> <span style=\"background-color: #D2D2FF;\">участке</span> <span style=\"background-color: #FFFEFE;\"> Алматы-Шу проводились технологические «окна» с остановкой движения поездов, которая явилась вынужденной мерой, сообщила пресс-служба АО «НК «Қазақстан темір жолы» (КТЖ), передает КазТАГ.\n",
       "«На данном участке (Алматы-Шу – КазТАГ) производились реконструкция горловин станций и стыковка новых магистральных путей с существующими станционными путями, что явилось причиной приостановки движения поездов в целях обеспечения безопасности», - говорится в сообщении на сайте КТЖ в воскресенье.\n",
       "Как отмечается, после технологических «окон» участок работает стабильно.\n",
       "«Линия Алматы-Шу - одна из самых напряженных, по ней ежедневно курсирует до 52 пассажирских и 40 грузовых поездов. С вводом в эксплуатацию вторых путей пропускная способность участка увеличится в 3 раза», - утверждают в компании.\n",
       "«В настоящее время все поезда идут по расписанию. Пассажиры опоздавших поездов могут получить компенсацию в соответствии с законом РК «О железнодорожном транспорте» и правилами перевозок пассажиров, багажа и грузобагажа железнодорожным транспортом РК. За задержку отправления или опоздания с прибытием пассажир может получить 3% от стоимости билета за каждый час ожидания», - пообещали в КТЖ.\n",
       "Ранее казахстанские СМИ сообщили о толпах пассажиров, переполнивших железнодорожный вокзал Алматы-1 в минувшую субботу, и несвоевременном получении информации о задержке поездов.\n",
       " \n",
       "\n",
       "\n",
       "</span> <span style=\"background-color: #FFFEFE;\">алматы</span> <span style=\"background-color: #FFFEFE;\"></span> <span style=\"background-color: #FFFEFE;\">шу</span> <span style=\"background-color: #FFFEFE;\"></span> <span style=\"background-color: #FFFEFE;\">проводились</span> <span style=\"background-color: #FFFEFE;\"></span> <span style=\"background-color: #FFFEFE;\">технологические</span> <span style=\"background-color: #FFFEFE;\"></span> <span style=\"background-color: #FFFEFE;\">окна</span> <span style=\"background-color: #FFFEFE;\"></span> <span style=\"background-color: #FFFEFE;\">остановкой</span> <span style=\"background-color: #FFFEFE;\"></span> <span style=\"background-color: #FFFEFE;\">движения</span> <span style=\"background-color: #FFFEFE;\"></span> <span style=\"background-color: #FFFEFE;\">поездов</span> <span style=\"background-color: #FFFEFE;\"></span> <span style=\"background-color: #FFFEFE;\">которая</span> <span style=\"background-color: #FFFEFE;\"></span> <span style=\"background-color: #FFFEFE;\">явилась</span> <span style=\"background-color: #FFFEFE;\"></span> <span style=\"background-color: #FFFEFE;\">вынужденной</span> <span style=\"background-color: #FFFEFE;\"></span> <span style=\"background-color: #FFFEFE;\">мерой</span> <span style=\"background-color: #FFFEFE;\"></span> <span style=\"background-color: #FFFEFE;\">сообщила</span> <span style=\"background-color: #FFFEFE;\"></span> <span style=\"background-color: #FFFEFE;\">пресс</span> <span style=\"background-color: #FFFEFE;\"></span> <span style=\"background-color: #FFFEFE;\">служба</span> <span style=\"background-color: #FFFEFE;\"></span> <span style=\"background-color: #FFFEFE;\">АО</span> <span style=\"background-color: #FFFEFE;\"></span> <span style=\"background-color: #FFFEFE;\">НК</span> <span style=\"background-color: #FFFEFE;\"></span> <span style=\"background-color: #FFFEFE;\">аза</span> <span style=\"background-color: #FFFEFE;\"></span> <span style=\"background-color: #FFFEFE;\">стан</span> <span style=\"background-color: #FFFEFE;\"></span> <span style=\"background-color: #FFFEFE;\">тем</span> <span style=\"background-color: #FFFEFE;\"></span> <span style=\"background-color: #FFFEFE;\">жолы</span> <span style=\"background-color: #FFFEFE;\"></span> <span style=\"background-color: #FFFEFE;\">КТЖ</span> <span style=\"background-color: #FFFEFE;\"></span> <span style=\"background-color: #FFFEFE;\">передает</span> <span style=\"background-color: #FFFEFE;\"></span> <span style=\"background-color: #FFFEFE;\">казтаг</span> <span style=\"background-color: #FFFEFE;\"></span> <span style=\"background-color: #B0B0FF;\">на</span> <span style=\"background-color: #FFFEFE;\"></span> <span style=\"background-color: #FFFEFE;\">данном</span> <span style=\"background-color: #FFFEFE;\"></span> <span style=\"background-color: #D2D2FF;\">участке</span> <span style=\"background-color: #FFFEFE;\"></span> <span style=\"background-color: #FFFEFE;\">алматы</span> <span style=\"background-color: #FFFEFE;\"></span> <span style=\"background-color: #FFFEFE;\">шу</span> <span style=\"background-color: #FFFEFE;\"></span> <span style=\"background-color: #FFFEFE;\">казтаг</span> <span style=\"background-color: #FFFEFE;\"></span> <span style=\"background-color: #FFFEFE;\">производились</span> <span style=\"background-color: #FFFEFE;\"></span> <span style=\"background-color: #FFFEFE;\">реконструкция</span> <span style=\"background-color: #FFFEFE;\"></span> <span style=\"background-color: #FFFEFE;\">горловин</span> <span style=\"background-color: #FFFEFE;\"></span> <span style=\"background-color: #FFFEFE;\">станций</span> <span style=\"background-color: #FFFEFE;\"></span> <span style=\"background-color: #FFFEFE;\">стыковка</span> <span style=\"background-color: #FFFEFE;\"></span> <span style=\"background-color: #FFFEFE;\">новых</span> <span style=\"background-color: #FFFEFE;\"></span> <span style=\"background-color: #FFFEFE;\">магистральных</span> <span style=\"background-color: #FFFEFE;\"></span> <span style=\"background-color: #CCCCFF;\">путей</span> <span style=\"background-color: #FFFEFE;\"></span> <span style=\"background-color: #FFFEFE;\">существующими</span> <span style=\"background-color: #FFFEFE;\"></span> <span style=\"background-color: #FFFEFE;\">станционными</span> <span style=\"background-color: #FFFEFE;\"></span> <span style=\"background-color: #FFFEFE;\">путями</span> <span style=\"background-color: #FFFEFE;\"></span> <span style=\"background-color: #FFFEFE;\">что</span> <span style=\"background-color: #FFFEFE;\"></span> <span style=\"background-color: #FFFEFE;\">явилось</span> <span style=\"background-color: #FFFEFE;\"></span> <span style=\"background-color: #FFFEFE;\">причиной</span> <span style=\"background-color: #FFFEFE;\"></span> <span style=\"background-color: #FFFEFE;\">приостановки</span> <span style=\"background-color: #FFFEFE;\"></span> <span style=\"background-color: #FFFEFE;\">движения</span> <span style=\"background-color: #FFFEFE;\"></span> <span style=\"background-color: #FFFEFE;\">поездов</span> <span style=\"background-color: #FFFEFE;\"></span> <span style=\"background-color: #FFFEFE;\">целях</span> <span style=\"background-color: #FFFEFE;\"></span> <span style=\"background-color: #FFFEFE;\">обеспечения</span> <span style=\"background-color: #FFFEFE;\"></span> <span style=\"background-color: #FFFEFE;\">безопасности</span> <span style=\"background-color: #FFFEFE;\"></span> <span style=\"background-color: #FFFEFE;\">говорится</span> <span style=\"background-color: #FFFEFE;\"></span> <span style=\"background-color: #FFFEFE;\">сообщении</span> <span style=\"background-color: #FFFEFE;\"></span> <span style=\"background-color: #B0B0FF;\">на</span> <span style=\"background-color: #FFFEFE;\"></span> <span style=\"background-color: #FFFEFE;\">сайте</span> <span style=\"background-color: #FFFEFE;\"></span> <span style=\"background-color: #FFFEFE;\">КТЖ</span> <span style=\"background-color: #FFFEFE;\"></span> <span style=\"background-color: #FFFEFE;\">воскресенье</span> <span style=\"background-color: #FFFEFE;\"></span> <span style=\"background-color: #FFFEFE;\">как</span> <span style=\"background-color: #FFFEFE;\"></span> <span style=\"background-color: #FFFEFE;\">отмечается</span> <span style=\"background-color: #FFFEFE;\"></span> <span style=\"background-color: #FFFEFE;\">после</span> <span style=\"background-color: #FFFEFE;\"></span> <span style=\"background-color: #FFFEFE;\">технологических</span> <span style=\"background-color: #FFFEFE;\"></span> <span style=\"background-color: #FFFEFE;\">окон</span> <span style=\"background-color: #FFFEFE;\"></span> <span style=\"background-color: #FFFEFE;\">участок</span> <span style=\"background-color: #FFFEFE;\"></span> <span style=\"background-color: #FFFEFE;\">работает</span> <span style=\"background-color: #FFFEFE;\"></span> <span style=\"background-color: #FFFEFE;\">стабильно</span> <span style=\"background-color: #FFFEFE;\"></span> <span style=\"background-color: #FFFEFE;\">линия</span> <span style=\"background-color: #FFFEFE;\"></span> <span style=\"background-color: #FFFEFE;\">алматы</span> <span style=\"background-color: #FFFEFE;\"></span> <span style=\"background-color: #FFFEFE;\">шу</span> <span style=\"background-color: #FFFEFE;\"></span> <span style=\"background-color: #FFFEFE;\">одна</span> <span style=\"background-color: #FFFEFE;\"></span> <span style=\"background-color: #FFFEFE;\">из</span> <span style=\"background-color: #FFFEFE;\"></span> <span style=\"background-color: #FFFEFE;\">самых</span> <span style=\"background-color: #FFFEFE;\"></span> <span style=\"background-color: #FFFEFE;\">напряженных</span> <span style=\"background-color: #FFFEFE;\"></span> <span style=\"background-color: #FFFEFE;\">по</span> <span style=\"background-color: #FFFEFE;\"></span> <span style=\"background-color: #FFFEFE;\">ней</span> <span style=\"background-color: #FFFEFE;\"></span> <span style=\"background-color: #FFFEFE;\">ежедневно</span> <span style=\"background-color: #FFFEFE;\"></span> <span style=\"background-color: #FFFEFE;\">курсирует</span> <span style=\"background-color: #FFFEFE;\"></span> <span style=\"background-color: #FFFEFE;\">до</span> <span style=\"background-color: #FFFEFE;\"></span> <span style=\"background-color: #FFFEFE;\">пассажирских</span> <span style=\"background-color: #FFFEFE;\"></span> <span style=\"background-color: #FFFEFE;\">грузовых</span> <span style=\"background-color: #FFFEFE;\"></span> <span style=\"background-color: #FFFEFE;\">поездов</span> <span style=\"background-color: #FFFEFE;\"></span> <span style=\"background-color: #FFFEFE;\">вводом</span> <span style=\"background-color: #FFFEFE;\"></span> <span style=\"background-color: #FFFEFE;\">эксплуатацию</span> <span style=\"background-color: #FFFEFE;\"></span> <span style=\"background-color: #B3B3FF;\">вторых</span> <span style=\"background-color: #FFFEFE;\"></span> <span style=\"background-color: #CCCCFF;\">путей</span> <span style=\"background-color: #FFFEFE;\"></span> <span style=\"background-color: #FFFEFE;\">пропускная</span> <span style=\"background-color: #FFFEFE;\"></span> <span style=\"background-color: #FFFEFE;\">способность</span> <span style=\"background-color: #FFFEFE;\"></span> <span style=\"background-color: #FFFEFE;\">участка</span> <span style=\"background-color: #FFFEFE;\"></span> <span style=\"background-color: #FFFEFE;\">увеличится</span> <span style=\"background-color: #FFFEFE;\"></span> <span style=\"background-color: #FFFEFE;\">раза</span> <span style=\"background-color: #FFFEFE;\"></span> <span style=\"background-color: #FFFEFE;\">утверждают</span> <span style=\"background-color: #FFFEFE;\"></span> <span style=\"background-color: #FFFEFE;\">компании</span> <span style=\"background-color: #FFFEFE;\"></span> <span style=\"background-color: #FFFEFE;\">настоящее</span> <span style=\"background-color: #FFFEFE;\"></span> <span style=\"background-color: #FFFEFE;\">время</span> <span style=\"background-color: #FFFEFE;\"></span> <span style=\"background-color: #FFFEFE;\">все</span> <span style=\"background-color: #FFFEFE;\"></span> <span style=\"background-color: #FFFEFE;\">поезда</span> <span style=\"background-color: #FFFEFE;\"></span> <span style=\"background-color: #FFFEFE;\">идут</span> <span style=\"background-color: #FFFEFE;\"></span> <span style=\"background-color: #FFFEFE;\">по</span> <span style=\"background-color: #FFFEFE;\"></span> <span style=\"background-color: #FFFEFE;\">расписанию</span> <span style=\"background-color: #FFFEFE;\"></span> <span style=\"background-color: #FFFEFE;\">пассажиры</span> <span style=\"background-color: #FFFEFE;\"></span> <span style=\"background-color: #FFFEFE;\">опоздавших</span> <span style=\"background-color: #FFFEFE;\"></span> <span style=\"background-color: #FFFEFE;\">поездов</span> <span style=\"background-color: #FFFEFE;\"></span> <span style=\"background-color: #FFFEFE;\">могут</span> <span style=\"background-color: #FFFEFE;\"></span> <span style=\"background-color: #FFFEFE;\">получить</span> <span style=\"background-color: #FFFEFE;\"></span> <span style=\"background-color: #FFFEFE;\">компенсацию</span> <span style=\"background-color: #FFFEFE;\"></span> <span style=\"background-color: #FFFEFE;\">соответствии</span> <span style=\"background-color: #FFFEFE;\"></span> <span style=\"background-color: #FFFEFE;\">законом</span> <span style=\"background-color: #FFFEFE;\"></span> <span style=\"background-color: #FFFEFE;\">РК</span> <span style=\"background-color: #FFFEFE;\"></span> <span style=\"background-color: #FFFEFE;\">железнодорожном</span> <span style=\"background-color: #FFFEFE;\"></span> <span style=\"background-color: #FFFEFE;\">транспорте</span> <span style=\"background-color: #FFFEFE;\"></span> <span style=\"background-color: #F3F3FF;\">правилами</span> <span style=\"background-color: #FFFEFE;\"></span> <span style=\"background-color: #FFFEFE;\">перевозок</span> <span style=\"background-color: #FFFEFE;\"></span> <span style=\"background-color: #FFFEFE;\">пассажиров</span> <span style=\"background-color: #FFFEFE;\"></span> <span style=\"background-color: #FFFEFE;\">багажа</span> <span style=\"background-color: #FFFEFE;\"></span> <span style=\"background-color: #F3F3FF;\">грузобагажа</span> <span style=\"background-color: #FFFEFE;\"></span> <span style=\"background-color: #FFFEFE;\">железнодорожным</span> <span style=\"background-color: #FFFEFE;\"></span> <span style=\"background-color: #FFFEFE;\">транспортом</span> <span style=\"background-color: #FFFEFE;\"></span> <span style=\"background-color: #FFFEFE;\">РК</span> <span style=\"background-color: #FFFEFE;\"></span> <span style=\"background-color: #FFFEFE;\">за</span> <span style=\"background-color: #FFFEFE;\"></span> <span style=\"background-color: #FFFEFE;\">задержку</span> <span style=\"background-color: #FFFEFE;\"></span> <span style=\"background-color: #FFFEFE;\">отправления</span> <span style=\"background-color: #FFFEFE;\"></span> <span style=\"background-color: #FFFEFE;\">или</span> <span style=\"background-color: #FFFEFE;\"></span> <span style=\"background-color: #FFFEFE;\">опоздания</span> <span style=\"background-color: #FFFEFE;\"></span> <span style=\"background-color: #FFFEFE;\">прибытием</span> <span style=\"background-color: #FFFEFE;\"></span> <span style=\"background-color: #FFFEFE;\">пассажир</span> <span style=\"background-color: #FFFEFE;\"></span> <span style=\"background-color: #FFFEFE;\">может</span> <span style=\"background-color: #FFFEFE;\"></span> <span style=\"background-color: #FFFEFE;\">получить</span> <span style=\"background-color: #FFFEFE;\"></span> <span style=\"background-color: #FFFEFE;\">от</span> <span style=\"background-color: #FFFEFE;\"></span> <span style=\"background-color: #FFFEFE;\">стоимости</span> <span style=\"background-color: #FFFEFE;\"></span> <span style=\"background-color: #FFFEFE;\">билета</span> <span style=\"background-color: #FFFEFE;\"></span> <span style=\"background-color: #FFFEFE;\">за</span> <span style=\"background-color: #FFFEFE;\"></span> <span style=\"background-color: #FFFEFE;\">каждый</span> <span style=\"background-color: #FFFEFE;\"></span> <span style=\"background-color: #FFFEFE;\">час</span> <span style=\"background-color: #FFFEFE;\"></span> <span style=\"background-color: #FFFEFE;\">ожидания</span> <span style=\"background-color: #FFFEFE;\"></span> <span style=\"background-color: #FFFEFE;\">пообещали</span> <span style=\"background-color: #FFFEFE;\"></span> <span style=\"background-color: #FFFEFE;\">КТЖ</span> <span style=\"background-color: #FFFEFE;\"></span> <span style=\"background-color: #FFFEFE;\">ранее</span> <span style=\"background-color: #FFFEFE;\"></span> <span style=\"background-color: #FFFEFE;\">казахстанские</span> <span style=\"background-color: #FFFEFE;\"></span> <span style=\"background-color: #FFFEFE;\">СМИ</span> <span style=\"background-color: #FFFEFE;\"></span> <span style=\"background-color: #F2F2FF;\">сообщили</span> <span style=\"background-color: #FFFEFE;\"></span> <span style=\"background-color: #FFFEFE;\">толпах</span> <span style=\"background-color: #FFFEFE;\"></span> <span style=\"background-color: #FFFEFE;\">пассажиров</span> <span style=\"background-color: #FFFEFE;\"></span> <span style=\"background-color: #FFFEFE;\">переполнивших</span> <span style=\"background-color: #FFFEFE;\"></span> <span style=\"background-color: #FFFEFE;\">железнодорожный</span> <span style=\"background-color: #FFFEFE;\"></span> <span style=\"background-color: #FFFEFE;\">вокзал</span> <span style=\"background-color: #FFFEFE;\"></span> <span style=\"background-color: #FFFEFE;\">алматы</span> <span style=\"background-color: #FFFEFE;\"></span> <span style=\"background-color: #FFFEFE;\">минувшую</span> <span style=\"background-color: #FFFEFE;\"></span> <span style=\"background-color: #FFFEFE;\">субботу</span> <span style=\"background-color: #FFFEFE;\"></span> <span style=\"background-color: #FFFEFE;\">несвоевременном</span> <span style=\"background-color: #FFFEFE;\"></span> <span style=\"background-color: #FFFEFE;\">получении</span> <span style=\"background-color: #FFFEFE;\"></span> <span style=\"background-color: #FFFEFE;\">информации</span> <span style=\"background-color: #FFFEFE;\"></span> <span style=\"background-color: #FFFEFE;\">задержке</span> <span style=\"background-color: #FFFEFE;\"></span> <span style=\"background-color: #FFFEFE;\">поездов</span> <span style=\"background-color: #FFFEFE;\"></span></p>\n",
       "        </div>\n",
       "        \n",
       "        <p style=\"text-align: center\">\n",
       "            Class mapping\n",
       "        </p>\n",
       "        <div style=\"margin-left: 10%; margin-right: 10%; \">\n",
       "            <div id=\"grad\" style=\"background: linear-gradient(90deg, #FF7E7E 0%, #FFFEFE 50%, #8080FF 100%); border: 1px solid black; margin-left: 1.5em; margin-right: 1.5em; float: center; \">\n",
       "                <p style=\"text-align:left; margin-left: 1%; margin-right: 1%; color: white;\">\n",
       "                    Other classes\n",
       "                    <span style=\"float:right;\">\n",
       "                        Class: 1\n",
       "                    </span>\n",
       "                </p>\n",
       "            </div>\n",
       "\n",
       "            <div style=\"margin-left: 1.5em; margin-right: 1.5em; \">\n",
       "                <div style=\"border-left: 1px solid black; height: 18px; float: left; width: 9.97%;\"><span style=\"position: relative; top: 1em; left: -1.085em\">-3.4</span></div> <div style=\"border-left: 1px solid black; height: 18px; float: left; width: 9.97%;\"><span style=\"position: relative; top: 1em; left: -1.085em\">-2.7</span></div> <div style=\"border-left: 1px solid black; height: 18px; float: left; width: 9.97%;\"><span style=\"position: relative; top: 1em; left: -1.085em\">-2.0</span></div> <div style=\"border-left: 1px solid black; height: 18px; float: left; width: 9.97%;\"><span style=\"position: relative; top: 1em; left: -1.085em\">-1.4</span></div> <div style=\"border-left: 1px solid black; height: 18px; float: left; width: 9.97%;\"><span style=\"position: relative; top: 1em; left: -1.085em\">-0.7</span></div> <div style=\"border-left: 1px solid black; height: 18px; float: left; width: 9.97%;\"><span style=\"position: relative; top: 1em; left: -0.7em\">0.0</span></div> <div style=\"border-left: 1px solid black; height: 18px; float: left; width: 9.97%;\"><span style=\"position: relative; top: 1em; left: -0.7em\">0.7</span></div> <div style=\"border-left: 1px solid black; height: 18px; float: left; width: 9.97%;\"><span style=\"position: relative; top: 1em; left: -0.7em\">1.4</span></div> <div style=\"border-left: 1px solid black; height: 18px; float: left; width: 9.97%;\"><span style=\"position: relative; top: 1em; left: -0.7em\">2.0</span></div> <div style=\"border-left: 1px solid black; height: 18px; float: left; width: 9.97%;\"><span style=\"position: relative; top: 1em; left: -0.7em\">2.7</span></div> <div style=\"border-left: 1px solid black; height: 18px; float: left; width: 0%;\"><span style=\"position: relative; top: 1em; left: -0.7em\">3.4</span></div>\n",
       "            </div>\n",
       "\n",
       "            <div style=\"float: right; right: 0.75em; top: -3em; position: relative; font-weight: bold;\"></div>\n",
       "            <div style=\"float: right; right: -2em; top: -2.9em; position: relative; font-weight: bold;\"></div>\n",
       "\n",
       "            <div style=\"float: left; left: -5.5em; top: -4.42em; position: relative;  font-weight: bold;\"></div>\n",
       "            <div style=\"float: left; left: -8.22em; top: -2.9em; position: relative;  font-weight: bold;\"></div>\n",
       "        </div>\n",
       "        \n",
       "    </div>\n",
       "    "
      ]
     },
     "metadata": {},
     "output_type": "display_data"
    }
   ],
   "source": [
    "exp = lime.explain_instance(test.iloc[316], labels=(0, 1, 2), perturb_column='text')\n",
    "exp.visualize_in_notebook(1)"
   ]
  },
  {
   "cell_type": "code",
   "execution_count": 25,
   "id": "0d63883c",
   "metadata": {},
   "outputs": [
    {
     "data": {
      "text/plain": [
       "text         \\n12 ноября в ходе строительства вторых путей ...\n",
       "sentiment                                                    1\n",
       "Name: 3502, dtype: object"
      ]
     },
     "execution_count": 25,
     "metadata": {},
     "output_type": "execute_result"
    }
   ],
   "source": [
    "test.iloc[316]"
   ]
  },
  {
   "cell_type": "code",
   "execution_count": 26,
   "id": "e8bedab1",
   "metadata": {},
   "outputs": [
    {
     "data": {
      "text/plain": [
       "1"
      ]
     },
     "execution_count": 26,
     "metadata": {},
     "output_type": "execute_result"
    }
   ],
   "source": [
    "predictied_labels[316]"
   ]
  },
  {
   "cell_type": "code",
   "execution_count": 27,
   "id": "746e932f",
   "metadata": {},
   "outputs": [
    {
     "data": {
      "text/html": [
       "<div>\n",
       "<style scoped>\n",
       "    .dataframe tbody tr th:only-of-type {\n",
       "        vertical-align: middle;\n",
       "    }\n",
       "\n",
       "    .dataframe tbody tr th {\n",
       "        vertical-align: top;\n",
       "    }\n",
       "\n",
       "    .dataframe thead th {\n",
       "        text-align: right;\n",
       "    }\n",
       "</style>\n",
       "<table border=\"1\" class=\"dataframe\">\n",
       "  <thead>\n",
       "    <tr style=\"text-align: right;\">\n",
       "      <th></th>\n",
       "      <th>text</th>\n",
       "      <th>id</th>\n",
       "      <th>sentiment</th>\n",
       "    </tr>\n",
       "  </thead>\n",
       "  <tbody>\n",
       "    <tr>\n",
       "      <th>0</th>\n",
       "      <td>Как сообщает пресс-служба акимата Алматы, для ...</td>\n",
       "      <td>0</td>\n",
       "      <td>0</td>\n",
       "    </tr>\n",
       "    <tr>\n",
       "      <th>1</th>\n",
       "      <td>Казахстанские авиакомпании перевозят 250 тысяч...</td>\n",
       "      <td>1</td>\n",
       "      <td>0</td>\n",
       "    </tr>\n",
       "    <tr>\n",
       "      <th>2</th>\n",
       "      <td>На состоявшемся под председательством Касым-Жо...</td>\n",
       "      <td>2</td>\n",
       "      <td>0</td>\n",
       "    </tr>\n",
       "    <tr>\n",
       "      <th>3</th>\n",
       "      <td>В ОАЭ состоялись переговоры между казахстанско...</td>\n",
       "      <td>3</td>\n",
       "      <td>0</td>\n",
       "    </tr>\n",
       "    <tr>\n",
       "      <th>4</th>\n",
       "      <td>12 вагонов грузового поезда сошли с путей в Во...</td>\n",
       "      <td>4</td>\n",
       "      <td>0</td>\n",
       "    </tr>\n",
       "    <tr>\n",
       "      <th>5</th>\n",
       "      <td>Отправившиеся на «джихад» из города Сатпаева К...</td>\n",
       "      <td>5</td>\n",
       "      <td>0</td>\n",
       "    </tr>\n",
       "    <tr>\n",
       "      <th>6</th>\n",
       "      <td>\\nНазарбаев утвердил новый состав правительств...</td>\n",
       "      <td>6</td>\n",
       "      <td>0</td>\n",
       "    </tr>\n",
       "    <tr>\n",
       "      <th>7</th>\n",
       "      <td>ШЫМКЕНТ. КАЗИНФОРМ - В Шардаринском районе Южн...</td>\n",
       "      <td>7</td>\n",
       "      <td>0</td>\n",
       "    </tr>\n",
       "    <tr>\n",
       "      <th>8</th>\n",
       "      <td>С 5 августа 2011 года вступил в юридическую с...</td>\n",
       "      <td>8</td>\n",
       "      <td>0</td>\n",
       "    </tr>\n",
       "    <tr>\n",
       "      <th>9</th>\n",
       "      <td>Казахстанцы должны платить за коммунальные усл...</td>\n",
       "      <td>9</td>\n",
       "      <td>0</td>\n",
       "    </tr>\n",
       "  </tbody>\n",
       "</table>\n",
       "</div>"
      ],
      "text/plain": [
       "                                                text  id  sentiment\n",
       "0  Как сообщает пресс-служба акимата Алматы, для ...   0          0\n",
       "1  Казахстанские авиакомпании перевозят 250 тысяч...   1          0\n",
       "2  На состоявшемся под председательством Касым-Жо...   2          0\n",
       "3  В ОАЭ состоялись переговоры между казахстанско...   3          0\n",
       "4  12 вагонов грузового поезда сошли с путей в Во...   4          0\n",
       "5  Отправившиеся на «джихад» из города Сатпаева К...   5          0\n",
       "6  \\nНазарбаев утвердил новый состав правительств...   6          0\n",
       "7  ШЫМКЕНТ. КАЗИНФОРМ - В Шардаринском районе Южн...   7          0\n",
       "8   С 5 августа 2011 года вступил в юридическую с...   8          0\n",
       "9  Казахстанцы должны платить за коммунальные усл...   9          0"
      ]
     },
     "execution_count": 27,
     "metadata": {},
     "output_type": "execute_result"
    }
   ],
   "source": [
    "articles_test = pd.read_json('data/articles/test.json')\n",
    "articles_test['sentiment'] = pd.Series([0] * len(articles_test), dtype=int)\n",
    "articles_test.head(10)"
   ]
  },
  {
   "cell_type": "code",
   "execution_count": 28,
   "id": "d5672d04",
   "metadata": {},
   "outputs": [
    {
     "name": "stderr",
     "output_type": "stream",
     "text": [
      "100%|████████████████████████████████████████████████████████████████████████████████████| 7/7 [00:42<00:00,  6.03s/it]\n"
     ]
    },
    {
     "name": "stdout",
     "output_type": "stream",
     "text": [
      "[15:25:08] Feature concated__text transformed\n",
      "[15:25:13] Last linear layer not founded, so init_bias=False\n"
     ]
    },
    {
     "name": "stderr",
     "output_type": "stream",
     "text": [
      "C:\\Users\\Admin\\.conda\\envs\\oldervenv\\Lib\\site-packages\\torch\\optim\\lr_scheduler.py:28: UserWarning: The verbose parameter is deprecated. Please use get_last_lr() to access the learning rate.\n",
      "  warnings.warn(\"The verbose parameter is deprecated. Please use get_last_lr() \"\n"
     ]
    },
    {
     "name": "stdout",
     "output_type": "stream",
     "text": [
      "[15:25:52] Last linear layer not founded, so init_bias=False\n"
     ]
    },
    {
     "name": "stderr",
     "output_type": "stream",
     "text": [
      "C:\\Users\\Admin\\.conda\\envs\\oldervenv\\Lib\\site-packages\\torch\\optim\\lr_scheduler.py:28: UserWarning: The verbose parameter is deprecated. Please use get_last_lr() to access the learning rate.\n",
      "  warnings.warn(\"The verbose parameter is deprecated. Please use get_last_lr() \"\n"
     ]
    },
    {
     "name": "stdout",
     "output_type": "stream",
     "text": [
      "[15:26:23] Last linear layer not founded, so init_bias=False\n"
     ]
    },
    {
     "name": "stderr",
     "output_type": "stream",
     "text": [
      "C:\\Users\\Admin\\.conda\\envs\\oldervenv\\Lib\\site-packages\\torch\\optim\\lr_scheduler.py:28: UserWarning: The verbose parameter is deprecated. Please use get_last_lr() to access the learning rate.\n",
      "  warnings.warn(\"The verbose parameter is deprecated. Please use get_last_lr() \"\n"
     ]
    },
    {
     "data": {
      "text/plain": [
       "array([1, 2, 1, ..., 1, 1, 1], dtype=int64)"
      ]
     },
     "execution_count": 28,
     "metadata": {},
     "output_type": "execute_result"
    }
   ],
   "source": [
    "predictions = automl.predict(articles_test)\n",
    "labels = np.argmax(predictions.data, axis=1)\n",
    "labels"
   ]
  },
  {
   "cell_type": "code",
   "execution_count": 29,
   "id": "9cf7b30c",
   "metadata": {},
   "outputs": [
    {
     "name": "stdout",
     "output_type": "stream",
     "text": [
      "OK!\n"
     ]
    }
   ],
   "source": [
    "assert len(labels) == articles_test.shape[0]\n",
    "print(\"OK!\")"
   ]
  },
  {
   "cell_type": "code",
   "execution_count": 30,
   "id": "97d497ce",
   "metadata": {},
   "outputs": [
    {
     "data": {
      "text/html": [
       "<div>\n",
       "<style scoped>\n",
       "    .dataframe tbody tr th:only-of-type {\n",
       "        vertical-align: middle;\n",
       "    }\n",
       "\n",
       "    .dataframe tbody tr th {\n",
       "        vertical-align: top;\n",
       "    }\n",
       "\n",
       "    .dataframe thead th {\n",
       "        text-align: right;\n",
       "    }\n",
       "</style>\n",
       "<table border=\"1\" class=\"dataframe\">\n",
       "  <thead>\n",
       "    <tr style=\"text-align: right;\">\n",
       "      <th></th>\n",
       "      <th>text</th>\n",
       "      <th>id</th>\n",
       "      <th>sentiment</th>\n",
       "    </tr>\n",
       "  </thead>\n",
       "  <tbody>\n",
       "    <tr>\n",
       "      <th>184</th>\n",
       "      <td>Обзор розничных вкладов. ТОП-10 БВУ по наращив...</td>\n",
       "      <td>184</td>\n",
       "      <td>2</td>\n",
       "    </tr>\n",
       "    <tr>\n",
       "      <th>1724</th>\n",
       "      <td>Активная работа по рассмотрению и решению вопр...</td>\n",
       "      <td>1725</td>\n",
       "      <td>1</td>\n",
       "    </tr>\n",
       "    <tr>\n",
       "      <th>251</th>\n",
       "      <td>Старики, проживающие в медико-социальных учреж...</td>\n",
       "      <td>251</td>\n",
       "      <td>1</td>\n",
       "    </tr>\n",
       "    <tr>\n",
       "      <th>1121</th>\n",
       "      <td>\\nЗа 2016 год скорость поездов с вагонами «Тал...</td>\n",
       "      <td>1122</td>\n",
       "      <td>2</td>\n",
       "    </tr>\n",
       "    <tr>\n",
       "      <th>1486</th>\n",
       "      <td>конкуренции Министерства национальной экономик...</td>\n",
       "      <td>1487</td>\n",
       "      <td>1</td>\n",
       "    </tr>\n",
       "    <tr>\n",
       "      <th>111</th>\n",
       "      <td>Астана. 23 января. Kazakhstan Today - АО \"ЕНПФ...</td>\n",
       "      <td>111</td>\n",
       "      <td>1</td>\n",
       "    </tr>\n",
       "    <tr>\n",
       "      <th>1450</th>\n",
       "      <td>Под таким лозунгом фондом «Samruk-Kazyna Trust...</td>\n",
       "      <td>1451</td>\n",
       "      <td>2</td>\n",
       "    </tr>\n",
       "    <tr>\n",
       "      <th>188</th>\n",
       "      <td>Фото с сайта 365info.kz\\nНа утилизации зарабат...</td>\n",
       "      <td>188</td>\n",
       "      <td>1</td>\n",
       "    </tr>\n",
       "    <tr>\n",
       "      <th>614</th>\n",
       "      <td>КРЫМский бандеровец, блогер \\n\\n1. Сегодня ФСБ...</td>\n",
       "      <td>615</td>\n",
       "      <td>0</td>\n",
       "    </tr>\n",
       "    <tr>\n",
       "      <th>220</th>\n",
       "      <td>Олимпийские чемпионы Ермахан Ибраимов и Валери...</td>\n",
       "      <td>220</td>\n",
       "      <td>2</td>\n",
       "    </tr>\n",
       "  </tbody>\n",
       "</table>\n",
       "</div>"
      ],
      "text/plain": [
       "                                                   text    id  sentiment\n",
       "184   Обзор розничных вкладов. ТОП-10 БВУ по наращив...   184          2\n",
       "1724  Активная работа по рассмотрению и решению вопр...  1725          1\n",
       "251   Старики, проживающие в медико-социальных учреж...   251          1\n",
       "1121  \\nЗа 2016 год скорость поездов с вагонами «Тал...  1122          2\n",
       "1486  конкуренции Министерства национальной экономик...  1487          1\n",
       "111   Астана. 23 января. Kazakhstan Today - АО \"ЕНПФ...   111          1\n",
       "1450  Под таким лозунгом фондом «Samruk-Kazyna Trust...  1451          2\n",
       "188   Фото с сайта 365info.kz\\nНа утилизации зарабат...   188          1\n",
       "614   КРЫМский бандеровец, блогер \\n\\n1. Сегодня ФСБ...   615          0\n",
       "220   Олимпийские чемпионы Ермахан Ибраимов и Валери...   220          2"
      ]
     },
     "execution_count": 30,
     "metadata": {},
     "output_type": "execute_result"
    }
   ],
   "source": [
    "articles_test['sentiment'] = labels\n",
    "articles_test.sample(10)"
   ]
  },
  {
   "cell_type": "code",
   "execution_count": 31,
   "id": "9e7c7321",
   "metadata": {},
   "outputs": [
    {
     "data": {
      "text/html": [
       "<div>\n",
       "<style scoped>\n",
       "    .dataframe tbody tr th:only-of-type {\n",
       "        vertical-align: middle;\n",
       "    }\n",
       "\n",
       "    .dataframe tbody tr th {\n",
       "        vertical-align: top;\n",
       "    }\n",
       "\n",
       "    .dataframe thead th {\n",
       "        text-align: right;\n",
       "    }\n",
       "</style>\n",
       "<table border=\"1\" class=\"dataframe\">\n",
       "  <thead>\n",
       "    <tr style=\"text-align: right;\">\n",
       "      <th></th>\n",
       "      <th>text</th>\n",
       "      <th>id</th>\n",
       "      <th>sentiment</th>\n",
       "    </tr>\n",
       "  </thead>\n",
       "  <tbody>\n",
       "    <tr>\n",
       "      <th>599</th>\n",
       "      <td>Регулятор простимулирует население к сбережени...</td>\n",
       "      <td>600</td>\n",
       "      <td>neutral</td>\n",
       "    </tr>\n",
       "    <tr>\n",
       "      <th>752</th>\n",
       "      <td>Общая сумма, которую пострадавшие хотят взыска...</td>\n",
       "      <td>753</td>\n",
       "      <td>negative</td>\n",
       "    </tr>\n",
       "    <tr>\n",
       "      <th>2017</th>\n",
       "      <td>Автопарк выплатит более полумиллиона тенге уще...</td>\n",
       "      <td>2029</td>\n",
       "      <td>negative</td>\n",
       "    </tr>\n",
       "    <tr>\n",
       "      <th>1001</th>\n",
       "      <td>Аэропорты Астаны и Алматы в десятке крупнейших...</td>\n",
       "      <td>1002</td>\n",
       "      <td>positive</td>\n",
       "    </tr>\n",
       "    <tr>\n",
       "      <th>329</th>\n",
       "      <td>\\n\\nТерритория между 27 и 16 микрорайонами п...</td>\n",
       "      <td>329</td>\n",
       "      <td>neutral</td>\n",
       "    </tr>\n",
       "    <tr>\n",
       "      <th>483</th>\n",
       "      <td>Цены на водоснабжение и водоотведение останутс...</td>\n",
       "      <td>483</td>\n",
       "      <td>neutral</td>\n",
       "    </tr>\n",
       "    <tr>\n",
       "      <th>682</th>\n",
       "      <td>\\nСеверный морской порт Актау был введен в экс...</td>\n",
       "      <td>683</td>\n",
       "      <td>positive</td>\n",
       "    </tr>\n",
       "    <tr>\n",
       "      <th>325</th>\n",
       "      <td>У нас образованный, впитавший в себя историчес...</td>\n",
       "      <td>325</td>\n",
       "      <td>neutral</td>\n",
       "    </tr>\n",
       "    <tr>\n",
       "      <th>166</th>\n",
       "      <td>В Алматы стартовала Эстафета огня, посвященная...</td>\n",
       "      <td>166</td>\n",
       "      <td>neutral</td>\n",
       "    </tr>\n",
       "    <tr>\n",
       "      <th>1034</th>\n",
       "      <td>Вода в реке Акбулак не вредна для жителей Аста...</td>\n",
       "      <td>1035</td>\n",
       "      <td>neutral</td>\n",
       "    </tr>\n",
       "  </tbody>\n",
       "</table>\n",
       "</div>"
      ],
      "text/plain": [
       "                                                   text    id sentiment\n",
       "599   Регулятор простимулирует население к сбережени...   600   neutral\n",
       "752   Общая сумма, которую пострадавшие хотят взыска...   753  negative\n",
       "2017  Автопарк выплатит более полумиллиона тенге уще...  2029  negative\n",
       "1001  Аэропорты Астаны и Алматы в десятке крупнейших...  1002  positive\n",
       "329     \\n\\nТерритория между 27 и 16 микрорайонами п...   329   neutral\n",
       "483   Цены на водоснабжение и водоотведение останутс...   483   neutral\n",
       "682   \\nСеверный морской порт Актау был введен в экс...   683  positive\n",
       "325   У нас образованный, впитавший в себя историчес...   325   neutral\n",
       "166   В Алматы стартовала Эстафета огня, посвященная...   166   neutral\n",
       "1034  Вода в реке Акбулак не вредна для жителей Аста...  1035   neutral"
      ]
     },
     "execution_count": 31,
     "metadata": {},
     "output_type": "execute_result"
    }
   ],
   "source": [
    "articles_test['sentiment'] = articles_test['sentiment']\\\n",
    "    .map({v: k for k, v in sentiment_map.items()})\n",
    "articles_test.sample(10)"
   ]
  },
  {
   "cell_type": "code",
   "execution_count": 32,
   "id": "264824c0",
   "metadata": {},
   "outputs": [],
   "source": [
    "articles_test[['id', 'sentiment']].to_csv('output.csv', index=False)"
   ]
  },
  {
   "attachments": {
    "image.png": {
     "image/png": "[encoded data removed]"
    }
   },
   "cell_type": "markdown",
   "id": "42b9fc4c",
   "metadata": {},
   "source": [
    "![image.png](attachment:image.png)"
   ]
  },
  {
   "cell_type": "markdown",
   "id": "4aa2f141",
   "metadata": {},
   "source": [
    "## Сохранение модели"
   ]
  },
  {
   "cell_type": "code",
   "execution_count": 33,
   "id": "e7d731de",
   "metadata": {},
   "outputs": [],
   "source": [
    "import pickle\n",
    "\n",
    "with open('models/large_text_lama_classifier.pkl', 'wb') as f:\n",
    "    pickle.dump(automl, f)"
   ]
  },
  {
   "cell_type": "markdown",
   "id": "cf985f20",
   "metadata": {},
   "source": [
    "## Загрузка и повторное тестирование модели"
   ]
  },
  {
   "cell_type": "code",
   "execution_count": 34,
   "id": "67916c2d",
   "metadata": {},
   "outputs": [],
   "source": [
    "with open('models/large_text_lama_classifier.pkl', 'rb') as f:\n",
    "    loaded_automl = pickle.load(f)"
   ]
  },
  {
   "cell_type": "code",
   "execution_count": 35,
   "id": "d4850ffa",
   "metadata": {},
   "outputs": [
    {
     "name": "stderr",
     "output_type": "stream",
     "text": [
      "100%|████████████████████████████████████████████████████████████████████████████████████| 5/5 [00:40<00:00,  8.12s/it]\n"
     ]
    },
    {
     "name": "stdout",
     "output_type": "stream",
     "text": [
      "[15:33:30] Feature concated__text transformed\n",
      "[15:33:35] Last linear layer not founded, so init_bias=False\n"
     ]
    },
    {
     "name": "stderr",
     "output_type": "stream",
     "text": [
      "C:\\Users\\Admin\\.conda\\envs\\oldervenv\\Lib\\site-packages\\torch\\optim\\lr_scheduler.py:28: UserWarning: The verbose parameter is deprecated. Please use get_last_lr() to access the learning rate.\n",
      "  warnings.warn(\"The verbose parameter is deprecated. Please use get_last_lr() \"\n"
     ]
    },
    {
     "name": "stdout",
     "output_type": "stream",
     "text": [
      "[15:35:37] Last linear layer not founded, so init_bias=False\n"
     ]
    },
    {
     "name": "stderr",
     "output_type": "stream",
     "text": [
      "C:\\Users\\Admin\\.conda\\envs\\oldervenv\\Lib\\site-packages\\torch\\optim\\lr_scheduler.py:28: UserWarning: The verbose parameter is deprecated. Please use get_last_lr() to access the learning rate.\n",
      "  warnings.warn(\"The verbose parameter is deprecated. Please use get_last_lr() \"\n"
     ]
    },
    {
     "name": "stdout",
     "output_type": "stream",
     "text": [
      "[15:36:11] Last linear layer not founded, so init_bias=False\n"
     ]
    },
    {
     "name": "stderr",
     "output_type": "stream",
     "text": [
      "C:\\Users\\Admin\\.conda\\envs\\oldervenv\\Lib\\site-packages\\torch\\optim\\lr_scheduler.py:28: UserWarning: The verbose parameter is deprecated. Please use get_last_lr() to access the learning rate.\n",
      "  warnings.warn(\"The verbose parameter is deprecated. Please use get_last_lr() \"\n"
     ]
    },
    {
     "name": "stdout",
     "output_type": "stream",
     "text": [
      "CPU times: total: 2min 27s\n",
      "Wall time: 4min 12s\n"
     ]
    },
    {
     "data": {
      "text/plain": [
       "array([[0.08144191, 0.4056108 , 0.5129473 ],\n",
       "       [0.70450854, 0.2367191 , 0.05877233],\n",
       "       [0.03906991, 0.34120739, 0.61972284],\n",
       "       ...,\n",
       "       [0.11621585, 0.80239284, 0.08139141],\n",
       "       [0.07361812, 0.30763164, 0.61875033],\n",
       "       [0.09449469, 0.86721945, 0.03828591]], dtype=float32)"
      ]
     },
     "execution_count": 35,
     "metadata": {},
     "output_type": "execute_result"
    }
   ],
   "source": [
    "%%time\n",
    "test_pred = automl.predict(test)\n",
    "test_pred"
   ]
  },
  {
   "cell_type": "code",
   "execution_count": 36,
   "id": "6e6e2d4a",
   "metadata": {},
   "outputs": [
    {
     "data": {
      "text/plain": [
       "array([2, 0, 2, ..., 1, 2, 1], dtype=int64)"
      ]
     },
     "execution_count": 36,
     "metadata": {},
     "output_type": "execute_result"
    }
   ],
   "source": [
    "predictied_labels = np.argmax(test_pred.data, axis=1)\n",
    "predictied_labels"
   ]
  },
  {
   "cell_type": "code",
   "execution_count": 37,
   "id": "68f2f9df",
   "metadata": {},
   "outputs": [
    {
     "data": {
      "text/plain": [
       "0.6855345911949685"
      ]
     },
     "execution_count": 37,
     "metadata": {},
     "output_type": "execute_result"
    }
   ],
   "source": [
    "accuracy_score(predictied_labels, test['sentiment'])"
   ]
  },
  {
   "cell_type": "code",
   "execution_count": 38,
   "id": "20262e5e",
   "metadata": {},
   "outputs": [
    {
     "data": {
      "text/plain": [
       "0.681299714243064"
      ]
     },
     "execution_count": 38,
     "metadata": {},
     "output_type": "execute_result"
    }
   ],
   "source": [
    "f1_score(test['sentiment'], predictied_labels, average='macro')"
   ]
  }
 ],
 "metadata": {
  "kernelspec": {
   "display_name": "py311",
   "language": "python",
   "name": "py311"
  },
  "language_info": {
   "codemirror_mode": {
    "name": "ipython",
    "version": 3
   },
   "file_extension": ".py",
   "mimetype": "text/x-python",
   "name": "python",
   "nbconvert_exporter": "python",
   "pygments_lexer": "ipython3",
   "version": "3.11.9"
  }
 },
 "nbformat": 4,
 "nbformat_minor": 5
}
